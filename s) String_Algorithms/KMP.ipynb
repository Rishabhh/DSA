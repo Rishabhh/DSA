{
 "cells": [
  {
   "cell_type": "markdown",
   "id": "15c31a6c-46bb-40b9-b406-2a7f8d204081",
   "metadata": {},
   "source": [
    "# KMP\n",
    "Notes  \n",
    "https://onedrive.live.com/redir?resid=7710AD64D8D1EE45%219888&authkey=%21AHNd77YAAIV7c1k&page=Edit&wd=target%28String%20Algorithms.one%7C26e9543d-e1b7-9a48-8102-35446d194865%2FKMP%7C9527792f-0fce-f544-9a7a-d126d3e79af8%2F%29&wdorigin=703  \n",
    "It requires LPS code as well as KMP searching logic"
   ]
  },
  {
   "cell_type": "code",
   "execution_count": 1,
   "id": "92dc2d37-39e4-469e-86d9-4a4f5368e44f",
   "metadata": {},
   "outputs": [],
   "source": [
    "def get_lps(pattern):\n",
    "    \n",
    "    pattern_length = len(pattern)\n",
    "    \n",
    "    # the size of the LPS array is going to be same as the size of the pattern\n",
    "    lps = [0]*pattern_length\n",
    "    \n",
    "    # LPS for first character is 0\n",
    "    lps[0] = 0\n",
    "    \n",
    "    i = 1 # we will start filling the lps from 2nd character as LPS for 1st character is always 0\n",
    "    j = 0\n",
    "    \n",
    "    while i < pattern_length :\n",
    "        \n",
    "        if pattern[i] == pattern[j]:\n",
    "            lps[i] = j+1\n",
    "            i +=1\n",
    "            j +=1\n",
    "        else:\n",
    "            if j != 0:\n",
    "                j = lps[j-1]\n",
    "            else:\n",
    "                lps[i] = 0\n",
    "                i +=1\n",
    "        \n",
    "    return lps\n",
    "\n"
   ]
  },
  {
   "cell_type": "code",
   "execution_count": 2,
   "id": "08c6bc15-527c-49e1-9c05-0e9cc5b91c7c",
   "metadata": {},
   "outputs": [],
   "source": [
    "def kmp_search(string, pattern):\n",
    "    \n",
    "    lps = get_lps(pattern)\n",
    "    \n",
    "    i = 0\n",
    "    j = 0\n",
    "    \n",
    "    # we need to check till end of string and if we reach the end of pattern we basically have found the pattern, hence we need to keep a check on its length as well\n",
    "    while i < len(string) and j < len(pattern):\n",
    "        \n",
    "        if string[i] == pattern[j]:\n",
    "            i +=1\n",
    "            j +=1\n",
    "            \n",
    "        else:\n",
    "            \n",
    "            if j !=0 :\n",
    "                j = lps[j-1]\n",
    "            \n",
    "            else:\n",
    "                \n",
    "                i +=1\n",
    "                \n",
    "                \n",
    "    if j == len(pattern):\n",
    "        return True\n",
    "    else:\n",
    "        return False\n",
    "        "
   ]
  },
  {
   "cell_type": "code",
   "execution_count": 3,
   "id": "56e0286d-8ce1-473e-a0ab-b73d46046c54",
   "metadata": {},
   "outputs": [
    {
     "data": {
      "text/plain": [
       "True"
      ]
     },
     "execution_count": 3,
     "metadata": {},
     "output_type": "execute_result"
    }
   ],
   "source": [
    "string = \"abcgabzabcgabcgabcy\"\n",
    "pattern = \"abcgabcy\"\n",
    "\n",
    "kmp_search(string, pattern)"
   ]
  },
  {
   "cell_type": "code",
   "execution_count": 4,
   "id": "612c6ab5-c972-43af-8add-9f4ea10b4298",
   "metadata": {},
   "outputs": [
    {
     "data": {
      "text/plain": [
       "False"
      ]
     },
     "execution_count": 4,
     "metadata": {},
     "output_type": "execute_result"
    }
   ],
   "source": [
    "string = \"abcgabzabcgabcgabcy\"\n",
    "pattern = \"abcgabcx\"\n",
    "\n",
    "kmp_search(string, pattern)"
   ]
  },
  {
   "cell_type": "code",
   "execution_count": null,
   "id": "339a0879-d7b2-4239-9be0-4cb32b2e5900",
   "metadata": {},
   "outputs": [],
   "source": []
  }
 ],
 "metadata": {
  "kernelspec": {
   "display_name": "Python 3 (ipykernel)",
   "language": "python",
   "name": "python3"
  },
  "language_info": {
   "codemirror_mode": {
    "name": "ipython",
    "version": 3
   },
   "file_extension": ".py",
   "mimetype": "text/x-python",
   "name": "python",
   "nbconvert_exporter": "python",
   "pygments_lexer": "ipython3",
   "version": "3.9.13"
  }
 },
 "nbformat": 4,
 "nbformat_minor": 5
}
