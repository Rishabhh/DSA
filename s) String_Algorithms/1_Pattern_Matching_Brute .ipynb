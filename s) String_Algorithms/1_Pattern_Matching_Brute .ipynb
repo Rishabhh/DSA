{
 "cells": [
  {
   "cell_type": "markdown",
   "id": "df411dec-df67-40c3-8782-778d29cece68",
   "metadata": {},
   "source": [
    "## Pattern Matching Algorithms\n",
    "\n",
    "Given a pattern p check whether it exist in string s  \n",
    "\n",
    "Pattern = a substring of original string  \n",
    "\n",
    "\n",
    "Notes :  \n",
    "https://onedrive.live.com/redir?resid=7710AD64D8D1EE45%219888&authkey=%21AHNd77YAAIV7c1k&page=Edit&wd=target%28String%20Algorithms.one%7C26e9543d-e1b7-9a48-8102-35446d194865%2FPattern%20Matching%7C37f39ecd-913c-a444-8a57-1d80f48d2709%2F%29&wdorigin=703"
   ]
  },
  {
   "cell_type": "markdown",
   "id": "03366b79-163d-4241-b4b1-dc3aa26f1f01",
   "metadata": {},
   "source": [
    "### Brute Force Approach"
   ]
  },
  {
   "cell_type": "code",
   "execution_count": 17,
   "id": "5d945316-9f5a-4a52-a4b4-b2b373af7969",
   "metadata": {},
   "outputs": [],
   "source": [
    "def pattern_matching_brute_force(s, p):\n",
    "    \n",
    "    for i in range(len(s)-len(p)):\n",
    "        isFound = True\n",
    "        for j in range(len(p)):\n",
    "            if s[i+j] != p[j]:\n",
    "                isFound = False\n",
    "                break\n",
    "        \n",
    "        if isFound:\n",
    "            return True\n",
    "                \n",
    "    return False"
   ]
  },
  {
   "cell_type": "code",
   "execution_count": 18,
   "id": "dd3684d6-a239-4430-aa07-babdad9a18b2",
   "metadata": {},
   "outputs": [
    {
     "data": {
      "text/plain": [
       "True"
      ]
     },
     "execution_count": 18,
     "metadata": {},
     "output_type": "execute_result"
    }
   ],
   "source": [
    "s = \"abcdabg\"\n",
    "p = \"bcd\"\n",
    "\n",
    "pattern_matching_brute_force(s,p)"
   ]
  },
  {
   "cell_type": "code",
   "execution_count": null,
   "id": "a34cb1fd-6714-4f6b-a13b-829d57967ce9",
   "metadata": {},
   "outputs": [],
   "source": []
  }
 ],
 "metadata": {
  "kernelspec": {
   "display_name": "Python 3 (ipykernel)",
   "language": "python",
   "name": "python3"
  },
  "language_info": {
   "codemirror_mode": {
    "name": "ipython",
    "version": 3
   },
   "file_extension": ".py",
   "mimetype": "text/x-python",
   "name": "python",
   "nbconvert_exporter": "python",
   "pygments_lexer": "ipython3",
   "version": "3.9.13"
  }
 },
 "nbformat": 4,
 "nbformat_minor": 5
}
