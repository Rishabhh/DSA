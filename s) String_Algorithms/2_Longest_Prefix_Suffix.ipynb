{
 "cells": [
  {
   "cell_type": "markdown",
   "id": "75d105ad-c029-4e5b-a964-3141a10bb4b5",
   "metadata": {},
   "source": [
    "# Longest Prefix Suffix\n",
    "\n",
    "Notes  \n",
    "https://onedrive.live.com/redir?resid=7710AD64D8D1EE45%219888&authkey=%21AHNd77YAAIV7c1k&page=Edit&wd=target%28String%20Algorithms.one%7C26e9543d-e1b7-9a48-8102-35446d194865%2FLongest%20Prefix%20Suffix%7C60caaaf9-1013-ee49-8736-50383500697b%2F%29&wdorigin=703"
   ]
  },
  {
   "cell_type": "code",
   "execution_count": 5,
   "id": "9f8cf1c8-0955-4bfc-a376-d2ed71bbcfe0",
   "metadata": {},
   "outputs": [
    {
     "name": "stdout",
     "output_type": "stream",
     "text": [
      "[0, 1, 2, 3]\n"
     ]
    }
   ],
   "source": [
    "def get_lps(pattern):\n",
    "    \n",
    "    pattern_length = len(pattern)\n",
    "    \n",
    "    # the size of the LPS array is going to be same as the size of the pattern\n",
    "    lps = [0]*pattern_length\n",
    "    \n",
    "    # LPS for first character is 0\n",
    "    lps[0] = 0\n",
    "    \n",
    "    i = 1 # we will start filling the lps from 2nd character as LPS for 1st character is always 0\n",
    "    j = 0\n",
    "    \n",
    "    while i < pattern_length :\n",
    "        \n",
    "        if pattern[i] == pattern[j]:\n",
    "            lps[i] = j+1\n",
    "            i +=1\n",
    "            j +=1\n",
    "        else:\n",
    "            if j != 0:\n",
    "                j = lps[j-1]\n",
    "            else:\n",
    "                lps[i] = 0\n",
    "                i +=1\n",
    "        \n",
    "    return lps\n",
    "\n",
    "\n",
    "#pattern = \"adadabadadabadadad\"\n",
    "print(get_lps(pattern))\n",
    "\n"
   ]
  },
  {
   "cell_type": "markdown",
   "id": "661d2b27-1f48-4ce2-8f4d-07be8d20fb67",
   "metadata": {},
   "source": [
    "## Questions"
   ]
  },
  {
   "cell_type": "markdown",
   "id": "1948a0fb-e4ab-4e48-8dde-d7bc11508410",
   "metadata": {},
   "source": [
    "### Longest prefix which is also suffix\n",
    "Given a string s, find the length of the longest prefix, which is also a suffix. The prefix and suffix <span style=\"color:red\">should not overlap.</span>\n",
    "\n",
    "https://www.geeksforgeeks.org/longest-prefix-also-suffix/"
   ]
  },
  {
   "cell_type": "code",
   "execution_count": 16,
   "id": "df781404-9e79-403c-a298-461336711e65",
   "metadata": {},
   "outputs": [
    {
     "name": "stdout",
     "output_type": "stream",
     "text": [
      "2\n"
     ]
    }
   ],
   "source": [
    "s = \"aaaa\" # expected ans = 2 because we want non-overlapping prefix suffix and of max length\n",
    "\n",
    "lps = get_lps(s)\n",
    "\n",
    "res = lps[n-1]  # since we need to consider the complete string, therefore we check the LPS for last element\n",
    "  \n",
    "# Since we are looking for non overlapping parts. If LPS > half the length of string it means the longest prefix suffix must be overlapping and hence we can assume split the string in half\n",
    "if(res > n/2) :\n",
    "    res = n//2\n",
    "    \n",
    "print(res)"
   ]
  },
  {
   "cell_type": "code",
   "execution_count": null,
   "id": "98eb4611-2b0f-41c0-bafe-08465811fb76",
   "metadata": {},
   "outputs": [],
   "source": []
  }
 ],
 "metadata": {
  "kernelspec": {
   "display_name": "Python 3 (ipykernel)",
   "language": "python",
   "name": "python3"
  },
  "language_info": {
   "codemirror_mode": {
    "name": "ipython",
    "version": 3
   },
   "file_extension": ".py",
   "mimetype": "text/x-python",
   "name": "python",
   "nbconvert_exporter": "python",
   "pygments_lexer": "ipython3",
   "version": "3.9.13"
  }
 },
 "nbformat": 4,
 "nbformat_minor": 5
}
