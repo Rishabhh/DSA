{
 "cells": [
  {
   "cell_type": "markdown",
   "id": "f141c727",
   "metadata": {},
   "source": [
    "## Aditya Verma DP Notes OneNote\n",
    "\n",
    "https://onedrive.live.com/redir?resid=7710AD64D8D1EE45%219888&authkey=%21AHNd77YAAIV7c1k&page=Edit&wd=target%28DP-Aditya.one%7C60299f60-0de2-a745-a0f6-7e5c39787ff7%2F%29&wdorigin=717"
   ]
  },
  {
   "cell_type": "markdown",
   "id": "b09d0128-24a7-4499-ade1-42802f22b21d",
   "metadata": {
    "pycharm": {
     "name": "#%% md\n"
    }
   },
   "source": [
    "## 2 indications that it is a DP problem:\n",
    "\n",
    "1) In recursion tree, you'll see recursion calling same problem again and again\n",
    "2) Optimal things asked like maximum profit, smallest length, largest substring etc"
   ]
  },
  {
   "cell_type": "code",
   "execution_count": null,
   "id": "fa6a6dda-3178-4fb1-ac75-45df9c98831d",
   "metadata": {
    "pycharm": {
     "name": "#%%\n"
    }
   },
   "outputs": [],
   "source": []
  }
 ],
 "metadata": {
  "kernelspec": {
   "display_name": "Python 3 (ipykernel)",
   "language": "python",
   "name": "python3"
  },
  "language_info": {
   "codemirror_mode": {
    "name": "ipython",
    "version": 3
   },
   "file_extension": ".py",
   "mimetype": "text/x-python",
   "name": "python",
   "nbconvert_exporter": "python",
   "pygments_lexer": "ipython3",
   "version": "3.9.13"
  }
 },
 "nbformat": 4,
 "nbformat_minor": 5
}
