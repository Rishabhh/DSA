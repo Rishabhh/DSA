{
 "cells": [
  {
   "cell_type": "markdown",
   "id": "131d977a",
   "metadata": {},
   "source": [
    "# Minimum Cost Path\n",
    "\n",
    "In a 2-D matrix filled with integers you need to go from top left to bottom right and find the path with least sum.<br>\n",
    "https://leetcode.com/problems/minimum-path-sum/submissions/ (can't travel diagnolly in this but my solution allows that)"
   ]
  },
  {
   "cell_type": "markdown",
   "id": "4d506e4e",
   "metadata": {},
   "source": [
    "### Algorithm\n",
    "\n",
    "We can't use the greedy approach of picking just the path along an element that is smallest in the neighbourhood.  \n",
    "For example look at this array : [[1,5,11], [8,13,12], [2,3,7]] . Here, from 1, we need to take path from 8 and not 5 to get the smallest sum.  \n",
    "Therefore to get the smallest sum path, we do a recursive call on all the 3 paths i.e. to right, to bottom and to diagnol and find the minimum path value and then add current element value to it.  \n",
    "\n",
    "**Recurrence Relation**<br>\n",
    "### minCostPath(i,j) = cost[i][j] + min( minCostPath(i,j+1), minCostPath(i+1,j), minCostPath(i+1, j+1) )"
   ]
  },
  {
   "cell_type": "markdown",
   "id": "ead82626",
   "metadata": {},
   "source": [
    "### Recursive Solution"
   ]
  },
  {
   "cell_type": "code",
   "execution_count": 23,
   "id": "cdf75aed",
   "metadata": {},
   "outputs": [],
   "source": [
    "def minCostPath(input, mRows, nCols, row=0, col=0) :\n",
    "    \n",
    "    # Special Case : \n",
    "    # if we have reached the end point then we should return just that value\n",
    "    # because element to its right, bottom and diganol all will be \"inf\" by our logic and min(inf, inf, inf) = inf\n",
    "    # can add that.\n",
    "    if (col == nCols-1) and (row == mRows-1):\n",
    "        return input[row][col]\n",
    "    \n",
    "    # If we reach end of matrix along say right side, then our path can only be from going down and hence\n",
    "    # from the right we return inf so that when we apply min(inf, below_value) = below_value \n",
    "    if (col == nCols) or (row == mRows):\n",
    "        return float(\"inf\")\n",
    "\n",
    "    ans1 = minCostPath(input, mRows, nCols, row, col+1)\n",
    "\n",
    "    ans2 = minCostPath(input, mRows, nCols, row+1, col)\n",
    "\n",
    "    ans3 = minCostPath(input, mRows, nCols, row+1, col+1)\n",
    "\n",
    "    return input[row][col] + min(ans1, ans2, ans3)"
   ]
  },
  {
   "cell_type": "markdown",
   "id": "d225d6fa",
   "metadata": {},
   "source": [
    "### Recursive-DP solution"
   ]
  },
  {
   "cell_type": "code",
   "execution_count": 24,
   "id": "21e4eb94",
   "metadata": {},
   "outputs": [],
   "source": [
    "import sys\n",
    "\n",
    "def minCostPathHelper(input, mRows, nCols, row, col, dp) :\n",
    "    \n",
    "    if (col == nCols-1) and (row == mRows-1):\n",
    "        return input[row][col]\n",
    "    \n",
    "    if (col == nCols) or (row == mRows):\n",
    "        return sys.maxsize\n",
    "        \n",
    "    if dp[row][col+1]== sys.maxsize:\n",
    "        ans1 = minCostPathHelper(input, mRows, nCols, row, col+1, dp)\n",
    "        dp[row][col+1] = ans1\n",
    "    else:\n",
    "        ans1 = dp[row][col+1]\n",
    "    \n",
    "    if dp[row+1][col] == sys.maxsize:\n",
    "        ans2 = minCostPathHelper(input, mRows, nCols, row+1, col, dp)\n",
    "        dp[row+1][col] = ans2\n",
    "    else:\n",
    "        ans2 = dp[row+1][col]\n",
    "        \n",
    "    if dp[row+1][col+1] == sys.maxsize:\n",
    "        ans3 = minCostPathHelper(input, mRows, nCols, row+1, col+1, dp)\n",
    "        dp[row+1][col+1] = ans3\n",
    "    else:\n",
    "        ans3 = dp[row+1][col+1]\n",
    "    \n",
    "    ans = input[row][col] + min(ans1, ans2, ans3)\n",
    "        \n",
    "    return ans\n",
    "        \n",
    "\n",
    "def minCostPath_dp(input, mRows, nCols):\n",
    "    \n",
    "    # creating a +1 size array than mRows and nCols so that we do not have to handle corner cases for dp array\n",
    "    # at the index end of array\n",
    "    dp=[[sys.maxsize for _ in range(nCols+1)] for __ in range(mRows+1)]\n",
    "    \n",
    "    return minCostPathHelper(input, mRows, nCols, 0, 0, dp)"
   ]
  },
  {
   "cell_type": "markdown",
   "id": "271ec5fb",
   "metadata": {},
   "source": [
    "## Time Complexity : \n",
    "\n",
    "Since we created a dp-array of size (m+1)\\*(n+1) , we will have that many unique recursive calls to fill them and hence our time complexity as well as space complexity will be O((m+1)\\*(n+1))"
   ]
  },
  {
   "cell_type": "markdown",
   "id": "474e769c",
   "metadata": {},
   "source": [
    "### Testing above codes"
   ]
  },
  {
   "cell_type": "markdown",
   "id": "2e463c55",
   "metadata": {},
   "source": [
    "#### Taking input in a 2-D array"
   ]
  },
  {
   "cell_type": "code",
   "execution_count": 12,
   "id": "7133e730",
   "metadata": {},
   "outputs": [],
   "source": [
    "from sys import stdin\n",
    "#taking input using fast I/O method\n",
    "def take2DInput() :\n",
    "    li = input().rstrip().split(\" \")\n",
    "    mRows = int(li[0])\n",
    "    nCols = int(li[1])\n",
    "    \n",
    "    if mRows == 0 :\n",
    "        return list(), 0, 0\n",
    "    \n",
    "    mat = [list(map(int, input().strip().split(\" \"))) for row in range(mRows)]\n",
    "    return mat, mRows, nCols"
   ]
  },
  {
   "cell_type": "code",
   "execution_count": 15,
   "id": "56e05b9c",
   "metadata": {
    "scrolled": true
   },
   "outputs": [
    {
     "name": "stdout",
     "output_type": "stream",
     "text": [
      "4 4\n",
      "1 7 9 2\n",
      "8 6 3 2\n",
      "1 6 7 8\n",
      "2 9 8 2\n",
      "16\n"
     ]
    }
   ],
   "source": [
    "mat, mRows, nCols = take2DInput()\n",
    "print(minCostPath(mat, mRows, nCols))"
   ]
  },
  {
   "cell_type": "code",
   "execution_count": 20,
   "id": "e0dcc05f",
   "metadata": {},
   "outputs": [
    {
     "name": "stdout",
     "output_type": "stream",
     "text": [
      "16\n",
      "16\n",
      "16\n",
      "16\n",
      "16\n",
      "16\n",
      "16\n",
      "The slowest run took 108.68 times longer than the fastest. This could mean that an intermediate result is being cached.\n",
      "1.28 ms ± 2.25 ms per loop (mean ± std. dev. of 7 runs, 1 loop each)\n"
     ]
    }
   ],
   "source": [
    "%%timeit -n 1\n",
    "print(minCostPath(mat, mRows, nCols))"
   ]
  },
  {
   "cell_type": "code",
   "execution_count": 22,
   "id": "9664d2b3",
   "metadata": {},
   "outputs": [
    {
     "name": "stdout",
     "output_type": "stream",
     "text": [
      "16\n",
      "16\n",
      "16\n",
      "16\n",
      "16\n",
      "16\n",
      "16\n",
      "The slowest run took 17.41 times longer than the fastest. This could mean that an intermediate result is being cached.\n",
      "379 µs ± 424 µs per loop (mean ± std. dev. of 7 runs, 1 loop each)\n"
     ]
    }
   ],
   "source": [
    "%%timeit -n 1\n",
    "print(minCostPath_dp(mat, mRows, nCols))"
   ]
  },
  {
   "cell_type": "markdown",
   "id": "c71d3e60",
   "metadata": {},
   "source": [
    "## Iterative DP solution\n",
    "\n",
    "Since our base case in recursive solution was at the end of the array, we will start filling our dp iterative array from end and proceed backwards to get answer at 0,0 array. <br>\n",
    "\n",
    "Here we initialize our complete dp array with sys.maxsize but actually we just need to initialize dp array with sys.maxsize for the extra row and col i.e. (n+1) th column (or n by index) and (m+1) th row (or m by index) . This is required to get our logic of getting minimum from neighbourhood elements working."
   ]
  },
  {
   "cell_type": "code",
   "execution_count": 38,
   "id": "7c9ba94f",
   "metadata": {},
   "outputs": [],
   "source": [
    "import sys\n",
    "def minCostPath_iterative_dp(cost, m, n):\n",
    "    \n",
    "    # here the infinte value padding would be for elements in right-wall and bottom-wall of the dp-matrix\n",
    "    # as we are filling in BOTTOM-UP fashion.\n",
    "    dp = [[sys.maxsize for _ in range(n+1)] for __ in range(m+1)]\n",
    "    \n",
    "    for i in range(m-1, -1, -1):\n",
    "        for j in range(n-1, -1, -1):\n",
    "            if i==(m-1) and j==(n-1):\n",
    "                dp[i][j] = cost[i][j]\n",
    "            else:\n",
    "                ans1 = dp[i][j+1]\n",
    "                ans2 = dp[i+1][j]\n",
    "                ans3 = dp[i+1][j+1]\n",
    "                ans = cost[i][j] + min(ans1, ans2, ans3)\n",
    "                \n",
    "                dp[i][j] = ans\n",
    "    \n",
    "    return dp[0][0] # our minimum cost would have finally come at the 0,0 element"
   ]
  },
  {
   "cell_type": "code",
   "execution_count": 27,
   "id": "b25ee53e",
   "metadata": {},
   "outputs": [
    {
     "name": "stdout",
     "output_type": "stream",
     "text": [
      "16\n",
      "16\n",
      "16\n",
      "16\n",
      "16\n",
      "16\n",
      "16\n",
      "The slowest run took 12.65 times longer than the fastest. This could mean that an intermediate result is being cached.\n",
      "167 µs ± 220 µs per loop (mean ± std. dev. of 7 runs, 1 loop each)\n"
     ]
    }
   ],
   "source": [
    "%%timeit -n 1\n",
    "print(minCostPath_iterative_dp(mat, mRows, nCols))"
   ]
  },
  {
   "cell_type": "code",
   "execution_count": null,
   "id": "d6243b25",
   "metadata": {},
   "outputs": [],
   "source": []
  },
  {
   "cell_type": "markdown",
   "id": "aacecb7e",
   "metadata": {},
   "source": [
    "# Bottom-Up v/s Top-Down Iterative DP"
   ]
  },
  {
   "cell_type": "markdown",
   "id": "688f80c8",
   "metadata": {},
   "source": [
    "The solution we wrote above is Bottom Up approach of doing iterative DP. <br>\n",
    "\n",
    "**Bottom-Up DP** : When we start filling the DP array in such a way that we first fill the BOTTOM ROW and then proceed UP and fill the above rows, it is called as Bottom-Up DP. In this your final answer will be at dp[0][0]<br>\n",
    "\n",
    "**Top-Down DP** : When we start filling the DP array in such a way that we first fill the TOP ROW and then proceed DOWN and fill the below rows, it is called as Top-Down DP. In this your answer will be at dp[m-1][n-1]<br>\n",
    "\n",
    "According to me : if your base-case is at the top then use top-down approach , otherwise if your base-case or any special-case is at the bottom of the array then use bottom-up approach.<br>\n",
    "\n"
   ]
  },
  {
   "cell_type": "markdown",
   "id": "9af44d91",
   "metadata": {},
   "source": [
    "# Top-Down Iterative DP solution for MIN-COST problem."
   ]
  },
  {
   "cell_type": "code",
   "execution_count": 39,
   "id": "babffce6",
   "metadata": {},
   "outputs": [],
   "source": [
    "import sys\n",
    "def minCostPath_TOP_DOWN_iterative_dp(cost, m, n):\n",
    "    \n",
    "    # here the infinte value padding would be for elements in left-wall and top-wall of the dp-matrix\n",
    "    # as we are filling in TOP-DOWN fashion.\n",
    "    dp = [[sys.maxsize for _ in range(n+1)] for __ in range(m+1)]\n",
    "    \n",
    "    for i in range(1, m+1):\n",
    "        for j in range(1, n+1):\n",
    "            if i==1 and j==1:\n",
    "                dp[i][j] = cost[0][0]\n",
    "            else:\n",
    "                ans1 = dp[i][j-1]\n",
    "                ans2 = dp[i-1][j]\n",
    "                ans3 = dp[i-1][j-1]\n",
    "                ans = cost[i-1][j-1] + min(ans1, ans2, ans3)\n",
    "                \n",
    "                dp[i][j] = ans\n",
    "    \n",
    "    return dp[m][n] # our minimum cost would have finally come at the 0,0 element"
   ]
  },
  {
   "cell_type": "code",
   "execution_count": 37,
   "id": "df448ee4",
   "metadata": {},
   "outputs": [
    {
     "name": "stdout",
     "output_type": "stream",
     "text": [
      "16\n",
      "16\n",
      "16\n",
      "16\n",
      "16\n",
      "16\n",
      "16\n",
      "The slowest run took 19.64 times longer than the fastest. This could mean that an intermediate result is being cached.\n",
      "269 µs ± 385 µs per loop (mean ± std. dev. of 7 runs, 1 loop each)\n"
     ]
    }
   ],
   "source": [
    "%%timeit -n 1\n",
    "print(minCostPath_TOP_DOWN_iterative_dp(mat, mRows, nCols))"
   ]
  },
  {
   "cell_type": "code",
   "execution_count": null,
   "id": "4a6fec73",
   "metadata": {},
   "outputs": [],
   "source": []
  }
 ],
 "metadata": {
  "kernelspec": {
   "display_name": "Python 3 (ipykernel)",
   "language": "python",
   "name": "python3"
  },
  "language_info": {
   "codemirror_mode": {
    "name": "ipython",
    "version": 3
   },
   "file_extension": ".py",
   "mimetype": "text/x-python",
   "name": "python",
   "nbconvert_exporter": "python",
   "pygments_lexer": "ipython3",
   "version": "3.9.13"
  }
 },
 "nbformat": 4,
 "nbformat_minor": 5
}
