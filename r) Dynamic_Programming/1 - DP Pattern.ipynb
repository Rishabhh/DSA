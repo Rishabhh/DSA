{
 "cells": [
  {
   "cell_type": "markdown",
   "id": "b814a806-b67c-4f7d-9a64-03c1cd9a98d1",
   "metadata": {
    "pycharm": {
     "name": "#%% md\n"
    }
   },
   "source": [
    "## Striver sheet DP pattern"
   ]
  },
  {
   "cell_type": "markdown",
   "id": "ce043665-4673-48b6-8641-66923e907772",
   "metadata": {
    "pycharm": {
     "name": "#%% md\n"
    }
   },
   "source": [
    "𝐃𝐲𝐧𝐚𝐦𝐢𝐜 𝐏𝐫𝐨𝐠𝐫𝐚𝐦𝐦𝐢𝐧𝐠 𝐀𝐥𝐥 𝐏𝐚𝐭𝐭𝐞𝐫𝐧𝐬 𝐏𝐫𝐞𝐩𝐚𝐫𝐚𝐭𝐢𝐨𝐧 𝐁𝐬𝐭\n",
    "\n",
    "Pattern ->𝟏𝐃 𝐃𝐲𝐧𝐚𝐦𝐢𝐜 𝐏𝐫𝐨𝐠𝐫𝐚𝐦𝐦𝐢𝐧𝐠\n",
    "1) Climbing Stairs\n",
    "2) Frog Jump\n",
    "3) Frog Jump with K\n",
    "4) Maximum sum of Non-adjacent elements\n",
    "5) House robber 2\n",
    "6) Ninja's Training\n",
    "\n",
    "Pattern -> 𝐃𝐲𝐧𝐚𝐦𝐢𝐜 𝐏𝐫𝐨𝐠𝐫𝐚𝐦𝐦𝐢𝐧𝐠 𝐎𝐧 𝐆𝐫𝐢𝐝𝐬 / 𝟐𝐃\n",
    "1) Grid Unique Paths\n",
    "2) Unique Paths\n",
    "3) Minimum path sum in Grid\n",
    "4) Tringle (Fixed Starting Point and Variable Ending Point)\n",
    "5) Minimum/Maximum Falling Path Sum\n",
    "6) Cherry Pickup 2\n",
    "\n",
    "Pattern -> 𝐃𝐲𝐧𝐚𝐦𝐢𝐜 𝐏𝐫𝐨𝐠𝐫𝐚𝐦𝐦𝐢𝐧𝐠 𝐎𝐧 𝐒𝐮𝐛𝐬𝐞𝐭𝐬 / 𝐒𝐮𝐛𝐬𝐞𝐪𝐮𝐞𝐧𝐜𝐞\n",
    "1) Subset Sum Equals to Target\n",
    "2) Partition Equals Subset Sum\n",
    "3) Partition A subset into 2 subset with minimum absolute sum diff.\n",
    "4) Count Subsets With Sum K\n",
    "5) Count Partitions with given difference\n",
    "6) 0/1 Knapsack\n",
    "7) Minimum Coins\n",
    "8) Target Sum\n",
    "9) Coin Change 2\n",
    "10) Unbounded Knapsack 1 D array\n",
    "11) Rod Cutting 1 D array\n",
    "\n",
    "Pattern -> 𝐃𝐲𝐧𝐚𝐦𝐢𝐜 𝐏𝐫𝐨𝐠𝐫𝐚𝐦𝐦𝐢𝐧𝐠 𝐎𝐧 𝐒𝐭𝐫𝐢𝐧𝐠𝐬\n",
    "1) Print Length Of Longest Common Subsequence\n",
    "2) Print Longest Common Subsequence\n",
    "3) Longest Palindromic Subsequence\n",
    "4) Minimum Insertion to Make String Palindrome\n",
    "5) Minimum Insertions/Deletions to Convert String A -> B\n",
    "6) Shortest Common SuperSequence\n",
    "7) Distinct Subsequence\n",
    "8) Edit Distance\n",
    "9) Wildcard Matching\n",
    "\n",
    "Pattern -> 𝐃𝐲𝐧𝐚𝐦𝐢𝐜 𝐏𝐫𝐨𝐠𝐫𝐚𝐦𝐦𝐢𝐧𝐠 𝐎𝐧 𝐒𝐭𝐨𝐜𝐤𝐬\n",
    "1) Best Time To Buy and Sell Stock (Buy Ones & Sell Ones )\n",
    "1) Best Time To Buy and Sell Stock 2 (Unlimited Time Buy & Sell)\n",
    "1) Best Time To Buy and Sell Stock 3 ( At Max 2 Times Buy & Sell)\n",
    "1) Best Time To Buy and Sell Stock 4 (K times Buy & Sell )\n",
    "1) Best Time To Buy and Sell Stock 5 (Buy & Sell With Cooldown)\n",
    "1) Best Time To Buy and Sell Stock 6 (Buy & Sell With Extra Fee)\n",
    "\n",
    "Pattern -> 𝐃𝐲𝐧𝐚𝐦𝐢𝐜 𝐏𝐫𝐨𝐠𝐫𝐚𝐦𝐦𝐢𝐧𝐠 𝐎𝐧 𝐋𝐨𝐧𝐠𝐞𝐬𝐭 𝐈𝐧𝐜𝐫𝐞𝐚𝐬𝐢𝐧𝐠 𝐒𝐮𝐛𝐬𝐞𝐪𝐮𝐞𝐧𝐜𝐞 (LIS)\n",
    "1) Print Length Of Longest Increasing Subsequence\n",
    "2) Print Longest Increasing Subsequence\n",
    "3) Largest Divisible Subset\n",
    "4) Longest String chain\n",
    "5) Longest Bitonic Subsequence\n",
    "6) Number Of Longest Increasing Subsequence\n",
    "\n",
    "Pattern -> 𝐇𝐚𝐫𝐝𝐞𝐬𝐭 𝐃𝐲𝐧𝐚𝐦𝐢𝐜 𝐏𝐫𝐨𝐠𝐫𝐚𝐦𝐦𝐢𝐧𝐠 𝐎𝐧 𝐩𝐚𝐫𝐭𝐢𝐭𝐢𝐨𝐧\n",
    "1) Matrix Chain Multiplication\n",
    "2) Minimum Cost To cut The Stick\n",
    "3) Burst Balloons\n",
    "4) Evaluate Boolean\n",
    "5) Palindrome Partitioning 2\n",
    "6) Partition Array For Maximum Sum\n",
    "7) Maximum Rectangle Area with all 1's (Dp on Rectangle)\n",
    "8) Count Square Submatrices with all ones (Dp on Rectangle)\n",
    "\n",
    "\"𝐈 𝐓𝐡𝐢𝐧𝐤 𝐓𝐡𝐞𝐬𝐞 𝐀𝐥𝐥 𝐐𝐮𝐞𝐬𝐭𝐢𝐨𝐧𝐬 𝐀𝐫𝐞 𝐄𝐧𝐨𝐮𝐠𝐡 𝐓𝐨 𝐌𝐚𝐬𝐭𝐞𝐫𝐢𝐧𝐠 𝐃𝐲𝐧𝐚𝐦𝐢𝐜 𝐩𝐫𝐨𝐠𝐫𝐚𝐦𝐦𝐢𝐧𝐠\""
   ]
  },
  {
   "cell_type": "code",
   "execution_count": null,
   "id": "7caad518-3361-457d-a640-5081c4a390af",
   "metadata": {
    "pycharm": {
     "name": "#%%\n"
    }
   },
   "outputs": [],
   "source": []
  },
  {
   "cell_type": "code",
   "execution_count": null,
   "id": "37293af4-7163-41dd-bbb5-5f6678c313da",
   "metadata": {
    "pycharm": {
     "name": "#%%\n"
    }
   },
   "outputs": [],
   "source": []
  }
 ],
 "metadata": {
  "kernelspec": {
   "display_name": "Python 3 (ipykernel)",
   "language": "python",
   "name": "python3"
  },
  "language_info": {
   "codemirror_mode": {
    "name": "ipython",
    "version": 3
   },
   "file_extension": ".py",
   "mimetype": "text/x-python",
   "name": "python",
   "nbconvert_exporter": "python",
   "pygments_lexer": "ipython3",
   "version": "3.9.13"
  }
 },
 "nbformat": 4,
 "nbformat_minor": 5
}