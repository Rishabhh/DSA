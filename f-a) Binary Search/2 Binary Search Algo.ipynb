{
 "cells": [
  {
   "cell_type": "markdown",
   "id": "121429d1",
   "metadata": {},
   "source": [
    "### Given a sorted array, return the index of the given element and return -1 if number is not there in array"
   ]
  },
  {
   "cell_type": "markdown",
   "id": "51f7debe",
   "metadata": {},
   "source": [
    "# Binary Search"
   ]
  },
  {
   "cell_type": "markdown",
   "id": "90ff1670",
   "metadata": {},
   "source": [
    "### way-1 : Recursive"
   ]
  },
  {
   "cell_type": "code",
   "execution_count": 15,
   "id": "a8d25495",
   "metadata": {},
   "outputs": [],
   "source": [
    "def binary_search_recursive(arr, start, end, element):\n",
    "    \n",
    "    if start > end:\n",
    "        return -1\n",
    "    \n",
    "    mid = start + (end-start)//2\n",
    "    \n",
    "    if arr[mid] == element:\n",
    "        return mid\n",
    "    \n",
    "    elif arr[mid] > element:\n",
    "        return binary_search_recursive(arr, start, mid-1, element)\n",
    "    else:\n",
    "        return binary_search_recursive(arr, mid+1, end, element)"
   ]
  },
  {
   "cell_type": "code",
   "execution_count": 16,
   "id": "51af5bb8",
   "metadata": {
    "scrolled": true
   },
   "outputs": [
    {
     "data": {
      "text/plain": [
       "4"
      ]
     },
     "execution_count": 16,
     "metadata": {},
     "output_type": "execute_result"
    }
   ],
   "source": [
    "arr = [1,12,33,45,57,68,79,81,99]\n",
    "element = 57\n",
    "binary_search_recursive(arr, 0, len(arr), element)\n"
   ]
  },
  {
   "cell_type": "markdown",
   "id": "8d796775",
   "metadata": {},
   "source": [
    "### Way-2 : Iterative"
   ]
  },
  {
   "cell_type": "code",
   "execution_count": 3,
   "id": "665096aa",
   "metadata": {},
   "outputs": [],
   "source": [
    "def binary_search_iterative(arr, element):\n",
    "    \n",
    "    start = 0\n",
    "    end = len(arr) - 1\n",
    "    \n",
    "    while start <= end:\n",
    "        \n",
    "        mid_index = start + (end-start)//2  #do this so that there is not int overflow like possible in (start+end)//2\n",
    "        \n",
    "        mid_element = arr[mid_index]\n",
    "        \n",
    "        if mid_element == element :\n",
    "            return mid_index\n",
    "        elif mid_element > element :\n",
    "            end = mid_index -1\n",
    "        else:\n",
    "            start = mid_index+1\n",
    "            \n",
    "    return -1"
   ]
  },
  {
   "cell_type": "code",
   "execution_count": 5,
   "id": "d86ee19f",
   "metadata": {},
   "outputs": [
    {
     "data": {
      "text/plain": [
       "3"
      ]
     },
     "execution_count": 5,
     "metadata": {},
     "output_type": "execute_result"
    }
   ],
   "source": [
    "arr = [1,2,3,4,5,6,7,8,9]\n",
    "element = 4\n",
    "\n",
    "binary_search_iterative(arr, element)"
   ]
  },
  {
   "cell_type": "markdown",
   "id": "7f3d9a12",
   "metadata": {},
   "source": [
    "# Binary Search in reverse sorted array"
   ]
  },
  {
   "cell_type": "code",
   "execution_count": 7,
   "id": "d7fdec31",
   "metadata": {},
   "outputs": [],
   "source": [
    "def binary_search_in_reverse_sorted(arr, element):\n",
    "    \n",
    "    start = 0\n",
    "    end = len(arr) - 1\n",
    "    \n",
    "    while start <= end:\n",
    "        \n",
    "        mid_index = start + (end-start)//2  #do this so that there is not int overflow like possible in (start+end)//2\n",
    "        \n",
    "        mid_element = arr[mid_index]\n",
    "        #print(\"mid_element\", mid_element)\n",
    "        if mid_element == element :\n",
    "            return mid_index\n",
    "        elif mid_element < element : # just changed the sign of inequality\n",
    "            end = mid_index -1\n",
    "        else:\n",
    "            start = mid_index+1\n",
    "            \n",
    "    return -1"
   ]
  },
  {
   "cell_type": "code",
   "execution_count": 8,
   "id": "ab852b7d",
   "metadata": {},
   "outputs": [
    {
     "data": {
      "text/plain": [
       "5"
      ]
     },
     "execution_count": 8,
     "metadata": {},
     "output_type": "execute_result"
    }
   ],
   "source": [
    "arr = [9,8,7,6,5,4,3,2,1]\n",
    "element = 4\n",
    "binary_search_in_reverse_sorted(arr, 4)"
   ]
  },
  {
   "cell_type": "markdown",
   "id": "da74bb70",
   "metadata": {},
   "source": [
    "# Order Agnostic Binary Search ( don't know if increasing or decreasing )"
   ]
  },
  {
   "cell_type": "code",
   "execution_count": 1,
   "id": "6747365b",
   "metadata": {},
   "outputs": [],
   "source": [
    "def binary_search_unknown_order_Helper(arr, element, ascending=True):\n",
    "    \n",
    "    start = 0\n",
    "    end = len(arr) - 1\n",
    "    \n",
    "    while start <= end:\n",
    "        \n",
    "        mid_index = start + (end-start)//2  #do this so that there is not int overflow like possible in (start+end)//2\n",
    "        \n",
    "        mid_element = arr[mid_index]\n",
    "        \n",
    "        if mid_element == element :\n",
    "            return mid_index\n",
    "        elif mid_element > element :\n",
    "            if ascending :\n",
    "                end = mid_index -1\n",
    "            else:\n",
    "                start = mid_index + 1\n",
    "        else:\n",
    "            if ascending:\n",
    "                start = mid_index + 1\n",
    "            else:\n",
    "                end = mid_index - 1\n",
    "            \n",
    "    return -1\n",
    "    \n",
    "def binary_search_unknown_order(arr, element):\n",
    "    \n",
    "    if len(arr) == 1:\n",
    "        if arr[0] == element :\n",
    "            return 0\n",
    "        else:\n",
    "            return -1\n",
    "        \n",
    "    else:\n",
    "        \n",
    "        # Note :- compare the first and last element to know if order is ascending or descending (inc or dec)\n",
    "        # Comparing first and second element to detect order will produce error if first 2 elements are same\n",
    "        if arr[0] < arr[-1]:\n",
    "            return binary_search_unknown_order_Helper(arr, element, ascending=True)\n",
    "        else:\n",
    "            return binary_search_unknown_order_Helper(arr, element, ascending=False)"
   ]
  },
  {
   "cell_type": "code",
   "execution_count": 11,
   "id": "c9d5ac22",
   "metadata": {},
   "outputs": [
    {
     "name": "stdout",
     "output_type": "stream",
     "text": [
      "ASCENDING ORDER\n",
      "2\n",
      "\n",
      "DESCENDING ORDER\n",
      "7\n"
     ]
    }
   ],
   "source": [
    "# Ascending\n",
    "print(\"ASCENDING ORDER\")\n",
    "arr = [1,2,4,4,5,6,8,9,9]\n",
    "element = 4\n",
    "print(binary_search_unknown_order(arr, element))\n",
    "\n",
    "print()\n",
    "\n",
    "print(\"DESCENDING ORDER\")\n",
    "arr = [9,9,9,8,7,6,5,4,3,2,1]\n",
    "element = 4\n",
    "print(binary_search_unknown_order(arr, element))"
   ]
  },
  {
   "cell_type": "code",
   "execution_count": null,
   "id": "7ab840d6",
   "metadata": {},
   "outputs": [],
   "source": []
  },
  {
   "cell_type": "code",
   "execution_count": null,
   "id": "501f8d1f",
   "metadata": {},
   "outputs": [],
   "source": []
  }
 ],
 "metadata": {
  "kernelspec": {
   "display_name": "Python 3 (ipykernel)",
   "language": "python",
   "name": "python3"
  },
  "language_info": {
   "codemirror_mode": {
    "name": "ipython",
    "version": 3
   },
   "file_extension": ".py",
   "mimetype": "text/x-python",
   "name": "python",
   "nbconvert_exporter": "python",
   "pygments_lexer": "ipython3",
   "version": "3.8.11"
  }
 },
 "nbformat": 4,
 "nbformat_minor": 5
}
