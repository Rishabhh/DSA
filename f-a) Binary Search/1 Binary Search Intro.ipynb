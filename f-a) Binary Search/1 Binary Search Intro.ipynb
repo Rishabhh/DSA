{
 "cells": [
  {
   "cell_type": "markdown",
   "id": "1b05a2b4",
   "metadata": {},
   "source": [
    "# Binary Search based questions"
   ]
  },
  {
   "cell_type": "markdown",
   "id": "e959747b",
   "metadata": {},
   "source": [
    "Whenever you get a sorted array just know it might be question on Binary Search <br>"
   ]
  },
  {
   "cell_type": "code",
   "execution_count": null,
   "id": "74c0cead",
   "metadata": {},
   "outputs": [],
   "source": []
  }
 ],
 "metadata": {
  "kernelspec": {
   "display_name": "Python 3 (ipykernel)",
   "language": "python",
   "name": "python3"
  },
  "language_info": {
   "codemirror_mode": {
    "name": "ipython",
    "version": 3
   },
   "file_extension": ".py",
   "mimetype": "text/x-python",
   "name": "python",
   "nbconvert_exporter": "python",
   "pygments_lexer": "ipython3",
   "version": "3.8.11"
  }
 },
 "nbformat": 4,
 "nbformat_minor": 5
}
