{
 "cells": [
  {
   "cell_type": "markdown",
   "id": "8555f1a8-a623-42e7-a874-a565364dfb73",
   "metadata": {},
   "source": [
    "https://www.youtube.com/watch?v=efET3lxYCkM&list=PLauivoElc3ginp_2p2cX5i-jrBI32xGuX&index=1\n",
    "\n",
    "\n",
    "https://leetcode.com/problems/subarray-sum-equals-k/solution/\n",
    "\n",
    "https://leetcode.com/problems/range-sum-query-immutable/\n",
    "\n",
    "https://leetcode.com/discuss/study-guide/1497123/subarrays-vs-subsequence-vs-subsets#:~:text=A%20subsequence%20maintain%20relative%20ordering,contiguous%20part%20of%20an%20array.\n",
    "\n",
    "\n"
   ]
  },
  {
   "cell_type": "code",
   "execution_count": null,
   "id": "c6e03a18-a762-45fd-a2d0-e14e7a9b290e",
   "metadata": {},
   "outputs": [],
   "source": []
  }
 ],
 "metadata": {
  "kernelspec": {
   "display_name": "Python 3 (ipykernel)",
   "language": "python",
   "name": "python3"
  },
  "language_info": {
   "codemirror_mode": {
    "name": "ipython",
    "version": 3
   },
   "file_extension": ".py",
   "mimetype": "text/x-python",
   "name": "python",
   "nbconvert_exporter": "python",
   "pygments_lexer": "ipython3",
   "version": "3.9.13"
  }
 },
 "nbformat": 4,
 "nbformat_minor": 5
}
