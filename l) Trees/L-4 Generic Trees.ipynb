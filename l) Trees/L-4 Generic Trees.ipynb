{
 "cells": [
  {
   "cell_type": "markdown",
   "id": "cd1d5671",
   "metadata": {},
   "source": [
    "## Generic Trees = Trees that can have more than 2 children\n",
    "\n",
    "Trees will have  \n",
    "\n",
    "    1) Data\n",
    "    2) A list containing the references of the children(as there can be more than 2 children so no left-rigjht)\n",
    "<br><br><br>    \n",
    "### In Generic Trees we do not require BASE CASE for recursive calls but rather have an EDGE CASE. Why ?   \n",
    "In generic trees, since we a list for children and iterate over it using a loop and then to act on children we use recursive calls.<br>\n",
    "The recursive call in loop will be made only if there is a child and not otherwise and hence no need for base case<br>\n",
    "Instead we need an EDGE CASE in Generic Trees, since there is a chance that out tree is None and we need to create a NONE TREE."
   ]
  },
  {
   "cell_type": "code",
   "execution_count": 8,
   "id": "e80ff3f1",
   "metadata": {},
   "outputs": [],
   "source": [
    "class TreeNode:\n",
    "    \n",
    "    def __init__(self, data):\n",
    "        \n",
    "        self.data = data\n",
    "        self.children = list()"
   ]
  },
  {
   "cell_type": "code",
   "execution_count": 28,
   "id": "ef50ce54",
   "metadata": {},
   "outputs": [],
   "source": [
    "def printTree(root):\n",
    "    \n",
    "    # This is not a base case - Base case is handled by for loop only in this code. This is edge case for None tree\n",
    "    if root is None:\n",
    "        return None\n",
    "    \n",
    "    print(root.data)\n",
    "    \n",
    "    # the loop acts as base case since we will make a recursive call only if there is a children in root.children list\n",
    "    for child in root.children:\n",
    "        printTree(child)"
   ]
  },
  {
   "cell_type": "code",
   "execution_count": 11,
   "id": "5933e7f6",
   "metadata": {},
   "outputs": [],
   "source": [
    "n1 = TreeNode(5)\n",
    "n2 = TreeNode(2)\n",
    "n3 = TreeNode(9)\n",
    "n4 = TreeNode(8)\n",
    "n5 = TreeNode(7)\n",
    "n6 = TreeNode(15)\n",
    "n7 = TreeNode(1)\n",
    "\n",
    "\n",
    "n1.children.append(n2)\n",
    "n1.children.append(n3)\n",
    "n1.children.append(n4)\n",
    "n1.children.append(n5)\n",
    "\n",
    "n3.children.append(n6)\n",
    "n3.children.append(n7)"
   ]
  },
  {
   "cell_type": "code",
   "execution_count": 12,
   "id": "0ecff312",
   "metadata": {
    "scrolled": true
   },
   "outputs": [
    {
     "name": "stdout",
     "output_type": "stream",
     "text": [
      "5\n",
      "2\n",
      "9\n",
      "15\n",
      "1\n",
      "8\n",
      "7\n"
     ]
    }
   ],
   "source": [
    "printTree(n1)"
   ]
  },
  {
   "cell_type": "markdown",
   "id": "7e32b1a9",
   "metadata": {},
   "source": [
    "## The above print does not add clarity of who is who's child. New print way below"
   ]
  },
  {
   "cell_type": "code",
   "execution_count": 22,
   "id": "91d60c74",
   "metadata": {},
   "outputs": [],
   "source": [
    "def printTreeDetailed(root):\n",
    "    \n",
    "    if root is None:\n",
    "        return\n",
    "    \n",
    "    print(root.data, \": \", end=\"\")\n",
    "    \n",
    "    # 2 loops required\n",
    "    \n",
    "    for child in root.children:\n",
    "        print(child.data, \",\", end=\"\")\n",
    "    \n",
    "    print()\n",
    "    \n",
    "    for child in root.children:\n",
    "        printTreeDetailed(child)"
   ]
  },
  {
   "cell_type": "markdown",
   "id": "da98cbfb",
   "metadata": {},
   "source": [
    "## Take Tree Input for Generic Trees in Pre-Order form\n",
    "\n",
    "Approach:  \n",
    "\n",
    "    Step-1 : Ask user to input root node value<br>\n",
    "    Step-2 : Ask user to input number of children next <br>\n",
    "    Step-3 : Apply recursion for step-1 and step-2 i.e run recursion for number of children only via a loop.\n",
    "    \n",
    "    \n",
    "Q) What is difference between this input form and one used for BST ? <br>\n",
    "Ans) Here, we call for chilren only for number of children given but in BST we would always ask for children of left and right child even if they themselves were None."
   ]
  },
  {
   "cell_type": "code",
   "execution_count": 15,
   "id": "625a88f6",
   "metadata": {},
   "outputs": [],
   "source": [
    "def takeTreeInput():\n",
    "    \n",
    "    print(\"enter root data\")\n",
    "    \n",
    "    rootData = int(input())\n",
    "    \n",
    "    # edge case for None tree and not base-case\n",
    "    if rootData == -1:\n",
    "        return None\n",
    "    \n",
    "    root = TreeNode(rootData)\n",
    "    print(\"Enter the number of children for \", rootData)\n",
    "    childrenCount = int(input())\n",
    "    \n",
    "    for i in range(childrenCount):\n",
    "        \n",
    "        child = takeTreeInput()\n",
    "        root.children.append(child)\n",
    "        \n",
    "    return root\n",
    "        "
   ]
  },
  {
   "cell_type": "code",
   "execution_count": 26,
   "id": "53964737",
   "metadata": {},
   "outputs": [
    {
     "name": "stdout",
     "output_type": "stream",
     "text": [
      "enter root data\n",
      "5\n",
      "Enter the number of children for  5\n",
      "4\n",
      "enter root data\n",
      "2\n",
      "Enter the number of children for  2\n",
      "0\n",
      "enter root data\n",
      "9\n",
      "Enter the number of children for  9\n",
      "2\n",
      "enter root data\n",
      "15\n",
      "Enter the number of children for  15\n",
      "0\n",
      "enter root data\n",
      "1\n",
      "Enter the number of children for  1\n",
      "0\n",
      "enter root data\n",
      "8\n",
      "Enter the number of children for  8\n",
      "0\n",
      "enter root data\n",
      "7\n",
      "Enter the number of children for  7\n",
      "0\n"
     ]
    }
   ],
   "source": [
    "root = takeTreeInput()"
   ]
  },
  {
   "cell_type": "code",
   "execution_count": 27,
   "id": "244e8b08",
   "metadata": {},
   "outputs": [
    {
     "name": "stdout",
     "output_type": "stream",
     "text": [
      "5 : 2 ,9 ,8 ,7 ,\n",
      "2 : \n",
      "9 : 15 ,1 ,\n",
      "15 : \n",
      "1 : \n",
      "8 : \n",
      "7 : \n"
     ]
    }
   ],
   "source": [
    "printTreeDetailed(root)"
   ]
  },
  {
   "cell_type": "code",
   "execution_count": 29,
   "id": "15184725",
   "metadata": {},
   "outputs": [],
   "source": [
    "def numNodes(root):\n",
    "    \n",
    "    if root is None:\n",
    "        return 0\n",
    "    \n",
    "    count = 1\n",
    "    for child in root.children:\n",
    "        count = count + numNodes(child)\n",
    "        \n",
    "    return count"
   ]
  },
  {
   "cell_type": "code",
   "execution_count": 30,
   "id": "6c4ac605",
   "metadata": {},
   "outputs": [
    {
     "name": "stdout",
     "output_type": "stream",
     "text": [
      "Number of Nodes in generic tree  7\n"
     ]
    }
   ],
   "source": [
    "print(\"Number of Nodes in generic tree \", numNodes(root))"
   ]
  },
  {
   "cell_type": "code",
   "execution_count": 31,
   "id": "3b4804fb",
   "metadata": {},
   "outputs": [
    {
     "data": {
      "text/plain": [
       "12.21"
      ]
     },
     "execution_count": 31,
     "metadata": {},
     "output_type": "execute_result"
    }
   ],
   "source": [
    "12.21"
   ]
  },
  {
   "cell_type": "markdown",
   "id": "1ea69228",
   "metadata": {},
   "source": [
    "## Taking Tree Input LEVEL-WISE\n",
    "Approach:  \n",
    "\n",
    "    Step-1 : Ask user to input root node value<br>\n",
    "    Step-2 : Add the root to a queue\n",
    "    Step-3 : Ask user to input number of children next <br>\n",
    "    Step-4 : Iterate for number of children and create their nodes and append them to root.children and then add   them to the queue.\n"
   ]
  },
  {
   "cell_type": "code",
   "execution_count": 37,
   "id": "20ecccb4",
   "metadata": {},
   "outputs": [],
   "source": [
    "import queue\n",
    "def takeTreeInputLevelWise():\n",
    "    \n",
    "    q = queue.Queue()\n",
    "    print(\"Enter root\")\n",
    "    rootData = int(input())\n",
    "    if rootData == -1:\n",
    "        return None\n",
    "    \n",
    "    root = TreeNode(rootData)\n",
    "    q.put(root)\n",
    "    \n",
    "    while not q.empty():\n",
    "        current_node = q.get()\n",
    "        print(\"Enter the number of children for \", current_node.data)\n",
    "        numChildren = int(input())\n",
    "        for i in range(numChildren):\n",
    "            print(\"Enter next child for \", current_node.data)\n",
    "            childData = int(input())\n",
    "            child = TreeNode(childData)\n",
    "            current_node.children.append(child)\n",
    "            q.put(child)\n",
    "            \n",
    "    return root\n",
    "                "
   ]
  },
  {
   "cell_type": "code",
   "execution_count": 38,
   "id": "a8636d6a",
   "metadata": {},
   "outputs": [
    {
     "name": "stdout",
     "output_type": "stream",
     "text": [
      "Enter root\n",
      "1\n",
      "Enter the number of children for  1\n",
      "3\n",
      "Enter next child for  1\n",
      "2\n",
      "Enter next child for  1\n",
      "3\n",
      "Enter next child for  1\n",
      "4\n",
      "Enter the number of children for  2\n",
      "0\n",
      "Enter the number of children for  3\n",
      "2\n",
      "Enter next child for  3\n",
      "5\n",
      "Enter next child for  3\n",
      "6\n",
      "Enter the number of children for  4\n",
      "0\n",
      "Enter the number of children for  5\n",
      "0\n",
      "Enter the number of children for  6\n",
      "3\n",
      "Enter next child for  6\n",
      "7\n",
      "Enter next child for  6\n",
      "8\n",
      "Enter next child for  6\n",
      "9\n",
      "Enter the number of children for  7\n",
      "0\n",
      "Enter the number of children for  8\n",
      "0\n",
      "Enter the number of children for  9\n",
      "0\n"
     ]
    }
   ],
   "source": [
    "root = takeTreeInputLevelWise()"
   ]
  },
  {
   "cell_type": "code",
   "execution_count": 39,
   "id": "f29336a0",
   "metadata": {},
   "outputs": [
    {
     "name": "stdout",
     "output_type": "stream",
     "text": [
      "1 : 2 ,3 ,4 ,\n",
      "2 : \n",
      "3 : 5 ,6 ,\n",
      "5 : \n",
      "6 : 7 ,8 ,9 ,\n",
      "7 : \n",
      "8 : \n",
      "9 : \n",
      "4 : \n"
     ]
    }
   ],
   "source": [
    "printTreeDetailed(root)"
   ]
  },
  {
   "cell_type": "code",
   "execution_count": 42,
   "id": "bbea6629",
   "metadata": {},
   "outputs": [],
   "source": [
    "def maxDataNode(tree):\n",
    "    if not tree:\n",
    "        return None\n",
    "    maxNode = tree # Assume that the root node has max Data\n",
    "    for child in tree.children:\n",
    "        temp = maxDataNode(child)\n",
    "        if temp.data > maxNode.data:\n",
    "            maxNode = temp\n",
    "    return maxNode"
   ]
  },
  {
   "cell_type": "code",
   "execution_count": 43,
   "id": "ef4f6a15",
   "metadata": {},
   "outputs": [],
   "source": [
    "def maxDataNode(tree):\n",
    "    #############################\n",
    "    # PLEASE ADD YOUR CODE HERE #\n",
    "    #############################\n",
    "    if tree is None:\n",
    "        return None\n",
    "    \n",
    "    current_max_node = tree\n",
    "    \n",
    "    for child in tree.children:\n",
    "        \n",
    "        #print(child.data)\n",
    "        max_from_child = maxDataNode(child)\n",
    "        #print(\"max from child\", max_from_child)\n",
    "        if max_from_child is not None and current_max_node.data <= max_from_child.data:\n",
    "            current_max_node = max_from_child\n",
    "        \n",
    "    return current_max_node"
   ]
  },
  {
   "cell_type": "code",
   "execution_count": null,
   "id": "68ef71c6",
   "metadata": {},
   "outputs": [],
   "source": []
  }
 ],
 "metadata": {
  "kernelspec": {
   "display_name": "Python 3 (ipykernel)",
   "language": "python",
   "name": "python3"
  },
  "language_info": {
   "codemirror_mode": {
    "name": "ipython",
    "version": 3
   },
   "file_extension": ".py",
   "mimetype": "text/x-python",
   "name": "python",
   "nbconvert_exporter": "python",
   "pygments_lexer": "ipython3",
   "version": "3.8.11"
  }
 },
 "nbformat": 4,
 "nbformat_minor": 5
}
