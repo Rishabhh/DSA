{
 "cells": [
  {
   "cell_type": "markdown",
   "id": "eff43066",
   "metadata": {},
   "source": [
    "# Iterative Traversals"
   ]
  },
  {
   "cell_type": "markdown",
   "id": "c4b6f6e6",
   "metadata": {},
   "source": [
    "## Pre-order traversals"
   ]
  },
  {
   "cell_type": "markdown",
   "id": "60c9f6d9",
   "metadata": {},
   "source": [
    "#### Recursive solution"
   ]
  },
  {
   "cell_type": "code",
   "execution_count": 1,
   "id": "497a0be4",
   "metadata": {},
   "outputs": [],
   "source": [
    "def preOrder(root):\n",
    "    \n",
    "    if root == None:\n",
    "        return\n",
    "    print(root.data,end=\" \")\n",
    "    preOrder(root.left)\n",
    "    preOrder(root.right)"
   ]
  },
  {
   "cell_type": "markdown",
   "id": "3f9fdab7",
   "metadata": {},
   "source": [
    "#### Iterative solution"
   ]
  },
  {
   "cell_type": "code",
   "execution_count": 5,
   "id": "8e0970ed",
   "metadata": {},
   "outputs": [],
   "source": [
    "def preorderTraversal(root):\n",
    "        \n",
    "    if root is None:\n",
    "        return\n",
    "\n",
    "    preorder = []\n",
    "    stack = []\n",
    "    stack.append(root)\n",
    "\n",
    "\n",
    "    while len(stack) != 0:\n",
    "\n",
    "        current_node = stack.pop()\n",
    "        preorder.append(current_node.val)\n",
    "\n",
    "        if current_node.right is not None:\n",
    "            stack.append(current_node.right)\n",
    "\n",
    "        if current_node.left is not None:\n",
    "            stack.append(current_node.left)\n",
    "\n",
    "\n",
    "    return preorder"
   ]
  },
  {
   "cell_type": "markdown",
   "id": "e0bde30c",
   "metadata": {},
   "source": [
    "## In-order traversals"
   ]
  },
  {
   "cell_type": "markdown",
   "id": "2f8ddc69",
   "metadata": {},
   "source": [
    "#### Recursive solution"
   ]
  },
  {
   "cell_type": "code",
   "execution_count": 8,
   "id": "4c18fdbf",
   "metadata": {},
   "outputs": [],
   "source": [
    "def InOrder(root):\n",
    "    \n",
    "    if root == None:\n",
    "        return\n",
    "    InOrder(root.left)\n",
    "    print(root.data,end=\" \")\n",
    "    InOrder(root.right)"
   ]
  },
  {
   "cell_type": "markdown",
   "id": "084ae26b",
   "metadata": {},
   "source": [
    "#### Iterative solution"
   ]
  },
  {
   "cell_type": "code",
   "execution_count": 7,
   "id": "8feaed97",
   "metadata": {},
   "outputs": [],
   "source": [
    "def inorderTraversal(root):\n",
    "        \n",
    "        if root is None:\n",
    "            return\n",
    "        \n",
    "        inorder = []\n",
    "        stack = []\n",
    "        node = root\n",
    "        \n",
    "        while True:\n",
    "            \n",
    "            if node is not None:\n",
    "                stack.append(node)\n",
    "                node = node.left\n",
    "            else:\n",
    "                if len(stack) == 0:\n",
    "                    break\n",
    "                node = stack.pop()\n",
    "                inorder.append(node.val)\n",
    "                node = node.right\n",
    "                \n",
    "        return inorder"
   ]
  },
  {
   "cell_type": "markdown",
   "id": "8286d686",
   "metadata": {},
   "source": [
    "## Post-order traversal"
   ]
  },
  {
   "cell_type": "markdown",
   "id": "41bf9d98",
   "metadata": {},
   "source": [
    "#### Recursive solution"
   ]
  },
  {
   "cell_type": "code",
   "execution_count": null,
   "id": "c624487a",
   "metadata": {},
   "outputs": [],
   "source": [
    "def postOrder(root):\n",
    "    \n",
    "    if root == None:\n",
    "        return\n",
    "    postOrder(root.left)\n",
    "    postOrder(root.right)\n",
    "    print(root.data,end=\" \")"
   ]
  },
  {
   "cell_type": "markdown",
   "id": "c3972b4f",
   "metadata": {},
   "source": [
    "#### Iterative solution"
   ]
  },
  {
   "cell_type": "markdown",
   "id": "78b3f88b",
   "metadata": {},
   "source": [
    "#### Way-1 : Using 2 stacks"
   ]
  },
  {
   "cell_type": "code",
   "execution_count": 9,
   "id": "709ac568",
   "metadata": {},
   "outputs": [],
   "source": [
    "# 2 Stack approach\n",
    "# start by inserting the root is stack-1\n",
    "# Run a loop till stack-1 is not empty\n",
    "# pop the top element from stack-1\n",
    "# append that top element to stack-2\n",
    "# check if there is left child for the element ; if yes append it to stack-1\n",
    "# check if there is a right child for the element ; if yes append it to stack 1\n",
    "\n",
    "# Finally your level order traversal will be in stack-2\n",
    "# pop elements from stack-2 from top to bottom to get your post-order traversal\n",
    "def postorderTraversal(root):\n",
    "\n",
    "    if root is None:\n",
    "        return []\n",
    "\n",
    "    stack1 = []\n",
    "    stack2 = []\n",
    "    postorder = []\n",
    "\n",
    "    stack1.append(root)\n",
    "\n",
    "    while len(stack1) != 0:\n",
    "\n",
    "        current_node = stack1.pop()\n",
    "        stack2.append(current_node.val)\n",
    "\n",
    "        if current_node.left is not None:\n",
    "            stack1.append(current_node.left)\n",
    "\n",
    "        if current_node.right is not None:\n",
    "            stack1.append(current_node.right)\n",
    "\n",
    "\n",
    "\n",
    "    postorder = [stack2.pop() for _ in range(len(stack2)) ]\n",
    "\n",
    "    return postorder"
   ]
  },
  {
   "cell_type": "markdown",
   "id": "5f03d29d",
   "metadata": {},
   "source": [
    "#### Way-2 : Using single stack"
   ]
  },
  {
   "cell_type": "code",
   "execution_count": null,
   "id": "b35e1951",
   "metadata": {},
   "outputs": [],
   "source": []
  }
 ],
 "metadata": {
  "kernelspec": {
   "display_name": "Python 3 (ipykernel)",
   "language": "python",
   "name": "python3"
  },
  "language_info": {
   "codemirror_mode": {
    "name": "ipython",
    "version": 3
   },
   "file_extension": ".py",
   "mimetype": "text/x-python",
   "name": "python",
   "nbconvert_exporter": "python",
   "pygments_lexer": "ipython3",
   "version": "3.8.11"
  }
 },
 "nbformat": 4,
 "nbformat_minor": 5
}
