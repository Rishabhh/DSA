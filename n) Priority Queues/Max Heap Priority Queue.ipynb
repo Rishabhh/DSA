{
 "cells": [
  {
   "cell_type": "code",
   "execution_count": 4,
   "id": "537be08a",
   "metadata": {},
   "outputs": [],
   "source": [
    "class PriorityQueueNode:\n",
    "    \n",
    "    def __init__(self, ele, priority):\n",
    "        \n",
    "        self.ele = ele\n",
    "        self.priority = priority\n",
    "\n",
    "class PriorityQueue:\n",
    "    \n",
    "    def __init__(self):\n",
    "        \n",
    "        self.pq = list()\n",
    "    \n",
    "    def isEmpty(self):\n",
    "        \n",
    "        return self.getSize() == 0\n",
    "    \n",
    "    def getSize(self):\n",
    "        \n",
    "        return len(self.pq)\n",
    "\n",
    "    def getMax(self):\n",
    "        \n",
    "        if self.isEmpty():\n",
    "            return float(\"-inf\")\n",
    "        \n",
    "        return self.pq[0].ele\n",
    "    \n",
    "    def __percolateUp(self):\n",
    "        \n",
    "        childIndex = self.getSize()-1\n",
    "        \n",
    "        while childIndex > 0:\n",
    "            \n",
    "            parentIndex = (childIndex - 1)//2\n",
    "            \n",
    "            if self.pq[childIndex].priority > self.pq[parentIndex].priority:\n",
    "                self.pq[childIndex], self.pq[parentIndex] = self.pq[parentIndex], self.pq[childIndex]\n",
    "                childIndex = parentIndex\n",
    "            else:\n",
    "                break\n",
    "        \n",
    "    \n",
    "    def insert(self, ele, priority):\n",
    "        #Implement the insert() function here\n",
    "        pqNode = PriorityQueueNode(ele, priority)\n",
    "        \n",
    "        self.pq.append(pqNode)\n",
    "        \n",
    "        self.__percolateUp()\n",
    "        \n",
    "    \n",
    "    def __percolateDown(self):\n",
    "        \n",
    "        parentIndex = 0\n",
    "        leftChildIndex = 2*parentIndex + 1\n",
    "        rightChildIndex = 2*parentIndex + 2\n",
    "        \n",
    "        while leftChildIndex < self.getSize():\n",
    "            \n",
    "            maxIndex = parentIndex\n",
    "            \n",
    "            if self.pq[maxIndex].priority < self.pq[leftChildIndex].priority:\n",
    "                maxIndex = leftChildIndex\n",
    "                \n",
    "            if (rightChildIndex < self.getSize()) and self.pq[maxIndex].priority < self.pq[rightChildIndex].priority:\n",
    "                maxIndex = rightChildIndex\n",
    "                \n",
    "            if maxIndex == parentIndex:\n",
    "                break\n",
    "                \n",
    "            self.pq[maxIndex], self.pq[parentIndex] = self.pq[parentIndex], self.pq[maxIndex]\n",
    "            \n",
    "            parentIndex = maxIndex\n",
    "            leftChildIndex = 2*parentIndex + 1\n",
    "            rightChildIndex = 2*parentIndex + 2\n",
    "                \n",
    "        \n",
    "    def removeMax(self):\n",
    "        #Implement the removeMax() function here\n",
    "        \n",
    "        if self.isEmpty():\n",
    "            print(\"queue is empty\")\n",
    "            return None\n",
    "        \n",
    "        element = self.pq[0].ele\n",
    "        self.pq[0] = self.pq[-1]\n",
    "        self.pq.pop()\n",
    "        \n",
    "        self.__percolateDown()\n",
    "        \n",
    "        return element"
   ]
  },
  {
   "cell_type": "code",
   "execution_count": 8,
   "id": "3fc588b4",
   "metadata": {},
   "outputs": [
    {
     "name": "stdout",
     "output_type": "stream",
     "text": [
      "B\n",
      "A\n",
      "C\n",
      "D\n"
     ]
    }
   ],
   "source": [
    "pq = PriorityQueue()\n",
    "pq.insert('A', 10)\n",
    "pq.insert('C', 5)\n",
    "pq.insert('B', 19)\n",
    "pq.insert('D', 4)\n",
    "\n",
    "for _ in range(4):\n",
    "    print(pq.removeMax())"
   ]
  },
  {
   "cell_type": "markdown",
   "id": "2a438415",
   "metadata": {},
   "source": [
    "## Testing Max Heap PQ code"
   ]
  },
  {
   "cell_type": "code",
   "execution_count": 5,
   "id": "48d8e7c3",
   "metadata": {},
   "outputs": [
    {
     "name": "stdout",
     "output_type": "stream",
     "text": [
      "63\n",
      "63\n",
      "21\n",
      "21\n",
      "21\n",
      "21\n"
     ]
    }
   ],
   "source": [
    "myPq = PriorityQueue()\n",
    "input_str = \"1 3 1 4 1 63 1 21 1 9 2 3 1 7 2 2 2 3 -1\"\n",
    "curr_input = [int(ele) for ele in input_str.split()]\n",
    "choice = curr_input[0]\n",
    "i=1\n",
    "while choice != -1:\n",
    "    if choice == 1:\n",
    "        element = curr_input[i]\n",
    "        i+=1\n",
    "        myPq.insert(element,element)\n",
    "    elif choice == 2:\n",
    "        print(myPq.getMax())\n",
    "    elif choice == 3:\n",
    "        print(myPq.removeMax())\n",
    "    elif choice == 4:\n",
    "        print(myPq.getSize())\n",
    "    elif choice == 5:\n",
    "        if myPq.isEmpty():\n",
    "            print('true')\n",
    "        else:\n",
    "            print('false')\n",
    "        break\n",
    "    else:\n",
    "        pass\n",
    "    choice = curr_input[i]\n",
    "    i+=1"
   ]
  },
  {
   "cell_type": "code",
   "execution_count": null,
   "id": "0d694f27",
   "metadata": {},
   "outputs": [],
   "source": []
  }
 ],
 "metadata": {
  "kernelspec": {
   "display_name": "Python 3 (ipykernel)",
   "language": "python",
   "name": "python3"
  },
  "language_info": {
   "codemirror_mode": {
    "name": "ipython",
    "version": 3
   },
   "file_extension": ".py",
   "mimetype": "text/x-python",
   "name": "python",
   "nbconvert_exporter": "python",
   "pygments_lexer": "ipython3",
   "version": "3.9.13"
  }
 },
 "nbformat": 4,
 "nbformat_minor": 5
}
