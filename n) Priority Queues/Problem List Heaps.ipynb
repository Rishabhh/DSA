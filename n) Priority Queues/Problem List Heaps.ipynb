{
 "cells": [
  {
   "cell_type": "markdown",
   "id": "a45ff26d",
   "metadata": {},
   "source": [
    "Problem Patterns where HEAP is used\n",
    "Based on my understanding, different questions where HEAP is common data structure to use can be categorized in following 4 categories:\n",
    "\n",
    "Top K Pattern\n",
    "Merge K Sorted Pattern\n",
    "Two Heaps Pattern\n",
    "Minimum Number Pattern\n",
    "All questions under one patterns has some similarities in terms of using HEAP as a data structure. Completing these questions would gurantee you mastery on the HEAP data structure. Below list includes some of the most common questions asked in most of the companies.\n",
    "\n",
    "Top K Pattern\n",
    "LC #215 - Kth largest number in an array\n",
    "LC #973 - K closest points to origin\n",
    "LC #347 - Top k frequent elements/numbers\n",
    "LC #692 - Top k frequent words\n",
    "LC #264 - Ugly Number II\n",
    "LC #451 - Frequency Sort\n",
    "LC #703 - Kth largest number in a stream\n",
    "LC #767 - Reorganize String\n",
    "LC #358 - Rearrange string K distance apart\n",
    "LC #1439 - Kth smallest sum of a matrix with sorted rows\n",
    "\n",
    "Merge K sorted pattern\n",
    "LC #23 - Merge K sorted\n",
    "LC #373 - K pairs with the smallest sum\n",
    "LC #378 - K smallest numbers in M-sorted lists\n",
    "\n",
    "Two Heaps Pattern\n",
    "LC #295 - Find median from a data stream\n",
    "LC #480 - Sliding window Median\n",
    "LC #502 - Maximize Capital/IPO\n",
    "\n",
    "Minimum number Pattern\n",
    "LC #1167 - Minimum Cost to connect sticks/ropes\n",
    "LC #253 - Meeting Rooms II\n",
    "LC #759 - Employee free time\n",
    "LC #857 - Minimumcost to hire K workers\n",
    "LC #621 - Minimum number of CPU (Task scheduler)\n",
    "LC #871 - Minimum number of Refueling stops"
   ]
  },
  {
   "cell_type": "code",
   "execution_count": null,
   "id": "d67dc39b",
   "metadata": {},
   "outputs": [],
   "source": []
  }
 ],
 "metadata": {
  "kernelspec": {
   "display_name": "Python 3 (ipykernel)",
   "language": "python",
   "name": "python3"
  },
  "language_info": {
   "codemirror_mode": {
    "name": "ipython",
    "version": 3
   },
   "file_extension": ".py",
   "mimetype": "text/x-python",
   "name": "python",
   "nbconvert_exporter": "python",
   "pygments_lexer": "ipython3",
   "version": "3.9.13"
  }
 },
 "nbformat": 4,
 "nbformat_minor": 5
}
