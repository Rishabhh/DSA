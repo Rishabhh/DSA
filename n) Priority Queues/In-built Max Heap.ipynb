{
 "cells": [
  {
   "cell_type": "markdown",
   "id": "ce7766c6",
   "metadata": {},
   "source": [
    "## Max-Heap In-built\n",
    "\n",
    "**Max-Heap is implemented using some protected functions in the <span style=\"color:red\">heapq</span> library**\n",
    "\n",
    "**Pushing elements is not a direct function**\n",
    "\n",
    "**Note - To see effect of each function just create a tree based heap to visualize**"
   ]
  },
  {
   "cell_type": "code",
   "execution_count": 1,
   "id": "b99e5d9e",
   "metadata": {},
   "outputs": [],
   "source": [
    "import heapq\n",
    "li = [1,5,4,7,8,9,2,3]"
   ]
  },
  {
   "cell_type": "markdown",
   "id": "657c8c0c",
   "metadata": {},
   "source": [
    "## Max-Heapify"
   ]
  },
  {
   "cell_type": "code",
   "execution_count": 2,
   "id": "4cd6ea6f",
   "metadata": {},
   "outputs": [],
   "source": [
    "heapq._heapify_max(li)"
   ]
  },
  {
   "cell_type": "code",
   "execution_count": 3,
   "id": "278d922c",
   "metadata": {},
   "outputs": [
    {
     "name": "stdout",
     "output_type": "stream",
     "text": [
      "[9, 8, 4, 7, 5, 1, 2, 3]\n"
     ]
    }
   ],
   "source": [
    "print(li)"
   ]
  },
  {
   "cell_type": "markdown",
   "id": "3ee2d759",
   "metadata": {},
   "source": [
    "## Pop elements from Max-Heap"
   ]
  },
  {
   "cell_type": "code",
   "execution_count": 4,
   "id": "3d2c9ce9",
   "metadata": {},
   "outputs": [
    {
     "name": "stdout",
     "output_type": "stream",
     "text": [
      "9\n"
     ]
    }
   ],
   "source": [
    "print(heapq._heappop_max(li))"
   ]
  },
  {
   "cell_type": "code",
   "execution_count": 5,
   "id": "b4a7c8e3",
   "metadata": {},
   "outputs": [
    {
     "name": "stdout",
     "output_type": "stream",
     "text": [
      "[8, 7, 4, 3, 5, 1, 2]\n"
     ]
    }
   ],
   "source": [
    "print(li)"
   ]
  },
  {
   "cell_type": "markdown",
   "id": "35042779",
   "metadata": {},
   "source": [
    "## Replace element in Max-Heap\n",
    "\n",
    "**remove the maximum element i.e. first element of the heap array and replaces the given value in the heap and heapifies again**"
   ]
  },
  {
   "cell_type": "code",
   "execution_count": 6,
   "id": "0f28a1c6",
   "metadata": {},
   "outputs": [
    {
     "name": "stdout",
     "output_type": "stream",
     "text": [
      "[7, 5, 4, 3, 0, 1, 2]\n"
     ]
    }
   ],
   "source": [
    "heapq._heapreplace_max(li, 0)\n",
    "\n",
    "print(li)"
   ]
  },
  {
   "cell_type": "markdown",
   "id": "657d9a28",
   "metadata": {},
   "source": [
    "## Push elements in Max-Heap\n",
    "\n",
    "**Algorithm**:  \n",
    "\n",
    "                Step-1 : Append the element at last of the array \n",
    "                Step-2 : Shift down your current element to the best position it can go i.e. till 0th position\n",
    "                \n",
    "          "
   ]
  },
  {
   "cell_type": "code",
   "execution_count": 7,
   "id": "fafec348",
   "metadata": {},
   "outputs": [
    {
     "name": "stdout",
     "output_type": "stream",
     "text": [
      "[7, 6, 4, 5, 0, 1, 2, 3]\n"
     ]
    }
   ],
   "source": [
    "# say you want to push the element 6 to the heap\n",
    "\n",
    "li.append(6)\n",
    "\n",
    "# arg-1 : heap, arg-2 : till where you want your element can go, arg-3 : current position\n",
    "heapq._siftdown_max(li, 0, len(li)-1)\n",
    "\n",
    "print(li)"
   ]
  },
  {
   "cell_type": "code",
   "execution_count": null,
   "id": "4146bbf9",
   "metadata": {},
   "outputs": [],
   "source": []
  },
  {
   "cell_type": "markdown",
   "id": "1a18ec7f",
   "metadata": {},
   "source": [
    "## Another method to implement Max-Heap\n",
    "\n",
    "**Multiply each element of array by -1 and implement a Min-Heap and whenever you extract or pop an element multiply by -1 again to get the correct element**  \n",
    "\n",
    "https://www.geeksforgeeks.org/max-heap-in-python/#:~:text=A%20Max%2DHeap%20is%20a,child%20at%20index%202k%20%2B%202."
   ]
  },
  {
   "cell_type": "code",
   "execution_count": null,
   "id": "ae9dc20b-6dc8-4693-9482-9c545d21352d",
   "metadata": {},
   "outputs": [],
   "source": []
  }
 ],
 "metadata": {
  "kernelspec": {
   "display_name": "Python 3 (ipykernel)",
   "language": "python",
   "name": "python3"
  },
  "language_info": {
   "codemirror_mode": {
    "name": "ipython",
    "version": 3
   },
   "file_extension": ".py",
   "mimetype": "text/x-python",
   "name": "python",
   "nbconvert_exporter": "python",
   "pygments_lexer": "ipython3",
   "version": "3.9.13"
  }
 },
 "nbformat": 4,
 "nbformat_minor": 5
}
