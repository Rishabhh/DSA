{
 "cells": [
  {
   "cell_type": "markdown",
   "id": "b98a6688",
   "metadata": {},
   "source": [
    "## k-smallest elements in an array\n",
    "\n",
    "You are given with an integer k and an array of integers that contain numbers in random order. Write a program to find k smallest numbers from given array. You need to save them in an array and return it.\n",
    "Time complexity should be O(n * logk) and space complexity should not be more than O(k).\n",
    "Note: Order of elements in the output is not important."
   ]
  },
  {
   "cell_type": "markdown",
   "id": "86116036",
   "metadata": {},
   "source": [
    "Soln-1 : Sort the array and give first 4 elements -> O(nlong) solution. We can do better"
   ]
  },
  {
   "cell_type": "markdown",
   "id": "71d3ad8a",
   "metadata": {},
   "source": [
    "Soln-2 : Use Max-Heap"
   ]
  },
  {
   "cell_type": "markdown",
   "id": "2548c5b7",
   "metadata": {},
   "source": [
    "**Max-Heap approach**  \n",
    "\n",
    "**Step-1** -> Maintain a Max-Heap of \"k\" elements (start with first \"k\" elements of the array). <br>\n",
    "\n",
    "**Step-2** -> Now iterate over the rest of the array and check if the current element is SMALLER THAN Maximum element of the heap ( which is heap[0] i.e. the first element of the heap array).<br>\n",
    "\n",
    "**Step-3** -> If the element is smaller than the current max of the heap, then REPLACE that element with the Max of the heap.<br>\n",
    "\n",
    "**WHY MAX-HEAP used** - If any new element iterated has to be part of \"k\" smallest elements, then that new element must be smaller than maximum of the current k-smallest element. To keep track of maximum of k-smallest elements we use max-heap.\n",
    "\n",
    "### Complexity of the above algorithm : O(n\\*logk)\n",
    "\n",
    "**Step-1** -> **O(k\\*logk) time** to create the Max-Heap of size \"k\" elements . Also **O(k) space** used. <br>\n",
    "**Step-2** -> O(n-k) iteration done <br>\n",
    "**Step-3** -> REPLACE = INSERTION + DELETION : We may need to replace each (n-k) following element of the array in the heap for a worst case where the array is reverse-sorted and hence need to do worst case **O((n-k)\\*logk)** work. <br>\n",
    "\n",
    "Time complexity  = O(k\\*logk) + O((n-k)\\*logk) = **O(nlogk)**\n",
    "\n",
    "\n",
    "<span style=\"color:red\"><b>NOTE -></b></span> **This algorithm is very efficient for a case where k<<\\<n**"
   ]
  },
  {
   "cell_type": "code",
   "execution_count": 3,
   "id": "e33f4217",
   "metadata": {},
   "outputs": [],
   "source": [
    "import heapq\n",
    "def kSmallest(lst, k):\n",
    "    \n",
    "    heap = lst[0:k]\n",
    "    \n",
    "    # Max-heap\n",
    "    heapq._heapify_max(heap)\n",
    "    \n",
    "    for i in range(k, len(lst)):\n",
    "        \n",
    "        if heap[0] > lst[i]:\n",
    "            heapq._heapreplace_max(heap, lst[i])\n",
    "            \n",
    "            \n",
    "    return heap"
   ]
  },
  {
   "cell_type": "markdown",
   "id": "8427defd",
   "metadata": {},
   "source": [
    "## k-largest elements : \n",
    "\n",
    "**Similar to above case -> just maintain a MIN-HEAP here instead of max-heap**"
   ]
  },
  {
   "cell_type": "code",
   "execution_count": 5,
   "id": "9b12b3e6",
   "metadata": {},
   "outputs": [],
   "source": [
    "def kLargest(lst, k):\n",
    "    \n",
    "    heap = lst[0:k]\n",
    "    \n",
    "    # Min-heap\n",
    "    heapq.heapify(heap)\n",
    "    \n",
    "    for i in range(k, len(lst)):\n",
    "        \n",
    "        if heap[0] < lst[i]:\n",
    "            heapq.heapreplace(heap, lst[i])\n",
    "            \n",
    "            \n",
    "    return heap"
   ]
  },
  {
   "cell_type": "code",
   "execution_count": 6,
   "id": "1e7e69a5",
   "metadata": {},
   "outputs": [
    {
     "data": {
      "text/plain": [
       "True"
      ]
     },
     "execution_count": 6,
     "metadata": {},
     "output_type": "execute_result"
    }
   ],
   "source": [
    "d = {'a':1, 'b':2}\n",
    "\n",
    "'a' in d"
   ]
  },
  {
   "cell_type": "markdown",
   "id": "e0b67162",
   "metadata": {},
   "source": [
    "# Check if Max-Heap\n",
    "\n",
    "Given an array of integers, check whether it represents max-heap or not. Return true if the given array represents max-heap, else return false."
   ]
  },
  {
   "cell_type": "code",
   "execution_count": 1,
   "id": "a15b1825",
   "metadata": {},
   "outputs": [],
   "source": [
    "def checkMaxHeap(lst):\n",
    "    #############################\n",
    "    # PLEASE ADD YOUR CODE HERE #\n",
    "    #############################\n",
    "    \n",
    "    # to check for heap correction we just need to travel to NON-LEAF nodes to check if they \n",
    "    # themselver are corect Max-Heap or not. Leaf nodes have no heap of their own as they have no child\n",
    "    # and hence can't impact the answer.\n",
    "    \n",
    "    # ideally we should check for whether the heap is a CBT, but heap is an array and there is not\n",
    "    # child concept there, therefore NO way to check if we skipped a parent and attached child to\n",
    "    # the next parent to invalidate the heap as not being a CBT. So we can be sure it is a CBT\n",
    "    \n",
    "    # Therefore we check for only other property of heap which is HEAP-ORDER PROPERTY.\n",
    "    \n",
    "    # CBT -> COMPLETE BINARY TREE\n",
    "    n = len(lst)\n",
    "    non_leaf_nodes = n//2\n",
    "    \n",
    "    for i in range(0, non_leaf_nodes):\n",
    "        \n",
    "        parentIndex = i\n",
    "        \n",
    "        leftChildIndex = 2*parentIndex + 1\n",
    "        rightChildIndex = 2*parentIndex + 2\n",
    "        \n",
    "        isMaxHeap = True\n",
    "        \n",
    "        if (lst[parentIndex] < lst[leftChildIndex]):\n",
    "            isMaxHeap = False\n",
    "            break\n",
    "            \n",
    "        if (rightChildIndex < n) and (lst[parentIndex] < lst[rightChildIndex]):\n",
    "            isMaxHeap = False\n",
    "            break\n",
    "            \n",
    "    \n",
    "    return isMaxHeap"
   ]
  },
  {
   "cell_type": "code",
   "execution_count": 2,
   "id": "389cc865",
   "metadata": {},
   "outputs": [
    {
     "name": "stdout",
     "output_type": "stream",
     "text": [
      "8\n",
      "42 20 18 6 14 11 9 4\n",
      "true\n"
     ]
    }
   ],
   "source": [
    "n=int(input())\n",
    "lst=list(int(i) for i in input().strip().split(' '))\n",
    "print('true') if checkMaxHeap(lst) else print('false')"
   ]
  },
  {
   "cell_type": "markdown",
   "id": "932e03da",
   "metadata": {},
   "source": [
    "# K-th Largest Element"
   ]
  },
  {
   "cell_type": "code",
   "execution_count": 3,
   "id": "047a66dd",
   "metadata": {},
   "outputs": [],
   "source": [
    "import heapq\n",
    "\n",
    "def kthLargest(lst, k):\n",
    "\n",
    "    minHeap = []\n",
    "    heapq.heapify(minHeap)\n",
    "    n = len(lst)\n",
    "\n",
    "    for i in range(0,k):\n",
    "        heapq.heappush(minHeap,lst[i])# Add first k elements to min heap\n",
    "\n",
    "    for i in range(k,n):\n",
    "        if lst[i]>minHeap[0]:\n",
    "            heapq.heappop(minHeap)\n",
    "            heapq.heappush(minHeap, lst[i])\n",
    "\n",
    "    return minHeap[0]"
   ]
  },
  {
   "cell_type": "markdown",
   "id": "7719d0b8-8d1b-49ee-a5c4-c75072e89c26",
   "metadata": {},
   "source": [
    "### simpler code"
   ]
  },
  {
   "cell_type": "code",
   "execution_count": 1,
   "id": "aabd7857-ba2c-447e-815c-a6da10fccbd4",
   "metadata": {},
   "outputs": [],
   "source": [
    "import heapq\n",
    "def kthLargest(lst, k):\n",
    "    ######################\n",
    "    #PLEASE ADD CODE HERE#\n",
    "    ######################\n",
    "    \n",
    "    heap = lst[:k]\n",
    "    \n",
    "    heapq.heapify(heap)\n",
    "    \n",
    "    for i in range(k, len(lst)):\n",
    "        \n",
    "        if heap[0] < lst[i]:\n",
    "            \n",
    "            heapq.heapreplace(heap, lst[i])\n",
    "            \n",
    "    \n",
    "    # the first element of this heap would be kth largest\n",
    "    # WRONG IDEA -> the last element of this heap would be largest element -> NOT NECESSARY\n",
    "    \n",
    "    return heap[0]"
   ]
  },
  {
   "cell_type": "code",
   "execution_count": 5,
   "id": "47691935",
   "metadata": {},
   "outputs": [
    {
     "name": "stdout",
     "output_type": "stream",
     "text": [
      "6\n",
      "9 4 8 7 11 3\n",
      "2\n",
      "ans 9\n"
     ]
    }
   ],
   "source": [
    "n=int(input())\n",
    "lst=list(int(i) for i in input().strip().split(' '))\n",
    "k=int(input())\n",
    "ans=kthLargest(lst, k)\n",
    "print(\"ans\", ans)"
   ]
  },
  {
   "cell_type": "markdown",
   "id": "12e98bc7",
   "metadata": {},
   "source": [
    "# Buy Ticket"
   ]
  },
  {
   "cell_type": "code",
   "execution_count": 26,
   "id": "21b46a59",
   "metadata": {},
   "outputs": [],
   "source": [
    "import heapq as heap\n",
    "\n",
    "class LinkedListNode :\n",
    "    def __init__(self, data) :\n",
    "        self.data = data\n",
    "        self.next = None\n",
    "        \n",
    "class Queue :\n",
    "    def __init__(self) :\n",
    "        self.head = None \n",
    "        self.tail = None\n",
    "        self.size = 0\n",
    "        \n",
    "    def enqueue(self, data) :\n",
    "        newNode = LinkedListNode(data)\n",
    "        if self.head is None :\n",
    "            self.head = self.tail = newNode\n",
    "        else :\n",
    "            self.tail.next = newNode\n",
    "            self.tail = newNode\n",
    "        self.size += 1\n",
    "        return\n",
    "        \n",
    "    def dequeue(self) :\n",
    "        if self.head is None :\n",
    "            return None\n",
    "        data = self.head.data\n",
    "        self.head = self.head.next\n",
    "        self.size -= 1\n",
    "        return data\n",
    "    \n",
    "    def getSize(self) :\n",
    "        return self.size\n",
    "    \n",
    "    def isEmpty(self) :\n",
    "        if self.head is None :\n",
    "            return True\n",
    "        return False\n",
    "    \n",
    "    def peek(self) :\n",
    "        if self.head is None :\n",
    "            return None\n",
    "        return self.head.data\n",
    "    \n",
    "def buyTicket(arr, n, k) :\n",
    "    q = Queue()\n",
    "    \n",
    "    #Max priority queue\n",
    "    maxHeap = []\n",
    "    heap.heapify(maxHeap)\n",
    "    \n",
    "    for element in arr :\n",
    "\n",
    "        q.enqueue(element)\n",
    "        heap.heappush(maxHeap,-1*element) # Add first k elements to max heap by negating elements\n",
    "\n",
    "    count = 0\n",
    "    while len(maxHeap) != 0 :\n",
    "\n",
    "        if q.peek() == -1*maxHeap[0] :\n",
    "            if k == 0 :\n",
    "                return count + 1\n",
    "            else :\n",
    "                count += 1\n",
    "                q.dequeue()\n",
    "                heap.heappop(maxHeap)\n",
    "                k -= 1\n",
    "        else :\n",
    "            q.enqueue(q.peek())\n",
    "            q.dequeue()\n",
    "            if k == 0 :\n",
    "                k = q.getSize() - 1\n",
    "            else :\n",
    "                k -= 1\n",
    "\n",
    "    return count"
   ]
  },
  {
   "cell_type": "code",
   "execution_count": 27,
   "id": "bf4d386d",
   "metadata": {},
   "outputs": [
    {
     "name": "stdout",
     "output_type": "stream",
     "text": [
      "5\n",
      "2 3 2 2 4\n",
      "3\n",
      "ans 4\n"
     ]
    }
   ],
   "source": [
    "import sys\n",
    "def takeInput() :\n",
    "    n = int(input().strip())\n",
    "    if n == 0 :\n",
    "        return n, list(), int(input().strip())\n",
    "    arr = list(map(int, input().strip().split(\" \")))\n",
    "    k = int(input().strip())\n",
    "    return n, arr, k\n",
    "\n",
    "#main\n",
    "sys.setrecursionlimit(10**6)\n",
    "n, arr, k = takeInput()\n",
    "print(\"ans\",buyTicket(arr, n, k))"
   ]
  },
  {
   "cell_type": "code",
   "execution_count": 23,
   "id": "caca5560",
   "metadata": {},
   "outputs": [],
   "source": [
    "def buyTicket_2(arr, n, k) : \n",
    "    ######################\n",
    "    #PLEASE ADD CODE HERE#\n",
    "    ######################\n",
    "    q = Queue()\n",
    "    \n",
    "    # insert index instead of priorities to differentiate between duplicate priorities\n",
    "    for i in range(len(arr)):\n",
    "        q.enqueue(i)\n",
    "        \n",
    "    heap_arr = list()\n",
    "    for i in range(len(arr)):\n",
    "        heap_arr.append(arr[i]) \n",
    "    heap._heapify_max(heap_arr)\n",
    "    \n",
    "    seconds = 0\n",
    "    \n",
    "    while not q.isEmpty():\n",
    "        \n",
    "        current_index = q.dequeue()\n",
    "        current_index_data = arr[current_index]\n",
    "        \n",
    "        if current_index_data < heap_arr[0]:\n",
    "            q.enqueue(current_index)\n",
    "            continue\n",
    "        else:\n",
    "            seconds = seconds + 1\n",
    "            \n",
    "            if current_index == k:\n",
    "                break\n",
    "            \n",
    "            heap._heappop_max(heap_arr)\n",
    "            \n",
    "    \n",
    "    return seconds"
   ]
  },
  {
   "cell_type": "code",
   "execution_count": null,
   "id": "eb1f73f8",
   "metadata": {},
   "outputs": [],
   "source": []
  }
 ],
 "metadata": {
  "kernelspec": {
   "display_name": "Python 3 (ipykernel)",
   "language": "python",
   "name": "python3"
  },
  "language_info": {
   "codemirror_mode": {
    "name": "ipython",
    "version": 3
   },
   "file_extension": ".py",
   "mimetype": "text/x-python",
   "name": "python",
   "nbconvert_exporter": "python",
   "pygments_lexer": "ipython3",
   "version": "3.9.13"
  }
 },
 "nbformat": 4,
 "nbformat_minor": 5
}
