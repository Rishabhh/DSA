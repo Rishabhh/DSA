{
 "cells": [
  {
   "cell_type": "markdown",
   "id": "99f65722",
   "metadata": {},
   "source": [
    "## In-build Min Heap to create priority queue\n",
    "\n",
    "**Note - To see effect of each function just create a tree based heap to visualize**"
   ]
  },
  {
   "cell_type": "code",
   "execution_count": 11,
   "id": "9e8c07ca",
   "metadata": {},
   "outputs": [],
   "source": [
    "import heapq\n",
    "\n",
    "li = [1,5,4,8,7,9,11]"
   ]
  },
  {
   "cell_type": "markdown",
   "id": "dac1c0ca",
   "metadata": {},
   "source": [
    "## Heapify \n",
    "\n",
    "**heapq.heapify(array) -> creates a Min-Heap by default**"
   ]
  },
  {
   "cell_type": "code",
   "execution_count": 12,
   "id": "8dc67add",
   "metadata": {},
   "outputs": [
    {
     "name": "stdout",
     "output_type": "stream",
     "text": [
      "[1, 5, 4, 8, 7, 9, 11]\n"
     ]
    }
   ],
   "source": [
    "heapq.heapify(li) \n",
    "\n",
    "print(li)"
   ]
  },
  {
   "cell_type": "markdown",
   "id": "0d153915",
   "metadata": {},
   "source": [
    "## Push element in heap"
   ]
  },
  {
   "cell_type": "code",
   "execution_count": 13,
   "id": "213bf7d2",
   "metadata": {},
   "outputs": [
    {
     "name": "stdout",
     "output_type": "stream",
     "text": [
      "[1, 2, 4, 5, 7, 9, 11, 8]\n"
     ]
    }
   ],
   "source": [
    "heapq.heappush(li, 2)\n",
    "print(li)"
   ]
  },
  {
   "cell_type": "markdown",
   "id": "ea7c355f",
   "metadata": {},
   "source": [
    "## Pop element from heap \n",
    "\n",
    "**works like RemoveMin() to remove minimum from heap**"
   ]
  },
  {
   "cell_type": "code",
   "execution_count": 14,
   "id": "c19159a9",
   "metadata": {},
   "outputs": [
    {
     "name": "stdout",
     "output_type": "stream",
     "text": [
      "1\n"
     ]
    }
   ],
   "source": [
    "print(heapq.heappop(li))"
   ]
  },
  {
   "cell_type": "code",
   "execution_count": 15,
   "id": "14c86145",
   "metadata": {},
   "outputs": [
    {
     "name": "stdout",
     "output_type": "stream",
     "text": [
      "[2, 5, 4, 8, 7, 9, 11]\n"
     ]
    }
   ],
   "source": [
    "print(li)"
   ]
  },
  {
   "cell_type": "markdown",
   "id": "af48e551",
   "metadata": {},
   "source": [
    "## Replace Minimum element\n",
    "\n",
    "**It removes the minimum from the heap and put the given element in heap and to maintain Min-Heap it again heapify**"
   ]
  },
  {
   "cell_type": "code",
   "execution_count": 16,
   "id": "df877529",
   "metadata": {
    "scrolled": true
   },
   "outputs": [
    {
     "name": "stdout",
     "output_type": "stream",
     "text": [
      "2\n"
     ]
    }
   ],
   "source": [
    "print(heapq.heapreplace(li, 6))"
   ]
  },
  {
   "cell_type": "code",
   "execution_count": 17,
   "id": "9cb6b906",
   "metadata": {},
   "outputs": [
    {
     "name": "stdout",
     "output_type": "stream",
     "text": [
      "[4, 5, 6, 8, 7, 9, 11]\n"
     ]
    }
   ],
   "source": [
    "print(li)"
   ]
  },
  {
   "cell_type": "code",
   "execution_count": null,
   "id": "bbd46eeb",
   "metadata": {},
   "outputs": [],
   "source": []
  }
 ],
 "metadata": {
  "kernelspec": {
   "display_name": "Python 3 (ipykernel)",
   "language": "python",
   "name": "python3"
  },
  "language_info": {
   "codemirror_mode": {
    "name": "ipython",
    "version": 3
   },
   "file_extension": ".py",
   "mimetype": "text/x-python",
   "name": "python",
   "nbconvert_exporter": "python",
   "pygments_lexer": "ipython3",
   "version": "3.9.13"
  }
 },
 "nbformat": 4,
 "nbformat_minor": 5
}
