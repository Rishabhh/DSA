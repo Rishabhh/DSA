{
 "cells": [
  {
   "cell_type": "markdown",
   "id": "cfab180d",
   "metadata": {},
   "source": [
    "# Heap Sort :\n",
    "\n",
    "3 ways to do heapsort :  \n",
    "\n",
    "        Method-1 : Time Complexity : O(nlong) ; Space Complexity : O(n)\n",
    "        Method-2 : Time Complexity : O(nlong) ; Space Complexity : O(1) ; Build Tree in O(nlogn)\n",
    "        Method-3 : Time Complexity : O(nlong) ; Space Complexity : O(1) ; Build Tree in O(n)\n",
    "        \n",
    "Method-1 : Disadvantages : Space compelexity O(n) <br>\n",
    "   \n",
    "    Step-1 : Create a min-heap from the unsorted array. (Each insertion take logn time, hence for n items nlogn time)\n",
    "    Step-2 : Then remove elements one at a time from the heap and store them in the given sorted array. (Each removal also takes logn time , so for n elements it will take nlogn time\n",
    "    \n",
    "    Disadvantages of this approach :  extra \"n\" space to create a heap\n",
    "    \n",
    "Method-2 : Advantages : Space complexity O(1)\n",
    "\n",
    "    Step-1 : Build a MIN HEAP - Create IN-PLACE heap within the unsorted array. Go to each element of array and                    UP-heapify to create   MIN-HEAP with them\n",
    "    Step-1* : With this, MIN-HEAP is achieved within the array : Time Complexity : nlogn\n",
    "    Step-2 : Interchange the min-element from the 0th index to last of the array and heapify-down leaving the last element.\n",
    "    Step-2* : This places the minimum element in the last of the array\n",
    "    Step-3 : Repeat step-2 once down-heapify of 2nd-step is done. Time Complexity : nlogn\n",
    "    Step-3* : This will provide us with a reverse sorted array. Reverse the array or use MAX-HEAP from beginning instead of MIN-HEAP\n",
    "    \n",
    "    \n",
    "Method-3 : Advantages : Build HEAP step completed in O(n) instead of O(nlogn) in Method-2 <br>\n",
    "\n",
    "    Step-1 : Build MIN HEAP just for NON-LEAF NODES .\n",
    "            Note :- Non-Leaf Nodes = n//2 ; Leaf Nodes = ( n - n//2 ) in a CBT.\n",
    "    Step-2 : Start from (n//2 -1) index as it is the last Non-Leaf Node and Down-heapify (for MIN-HEAP) each               Non-leaf node. Doing this gives us a MIN-HEAP i.e. you need not heapify complete array to get Min-Heap\n",
    "    \n",
    "    Step-2* : Creating MIN-Heap like this happens in O(n) time ; check notes for proof.\n",
    "    \n",
    "    Step-3 : Once MIN-HEAP is created, follow the same process from Step-2 of Method-2 - REITERATING BELOW :\n",
    "            \n",
    "            Step-i : Interchange the min-element from the 0th index to last of the array and heapify-down leaving    the last element.\n",
    "            Step-ii : This places the minimum element in the last of the array\n",
    "            Step-iii : Repeat step-2 once down-heapify of 2nd-step is done. Time Complexity : nlogn\n",
    "            Step-iv : This will provide us with a reverse sorted array. Reverse the array or use MAX-HEAP from                               beginning instead of MIN-HEAP"
   ]
  },
  {
   "cell_type": "markdown",
   "id": "b6649a66",
   "metadata": {},
   "source": [
    "# Method-3 code below"
   ]
  },
  {
   "cell_type": "markdown",
   "id": "a4baba42",
   "metadata": {},
   "source": [
    "## Un-commented Heap-sort. Commented-Explained Heap-sort Below this code"
   ]
  },
  {
   "cell_type": "code",
   "execution_count": 17,
   "id": "12b39091",
   "metadata": {},
   "outputs": [],
   "source": [
    "def down_heapify(arr, i, n):\n",
    "    \n",
    "    parentIndex = i\n",
    "    leftChildIndex = 2*parentIndex + 1\n",
    "    rightChildIndex = 2*parentIndex + 2\n",
    "    \n",
    "    while leftChildIndex < n:\n",
    "        \n",
    "        minIndex = parentIndex\n",
    "        \n",
    "        if arr[minIndex] > arr[leftChildIndex]:\n",
    "            minIndex = leftChildIndex\n",
    "            \n",
    "        if (rightChildIndex < n) and arr[minIndex] > arr[rightChildIndex]:\n",
    "            minIndex = rightChildIndex\n",
    "            \n",
    "        if parentIndex == minIndex:\n",
    "            break\n",
    "            \n",
    "        arr[parentIndex], arr[minIndex] = arr[minIndex], arr[parentIndex]\n",
    "        \n",
    "        parentIndex = minIndex\n",
    "        leftChildIndex = 2*parentIndex + 1\n",
    "        rightChildIndex = 2*parentIndex + 2\n",
    "        \n",
    "    return\n",
    "\n",
    "\n",
    "def heapSort(arr):\n",
    "    \n",
    "    n = len(arr)\n",
    "    \n",
    "    for i in range(n//2-1, -1, -1):\n",
    "        down_heapify(arr, i, n)\n",
    "        \n",
    "    for i in range(n-1, 0, -1):\n",
    "        arr[i], arr[0] = arr[0], arr[i]\n",
    "        down_heapify(arr, 0, i)\n",
    "    \n",
    "    arr = arr[::-1]\n",
    "    \n",
    "    return arr"
   ]
  },
  {
   "cell_type": "code",
   "execution_count": 18,
   "id": "e9aaccc9",
   "metadata": {
    "scrolled": true
   },
   "outputs": [
    {
     "name": "stdout",
     "output_type": "stream",
     "text": [
      "4 3 2 5 1\n",
      "[1, 2, 3, 4, 5]\n"
     ]
    }
   ],
   "source": [
    "arr = [int(ele) for ele in input().split()]\n",
    "arr = heapSort(arr)\n",
    "print(arr)"
   ]
  },
  {
   "cell_type": "markdown",
   "id": "127862a7",
   "metadata": {},
   "source": [
    "# Method-3 code with comments below"
   ]
  },
  {
   "cell_type": "code",
   "execution_count": 1,
   "id": "66377db4",
   "metadata": {},
   "outputs": [],
   "source": [
    "def down__heapify(arr, i, n):\n",
    "    \n",
    "    # this operates like percolate_Down discussed in previous section\n",
    "    \n",
    "    parentIndex = i\n",
    "    leftChildIndex = 2*parentIndex + 1\n",
    "    rightChildIndex = 2*parentIndex + 2\n",
    "    \n",
    "    while leftChildIndex < n:\n",
    "        \n",
    "        minIndex = parentIndex\n",
    "        \n",
    "        if arr[minIndex] > arr[leftChildIndex]:\n",
    "            minIndex = leftChildIndex\n",
    "            \n",
    "        if (rightChildIndex < n) and arr[minIndex] > arr[rightChildIndex]:\n",
    "            minIndex = rightChildIndex\n",
    "            \n",
    "        if parentIndex == minIndex:     # true only if our node has reached its correct position : heapify done\n",
    "            break\n",
    "            \n",
    "        arr[parentIndex], arr[minIndex] = arr[minIndex], arr[parentIndex]\n",
    "        \n",
    "        parentIndex = minIndex     # our node has not reached the correct position yet\n",
    "        leftChildIndex = 2*parentIndex + 1\n",
    "        rightChildIndex = 2*parentIndex + 2\n",
    "        \n",
    "    return\n",
    "        \n",
    "\n",
    "    #Algorith :\n",
    "    # Build heap from unsorted array by just heapifying for \n",
    "def heap_Sort(arr):\n",
    "    \n",
    "    n = len(arr)\n",
    "    # build the heap ( O(n) implementation does this by building correct heap for all Non-Leaf Nodes)\n",
    "    # only heapifying just the non-leaf nodes will give a perfect heap following both CBT and Heap Order property\n",
    "    \n",
    "    # Algorithm : \n",
    "    \n",
    "    #     Step-1 -> Operate from last NON-LEAF Nodes. Number of leaf nodes = n//2 and Non leaf nodes = n - n//2 and\n",
    "    #               therefore we start from n//2 - 1 as this would be the last non-leaf node\n",
    "    \n",
    "    #     Step-2 -> Call down_heapify function on each NON-LEAF NODES\n",
    "    \n",
    "    for i in range(n//2-1, -1, -1):  \n",
    "        # we need to start from n//2-1 and go till 0, hence type -1 and use a step = -1\n",
    "        \n",
    "        # we start from i-th index and can go till length of array max to heapify at i\n",
    "        down_heapify(arr, i, n)\n",
    "        \n",
    "        \n",
    "    # Remove n elements from the heap using RemoveMin and put them at correct position\n",
    "    \n",
    "    # Algorithm :\n",
    "    \n",
    "    #     Step-1 -> Our minimum elemenet is at Oth index, therefore interchange it with last element.\n",
    "    \n",
    "    #     Step-2 -> We start our iteration (i) from last index i.e. n-1 and interchange with 0-th element\n",
    "    \n",
    "    #     Step-3 -> Heapify again but only till (i) i.e. length 1 less each time as that element at i-th is\n",
    "    #               put in a sorted position already.\n",
    "    \n",
    "    #     Step-4 -> Now, we can repeat the steps to remove minimum each time, put it i-th position in sorted order,\n",
    "    #               and then heapify again for 1 less length.\n",
    "    \n",
    "    for i in range(n-1, 0, -1):\n",
    "        # going till 0 i.e. not including last element because if others are sorted then 0-th index element is at\n",
    "        # sorted correct position\n",
    "        \n",
    "        # interchange first and i-th element to get sorted order started\n",
    "        arr[i], arr[0] = arr[0], arr[i]\n",
    "        \n",
    "        # down_heapify till before i-th element as i-th element is already in sorted order\n",
    "        down_heapify(arr, 0, i)  # we start from 0-th element for correct heapify but go till before i-th element.\n",
    "        \n",
    "        \n",
    "    arr = arr[::-1] # since we used Min-Heap and interchanged with last element for sorted order we get array sorted \n",
    "                    # in decreasing order. Hence either use Max-Heap or reverse the array.\n",
    "        \n",
    "    return arr"
   ]
  },
  {
   "cell_type": "markdown",
   "id": "604457bb",
   "metadata": {},
   "source": [
    "#### Testing heap-sort code"
   ]
  },
  {
   "cell_type": "code",
   "execution_count": null,
   "id": "c8c28003",
   "metadata": {},
   "outputs": [],
   "source": []
  }
 ],
 "metadata": {
  "kernelspec": {
   "display_name": "Python 3 (ipykernel)",
   "language": "python",
   "name": "python3"
  },
  "language_info": {
   "codemirror_mode": {
    "name": "ipython",
    "version": 3
   },
   "file_extension": ".py",
   "mimetype": "text/x-python",
   "name": "python",
   "nbconvert_exporter": "python",
   "pygments_lexer": "ipython3",
   "version": "3.8.11"
  }
 },
 "nbformat": 4,
 "nbformat_minor": 5
}
