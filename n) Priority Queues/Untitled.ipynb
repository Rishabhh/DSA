{
 "cells": [
  {
   "cell_type": "code",
   "execution_count": 1,
   "id": "754fc573-e383-4631-ade4-21fd245b93ea",
   "metadata": {},
   "outputs": [],
   "source": [
    "class MinHeap:\n",
    "    def __init__(self, array):\n",
    "        # Do not edit the line below.\n",
    "        self.heap = self.buildHeap(array)\n",
    "\n",
    "    def buildHeap(self, array):\n",
    "        heap_array = list()\n",
    "        heap_array.append(array[0])\n",
    "\n",
    "        for i in range(len(array)):\n",
    "            heap_array.append(array[i])\n",
    "            self.siftUp(heap_array)\n",
    "\n",
    "        print(heap_array)\n",
    "        return heap_array\n",
    "\n",
    "    def siftDown(self):\n",
    "        # Write your code here.\n",
    "        pass\n",
    "\n",
    "    def siftUp(self, heap=None):\n",
    "        \n",
    "        if heap is None:\n",
    "            heap = self.heap\n",
    "        \n",
    "        childIndex = len(heap) - 1\n",
    "\n",
    "        while childIndex > 0:\n",
    "            parentIndex = (childIndex - 1)//2\n",
    "\n",
    "            if heap[childIndex] < heap[parentIndex]:\n",
    "                heap[childIndex], heap[parentIndex] = heap[parentIndex], heap[childIndex]\n",
    "                childIndex = parentIndex\n",
    "            else:\n",
    "                break"
   ]
  },
  {
   "cell_type": "code",
   "execution_count": 2,
   "id": "cdacd63e-d903-40f9-a834-9dda6d1602a8",
   "metadata": {},
   "outputs": [
    {
     "name": "stdout",
     "output_type": "stream",
     "text": [
      "[-5, 12, 2, 24, 24, 6, 8, 48, 391, 24, 56, 48, 7, 8, 41]\n"
     ]
    },
    {
     "data": {
      "text/plain": [
       "<__main__.MinHeap at 0x105e7c880>"
      ]
     },
     "execution_count": 2,
     "metadata": {},
     "output_type": "execute_result"
    }
   ],
   "source": [
    "array = [48, 12, 24, 7, 8, -5, 24, 391, 24, 56, 2, 6, 8, 41]\n",
    "MinHeap(array)"
   ]
  },
  {
   "cell_type": "code",
   "execution_count": 12,
   "id": "a7fa96e9-2ddb-40bb-a984-980a20e57040",
   "metadata": {},
   "outputs": [],
   "source": [
    "import queue\n",
    "q = queue.Queue()\n",
    "\n",
    "q.put(1)\n",
    "q.put(2)"
   ]
  },
  {
   "cell_type": "code",
   "execution_count": 14,
   "id": "6469e440-7117-40a9-a453-88c1898375ff",
   "metadata": {},
   "outputs": [
    {
     "data": {
      "text/plain": [
       "1"
      ]
     },
     "execution_count": 14,
     "metadata": {},
     "output_type": "execute_result"
    }
   ],
   "source": [
    "q.queue[0]"
   ]
  },
  {
   "cell_type": "code",
   "execution_count": 15,
   "id": "93b637e5-3985-4592-af7e-2e453ba5627f",
   "metadata": {},
   "outputs": [
    {
     "data": {
      "text/plain": [
       "2"
      ]
     },
     "execution_count": 15,
     "metadata": {},
     "output_type": "execute_result"
    }
   ],
   "source": [
    "q.qsize()"
   ]
  },
  {
   "cell_type": "code",
   "execution_count": 16,
   "id": "e2f112b8-b40a-4fde-8478-0edac212f2c3",
   "metadata": {},
   "outputs": [
    {
     "data": {
      "text/plain": [
       "type"
      ]
     },
     "execution_count": 16,
     "metadata": {},
     "output_type": "execute_result"
    }
   ],
   "source": [
    "type(map)"
   ]
  },
  {
   "cell_type": "code",
   "execution_count": null,
   "id": "1c7ef550-1fd4-42af-942e-ce0441cb1c3a",
   "metadata": {},
   "outputs": [],
   "source": []
  }
 ],
 "metadata": {
  "kernelspec": {
   "display_name": "Python 3 (ipykernel)",
   "language": "python",
   "name": "python3"
  },
  "language_info": {
   "codemirror_mode": {
    "name": "ipython",
    "version": 3
   },
   "file_extension": ".py",
   "mimetype": "text/x-python",
   "name": "python",
   "nbconvert_exporter": "python",
   "pygments_lexer": "ipython3",
   "version": "3.9.13"
  }
 },
 "nbformat": 4,
 "nbformat_minor": 5
}
