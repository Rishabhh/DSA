{
 "cells": [
  {
   "cell_type": "markdown",
   "id": "5900f1ab-d3af-4729-9848-5cd16b664fa8",
   "metadata": {},
   "source": [
    "## LRU : https://leetcode.com/problems/lru-cache/solution/\n",
    "## LFU : https://leetcode.com/problems/lfu-cache/\n",
    "## https://leetcode.com/problems/first-unique-number/solution/\n"
   ]
  },
  {
   "cell_type": "code",
   "execution_count": null,
   "id": "d721933b-f371-4e1d-9a8f-b82c990fa350",
   "metadata": {},
   "outputs": [],
   "source": []
  }
 ],
 "metadata": {
  "kernelspec": {
   "display_name": "Python 3 (ipykernel)",
   "language": "python",
   "name": "python3"
  },
  "language_info": {
   "codemirror_mode": {
    "name": "ipython",
    "version": 3
   },
   "file_extension": ".py",
   "mimetype": "text/x-python",
   "name": "python",
   "nbconvert_exporter": "python",
   "pygments_lexer": "ipython3",
   "version": "3.9.13"
  }
 },
 "nbformat": 4,
 "nbformat_minor": 5
}
