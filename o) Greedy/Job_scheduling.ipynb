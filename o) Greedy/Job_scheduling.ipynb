{
 "cells": [
  {
   "cell_type": "markdown",
   "id": "7a730ae2-ba1b-4790-90fb-c0836e8b912f",
   "metadata": {},
   "source": [
    "## See notes in Onenote : \n",
    "\n",
    "https://onedrive.live.com/redir?resid=7710AD64D8D1EE45%219888&authkey=%21AHNd77YAAIV7c1k&page=Edit&wd=target%28Greedy.one%7C3f45cd76-0b21-fa47-98ac-2883805d44cb%2FJobs%20Scheduling%7C1c1d74f8-dd59-2543-8704-316fdb1b8eb9%2F%29&wdorigin=703"
   ]
  },
  {
   "cell_type": "code",
   "execution_count": 4,
   "id": "fdc9d7d3-e8e1-4f1f-b407-706248757901",
   "metadata": {},
   "outputs": [],
   "source": [
    "from functools import cmp_to_key\n",
    "class Job_properties:\n",
    "    \n",
    "    def __init__(self, start, end, profit):\n",
    "        self.start = start\n",
    "        self.end = end\n",
    "        self.profit = profit\n",
    "        \n",
    "    def __str__(self):\n",
    "        \n",
    "        s  = \"start {} end {} profit {}\".format(self.start,self.end,self.profit)\n",
    "        return s\n",
    "\n",
    "class Solution:\n",
    "    \n",
    "    def my_comparator(self, a, b):\n",
    "        # b -> first element\n",
    "        # a -> second element\n",
    "        \n",
    "        if b.end < a.end:\n",
    "            return 1\n",
    "        elif b.end > a.end:\n",
    "            return -1\n",
    "        else:\n",
    "            return 0\n",
    "        \n",
    "    \n",
    "    def jobScheduling(self, startTime, endTime, profit):\n",
    "        \n",
    "        \n",
    "        jobs = list()\n",
    "        \n",
    "        for i in range(len(startTime)):\n",
    "            job = Job_properties(startTime[i], endTime[i], profit[i])\n",
    "            jobs.append(job)\n",
    "            \n",
    "        jobs = sorted(jobs, key=cmp_to_key(self.my_comparator))\n",
    "        \n",
    "        n = len(jobs)\n",
    "        dp = [-1]*(n)\n",
    "        \n",
    "        # max profit after first job is same as profit that can be made after 1st job\n",
    "        dp[0] = jobs[0].profit\n",
    "        \n",
    "        # For each of the following job we need to take care of 2 cases:\n",
    "        # Case-1 : Excluding current job in calculation for maximum profit possible\n",
    "                # this is basically maximum profit possible for the previous job\n",
    "        # Case-2 : Including the current job in calculation for maximum profit possible\n",
    "                # We find a job NON=OVERLAPPING with current job\n",
    "                # we add that job's maximum profit possible to the current job\n",
    "        \n",
    "        # Finally we take MAXIMIM(Case-1, Case-2) to get maximum profit possible \n",
    "        # while considering jobs till now.\n",
    "        \n",
    "        # The reaseon we need case-1 and case-2 both is because there could be a \n",
    "        # job say J4 which runs for a long time from 0 to N but is not a very \n",
    "        # profitable job with just profit of 1.\n",
    "        # Hence not doing that job may produce more profit overall as previous jobs\n",
    "        # could be completed in that time-frame of 0-to-N and produce much more profit\n",
    "        for i in range(1, n):\n",
    "            \n",
    "            profit_after_excluding_current_job  = dp[i-1]\n",
    "            \n",
    "            profit_after_including_current_job = jobs[i].profit\n",
    "            \n",
    "            non_overlapping_index = -1\n",
    "            \n",
    "            for j in range(i-1, -1, -1):\n",
    "                \n",
    "                if jobs[j].end <= jobs[i].start:\n",
    "                    non_overlapping_index = j\n",
    "                    break\n",
    "                    \n",
    "            \n",
    "            if non_overlapping_index != -1:\n",
    "                profit_after_including_current_job += dp[j]\n",
    "                \n",
    "            dp[i] = max(profit_after_including_current_job, profit_after_excluding_current_job)\n",
    "        \n",
    "        return dp[n-1]"
   ]
  },
  {
   "cell_type": "code",
   "execution_count": 6,
   "id": "6381c5c5-3a99-4925-bf68-bd7444fcbf67",
   "metadata": {},
   "outputs": [
    {
     "name": "stdout",
     "output_type": "stream",
     "text": [
      "68\n"
     ]
    }
   ],
   "source": [
    "val = 0\n",
    "arr = [2, 2, 3, 4]\n",
    "for i in range(len(arr)-1):\n",
    "    \n",
    "    j = i+1\n",
    "    val += (j-i)*arr[i] + ((j*j - i*i)*arr[i]*arr[i])\n",
    "    \n",
    "print(val)"
   ]
  },
  {
   "cell_type": "code",
   "execution_count": null,
   "id": "eb75a124-a6dc-4e9e-8a76-4d66fc211cd8",
   "metadata": {},
   "outputs": [],
   "source": []
  }
 ],
 "metadata": {
  "kernelspec": {
   "display_name": "Python 3 (ipykernel)",
   "language": "python",
   "name": "python3"
  },
  "language_info": {
   "codemirror_mode": {
    "name": "ipython",
    "version": 3
   },
   "file_extension": ".py",
   "mimetype": "text/x-python",
   "name": "python",
   "nbconvert_exporter": "python",
   "pygments_lexer": "ipython3",
   "version": "3.9.13"
  }
 },
 "nbformat": 4,
 "nbformat_minor": 5
}
