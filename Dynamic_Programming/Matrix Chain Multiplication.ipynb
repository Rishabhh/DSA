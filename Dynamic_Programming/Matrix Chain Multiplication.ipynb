{
 "cells": [
  {
   "cell_type": "markdown",
   "id": "2c2bb5bb",
   "metadata": {},
   "source": [
    "# Matrix Chain Multiplication\n",
    "\n",
    "https://classroom.codingninjas.com/app/classroom/me/1371/content/21567/offering/210797/problem/860\n",
    "\n",
    "Say you have 4 matrices A,B,C,D : A 2\\*3 matrix, B 3\\*4 matrix, C 4\\*5 matrix, D 5\\*6 matrix. <br>\n",
    "\n",
    "Now there are multiple ways to multiply matrices : ** (A)(B\\*C\\*D) or (A\\*B)\\*(C\\*D) or (A\\*B\\*C)\\*D **.<br>\n",
    "\n",
    "Each of these ways lead to different number of total multiplications. <br>\n",
    "\n",
    "You need to find the MINIMUM number of multiplications required.<br>\n",
    "\n",
    "**Note** : If A is a m\\*n matrix and B is a n\\*p matrix ; then number of multiplications required to multiply A and B is equal to = **m\\*n\\*p**\n",
    "\n",
    "**Note** : For multiplying matrix A and B, the necessary condition is **Number of Columns in A = Number of Rows in B**, like above this value is \"n\" .\n",
    "\n",
    "**Solution :**\n",
    "\n",
    "Like the above different ways of matrix multiplications **[ (A)(B\\*C\\*D) or (A\\*B)\\*(C\\*D) or (A\\*B\\*C)\\*D  ]** , we basically need to decide WHERE TO PUT THE BRACKET like after A or after AB or after ABC. In the solution below you see \"K\" which goes from i+1 to j-1, \"K\" = basically where all we can put bracket.\n"
   ]
  },
  {
   "cell_type": "markdown",
   "id": "e0811b5b",
   "metadata": {},
   "source": [
    "# Ankush sir solution :  follow theory on onenote notebook too"
   ]
  },
  {
   "cell_type": "code",
   "execution_count": 33,
   "id": "43ddce21",
   "metadata": {},
   "outputs": [],
   "source": [
    "import sys\n",
    "\n",
    "def mcm(p, i, j):\n",
    "    \n",
    "    if i==j or i==(j-1): # i==j-1 means there is 1 matrix only , no one to multiply, therefore cost = 0\n",
    "        return 0         # without this condition you'll get answer as infinity or sys.maxsize\n",
    "    print(\"dimensions\", p[i:j+1])\n",
    "    min_value = sys.maxsize\n",
    "    for k in range(i+1, j): # this means going from (i+1) to (j-1) : which is 1st matrix to (n-1)th matrix\n",
    "        \n",
    "        ans1 = mcm(p, i, k)\n",
    "        ans2 = mcm(p, k, j)\n",
    "        mCost = p[i]*p[k]*p[j]\n",
    "        \n",
    "        curr_value = ans1 + ans2 + mCost\n",
    "        \n",
    "        min_value = min(min_value, curr_value)\n",
    "        \n",
    "    return min_value"
   ]
  },
  {
   "cell_type": "code",
   "execution_count": 34,
   "id": "ec1df35e",
   "metadata": {
    "scrolled": true
   },
   "outputs": [
    {
     "name": "stdout",
     "output_type": "stream",
     "text": [
      "3\n",
      "10 15 20 25\n",
      "dimensions [10, 15, 20, 25]\n",
      "dimensions [15, 20, 25]\n",
      "dimensions [10, 15, 20]\n",
      "8000\n"
     ]
    }
   ],
   "source": [
    "n=int(input()) # number of integers ; our array will be built of (n+1) sized array.\n",
    "p=[int(i) for i in input().strip().split()]\n",
    "print(mcm(p, 0, n))"
   ]
  },
  {
   "cell_type": "markdown",
   "id": "c6178d21",
   "metadata": {},
   "source": [
    "## parikh's solution : A little odd"
   ]
  },
  {
   "cell_type": "code",
   "execution_count": 29,
   "id": "2f15813c",
   "metadata": {},
   "outputs": [],
   "source": [
    "import sys\n",
    "\n",
    "def mcm_2(p, i, j):\n",
    "    \n",
    "    if i==j:\n",
    "        return 0\n",
    "    \n",
    "    min_value = sys.maxsize\n",
    "    print(\"dimensions\", p[i:j])\n",
    "    for k in range(i, j):\n",
    "        \n",
    "        ans1 = mcm_2(p, i, k)\n",
    "        ans2 = mcm_2(p, k+1, j)\n",
    "        \n",
    "        mCost = p[i-1]*p[k]*p[j]\n",
    "        \n",
    "        curr_value = ans1 + ans2 + mCost\n",
    "        \n",
    "        min_value = min(min_value, curr_value)\n",
    "        \n",
    "    return min_value"
   ]
  },
  {
   "cell_type": "code",
   "execution_count": 30,
   "id": "d6ab15e0",
   "metadata": {},
   "outputs": [
    {
     "name": "stdout",
     "output_type": "stream",
     "text": [
      "10 15 20 25\n",
      "dimensions [15, 20]\n",
      "dimensions [20]\n",
      "dimensions [15]\n",
      "8000\n"
     ]
    }
   ],
   "source": [
    "p=[int(i) for i in input().strip().split()]\n",
    "n = len(p)-1\n",
    "print(mcm_2(p, 1, n)) \n",
    "\n",
    "# WHY 1 here as starting index ??\n",
    "\n",
    "# here we send index such that array till index 1 is considered i.e. a0 and a1 present, therefore its a complete\n",
    "# 1 matrix dimension."
   ]
  },
  {
   "cell_type": "markdown",
   "id": "0475125e",
   "metadata": {},
   "source": [
    "# Memoization on MCM"
   ]
  },
  {
   "cell_type": "code",
   "execution_count": 35,
   "id": "8283387e",
   "metadata": {},
   "outputs": [],
   "source": [
    "import sys\n",
    "\n",
    "def mcm(p, i, j, dp):\n",
    "    \n",
    "    if i==j or i==(j-1): # i==j-1 means there is 1 matrix only , no one to multiply, therefore cost = 0\n",
    "        return 0         # without this condition you'll get answer as infinity or sys.maxsize\n",
    "    \n",
    "    \n",
    "    min_value = sys.maxsize\n",
    "    for k in range(i+1, j): # this means going from (i+1) to (j-1) : which is 1st matrix to (n-1)th matrix\n",
    "        \n",
    "        if dp[i][k] == -1:\n",
    "            ans1 = mcm(p, i, k, dp)\n",
    "            dp[i][k] = ans1\n",
    "        else:\n",
    "            ans1 = dp[i][k]\n",
    "            \n",
    "        if dp[k][j]:\n",
    "            ans2 = mcm(p, k, j, dp)\n",
    "            dp[k][j] = ans2\n",
    "        else:\n",
    "            ans2 = dp[k][j]\n",
    "            \n",
    "        mCost = p[i]*p[k]*p[j]\n",
    "        \n",
    "        curr_value = ans1 + ans2 + mCost\n",
    "        \n",
    "        min_value = min(min_value, curr_value)\n",
    "        \n",
    "    return min_value"
   ]
  },
  {
   "cell_type": "code",
   "execution_count": 39,
   "id": "b3a3c6f2",
   "metadata": {},
   "outputs": [
    {
     "name": "stdout",
     "output_type": "stream",
     "text": [
      "3\n",
      "10 15 20 25\n",
      "8000\n"
     ]
    }
   ],
   "source": [
    "n=int(input()) # number of matrices ; our array will be built of (n+1) sized array for dimensions from A0 to An\n",
    "p=[int(i) for i in input().strip().split()]\n",
    "dp = [[-1 for _ in range(n+1)] for __ in range(n+1)]\n",
    "print(mcm(p, 0, n, dp))"
   ]
  },
  {
   "cell_type": "code",
   "execution_count": null,
   "id": "cad7b4fb",
   "metadata": {},
   "outputs": [],
   "source": []
  }
 ],
 "metadata": {
  "kernelspec": {
   "display_name": "Python 3 (ipykernel)",
   "language": "python",
   "name": "python3"
  },
  "language_info": {
   "codemirror_mode": {
    "name": "ipython",
    "version": 3
   },
   "file_extension": ".py",
   "mimetype": "text/x-python",
   "name": "python",
   "nbconvert_exporter": "python",
   "pygments_lexer": "ipython3",
   "version": "3.8.11"
  }
 },
 "nbformat": 4,
 "nbformat_minor": 5
}
