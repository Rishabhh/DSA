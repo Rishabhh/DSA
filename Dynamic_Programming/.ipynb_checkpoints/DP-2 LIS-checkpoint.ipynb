{
 "cells": [
  {
   "cell_type": "markdown",
   "id": "8c709f48",
   "metadata": {},
   "source": [
    "# LIS - Longest Increasing Subsequence"
   ]
  },
  {
   "cell_type": "markdown",
   "id": "b03e923a",
   "metadata": {},
   "source": [
    "Algorithm :-  \n",
    "\n",
    "    Say array is [6,3,1,2,0,7,9].\n",
    "    \n",
    "    You need 2 values for element 6:\n",
    "    \n",
    "        i) Lenght of LIS including 6\n",
    "        ii) Lenght of LIS excluding 6\n",
    "        \n",
    "        Output = MAX( Length of LIS including 6 , Length of LIS excluding 6)\n",
    "        \n",
    "        This needs to be repeated for all elements of array.\n",
    "        \n",
    "        Explanation of (i) : \n",
    "                            For length of LIS including 6, you need to go to right of 6 in array and find numbers \n",
    "                            that are greater than 6 and find the LIS for those elements and \n",
    "                            then get the maximum LIS from all those greater than 6 elements. \n",
    "                            To find the max length of LIS including 6, just add 1 \n",
    "                            to the max length of LIS you found to the right of it ( to including for 6 itself ).\n",
    "                            \n",
    "        Explanation of (ii) : \n",
    "                            Call for LIS from next index of 6 to get it."
   ]
  },
  {
   "cell_type": "code",
   "execution_count": 2,
   "id": "dc461ed3",
   "metadata": {},
   "outputs": [],
   "source": [
    "from sys import setrecursionlimit\n",
    "setrecursionlimit(10**6)"
   ]
  },
  {
   "cell_type": "code",
   "execution_count": 6,
   "id": "ca03b9b0",
   "metadata": {},
   "outputs": [],
   "source": [
    "def lis(li, i, n):\n",
    "    \n",
    "    # if we have reached the end of list, then we have 0 as current maximum LIS and overall LIS\n",
    "    # or if the array itself is empty then also we have 0,0 as current and max overall LIS\n",
    "    if i == n:\n",
    "        return 0, 0\n",
    "        \n",
    "    max_lis_including_current = 1       # least value of LIS at any element is 1 for the current element\n",
    "    for j in range(i+1, n):\n",
    "        if li[j] >= li[i]:\n",
    "            lis_greater_number = lis(li, j, n)[0]  # finding LIS for any number on right greater than current element\n",
    "            max_lis_including_current = max(max_lis_including_current, 1 + lis_greater_number)\n",
    "            \n",
    "    max_lis_excluding_current = lis(li, i+1, n)[1]\n",
    "    \n",
    "    overall_max_lis = max(max_lis_including_current, max_lis_excluding_current)\n",
    "    \n",
    "    return max_lis_including_current, overall_max_lis"
   ]
  },
  {
   "cell_type": "code",
   "execution_count": 22,
   "id": "77a172ba",
   "metadata": {},
   "outputs": [
    {
     "name": "stdout",
     "output_type": "stream",
     "text": [
      "4\n",
      "4\n",
      "4\n",
      "4\n",
      "4\n",
      "4\n",
      "4\n",
      "4\n",
      "4\n",
      "4\n",
      "4\n",
      "4\n",
      "4\n",
      "4\n",
      "The slowest run took 5.56 times longer than the fastest. This could mean that an intermediate result is being cached.\n",
      "116 µs ± 108 µs per loop (mean ± std. dev. of 7 runs, 2 loops each)\n"
     ]
    }
   ],
   "source": [
    "%%timeit -n 2\n",
    "li = [6,3,1,2,0,7,9]\n",
    "n = len(li)\n",
    "ans = lis(li, 0, n)\n",
    "print(ans[1])"
   ]
  },
  {
   "cell_type": "markdown",
   "id": "d2a17b25",
   "metadata": {},
   "source": [
    "## Time Complexity = O(n^2)\n",
    "\n",
    "For second last element we will go in loop 1 time (in recursive call where last element will be left) , for thrid last element loop will run 2 times, similarly for first element loop will run for (n-1) times. <br>\n",
    "\n",
    "Number of loop runs = 1 + 2 + 3 + 4 + 5 + 6..... + (n-1) = O(n^2)"
   ]
  },
  {
   "cell_type": "markdown",
   "id": "d3b0a738",
   "metadata": {},
   "source": [
    "## LIS recalculated again and again for many elements -> DP problem\n",
    "\n",
    "Like for 6 you need to calculate for LIS(7) and LIS(9). For 3 again you need to calculate LIS(7) and LIS(9). Like this there will be multiple calls for recalculations."
   ]
  },
  {
   "cell_type": "markdown",
   "id": "638f7e1a",
   "metadata": {},
   "source": [
    "# DP Solution Recursively for LIS\n",
    "\n",
    "Here dp[...] array will store 2 things:\n",
    "\n",
    "    i) Length of LIS including the i-th element\n",
    "    ii) Overall Max length LIS starting from i-th element"
   ]
  },
  {
   "cell_type": "code",
   "execution_count": 31,
   "id": "63f704b8",
   "metadata": {},
   "outputs": [],
   "source": [
    "def lis_dp(li, dp, i, n):\n",
    "    \n",
    "    if i == n:\n",
    "        return 0, 0\n",
    "    \n",
    "    \n",
    "    max_lis_including_current = 1\n",
    "    for j in range(i+1, n):\n",
    "        if li[j] >= li[i]:\n",
    "            if dp[j] == -1:\n",
    "                ans = lis_dp(li, dp, j, n)\n",
    "                dp[j] = ans\n",
    "                max_lis_including_greater_element = ans[0]\n",
    "            else:\n",
    "                max_lis_including_greater_element = dp[j][0]\n",
    "                \n",
    "            max_lis_including_current = max(max_lis_including_current, 1 + max_lis_including_greater_element)\n",
    "    \n",
    "    \n",
    "    if dp[i+1] == -1:\n",
    "        ans = lis_dp(li, dp, i+1, n)\n",
    "        dp[i+1] = ans\n",
    "        max_lis_excluding_current = ans[1]\n",
    "    else:\n",
    "        max_lis_excluding_current = dp[i+1][1]\n",
    "    \n",
    "    overall_max_lis = max(max_lis_including_current, max_lis_excluding_current)\n",
    "    \n",
    "    return max_lis_including_current, overall_max_lis"
   ]
  },
  {
   "cell_type": "code",
   "execution_count": 32,
   "id": "f6a8b6d0",
   "metadata": {},
   "outputs": [
    {
     "name": "stdout",
     "output_type": "stream",
     "text": [
      "4\n",
      "4\n",
      "4\n",
      "4\n",
      "4\n",
      "4\n",
      "4\n",
      "The slowest run took 8.47 times longer than the fastest. This could mean that an intermediate result is being cached.\n",
      "125 µs ± 150 µs per loop (mean ± std. dev. of 7 runs, 1 loop each)\n"
     ]
    }
   ],
   "source": [
    "%%timeit -n 1\n",
    "li = [6,3,1,2,0,7,9]\n",
    "n = len(li)\n",
    "dp = [-1 for _ in range(n+1)]\n",
    "ans = lis_dp(li, dp, 0, n)\n",
    "print(ans[1])"
   ]
  },
  {
   "cell_type": "markdown",
   "id": "fbbe8206",
   "metadata": {},
   "source": [
    "# Iterative DP solution\n",
    "\n",
    "Whenever you write iterative DP solution, think like whatever you did in each unique recursive call, you need to do that in the loop you write for the DP array.<br>\n",
    "\n",
    "We create a DP array to contain a list of size=2 for each index of the array.<br>\n",
    "\n",
    "We start filling the dp array from the end. <br>\n",
    "\n",
    "Here dp[...] array will store 2 things:\n",
    "\n",
    "    i) Length of LIS including the i-th element at 0th position of the list for i-th element\n",
    "    ii) Overall Max length LIS starting from i-th element at the 1st position of the list of i-th elememt.\n",
    "\n",
    "We start by declaring a dp array and setting the base case. The base case here is that the last element's values for 0,0 for (LIS including the last element and overall max length LIS till last element).<br>\n",
    "\n"
   ]
  },
  {
   "cell_type": "code",
   "execution_count": 47,
   "id": "295c11d1",
   "metadata": {},
   "outputs": [],
   "source": [
    "def LIS_Iterative_dp(li, n):\n",
    "    \n",
    "    dp = [[-1 for _ in range(2)] for __ in range(n+1)]\n",
    "    \n",
    "    # initializing base case -> we are filling the dp array from last element\n",
    "    dp[n] = [0,0]\n",
    "    \n",
    "    for i in range(n-1, -1, -1):\n",
    "        \n",
    "        max_lis_including_current = 1\n",
    "        \n",
    "        for j in range(i+1, n):\n",
    "            if li[j] > li[i]:\n",
    "                max_lis_including_current = max(max_lis_including_current, 1 + dp[j][0]) #we started by filling from last element\n",
    "                \n",
    "        dp[i][0] = max_lis_including_current # storing the result found\n",
    "        max_lis_excluding_current = dp[i+1][1] # thats basically overall_max_lis from right of the i-th element\n",
    "        overall_max_lis = max(max_lis_including_current, max_lis_excluding_current)\n",
    "        dp[i][1] = overall_max_lis # storing the overall max for the i-th element.\n",
    "        \n",
    "    return dp[0][1] # the overall_max_lis we can get would be saved at 0-th element's list's 1st position\n",
    "    "
   ]
  },
  {
   "cell_type": "code",
   "execution_count": 48,
   "id": "53cb16fa",
   "metadata": {},
   "outputs": [
    {
     "name": "stdout",
     "output_type": "stream",
     "text": [
      "4\n",
      "4\n",
      "4\n",
      "4\n",
      "4\n",
      "4\n",
      "4\n",
      "The slowest run took 7.74 times longer than the fastest. This could mean that an intermediate result is being cached.\n",
      "164 µs ± 149 µs per loop (mean ± std. dev. of 7 runs, 1 loop each)\n"
     ]
    }
   ],
   "source": [
    "%%timeit -n 1\n",
    "li = [6,3,1,2,0,7,9]\n",
    "n = len(li)\n",
    "ans = LIS_Iterative_dp(li, n)\n",
    "print(ans)"
   ]
  },
  {
   "cell_type": "code",
   "execution_count": null,
   "id": "124b3497",
   "metadata": {},
   "outputs": [],
   "source": []
  }
 ],
 "metadata": {
  "kernelspec": {
   "display_name": "Python 3 (ipykernel)",
   "language": "python",
   "name": "python3"
  },
  "language_info": {
   "codemirror_mode": {
    "name": "ipython",
    "version": 3
   },
   "file_extension": ".py",
   "mimetype": "text/x-python",
   "name": "python",
   "nbconvert_exporter": "python",
   "pygments_lexer": "ipython3",
   "version": "3.8.11"
  }
 },
 "nbformat": 4,
 "nbformat_minor": 5
}
