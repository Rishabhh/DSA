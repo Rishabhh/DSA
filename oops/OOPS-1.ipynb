{
 "cells": [
  {
   "cell_type": "markdown",
   "id": "1c1f3f2c",
   "metadata": {},
   "source": [
    "# OOPS \n",
    "\n",
    "### The OOPS is required to have our code implemented in such a way that it is very intuitive to read to know the functionality of the code\n",
    "\n",
    "### Ex : batch.add_student(Student_id)"
   ]
  },
  {
   "cell_type": "markdown",
   "id": "b05d219c",
   "metadata": {},
   "source": [
    "### Objects are the real world entities you want to create. \n",
    "### Ex-1 : Students of a batch\n",
    "### Ex-2 : Courses of a university\n",
    "\n",
    "\n",
    "### Classes are templates using which object are created. Classes contain ATTRIBUTES AND FUNCTIONALITIES OF THE OBJECT. \n",
    "### Each object created from the class will contain those attributes and functionalities\n",
    "\n",
    "### For each batch we will use this Class and add students to that batch\n",
    "\n",
    "\n",
    "### Ex:A student class will have attributes like BATCH_ID, NAME, AGE etc and Functionalities like ADD STUDENT TO A BATCH\n"
   ]
  },
  {
   "cell_type": "markdown",
   "id": "b915f49e",
   "metadata": {},
   "source": [
    "### Class is a template/blueprint\n",
    "\n",
    "### Object is an instance of a class"
   ]
  },
  {
   "cell_type": "code",
   "execution_count": 5,
   "id": "f99d804b",
   "metadata": {},
   "outputs": [],
   "source": [
    "class Student:\n",
    "    pass"
   ]
  },
  {
   "cell_type": "code",
   "execution_count": 6,
   "id": "51698272",
   "metadata": {},
   "outputs": [],
   "source": [
    "s1 = Student()"
   ]
  },
  {
   "cell_type": "code",
   "execution_count": 7,
   "id": "56b5d1e5",
   "metadata": {},
   "outputs": [
    {
     "name": "stdout",
     "output_type": "stream",
     "text": [
      "<__main__.Student object at 0x110f8eeb0>\n"
     ]
    }
   ],
   "source": [
    "print(s1)"
   ]
  },
  {
   "cell_type": "code",
   "execution_count": 8,
   "id": "ab61860f",
   "metadata": {},
   "outputs": [
    {
     "name": "stdout",
     "output_type": "stream",
     "text": [
      "<class '__main__.Student'>\n"
     ]
    }
   ],
   "source": [
    "print(type(s1))"
   ]
  },
  {
   "cell_type": "code",
   "execution_count": 10,
   "id": "74b6efff",
   "metadata": {},
   "outputs": [
    {
     "name": "stdout",
     "output_type": "stream",
     "text": [
      "<class 'list'>\n"
     ]
    }
   ],
   "source": [
    "l = list()\n",
    "print(type(l))"
   ]
  },
  {
   "cell_type": "code",
   "execution_count": 11,
   "id": "692d6ce9",
   "metadata": {
    "scrolled": true
   },
   "outputs": [
    {
     "name": "stdout",
     "output_type": "stream",
     "text": [
      "<__main__.Student object at 0x110f8e6a0> <__main__.Student object at 0x110f8ea00>\n"
     ]
    }
   ],
   "source": [
    "s2 = Student()\n",
    "s3 = Student()\n",
    "\n",
    "print(s2, s3)"
   ]
  },
  {
   "cell_type": "markdown",
   "id": "e43d1602",
   "metadata": {},
   "source": [
    "### OPERATIONS ON OBJECT'S ATTRIBUTES\n",
    "\n",
    "##### hasattr\n",
    "##### getattr\n",
    "##### delattr"
   ]
  },
  {
   "cell_type": "markdown",
   "id": "ac97d452",
   "metadata": {},
   "source": [
    "## HOW TO ADD DATA TO OUR OBJECTS\n",
    "\n",
    "#### Some attributes will be inherited by the object from the class attributes = CLASS ATTRIBUTES\n",
    "##### and\n",
    "#### Some attributes can be extra added to a particular object = INSTANCE ATTRIBUTES"
   ]
  },
  {
   "cell_type": "code",
   "execution_count": 13,
   "id": "42f99128",
   "metadata": {},
   "outputs": [],
   "source": [
    "s1.name = \"Rishabhh\""
   ]
  },
  {
   "cell_type": "code",
   "execution_count": 15,
   "id": "9a9c153f",
   "metadata": {},
   "outputs": [],
   "source": [
    "s2.rollNumber = 24"
   ]
  },
  {
   "cell_type": "code",
   "execution_count": 16,
   "id": "99d95267",
   "metadata": {},
   "outputs": [],
   "source": [
    "s3.name = \"Nishant\"\n",
    "s3.rollNumber = 25"
   ]
  },
  {
   "cell_type": "code",
   "execution_count": 17,
   "id": "b6a564e5",
   "metadata": {},
   "outputs": [
    {
     "data": {
      "text/plain": [
       "'Rishabhh'"
      ]
     },
     "execution_count": 17,
     "metadata": {},
     "output_type": "execute_result"
    }
   ],
   "source": [
    "s1.name"
   ]
  },
  {
   "cell_type": "code",
   "execution_count": 18,
   "id": "42be5cfe",
   "metadata": {},
   "outputs": [
    {
     "ename": "AttributeError",
     "evalue": "'Student' object has no attribute 'name'",
     "output_type": "error",
     "traceback": [
      "\u001b[0;31m---------------------------------------------------------------------------\u001b[0m",
      "\u001b[0;31mAttributeError\u001b[0m                            Traceback (most recent call last)",
      "Input \u001b[0;32mIn [18]\u001b[0m, in \u001b[0;36m<cell line: 1>\u001b[0;34m()\u001b[0m\n\u001b[0;32m----> 1\u001b[0m \u001b[43ms2\u001b[49m\u001b[38;5;241;43m.\u001b[39;49m\u001b[43mname\u001b[49m\n",
      "\u001b[0;31mAttributeError\u001b[0m: 'Student' object has no attribute 'name'"
     ]
    }
   ],
   "source": [
    "s2.name"
   ]
  },
  {
   "cell_type": "code",
   "execution_count": 19,
   "id": "c05561dc",
   "metadata": {},
   "outputs": [
    {
     "data": {
      "text/plain": [
       "24"
      ]
     },
     "execution_count": 19,
     "metadata": {},
     "output_type": "execute_result"
    }
   ],
   "source": [
    "s2.rollNumber"
   ]
  },
  {
   "cell_type": "markdown",
   "id": "65b24e81",
   "metadata": {},
   "source": [
    "### HOW TO CHECK WHAT ALL ATTRIBUTES AN OBJECT HAS"
   ]
  },
  {
   "cell_type": "code",
   "execution_count": 25,
   "id": "272b292e",
   "metadata": {
    "scrolled": true
   },
   "outputs": [
    {
     "data": {
      "text/plain": [
       "{'name': 'Nishant', 'rollNumber': 25}"
      ]
     },
     "execution_count": 25,
     "metadata": {},
     "output_type": "execute_result"
    }
   ],
   "source": [
    "s3.__dict__"
   ]
  },
  {
   "cell_type": "code",
   "execution_count": 26,
   "id": "12015096",
   "metadata": {},
   "outputs": [
    {
     "data": {
      "text/plain": [
       "{'name': 'Rishabhh'}"
      ]
     },
     "execution_count": 26,
     "metadata": {},
     "output_type": "execute_result"
    }
   ],
   "source": [
    "s1.__dict__"
   ]
  },
  {
   "cell_type": "code",
   "execution_count": 27,
   "id": "a388c8aa",
   "metadata": {},
   "outputs": [
    {
     "data": {
      "text/plain": [
       "{'rollNumber': 24}"
      ]
     },
     "execution_count": 27,
     "metadata": {},
     "output_type": "execute_result"
    }
   ],
   "source": [
    "s2.__dict__"
   ]
  },
  {
   "cell_type": "markdown",
   "id": "ed8d4366",
   "metadata": {},
   "source": [
    "### CHECK IF AN OBJECT HAS A PARTICULAR ATTRIBUTE"
   ]
  },
  {
   "cell_type": "code",
   "execution_count": 28,
   "id": "5b2028a5",
   "metadata": {},
   "outputs": [
    {
     "data": {
      "text/plain": [
       "True"
      ]
     },
     "execution_count": 28,
     "metadata": {},
     "output_type": "execute_result"
    }
   ],
   "source": [
    "hasattr(s1, \"name\")"
   ]
  },
  {
   "cell_type": "code",
   "execution_count": 30,
   "id": "7bbb1578",
   "metadata": {},
   "outputs": [
    {
     "data": {
      "text/plain": [
       "False"
      ]
     },
     "execution_count": 30,
     "metadata": {},
     "output_type": "execute_result"
    }
   ],
   "source": [
    "hasattr(s2, \"name\")"
   ]
  },
  {
   "cell_type": "markdown",
   "id": "25151e7d",
   "metadata": {},
   "source": [
    "### RETRIEVE AN OBJECT'S ATTRIBUTES VALUE"
   ]
  },
  {
   "cell_type": "code",
   "execution_count": 31,
   "id": "9e13b6aa",
   "metadata": {},
   "outputs": [
    {
     "name": "stdout",
     "output_type": "stream",
     "text": [
      "24\n"
     ]
    }
   ],
   "source": [
    "roll = getattr(s2, \"rollNumber\")\n",
    "print(roll)"
   ]
  },
  {
   "cell_type": "code",
   "execution_count": 32,
   "id": "c2953681",
   "metadata": {},
   "outputs": [
    {
     "ename": "AttributeError",
     "evalue": "'Student' object has no attribute 'name'",
     "output_type": "error",
     "traceback": [
      "\u001b[0;31m---------------------------------------------------------------------------\u001b[0m",
      "\u001b[0;31mAttributeError\u001b[0m                            Traceback (most recent call last)",
      "Input \u001b[0;32mIn [32]\u001b[0m, in \u001b[0;36m<cell line: 1>\u001b[0;34m()\u001b[0m\n\u001b[0;32m----> 1\u001b[0m \u001b[38;5;28;43mgetattr\u001b[39;49m\u001b[43m(\u001b[49m\u001b[43ms2\u001b[49m\u001b[43m,\u001b[49m\u001b[43m \u001b[49m\u001b[38;5;124;43m\"\u001b[39;49m\u001b[38;5;124;43mname\u001b[39;49m\u001b[38;5;124;43m\"\u001b[39;49m\u001b[43m)\u001b[49m\n",
      "\u001b[0;31mAttributeError\u001b[0m: 'Student' object has no attribute 'name'"
     ]
    }
   ],
   "source": [
    "getattr(s2, \"name\")"
   ]
  },
  {
   "cell_type": "code",
   "execution_count": 33,
   "id": "81577789",
   "metadata": {},
   "outputs": [
    {
     "ename": "AttributeError",
     "evalue": "'Student' object has no attribute 'name'",
     "output_type": "error",
     "traceback": [
      "\u001b[0;31m---------------------------------------------------------------------------\u001b[0m",
      "\u001b[0;31mAttributeError\u001b[0m                            Traceback (most recent call last)",
      "Input \u001b[0;32mIn [33]\u001b[0m, in \u001b[0;36m<cell line: 1>\u001b[0;34m()\u001b[0m\n\u001b[0;32m----> 1\u001b[0m name \u001b[38;5;241m=\u001b[39m \u001b[38;5;28;43mgetattr\u001b[39;49m\u001b[43m(\u001b[49m\u001b[43ms2\u001b[49m\u001b[43m,\u001b[49m\u001b[43m \u001b[49m\u001b[38;5;124;43m\"\u001b[39;49m\u001b[38;5;124;43mname\u001b[39;49m\u001b[38;5;124;43m\"\u001b[39;49m\u001b[43m)\u001b[49m\n",
      "\u001b[0;31mAttributeError\u001b[0m: 'Student' object has no attribute 'name'"
     ]
    }
   ],
   "source": [
    "name = getattr(s2, \"name\")"
   ]
  },
  {
   "cell_type": "markdown",
   "id": "3ee8e8e6",
   "metadata": {},
   "source": [
    "### GET ATTRIBUTE WITH DEFAULT PARAMETER - s2.name will always give error but getattr gives a way to handle error"
   ]
  },
  {
   "cell_type": "code",
   "execution_count": 36,
   "id": "f28a9d91",
   "metadata": {},
   "outputs": [
    {
     "name": "stdout",
     "output_type": "stream",
     "text": [
      "UNKNOWN\n"
     ]
    }
   ],
   "source": [
    "name = getattr(s2, \" name\", \"UNKNOWN\")\n",
    "print(name)"
   ]
  },
  {
   "cell_type": "markdown",
   "id": "e82bf77c",
   "metadata": {},
   "source": [
    "### DELETE A PARTICULAR ATTRIBUTE"
   ]
  },
  {
   "cell_type": "code",
   "execution_count": 37,
   "id": "1b4bd04d",
   "metadata": {},
   "outputs": [],
   "source": [
    "delattr(s1, \"name\")"
   ]
  },
  {
   "cell_type": "code",
   "execution_count": 38,
   "id": "a390bbf6",
   "metadata": {},
   "outputs": [
    {
     "data": {
      "text/plain": [
       "{}"
      ]
     },
     "execution_count": 38,
     "metadata": {},
     "output_type": "execute_result"
    }
   ],
   "source": [
    "s1.__dict__"
   ]
  },
  {
   "cell_type": "markdown",
   "id": "eeb739be",
   "metadata": {},
   "source": [
    "## CLASS ATTRIBUTES"
   ]
  },
  {
   "cell_type": "code",
   "execution_count": null,
   "id": "67adf36e",
   "metadata": {},
   "outputs": [],
   "source": []
  }
 ],
 "metadata": {
  "kernelspec": {
   "display_name": "Python 3 (ipykernel)",
   "language": "python",
   "name": "python3"
  },
  "language_info": {
   "codemirror_mode": {
    "name": "ipython",
    "version": 3
   },
   "file_extension": ".py",
   "mimetype": "text/x-python",
   "name": "python",
   "nbconvert_exporter": "python",
   "pygments_lexer": "ipython3",
   "version": "3.8.11"
  }
 },
 "nbformat": 4,
 "nbformat_minor": 5
}
