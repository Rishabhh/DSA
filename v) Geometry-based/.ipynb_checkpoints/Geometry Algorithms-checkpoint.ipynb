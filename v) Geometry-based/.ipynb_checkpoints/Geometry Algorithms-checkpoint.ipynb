{
 "cells": [
  {
   "cell_type": "markdown",
   "id": "b14d3756",
   "metadata": {},
   "source": [
    "# Maximum Points in a straight line\n",
    "\n",
    "https://leetcode.com/problems/max-points-on-a-line/submissions/"
   ]
  },
  {
   "cell_type": "code",
   "execution_count": 5,
   "id": "03b93a2f",
   "metadata": {},
   "outputs": [],
   "source": [
    "import sys\n",
    "class Solution:\n",
    "    \n",
    "    # this function basically returns 2 values that act as unique identifier to identify this line\n",
    "    # we intend to use slope and intercept of line as the unique characteristics of the line\n",
    "    # as a set of value of slope and intercept always identify as a unique line\n",
    "    def find_line(self, x0, y0, x1, y1):\n",
    "        \n",
    "        if y0 == y1:\n",
    "            return 0, y0\n",
    "        \n",
    "        # the reason we use x0 as unique characteristic and not INFINITY as slope\n",
    "        # is because the 2 sets of 2 points can have INFINITE slope even though\n",
    "        # all those 4 points are not collinear \n",
    "        # Example : \n",
    "        # ( (1,1) and (1,4) ) -> slope infinite\n",
    "        # ( (2,1) and (2,2) ) -> slope infinite\n",
    "        # even though above 4 points are not collinear they will end up as in one line if we take\n",
    "        # their slope as infinite\n",
    "        \n",
    "        # Therefore x0 or x1 acts as unique identifier for the line formed by \n",
    "        # ( (1,1) and (1,4) ) and for ( (2,1) and (2,2) ) separately.\n",
    "        if x0 == x1:\n",
    "            return x0, None\n",
    "        else:\n",
    "            slope = (y1 - y0)/(x1 - x0)\n",
    "            intercept = (y0 - slope*x0)\n",
    "            return slope, intercept\n",
    "    \n",
    "    \n",
    "    # Time complexity : O(n^2) solution \n",
    "    # Extra space O(n^2) in worst case : Imagine a different line formed with unique set of 2 points\n",
    "    # in that case max_points in a line is 2 and to store those lines you need O(n^2) space as\n",
    "    # number of choice to choose 1st point is n and choices to choose other point is (n-1)\n",
    "    # therefore number of lines possible is (n)*(n-1)/2 ; divide by 2 as line AB = line BA\n",
    "    def maxPoints(self, points) -> int:\n",
    "        \n",
    "        \n",
    "        if len(points) <= 2:\n",
    "            return len(points)\n",
    "        \n",
    "        # using a set as values of dictionary so that there is not duplicacy when \n",
    "        # adding points to the set\n",
    "        lines = defaultdict(lambda : set())\n",
    "        \n",
    "        for i in range(len(points)):\n",
    "            for j in range(i+1, len(points)):\n",
    "                x0, y0 = points[i]\n",
    "                x1, y1 = points[j]\n",
    "                line = self.find_line(x0, y0, x1, y1)\n",
    "                lines[line].add(i)\n",
    "                lines[line].add(j)\n",
    "                \n",
    "        return max([len(lines[line]) for line in lines])"
   ]
  },
  {
   "cell_type": "code",
   "execution_count": null,
   "id": "98e3097f",
   "metadata": {},
   "outputs": [],
   "source": []
  }
 ],
 "metadata": {
  "kernelspec": {
   "display_name": "Python 3 (ipykernel)",
   "language": "python",
   "name": "python3"
  },
  "language_info": {
   "codemirror_mode": {
    "name": "ipython",
    "version": 3
   },
   "file_extension": ".py",
   "mimetype": "text/x-python",
   "name": "python",
   "nbconvert_exporter": "python",
   "pygments_lexer": "ipython3",
   "version": "3.8.11"
  }
 },
 "nbformat": 4,
 "nbformat_minor": 5
}
