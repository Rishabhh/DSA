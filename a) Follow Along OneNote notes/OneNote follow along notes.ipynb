{
 "cells": [
  {
   "cell_type": "markdown",
   "id": "78fd358b",
   "metadata": {},
   "source": [
    "https://onedrive.live.com/redir?resid=7710AD64D8D1EE45%219888&authkey=%21AHNd77YAAIV7c1k&page=Edit&wd=target%28Topics%20Left.one%7C2a529e57-feb5-254f-9201-eac7c58411fe%2F%29&wdorigin=717"
   ]
  },
  {
   "cell_type": "code",
   "execution_count": null,
   "id": "2c6b4b1f",
   "metadata": {},
   "outputs": [],
   "source": []
  }
 ],
 "metadata": {
  "kernelspec": {
   "display_name": "Python 3 (ipykernel)",
   "language": "python",
   "name": "python3"
  },
  "language_info": {
   "codemirror_mode": {
    "name": "ipython",
    "version": 3
   },
   "file_extension": ".py",
   "mimetype": "text/x-python",
   "name": "python",
   "nbconvert_exporter": "python",
   "pygments_lexer": "ipython3",
   "version": "3.9.13"
  }
 },
 "nbformat": 4,
 "nbformat_minor": 5
}
