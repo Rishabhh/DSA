{
 "cells": [
  {
   "cell_type": "markdown",
   "id": "e5744800",
   "metadata": {},
   "source": [
    "# Return All subsequences of a string"
   ]
  },
  {
   "cell_type": "code",
   "execution_count": 1,
   "id": "19bf9a8f",
   "metadata": {},
   "outputs": [
    {
     "name": "stdout",
     "output_type": "stream",
     "text": [
      "abc\n",
      "\n",
      "c\n",
      "b\n",
      "bc\n",
      "a\n",
      "ac\n",
      "ab\n",
      "abc\n"
     ]
    }
   ],
   "source": [
    "def subsequences(string, start = 0, output=[]):\n",
    "    #Implement Your Code Here\n",
    "    \n",
    "    if start == len(string):\n",
    "        output.append(\"\")\n",
    "        return output\n",
    "    \n",
    "    output = subsequences(string, start + 1, output)\n",
    "    \n",
    "    for i in range(len(output)):\n",
    "        \n",
    "        current_subsequence = string[start] + output[i]\n",
    "        output.append(current_subsequence)\n",
    "        \n",
    "    return output\n",
    "    \n",
    "    \n",
    "\n",
    "\n",
    "string = input()\n",
    "ans = subsequences(string)\n",
    "for ele in ans:\n",
    "    print(ele)"
   ]
  },
  {
   "cell_type": "code",
   "execution_count": 4,
   "id": "55656b07",
   "metadata": {},
   "outputs": [
    {
     "name": "stdout",
     "output_type": "stream",
     "text": [
      "abc\n",
      "\n",
      "c\n",
      "b\n",
      "bc\n",
      "a\n",
      "ac\n",
      "ab\n",
      "abc\n"
     ]
    }
   ],
   "source": [
    "def subs(s):\n",
    "    \n",
    "    if len(s) == 0:\n",
    "        output = []\n",
    "        output.append(\"\") # even in an empty string there is 1 subsequence which is empty subsequence\n",
    "        return output\n",
    "    \n",
    "    \n",
    "    smallerString = s[1:]\n",
    "    smallerOutput = subs(smallerString)\n",
    "    \n",
    "    output = []\n",
    "    \n",
    "    # append existing subsequences excluding current character\n",
    "    for sub in smallerOutput:\n",
    "        output.append(sub)\n",
    "    \n",
    "    # append existing subsequences including current character\n",
    "    for sub in smallerOutput:\n",
    "        current_subsequence = s[0] + sub\n",
    "        output.append(current_subsequence)\n",
    "        \n",
    "    return output\n",
    "\n",
    "string = input()\n",
    "ans = subs(string)\n",
    "for ele in ans:\n",
    "    print(ele)"
   ]
  },
  {
   "cell_type": "code",
   "execution_count": 9,
   "id": "46da40aa",
   "metadata": {},
   "outputs": [],
   "source": [
    "def fact(n, ans=1):\n",
    "    \n",
    "    if n==0:\n",
    "        print(ans)\n",
    "        return\n",
    "    \n",
    "    ans = ans*n\n",
    "    fact(n-1, ans)"
   ]
  },
  {
   "cell_type": "code",
   "execution_count": 10,
   "id": "8ca1fe87",
   "metadata": {},
   "outputs": [
    {
     "name": "stdout",
     "output_type": "stream",
     "text": [
      "120\n"
     ]
    }
   ],
   "source": [
    "fact(5)"
   ]
  },
  {
   "cell_type": "code",
   "execution_count": 14,
   "id": "26f29eeb",
   "metadata": {},
   "outputs": [],
   "source": [
    "def print_minimum(arr, minimum = float(\"inf\")):\n",
    "    \n",
    "    if len(arr) == 0:\n",
    "        print(minimum)\n",
    "        return\n",
    "    \n",
    "    minimum = min(arr[0], minimum)\n",
    "        \n",
    "    print_minimum(arr[1:], minimum)"
   ]
  },
  {
   "cell_type": "code",
   "execution_count": 16,
   "id": "83ed9746",
   "metadata": {},
   "outputs": [
    {
     "name": "stdout",
     "output_type": "stream",
     "text": [
      "-4\n"
     ]
    }
   ],
   "source": [
    "arr = [4,5,3,7,0,1,11,1,-4]\n",
    "print_minimum(arr)"
   ]
  },
  {
   "cell_type": "code",
   "execution_count": null,
   "id": "dd884dc3",
   "metadata": {},
   "outputs": [],
   "source": []
  }
 ],
 "metadata": {
  "kernelspec": {
   "display_name": "Python 3 (ipykernel)",
   "language": "python",
   "name": "python3"
  },
  "language_info": {
   "codemirror_mode": {
    "name": "ipython",
    "version": 3
   },
   "file_extension": ".py",
   "mimetype": "text/x-python",
   "name": "python",
   "nbconvert_exporter": "python",
   "pygments_lexer": "ipython3",
   "version": "3.8.11"
  }
 },
 "nbformat": 4,
 "nbformat_minor": 5
}
