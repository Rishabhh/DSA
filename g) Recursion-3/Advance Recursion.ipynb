{
 "cells": [
  {
   "cell_type": "markdown",
   "id": "e5744800",
   "metadata": {},
   "source": [
    "# Return All subsequences of a string"
   ]
  },
  {
   "cell_type": "code",
   "execution_count": 1,
   "id": "19bf9a8f",
   "metadata": {},
   "outputs": [
    {
     "name": "stdout",
     "output_type": "stream",
     "text": [
      "abc\n",
      "\n",
      "c\n",
      "b\n",
      "bc\n",
      "a\n",
      "ac\n",
      "ab\n",
      "abc\n"
     ]
    }
   ],
   "source": [
    "def subsequences(string, start = 0, output=[]):\n",
    "    #Implement Your Code Here\n",
    "    \n",
    "    if start == len(string):\n",
    "        output.append(\"\")\n",
    "        return output\n",
    "    \n",
    "    output = subsequences(string, start + 1, output)\n",
    "    \n",
    "    for i in range(len(output)):\n",
    "        \n",
    "        current_subsequence = string[start] + output[i]\n",
    "        output.append(current_subsequence)\n",
    "        \n",
    "    return output\n",
    "    \n",
    "    \n",
    "\n",
    "\n",
    "string = input()\n",
    "ans = subsequences(string)\n",
    "for ele in ans:\n",
    "    print(ele)"
   ]
  },
  {
   "cell_type": "code",
   "execution_count": 4,
   "id": "55656b07",
   "metadata": {
    "scrolled": true
   },
   "outputs": [
    {
     "name": "stdout",
     "output_type": "stream",
     "text": [
      "abc\n",
      "\n",
      "c\n",
      "b\n",
      "bc\n",
      "a\n",
      "ac\n",
      "ab\n",
      "abc\n"
     ]
    }
   ],
   "source": [
    "def subs(s):\n",
    "    \n",
    "    if len(s) == 0:\n",
    "        output = []\n",
    "        output.append(\"\") # even in an empty string there is 1 subsequence which is empty subsequence\n",
    "        return output\n",
    "    \n",
    "    \n",
    "    smallerString = s[1:]\n",
    "    smallerOutput = subs(smallerString)\n",
    "    \n",
    "    output = []\n",
    "    \n",
    "    # append existing subsequences excluding current character\n",
    "    for sub in smallerOutput:\n",
    "        output.append(sub)\n",
    "    \n",
    "    # append existing subsequences including current character\n",
    "    for sub in smallerOutput:\n",
    "        current_subsequence = s[0] + sub\n",
    "        output.append(current_subsequence)\n",
    "        \n",
    "    return output\n",
    "\n",
    "string = input()\n",
    "ans = subs(string)\n",
    "for ele in ans:\n",
    "    print(ele)"
   ]
  },
  {
   "cell_type": "markdown",
   "id": "501bbbe2",
   "metadata": {},
   "source": [
    "# Mobile Keypad Combination\n",
    "\n",
    "Given an integer n, using phone keypad find out and return all the possible strings that can be made using digits of input n."
   ]
  },
  {
   "cell_type": "code",
   "execution_count": 7,
   "id": "1f9be42f",
   "metadata": {},
   "outputs": [
    {
     "name": "stdout",
     "output_type": "stream",
     "text": [
      "23\n",
      "ad\n",
      "bd\n",
      "cd\n",
      "ae\n",
      "be\n",
      "ce\n",
      "af\n",
      "bf\n",
      "cf\n"
     ]
    }
   ],
   "source": [
    "def keypad(n, keypad_combination):\n",
    "    #Implement Your Code Here\n",
    "    \n",
    "    if n ==0 :\n",
    "        output = []\n",
    "        output.append(\"\")\n",
    "        return output\n",
    "    \n",
    "    smallerInteger = n//10\n",
    "    currentInteger = n%10\n",
    "    \n",
    "    smallerOutput = keypad(smallerInteger, keypad_combination)\n",
    "    \n",
    "    current_key_combination = keypad_combination[currentInteger]\n",
    "    output = []\n",
    "    \n",
    "    for current_key in current_key_combination:\n",
    "        for combination in smallerOutput:\n",
    "            new_combination = combination + current_key\n",
    "            output.append(new_combination)\n",
    "            \n",
    "            \n",
    "    return output\n",
    "\n",
    "n = int(input())\n",
    "keypad_combination = {1:\"\", 2:\"abc\", 3:\"def\", 4:\"ghi\", 5:\"jkl\", 6:\"mno\", 7:\"pqrs\", 8:\"tuv\", 9:\"wxyz\"}\n",
    "ans = keypad(n, keypad_combination)\n",
    "for s in ans:\n",
    "    print(s)"
   ]
  },
  {
   "cell_type": "markdown",
   "id": "118ccc25",
   "metadata": {},
   "source": [
    "# Printing instead of Returning the result\n",
    "\n",
    "We want to avoid creating the huge array containing all subsequences or all possible keypad combinations.<br>\n",
    "Imagine the extra space we need to take in \"subsequences of string\" problem. The number of subsequences is 2^n (where \"n\" is the size of the string).<br>\n",
    "If our string length is 10, We will have an array containing 2^10 = 1024 strings, as n becomes higher array becomes exponentially bigger.<br><br>\n",
    "\n",
    "## How we do the printing instead of returning :\n",
    "\n",
    "Basically we want to take the desired output/outputs to be printed to the base case and when we reach the base case we will print the output."
   ]
  },
  {
   "cell_type": "markdown",
   "id": "f3eed56f",
   "metadata": {},
   "source": [
    "## Print the factorial instead of returning it"
   ]
  },
  {
   "cell_type": "code",
   "execution_count": 9,
   "id": "46da40aa",
   "metadata": {},
   "outputs": [],
   "source": [
    "def fact(n, ans=1):\n",
    "    \n",
    "    if n==0:\n",
    "        print(ans)\n",
    "        return\n",
    "    \n",
    "    ans = ans*n\n",
    "    fact(n-1, ans)"
   ]
  },
  {
   "cell_type": "code",
   "execution_count": 10,
   "id": "8ca1fe87",
   "metadata": {},
   "outputs": [
    {
     "name": "stdout",
     "output_type": "stream",
     "text": [
      "120\n"
     ]
    }
   ],
   "source": [
    "fact(5)"
   ]
  },
  {
   "cell_type": "code",
   "execution_count": 14,
   "id": "26f29eeb",
   "metadata": {},
   "outputs": [],
   "source": [
    "def print_minimum(arr, minimum = float(\"inf\")):\n",
    "    \n",
    "    if len(arr) == 0:\n",
    "        print(minimum)\n",
    "        return\n",
    "    \n",
    "    minimum = min(arr[0], minimum)\n",
    "        \n",
    "    print_minimum(arr[1:], minimum)"
   ]
  },
  {
   "cell_type": "code",
   "execution_count": 16,
   "id": "83ed9746",
   "metadata": {},
   "outputs": [
    {
     "name": "stdout",
     "output_type": "stream",
     "text": [
      "-4\n"
     ]
    }
   ],
   "source": [
    "arr = [4,5,3,7,0,1,11,1,-4]\n",
    "print_minimum(arr)"
   ]
  },
  {
   "cell_type": "markdown",
   "id": "056a7e0c",
   "metadata": {},
   "source": [
    "# Print all Subsequences of the string"
   ]
  },
  {
   "cell_type": "code",
   "execution_count": 9,
   "id": "25102b92",
   "metadata": {},
   "outputs": [],
   "source": [
    "def print_subs(s, output=\"\"):\n",
    "    \n",
    "    if len(s) == 0:\n",
    "        print(output)\n",
    "        return\n",
    "        \n",
    "    current_char = s[0]\n",
    "    string_ahead = s[1:]\n",
    "    \n",
    "    # here we take decision for the first character to include it in subsequence or exclude from subsequence\n",
    "    # for 2 decision choices we will make 2 recursive calls\n",
    "    \n",
    "    print_subs(string_ahead, output) # excluding current character\n",
    "    \n",
    "    newOutput = output + current_char\n",
    "    print_subs(string_ahead, newOutput) # including current character in subsequence"
   ]
  },
  {
   "cell_type": "code",
   "execution_count": 10,
   "id": "9bef798f",
   "metadata": {},
   "outputs": [
    {
     "name": "stdout",
     "output_type": "stream",
     "text": [
      "\n",
      "c\n",
      "b\n",
      "bc\n",
      "a\n",
      "ac\n",
      "ab\n",
      "abc\n"
     ]
    }
   ],
   "source": [
    "print_subs(\"abc\")"
   ]
  },
  {
   "cell_type": "code",
   "execution_count": 14,
   "id": "051badb9",
   "metadata": {},
   "outputs": [
    {
     "name": "stdout",
     "output_type": "stream",
     "text": [
      "234\n",
      "adg\n",
      "bdg\n",
      "cdg\n",
      "aeg\n",
      "beg\n",
      "ceg\n",
      "afg\n",
      "bfg\n",
      "cfg\n",
      "adh\n",
      "bdh\n",
      "cdh\n",
      "aeh\n",
      "beh\n",
      "ceh\n",
      "afh\n",
      "bfh\n",
      "cfh\n",
      "adi\n",
      "bdi\n",
      "cdi\n",
      "aei\n",
      "bei\n",
      "cei\n",
      "afi\n",
      "bfi\n",
      "cfi\n"
     ]
    }
   ],
   "source": [
    "def print_keypad(n, keypad_combination, output=\"\"):\n",
    "    #Implement Your Code Here\n",
    "    \n",
    "    if n ==0 :\n",
    "        print(output)\n",
    "        return\n",
    "    \n",
    "    smallerInteger = n//10\n",
    "    currentInteger = n%10\n",
    "    \n",
    "    current_key_combination = keypad_combination[currentInteger]\n",
    "    \n",
    "    for current_key in current_key_combination:\n",
    "        \n",
    "        newOutput = current_key + output\n",
    "        smallerOutput = print_keypad(smallerInteger, keypad_combination, newOutput)\n",
    "\n",
    "n = int(input())\n",
    "keypad_combination = {1:\"\", 2:\"abc\", 3:\"def\", 4:\"ghi\", 5:\"jkl\", 6:\"mno\", 7:\"pqrs\", 8:\"tuv\", 9:\"wxyz\"}\n",
    "print_keypad(n, keypad_combination)"
   ]
  },
  {
   "cell_type": "code",
   "execution_count": 17,
   "id": "9f6b14f2",
   "metadata": {},
   "outputs": [
    {
     "data": {
      "text/plain": [
       "'[1, 2, 3]'"
      ]
     },
     "execution_count": 17,
     "metadata": {},
     "output_type": "execute_result"
    }
   ],
   "source": [
    "output = [1,2,3]\n",
    "s = \n",
    "s"
   ]
  },
  {
   "cell_type": "code",
   "execution_count": 24,
   "id": "ac504742",
   "metadata": {},
   "outputs": [
    {
     "name": "stdout",
     "output_type": "stream",
     "text": [
      "bcd abcad\n"
     ]
    }
   ],
   "source": [
    "s = \"abcad\"\n",
    "x = s.replace(\"a\",\"\")\n",
    "print(x, s)"
   ]
  },
  {
   "cell_type": "code",
   "execution_count": null,
   "id": "43069ea8",
   "metadata": {},
   "outputs": [],
   "source": []
  }
 ],
 "metadata": {
  "kernelspec": {
   "display_name": "Python 3 (ipykernel)",
   "language": "python",
   "name": "python3"
  },
  "language_info": {
   "codemirror_mode": {
    "name": "ipython",
    "version": 3
   },
   "file_extension": ".py",
   "mimetype": "text/x-python",
   "name": "python",
   "nbconvert_exporter": "python",
   "pygments_lexer": "ipython3",
   "version": "3.8.11"
  }
 },
 "nbformat": 4,
 "nbformat_minor": 5
}
