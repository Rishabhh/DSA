{
 "cells": [
  {
   "cell_type": "code",
   "execution_count": 4,
   "id": "d05d9437",
   "metadata": {},
   "outputs": [],
   "source": [
    "x = object() # creating an object of Class \"object\""
   ]
  },
  {
   "cell_type": "code",
   "execution_count": 2,
   "id": "667b4b32",
   "metadata": {},
   "outputs": [
    {
     "ename": "AttributeError",
     "evalue": "'object' object has no attribute 'data'",
     "output_type": "error",
     "traceback": [
      "\u001b[0;31m---------------------------------------------------------------------------\u001b[0m",
      "\u001b[0;31mAttributeError\u001b[0m                            Traceback (most recent call last)",
      "Input \u001b[0;32mIn [2]\u001b[0m, in \u001b[0;36m<cell line: 1>\u001b[0;34m()\u001b[0m\n\u001b[0;32m----> 1\u001b[0m x\u001b[38;5;241m.\u001b[39mdata \u001b[38;5;241m=\u001b[39m \u001b[38;5;241m5\u001b[39m\n",
      "\u001b[0;31mAttributeError\u001b[0m: 'object' object has no attribute 'data'"
     ]
    }
   ],
   "source": [
    "x.data = 5"
   ]
  },
  {
   "cell_type": "markdown",
   "id": "dbb9e76e",
   "metadata": {},
   "source": [
    "## Reason :\n",
    "\n",
    "**class object**\n",
    "\n",
    "Return a new featureless object. object is a base class for all classes. It has methods that are common to all instances of Python classes. This function does not accept any arguments (object class's __init__ must be empty)\n",
    "\n",
    "#### Note :  object does not have a __dict__, so you can’t assign arbitrary attributes to an instance of the object class.\n",
    "\n"
   ]
  },
  {
   "cell_type": "code",
   "execution_count": 5,
   "id": "a6f3f1db",
   "metadata": {},
   "outputs": [
    {
     "name": "stdout",
     "output_type": "stream",
     "text": [
      "{}\n",
      "{'name': 'Rishabhh', 'roll_number': 64}\n"
     ]
    }
   ],
   "source": [
    "class Student:\n",
    "    \n",
    "    def __init__(self):\n",
    "        pass\n",
    "    \n",
    "x = Student() # creating object of class Student\n",
    "\n",
    "# Since our Student object did not have any attribute, accessing the __dict__ will give an empty dictionary\n",
    "y = x.__dict__\n",
    "print(y)\n",
    "\n",
    "# adding attributes\n",
    "x.name = \"Rishabhh\"\n",
    "x.roll_number = 64\n",
    "\n",
    "# accessing __dict__ gives us our attributes. Basically our attributes of object are stored in __dict__\n",
    "y = x.__dict__\n",
    "print(y)"
   ]
  },
  {
   "cell_type": "code",
   "execution_count": null,
   "id": "bf7deee4",
   "metadata": {},
   "outputs": [],
   "source": []
  },
  {
   "cell_type": "code",
   "execution_count": null,
   "id": "88eaed82",
   "metadata": {},
   "outputs": [],
   "source": []
  },
  {
   "cell_type": "markdown",
   "id": "5750ebd6",
   "metadata": {},
   "source": [
    "## Callable"
   ]
  },
  {
   "cell_type": "code",
   "execution_count": 48,
   "id": "f16ae986",
   "metadata": {},
   "outputs": [
    {
     "name": "stdout",
     "output_type": "stream",
     "text": [
      "['__class__', '__delattr__', '__dict__', '__dir__', '__doc__', '__eq__', '__format__', '__ge__', '__getattribute__', '__gt__', '__hash__', '__init__', '__init_subclass__', '__le__', '__lt__', '__module__', '__ne__', '__new__', '__reduce__', '__reduce_ex__', '__repr__', '__setattr__', '__sizeof__', '__str__', '__subclasshook__', '__weakref__']\n"
     ]
    }
   ],
   "source": [
    "class shape:\n",
    "    pass\n",
    "\n",
    "x = shape()\n",
    "print(dir(x))"
   ]
  },
  {
   "cell_type": "code",
   "execution_count": 50,
   "id": "3bbe4354",
   "metadata": {},
   "outputs": [
    {
     "ename": "TypeError",
     "evalue": "Cannot create a consistent method resolution\norder (MRO) for bases First, Second",
     "output_type": "error",
     "traceback": [
      "\u001b[0;31m---------------------------------------------------------------------------\u001b[0m",
      "\u001b[0;31mTypeError\u001b[0m                                 Traceback (most recent call last)",
      "Input \u001b[0;32mIn [50]\u001b[0m, in \u001b[0;36m<cell line: 9>\u001b[0;34m()\u001b[0m\n\u001b[1;32m      6\u001b[0m     \u001b[38;5;28;01mdef\u001b[39;00m \u001b[38;5;21m__init__\u001b[39m(\u001b[38;5;28mself\u001b[39m):\n\u001b[1;32m      7\u001b[0m         \u001b[38;5;28mprint\u001b[39m(\u001b[38;5;124m\"\u001b[39m\u001b[38;5;124msecond\u001b[39m\u001b[38;5;124m\"\u001b[39m)\n\u001b[0;32m----> 9\u001b[0m \u001b[38;5;28;01mclass\u001b[39;00m \u001b[38;5;21;01mThird\u001b[39;00m(First, Second):\n\u001b[1;32m     10\u001b[0m     \u001b[38;5;28;01mdef\u001b[39;00m \u001b[38;5;21m__init__\u001b[39m(\u001b[38;5;28mself\u001b[39m):\n\u001b[1;32m     11\u001b[0m         \u001b[38;5;28mprint\u001b[39m(\u001b[38;5;124m\"\u001b[39m\u001b[38;5;124mthird\u001b[39m\u001b[38;5;124m\"\u001b[39m)\n",
      "\u001b[0;31mTypeError\u001b[0m: Cannot create a consistent method resolution\norder (MRO) for bases First, Second"
     ]
    }
   ],
   "source": [
    "class First(object):\n",
    "    def __init__(self):\n",
    "        print(\"first\")\n",
    "        \n",
    "class Second(First):\n",
    "    def __init__(self):\n",
    "        print(\"second\")\n",
    "\n",
    "class Third(First, Second):\n",
    "    def __init__(self):\n",
    "        print(\"third\")\n",
    "        \n",
    "x = Third()"
   ]
  },
  {
   "cell_type": "code",
   "execution_count": 52,
   "id": "55986edf",
   "metadata": {},
   "outputs": [],
   "source": [
    "#!/usr/bin/env python2\n",
    "\n",
    "class First(object):\n",
    "  def __init__(self):\n",
    "    print(\"First(): entering\")\n",
    "    super(First, self).__init__()\n",
    "    print(\"First(): exiting\")\n",
    "\n",
    "class Second(object):\n",
    "  def __init__(self):\n",
    "    print(\"Second(): entering\")\n",
    "    super(Second, self).__init__()\n",
    "    print(\"Second(): exiting\")\n",
    "\n",
    "class Third(First, Second):\n",
    "  def __init__(self):\n",
    "    print(\"Third(): entering\")\n",
    "    super(Third, self).__init__()\n",
    "    print(\"Third(): exiting\")"
   ]
  },
  {
   "cell_type": "code",
   "execution_count": 53,
   "id": "8eb1a608",
   "metadata": {},
   "outputs": [
    {
     "name": "stdout",
     "output_type": "stream",
     "text": [
      "Third(): entering\n",
      "First(): entering\n",
      "Second(): entering\n",
      "Second(): exiting\n",
      "First(): exiting\n",
      "Third(): exiting\n"
     ]
    },
    {
     "data": {
      "text/plain": [
       "<__main__.Third at 0x108ba3a60>"
      ]
     },
     "execution_count": 53,
     "metadata": {},
     "output_type": "execute_result"
    }
   ],
   "source": [
    "Third()"
   ]
  },
  {
   "cell_type": "code",
   "execution_count": null,
   "id": "2eb09598",
   "metadata": {},
   "outputs": [],
   "source": []
  }
 ],
 "metadata": {
  "kernelspec": {
   "display_name": "Python 3 (ipykernel)",
   "language": "python",
   "name": "python3"
  },
  "language_info": {
   "codemirror_mode": {
    "name": "ipython",
    "version": 3
   },
   "file_extension": ".py",
   "mimetype": "text/x-python",
   "name": "python",
   "nbconvert_exporter": "python",
   "pygments_lexer": "ipython3",
   "version": "3.8.11"
  }
 },
 "nbformat": 4,
 "nbformat_minor": 5
}
