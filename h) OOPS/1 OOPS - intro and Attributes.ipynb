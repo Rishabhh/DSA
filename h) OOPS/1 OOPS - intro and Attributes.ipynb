{
 "cells": [
  {
   "cell_type": "markdown",
   "id": "1c1f3f2c",
   "metadata": {},
   "source": [
    "# OOPS \n",
    "\n",
    "#### The OOPS is required to have our code implemented in such a way that it is very intuitive to read to know the functionality of the code\n",
    "\n",
    "    Ex : batch.add_student(Student_id)"
   ]
  },
  {
   "cell_type": "markdown",
   "id": "b05d219c",
   "metadata": {},
   "source": [
    "#### Objects are the real world entities you want to create. \n",
    "    Ex-1 : Students of a batch\n",
    "    Ex-2 : Courses of a university\n",
    "\n",
    "\n",
    "**- Classes are templates using which object are created. Classes contain ATTRIBUTES AND FUNCTIONALITIES OF THE OBJECT. Each object created from the class will contain those attributes and functionalities**<br>\n",
    "**- For each batch we will use this Class and add students to that batch**\n",
    "\n",
    "\n",
    "#### Ex:A student class will have attributes like BATCH_ID, NAME, AGE etc and Functionalities like ADD STUDENT TO A BATCH\n"
   ]
  },
  {
   "cell_type": "markdown",
   "id": "b915f49e",
   "metadata": {},
   "source": [
    "### <span style=\"color:red\">Class is a template/blueprint</span>  AND <span style=\"color:red\">Object is an instance of a class</span>"
   ]
  },
  {
   "cell_type": "markdown",
   "id": "c5946498",
   "metadata": {},
   "source": [
    "### Creating objects from a class"
   ]
  },
  {
   "cell_type": "code",
   "execution_count": 5,
   "id": "f99d804b",
   "metadata": {},
   "outputs": [],
   "source": [
    "class Student:\n",
    "    pass"
   ]
  },
  {
   "cell_type": "code",
   "execution_count": 6,
   "id": "51698272",
   "metadata": {},
   "outputs": [],
   "source": [
    "s1 = Student()"
   ]
  },
  {
   "cell_type": "code",
   "execution_count": 7,
   "id": "56b5d1e5",
   "metadata": {},
   "outputs": [
    {
     "name": "stdout",
     "output_type": "stream",
     "text": [
      "<__main__.Student object at 0x110f8eeb0>\n"
     ]
    }
   ],
   "source": [
    "print(s1)"
   ]
  },
  {
   "cell_type": "code",
   "execution_count": 8,
   "id": "ab61860f",
   "metadata": {},
   "outputs": [
    {
     "name": "stdout",
     "output_type": "stream",
     "text": [
      "<class '__main__.Student'>\n"
     ]
    }
   ],
   "source": [
    "print(type(s1))"
   ]
  },
  {
   "cell_type": "code",
   "execution_count": 10,
   "id": "74b6efff",
   "metadata": {},
   "outputs": [
    {
     "name": "stdout",
     "output_type": "stream",
     "text": [
      "<class 'list'>\n"
     ]
    }
   ],
   "source": [
    "l = list()\n",
    "print(type(l))"
   ]
  },
  {
   "cell_type": "code",
   "execution_count": 11,
   "id": "692d6ce9",
   "metadata": {
    "scrolled": true
   },
   "outputs": [
    {
     "name": "stdout",
     "output_type": "stream",
     "text": [
      "<__main__.Student object at 0x110f8e6a0> <__main__.Student object at 0x110f8ea00>\n"
     ]
    }
   ],
   "source": [
    "s2 = Student()\n",
    "s3 = Student()\n",
    "\n",
    "print(s2, s3)"
   ]
  },
  {
   "cell_type": "markdown",
   "id": "9a83bf0f",
   "metadata": {},
   "source": [
    "### A class has 2 things -:\n",
    "    Attributes  : Used to define various properties that the class or the objects created from that class needs\n",
    "    Methods : Used to perform some functionality using class attributes or otherwise to achieve some particular aim"
   ]
  },
  {
   "cell_type": "markdown",
   "id": "ac97d452",
   "metadata": {},
   "source": [
    "## Types of Attributes -  Class Attributes and Instance Attributes\n",
    "\n",
    "#### <span style=\"color:blue\">1) Some attributes will be inherited by the object from the class attributes = CLASS ATTRIBUTES</span>\n",
    "**Class attributes are declared once but shared/created for all objects BUT if one object changes that class attribute, IT REMAINS SAME for all other objects. Therefore it should be used carefully usually for cases where something needs to exist for all objects and to remains same for all.**<br><br>\n",
    "<span style=\"color:green\"><b>The only way to change value of class attribute/variable for all the objects is by accessing the class variable directly by syntax </b></span> <br>\n",
    "<span style=\"color:red\"><b>class_name.class_attribute = new_value </b></span>\n",
    "##### and\n",
    "#### <span style=\"color:blue\">2) Some attributes can be extra added to a particular object = INSTANCE ATTRIBUTES</span>\n",
    "**2 ways to add Instance attributes :**\n",
    "    \n",
    "    - Using INIT CONSTRUCTOR\n",
    "    - Directly accessing object and using dot (.) operator\n",
    "    \n",
    "**Note** - A careful thought needs to be given while declaring variables as class variable/attribute as they act like global variables that is shared by all objects but can be alterted by an object for its own instance. <br><br>\n",
    "\n",
    "Anything variable whose value is supposed to change according to a new object created should be part of instance variable/attributes (in __init__ method) .<br>\n",
    "Anything that needs to remain same among all the object created of a class should be part of class variable/attribute."
   ]
  },
  {
   "cell_type": "code",
   "execution_count": 6,
   "id": "ac43864b",
   "metadata": {},
   "outputs": [],
   "source": [
    "class Student:\n",
    "    \n",
    "    school = \"Bharatiya Vidya Bhavan\" # class attribute\n",
    "    \n",
    "    def __init__(self, name, grade):\n",
    "        self.name = name # Instance attribute\n",
    "        self.grade = grade # Instance attribute"
   ]
  },
  {
   "cell_type": "code",
   "execution_count": 39,
   "id": "9b64e55f",
   "metadata": {},
   "outputs": [],
   "source": [
    "s1 = Student(\"Rishabhh\",\"10th\")\n",
    "s2 = Student(\"Nishant\", \"12th\")"
   ]
  },
  {
   "cell_type": "code",
   "execution_count": 40,
   "id": "d76de1ef",
   "metadata": {},
   "outputs": [
    {
     "name": "stdout",
     "output_type": "stream",
     "text": [
      "Bharatiya Vidya Bhavan\n"
     ]
    }
   ],
   "source": [
    "print(s1.school)"
   ]
  },
  {
   "cell_type": "code",
   "execution_count": 41,
   "id": "759e8c09",
   "metadata": {},
   "outputs": [
    {
     "name": "stdout",
     "output_type": "stream",
     "text": [
      "Bharatiya Vidya Bhavan\n"
     ]
    }
   ],
   "source": [
    "print(s2.school)"
   ]
  },
  {
   "cell_type": "code",
   "execution_count": 42,
   "id": "66a92dd7",
   "metadata": {},
   "outputs": [],
   "source": [
    "s1.school = \"May Fair Public School\""
   ]
  },
  {
   "cell_type": "code",
   "execution_count": 43,
   "id": "d19bd0f0",
   "metadata": {},
   "outputs": [
    {
     "name": "stdout",
     "output_type": "stream",
     "text": [
      "May Fair Public School\n"
     ]
    }
   ],
   "source": [
    "print(s1.school)"
   ]
  },
  {
   "cell_type": "code",
   "execution_count": 44,
   "id": "e2a84c7e",
   "metadata": {
    "scrolled": true
   },
   "outputs": [
    {
     "name": "stdout",
     "output_type": "stream",
     "text": [
      "Bharatiya Vidya Bhavan\n"
     ]
    }
   ],
   "source": [
    "print(s2.school) # the school remains same for s2 and only changed for s1"
   ]
  },
  {
   "cell_type": "code",
   "execution_count": 18,
   "id": "9b0a1963",
   "metadata": {},
   "outputs": [
    {
     "name": "stdout",
     "output_type": "stream",
     "text": [
      "Rishabhh\n"
     ]
    }
   ],
   "source": [
    "print(s1.name) # accessing instance variable"
   ]
  },
  {
   "cell_type": "code",
   "execution_count": 19,
   "id": "fd7953c8",
   "metadata": {},
   "outputs": [
    {
     "name": "stdout",
     "output_type": "stream",
     "text": [
      "Nishant\n"
     ]
    }
   ],
   "source": [
    "print(s2.name) # aceessing instance variable"
   ]
  },
  {
   "cell_type": "markdown",
   "id": "5be43494",
   "metadata": {},
   "source": [
    "## Problems with accessing CLASS VARIABLE.\n",
    "\n",
    "If a class variable is a normal string type variable and if 1 object tries to change the class variable, it DOES NOT affect the class variable in other objects. <br>\n",
    "But if class variable is a container like a list then modification by 1 object is seen by others too"
   ]
  },
  {
   "cell_type": "code",
   "execution_count": 58,
   "id": "97530fab",
   "metadata": {},
   "outputs": [
    {
     "name": "stdout",
     "output_type": "stream",
     "text": [
      "Name: Mark\n",
      "Team Name: TEST-NAME-TEAM\n",
      "['Barcelona', 'Chelsea']\n",
      "Name: Steve\n",
      "Team Name: Liverpool\n",
      "['Barcelona', 'Chelsea']\n"
     ]
    }
   ],
   "source": [
    "class Player:\n",
    "    \n",
    "    formerTeams = []  # class variables\n",
    "    teamName = 'Liverpool' # class variables\n",
    "    \n",
    "    def __init__(self, name):\n",
    "        self.name = name  # creating instance variables\n",
    "\n",
    "\n",
    "p1 = Player('Mark')\n",
    "p1.formerTeams.append('Barcelona') # wrong use of class variable\n",
    "p2 = Player('Steve')\n",
    "p2.formerTeams.append('Chelsea') # wrong use of class variable\n",
    "\n",
    "# p1 modifies teamName doesn't change for p2 in case it is a normal variable but it does for list variable\n",
    "p1.teamName = 'TEST-NAME-TEAM'\n",
    "\n",
    "print(\"Name:\", p1.name)\n",
    "print(\"Team Name:\", p1.teamName)\n",
    "print(p1.formerTeams)\n",
    "print(\"Name:\", p2.name)\n",
    "print(\"Team Name:\", p2.teamName)\n",
    "print(p2.formerTeams)"
   ]
  },
  {
   "cell_type": "markdown",
   "id": "e010d481",
   "metadata": {},
   "source": [
    "### Adding additional Instance variable (rollNumber) to a particular object"
   ]
  },
  {
   "cell_type": "code",
   "execution_count": 45,
   "id": "9a9c153f",
   "metadata": {},
   "outputs": [],
   "source": [
    "s1.rollNumber = 24"
   ]
  },
  {
   "cell_type": "code",
   "execution_count": 46,
   "id": "7da91b97",
   "metadata": {},
   "outputs": [
    {
     "name": "stdout",
     "output_type": "stream",
     "text": [
      "24\n"
     ]
    }
   ],
   "source": [
    "print(s1.rollNumber)"
   ]
  },
  {
   "cell_type": "code",
   "execution_count": 27,
   "id": "b6a564e5",
   "metadata": {
    "scrolled": true
   },
   "outputs": [
    {
     "ename": "AttributeError",
     "evalue": "'Student' object has no attribute 'rollNumber'",
     "output_type": "error",
     "traceback": [
      "\u001b[0;31m---------------------------------------------------------------------------\u001b[0m",
      "\u001b[0;31mAttributeError\u001b[0m                            Traceback (most recent call last)",
      "Input \u001b[0;32mIn [27]\u001b[0m, in \u001b[0;36m<cell line: 1>\u001b[0;34m()\u001b[0m\n\u001b[0;32m----> 1\u001b[0m \u001b[43ms2\u001b[49m\u001b[38;5;241;43m.\u001b[39;49m\u001b[43mrollNumber\u001b[49m\n",
      "\u001b[0;31mAttributeError\u001b[0m: 'Student' object has no attribute 'rollNumber'"
     ]
    }
   ],
   "source": [
    "s2.rollNumber # rollNumber variable does not exist for s2 object"
   ]
  },
  {
   "cell_type": "markdown",
   "id": "65b24e81",
   "metadata": {},
   "source": [
    "### HOW TO CHECK WHAT ALL ATTRIBUTES AN OBJECT HAS\n",
    "\n",
    "**Note -> Class variables are not part of this dictionary**"
   ]
  },
  {
   "cell_type": "code",
   "execution_count": 23,
   "id": "f8c0a6fa",
   "metadata": {},
   "outputs": [],
   "source": [
    "s3 = Student(\"Nishant\",\"12th\")\n",
    "s3.rollNumber = 25"
   ]
  },
  {
   "cell_type": "code",
   "execution_count": 24,
   "id": "272b292e",
   "metadata": {
    "scrolled": true
   },
   "outputs": [
    {
     "data": {
      "text/plain": [
       "{'name': 'Nishant', 'grade': '12th', 'rollNumber': 25}"
      ]
     },
     "execution_count": 24,
     "metadata": {},
     "output_type": "execute_result"
    }
   ],
   "source": [
    "s3.__dict__"
   ]
  },
  {
   "cell_type": "markdown",
   "id": "2f5fcc8a",
   "metadata": {},
   "source": [
    "### Interesting observation below\n",
    "\n",
    "The class variable that was changed for s1 object now becomes part of its instance variable dictionary and is present there whereas for s2 object since it is still accessing the class variable value for school, the variable school is not part of its instance variable dictionary."
   ]
  },
  {
   "cell_type": "code",
   "execution_count": 25,
   "id": "12015096",
   "metadata": {
    "scrolled": true
   },
   "outputs": [
    {
     "data": {
      "text/plain": [
       "{'name': 'Rishabhh',\n",
       " 'grade': '10th',\n",
       " 'school': 'May Fair Public School',\n",
       " 'rollNumber': 24}"
      ]
     },
     "execution_count": 25,
     "metadata": {},
     "output_type": "execute_result"
    }
   ],
   "source": [
    "s1.__dict__"
   ]
  },
  {
   "cell_type": "code",
   "execution_count": 26,
   "id": "a388c8aa",
   "metadata": {},
   "outputs": [
    {
     "data": {
      "text/plain": [
       "{'name': 'Nishant', 'grade': '12th'}"
      ]
     },
     "execution_count": 26,
     "metadata": {},
     "output_type": "execute_result"
    }
   ],
   "source": [
    "s2.__dict__"
   ]
  },
  {
   "cell_type": "markdown",
   "id": "e43d1602",
   "metadata": {},
   "source": [
    "### OPERATIONS ON OBJECT'S ATTRIBUTES\n",
    "    - hasattr\n",
    "    - getattr\n",
    "    - delattr"
   ]
  },
  {
   "cell_type": "markdown",
   "id": "ed8d4366",
   "metadata": {},
   "source": [
    "#### CHECK IF AN OBJECT HAS A PARTICULAR ATTRIBUTE"
   ]
  },
  {
   "cell_type": "code",
   "execution_count": 28,
   "id": "5b2028a5",
   "metadata": {},
   "outputs": [
    {
     "data": {
      "text/plain": [
       "True"
      ]
     },
     "execution_count": 28,
     "metadata": {},
     "output_type": "execute_result"
    }
   ],
   "source": [
    "hasattr(s1, \"rollNumber\")"
   ]
  },
  {
   "cell_type": "code",
   "execution_count": 29,
   "id": "7bbb1578",
   "metadata": {},
   "outputs": [
    {
     "data": {
      "text/plain": [
       "False"
      ]
     },
     "execution_count": 29,
     "metadata": {},
     "output_type": "execute_result"
    }
   ],
   "source": [
    "hasattr(s2, \"rollNumber\")"
   ]
  },
  {
   "cell_type": "markdown",
   "id": "25151e7d",
   "metadata": {},
   "source": [
    "#### RETRIEVE AN OBJECT'S ATTRIBUTES VALUE"
   ]
  },
  {
   "cell_type": "code",
   "execution_count": 30,
   "id": "9e13b6aa",
   "metadata": {},
   "outputs": [
    {
     "name": "stdout",
     "output_type": "stream",
     "text": [
      "24\n"
     ]
    }
   ],
   "source": [
    "roll = getattr(s1, \"rollNumber\")\n",
    "print(roll)"
   ]
  },
  {
   "cell_type": "code",
   "execution_count": 31,
   "id": "c2953681",
   "metadata": {},
   "outputs": [
    {
     "ename": "AttributeError",
     "evalue": "'Student' object has no attribute 'rollNumber'",
     "output_type": "error",
     "traceback": [
      "\u001b[0;31m---------------------------------------------------------------------------\u001b[0m",
      "\u001b[0;31mAttributeError\u001b[0m                            Traceback (most recent call last)",
      "Input \u001b[0;32mIn [31]\u001b[0m, in \u001b[0;36m<cell line: 1>\u001b[0;34m()\u001b[0m\n\u001b[0;32m----> 1\u001b[0m \u001b[38;5;28;43mgetattr\u001b[39;49m\u001b[43m(\u001b[49m\u001b[43ms2\u001b[49m\u001b[43m,\u001b[49m\u001b[43m \u001b[49m\u001b[38;5;124;43m\"\u001b[39;49m\u001b[38;5;124;43mrollNumber\u001b[39;49m\u001b[38;5;124;43m\"\u001b[39;49m\u001b[43m)\u001b[49m\n",
      "\u001b[0;31mAttributeError\u001b[0m: 'Student' object has no attribute 'rollNumber'"
     ]
    }
   ],
   "source": [
    "getattr(s2, \"rollNumber\")"
   ]
  },
  {
   "cell_type": "code",
   "execution_count": 33,
   "id": "81577789",
   "metadata": {},
   "outputs": [
    {
     "ename": "AttributeError",
     "evalue": "'Student' object has no attribute 'rollNumber'",
     "output_type": "error",
     "traceback": [
      "\u001b[0;31m---------------------------------------------------------------------------\u001b[0m",
      "\u001b[0;31mAttributeError\u001b[0m                            Traceback (most recent call last)",
      "Input \u001b[0;32mIn [33]\u001b[0m, in \u001b[0;36m<cell line: 1>\u001b[0;34m()\u001b[0m\n\u001b[0;32m----> 1\u001b[0m name \u001b[38;5;241m=\u001b[39m \u001b[38;5;28;43mgetattr\u001b[39;49m\u001b[43m(\u001b[49m\u001b[43ms2\u001b[49m\u001b[43m,\u001b[49m\u001b[43m \u001b[49m\u001b[38;5;124;43m\"\u001b[39;49m\u001b[38;5;124;43mrollNumber\u001b[39;49m\u001b[38;5;124;43m\"\u001b[39;49m\u001b[43m)\u001b[49m\n\u001b[1;32m      2\u001b[0m \u001b[38;5;28mprint\u001b[39m(name)\n",
      "\u001b[0;31mAttributeError\u001b[0m: 'Student' object has no attribute 'rollNumber'"
     ]
    }
   ],
   "source": [
    "name = getattr(s2, \"rollNumber\")\n",
    "print(name)"
   ]
  },
  {
   "cell_type": "markdown",
   "id": "3ee8e8e6",
   "metadata": {},
   "source": [
    "#### GET ATTRIBUTE WITH DEFAULT PARAMETER - s2.rollNumber will always give error but getattr gives a way to handle error"
   ]
  },
  {
   "cell_type": "code",
   "execution_count": 34,
   "id": "f28a9d91",
   "metadata": {},
   "outputs": [
    {
     "name": "stdout",
     "output_type": "stream",
     "text": [
      "UNKNOWN\n"
     ]
    }
   ],
   "source": [
    "name = getattr(s2, \" rollNumber\", \"UNKNOWN\")\n",
    "print(name)"
   ]
  },
  {
   "cell_type": "markdown",
   "id": "e82bf77c",
   "metadata": {},
   "source": [
    "#### DELETE A PARTICULAR ATTRIBUTE"
   ]
  },
  {
   "cell_type": "code",
   "execution_count": 47,
   "id": "9a9003ff",
   "metadata": {},
   "outputs": [
    {
     "data": {
      "text/plain": [
       "{'name': 'Rishabhh',\n",
       " 'grade': '10th',\n",
       " 'school': 'May Fair Public School',\n",
       " 'rollNumber': 24}"
      ]
     },
     "execution_count": 47,
     "metadata": {},
     "output_type": "execute_result"
    }
   ],
   "source": [
    "s1.__dict__"
   ]
  },
  {
   "cell_type": "code",
   "execution_count": 48,
   "id": "1b4bd04d",
   "metadata": {},
   "outputs": [
    {
     "data": {
      "text/plain": [
       "{'name': 'Rishabhh', 'grade': '10th', 'school': 'May Fair Public School'}"
      ]
     },
     "execution_count": 48,
     "metadata": {},
     "output_type": "execute_result"
    }
   ],
   "source": [
    "delattr(s1, \"rollNumber\")\n",
    "s1.__dict__"
   ]
  },
  {
   "cell_type": "code",
   "execution_count": 49,
   "id": "2d108804",
   "metadata": {},
   "outputs": [
    {
     "data": {
      "text/plain": [
       "{'name': 'Rishabhh', 'school': 'May Fair Public School'}"
      ]
     },
     "execution_count": 49,
     "metadata": {},
     "output_type": "execute_result"
    }
   ],
   "source": [
    "delattr(s1, \"grade\")\n",
    "s1.__dict__"
   ]
  },
  {
   "cell_type": "code",
   "execution_count": 50,
   "id": "85a66681",
   "metadata": {},
   "outputs": [
    {
     "data": {
      "text/plain": [
       "{'name': 'Rishabhh'}"
      ]
     },
     "execution_count": 50,
     "metadata": {},
     "output_type": "execute_result"
    }
   ],
   "source": [
    "delattr(s1, \"school\")\n",
    "s1.__dict__"
   ]
  },
  {
   "cell_type": "markdown",
   "id": "b2b486ee",
   "metadata": {},
   "source": [
    "### Changing Class Variable for all the objects simultaneously using CLASS Name"
   ]
  },
  {
   "cell_type": "code",
   "execution_count": 51,
   "id": "c4a14107",
   "metadata": {},
   "outputs": [],
   "source": [
    "class A:\n",
    "    \n",
    "    x = 5"
   ]
  },
  {
   "cell_type": "code",
   "execution_count": 52,
   "id": "1a5c592e",
   "metadata": {},
   "outputs": [],
   "source": [
    "obj1 = A()\n",
    "obj2 = A()"
   ]
  },
  {
   "cell_type": "code",
   "execution_count": 54,
   "id": "2e0184b0",
   "metadata": {},
   "outputs": [
    {
     "name": "stdout",
     "output_type": "stream",
     "text": [
      "5\n",
      "5\n"
     ]
    }
   ],
   "source": [
    "print(obj1.x)\n",
    "print(obj2.x)"
   ]
  },
  {
   "cell_type": "code",
   "execution_count": 55,
   "id": "a4879933",
   "metadata": {},
   "outputs": [],
   "source": [
    "A.x = 10"
   ]
  },
  {
   "cell_type": "code",
   "execution_count": 56,
   "id": "eed9d511",
   "metadata": {},
   "outputs": [
    {
     "name": "stdout",
     "output_type": "stream",
     "text": [
      "10\n",
      "10\n"
     ]
    }
   ],
   "source": [
    "print(obj1.x)\n",
    "print(obj2.x)"
   ]
  },
  {
   "cell_type": "code",
   "execution_count": null,
   "id": "383d2589",
   "metadata": {},
   "outputs": [],
   "source": []
  }
 ],
 "metadata": {
  "kernelspec": {
   "display_name": "Python 3 (ipykernel)",
   "language": "python",
   "name": "python3"
  },
  "language_info": {
   "codemirror_mode": {
    "name": "ipython",
    "version": 3
   },
   "file_extension": ".py",
   "mimetype": "text/x-python",
   "name": "python",
   "nbconvert_exporter": "python",
   "pygments_lexer": "ipython3",
   "version": "3.8.11"
  }
 },
 "nbformat": 4,
 "nbformat_minor": 5
}
