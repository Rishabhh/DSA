{
 "cells": [
  {
   "cell_type": "markdown",
   "id": "733e1877",
   "metadata": {},
   "source": [
    "# Class Methods\n",
    "\n",
    "Methods are just functions in context of classes. The key point is that they should do something with either the class variables or instance variables.\n",
    "\n",
    "There are 3 types of methods in a class:\n",
    "    \n",
    "    1) Static Methods\n",
    "    2) Instance Methods\n",
    "    3) Class Method"
   ]
  },
  {
   "cell_type": "code",
   "execution_count": 35,
   "id": "6d659cf1",
   "metadata": {},
   "outputs": [],
   "source": [
    "class ExpenseTracker:\n",
    "    \n",
    "    \"\"\"this is a docstring that defines the purpose of the class just like comments\"\"\"\n",
    "    \n",
    "    # class attribute\n",
    "    expense_tracker_version = 0.1\n",
    "    \n",
    "    def __init__(self, track_category, original_balance, budget):\n",
    "        \n",
    "        # instance/object attributes\n",
    "        self.track_category = track_category\n",
    "        self.original_balance = original_balance\n",
    "        self.tracker_budget = budget\n",
    "    \n",
    "    # instance method\n",
    "    def get_original_balance(self):\n",
    "        \n",
    "        return self.original_balance\n",
    "    \n",
    "    def check_balance(self, limit=1000):\n",
    "        \n",
    "        if self.tracker_budget >= limit:\n",
    "            return True\n",
    "        else:\n",
    "            return \"Your opening balance is less than the limit\""
   ]
  },
  {
   "cell_type": "code",
   "execution_count": 19,
   "id": "08aa7836",
   "metadata": {},
   "outputs": [],
   "source": [
    "obj1 = ExpenseTracker(\"Home\", 0, 1000)\n",
    "obj2 = ExpenseTracker(\"Business\", 10000, 100000)"
   ]
  },
  {
   "cell_type": "markdown",
   "id": "b7cb5683",
   "metadata": {},
   "source": [
    "## Instance methods\n",
    "**They have access to the instance specific attribute/variable (instance variables) and functions because of \"self\" keyword.**"
   ]
  },
  {
   "cell_type": "code",
   "execution_count": 20,
   "id": "8e558738",
   "metadata": {},
   "outputs": [
    {
     "data": {
      "text/plain": [
       "0"
      ]
     },
     "execution_count": 20,
     "metadata": {},
     "output_type": "execute_result"
    }
   ],
   "source": [
    "# accessing instance method\n",
    "\n",
    "obj1.get_original_balance()"
   ]
  },
  {
   "cell_type": "code",
   "execution_count": 21,
   "id": "ac61ed78",
   "metadata": {},
   "outputs": [
    {
     "data": {
      "text/plain": [
       "10000"
      ]
     },
     "execution_count": 21,
     "metadata": {},
     "output_type": "execute_result"
    }
   ],
   "source": [
    "obj2.get_original_balance()"
   ]
  },
  {
   "cell_type": "code",
   "execution_count": 22,
   "id": "048acfcb",
   "metadata": {},
   "outputs": [
    {
     "data": {
      "text/plain": [
       "True"
      ]
     },
     "execution_count": 22,
     "metadata": {},
     "output_type": "execute_result"
    }
   ],
   "source": [
    "obj1.check_balance()"
   ]
  },
  {
   "cell_type": "code",
   "execution_count": 24,
   "id": "130692dc",
   "metadata": {},
   "outputs": [
    {
     "data": {
      "text/plain": [
       "'Your opening balance is less than the limit'"
      ]
     },
     "execution_count": 24,
     "metadata": {},
     "output_type": "execute_result"
    }
   ],
   "source": [
    "# passing the limit ourself\n",
    "\n",
    "obj1.check_balance(100000)"
   ]
  },
  {
   "cell_type": "markdown",
   "id": "c22147da",
   "metadata": {},
   "source": [
    "## Static Methods\n",
    "\n",
    "    @staticmethod\n",
    "    def convert_amount(amount):\n",
    "        return float(amount)"
   ]
  },
  {
   "cell_type": "code",
   "execution_count": 36,
   "id": "8a967c4e",
   "metadata": {},
   "outputs": [],
   "source": [
    "class ExpenseTracker:\n",
    "    \n",
    "    \"\"\"this is a docstring that defines the purpose of the class just like comments\"\"\"\n",
    "    \n",
    "    # class attribute\n",
    "    expense_tracker_version = 0.1\n",
    "    \n",
    "    def __init__(self, track_category, original_balance, budget):\n",
    "        \n",
    "        # instance/object attributes\n",
    "        self.track_category = track_category\n",
    "        self.original_balance = original_balance\n",
    "        self.tracker_budget = budget\n",
    "    \n",
    "    # instance method\n",
    "    def get_original_balance(self):\n",
    "        \n",
    "        return self.original_balance\n",
    "    \n",
    "    def check_balance(self, limit=1000):\n",
    "        \n",
    "        if self.tracker_budget >= limit:\n",
    "            return True\n",
    "        else:\n",
    "            return \"Your opening balance is less than the limit\"\n",
    "        \n",
    "    @staticmethod\n",
    "    def convert_amount(amount):\n",
    "        return float(amount)"
   ]
  },
  {
   "cell_type": "markdown",
   "id": "8c0be2ba",
   "metadata": {},
   "source": [
    "### Static methods do not inherit any class level or instance level access and are used for some out of class functional deployments.\n",
    "\n",
    "### They may be used for DISPLAYING SOMETHING that does not require any instance specific access or doing something OFF THE SHELF CALCULATIONS"
   ]
  },
  {
   "cell_type": "markdown",
   "id": "9842924e",
   "metadata": {},
   "source": [
    "**Remember the following properties of staticmethods:**\n",
    "\n",
    "    1) Static methods use the @staticmethod decorator. Without the decorator if you access the mehtod you will get an error TypeError . To get rid of it make it instance method by using self keyword in the parameter list.\n",
    "    2) You do not have \"self\" as a parameter of the method\n",
    "    3) They cannot access the instance variable in the method body directly\n",
    "    4) They are opposite to the idea of OOPS as staticmethods do not require an object to access it\n",
    "    5) Often use of staticmethods is frowned upon and is an indication of bad class design initially done"
   ]
  },
  {
   "cell_type": "markdown",
   "id": "7b2623b8",
   "metadata": {},
   "source": [
    "### Accessing staticmethod using Class Instance"
   ]
  },
  {
   "cell_type": "code",
   "execution_count": 33,
   "id": "f8fc74dc",
   "metadata": {},
   "outputs": [
    {
     "data": {
      "text/plain": [
       "1000.0"
      ]
     },
     "execution_count": 33,
     "metadata": {},
     "output_type": "execute_result"
    }
   ],
   "source": [
    "ExpenseTracker.convert_amount(1000)"
   ]
  },
  {
   "cell_type": "markdown",
   "id": "1f26a92d",
   "metadata": {},
   "source": [
    "## Class Methods\n",
    "\n",
    "These methods have access at the class level instead of instance level."
   ]
  },
  {
   "cell_type": "markdown",
   "id": "3424ad61",
   "metadata": {},
   "source": [
    "    1) Class methods accept class as an argument to it which by convention is called as \"cls\" which basically points to the class instance instead of the object of a class(like self in instance methods)\n",
    "    2) Requires @classmethod decorator. \n",
    "    \n"
   ]
  },
  {
   "cell_type": "code",
   "execution_count": null,
   "id": "1b1983f0",
   "metadata": {},
   "outputs": [],
   "source": []
  }
 ],
 "metadata": {
  "kernelspec": {
   "display_name": "Python 3 (ipykernel)",
   "language": "python",
   "name": "python3"
  },
  "language_info": {
   "codemirror_mode": {
    "name": "ipython",
    "version": 3
   },
   "file_extension": ".py",
   "mimetype": "text/x-python",
   "name": "python",
   "nbconvert_exporter": "python",
   "pygments_lexer": "ipython3",
   "version": "3.8.11"
  }
 },
 "nbformat": 4,
 "nbformat_minor": 5
}
