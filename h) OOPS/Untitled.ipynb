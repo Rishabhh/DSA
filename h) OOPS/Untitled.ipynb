{
 "cells": [
  {
   "cell_type": "code",
   "execution_count": 1,
   "id": "9ac3f0a9",
   "metadata": {},
   "outputs": [
    {
     "name": "stdout",
     "output_type": "stream",
     "text": [
      "---Attribute---\n",
      "Welcome  Finxter \n",
      "\n",
      "---Setter Method---\n",
      "Setting Name as  Chris \n",
      "\n",
      "---Getter Method---\n",
      "Welcome Chris \n",
      "\n",
      "---Deleter Method---\n"
     ]
    }
   ],
   "source": [
    "class Finxter:\n",
    "    # This is an attribute\n",
    "    def __init__(self,n):\n",
    "        print(\"---Attribute---\")\n",
    "        self.name = n\n",
    "        print(\"Welcome \", self.name,'\\n')\n",
    "        \n",
    "    @property\n",
    "    def foo(self):\n",
    "        print(\"---Getter Method---\")\n",
    "        return self.name\n",
    "    \n",
    "    @foo.setter\n",
    "    def foo(self,name):\n",
    "        print(\"---Setter Method---\")\n",
    "        print(\"Setting Name as \",name,'\\n')\n",
    "        self.name= name\n",
    "        \n",
    "    @foo.deleter\n",
    "    def foo(self):\n",
    "        print(\"---Deleter Method---\")\n",
    "        del self.name\n",
    "        \n",
    "        \n",
    "obj = Finxter('Finxter')\n",
    "obj.foo = 'Chris'\n",
    "print(\"Welcome\", obj.foo,'\\n')\n",
    "del obj.foo"
   ]
  },
  {
   "cell_type": "code",
   "execution_count": null,
   "id": "6acebbd7",
   "metadata": {},
   "outputs": [],
   "source": []
  }
 ],
 "metadata": {
  "kernelspec": {
   "display_name": "Python 3 (ipykernel)",
   "language": "python",
   "name": "python3"
  },
  "language_info": {
   "codemirror_mode": {
    "name": "ipython",
    "version": 3
   },
   "file_extension": ".py",
   "mimetype": "text/x-python",
   "name": "python",
   "nbconvert_exporter": "python",
   "pygments_lexer": "ipython3",
   "version": "3.8.11"
  }
 },
 "nbformat": 4,
 "nbformat_minor": 5
}
