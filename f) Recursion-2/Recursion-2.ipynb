{
 "cells": [
  {
   "cell_type": "markdown",
   "id": "8c7f6682",
   "metadata": {},
   "source": [
    "# Replace a character by a given character\n",
    "\n",
    "We don't really have an advantage in string type questions to use INDEX approach instead of SLICING approach since we will be creating many strings itself for the answer string as well as intermediate strings. Remember strings are immutable in python."
   ]
  },
  {
   "cell_type": "code",
   "execution_count": 24,
   "id": "100908a1",
   "metadata": {},
   "outputs": [],
   "source": [
    "def replace_character_with_index(string, new_char, old_char, start=0):\n",
    "    \n",
    "    if len(string) == start:\n",
    "        return \"\"\n",
    "    \n",
    "    smallOutput = replace_character(string, new_char, old_char, start+1)\n",
    "    \n",
    "    if string[start] == old_char:\n",
    "        ans = new_char + smallOutput\n",
    "    else:\n",
    "        ans = string[start] + smallOutput\n",
    "        \n",
    "    return ans"
   ]
  },
  {
   "cell_type": "code",
   "execution_count": 25,
   "id": "f7cf4d3b",
   "metadata": {},
   "outputs": [
    {
     "name": "stdout",
     "output_type": "stream",
     "text": [
      "aaaadfaaadfgs\n"
     ]
    }
   ],
   "source": [
    "s = \"abbbdfaaadfgs\"\n",
    "print(replace_character_with_index(s, 'a','b'))"
   ]
  },
  {
   "cell_type": "code",
   "execution_count": 34,
   "id": "eb2e16e9",
   "metadata": {},
   "outputs": [],
   "source": [
    "def replace_character_using_slicing(string, a, b):\n",
    "    \n",
    "    if len(string)==0:\n",
    "        return string\n",
    "    \n",
    "    # \n",
    "    smallOutput = replace_character_using_slicing(string[1:], a, b)\n",
    "    \n",
    "    if string[0] == a:\n",
    "        return b + smallOutput\n",
    "    else:\n",
    "        return string[0] + smallOutput"
   ]
  },
  {
   "cell_type": "code",
   "execution_count": 36,
   "id": "74d20749",
   "metadata": {},
   "outputs": [
    {
     "name": "stdout",
     "output_type": "stream",
     "text": [
      "bbbbdfbbbdfgs\n"
     ]
    }
   ],
   "source": [
    "s = \"abbbdfaaadfgs\"\n",
    "print(replace_character_using_slicing(s, 'a', 'b'))"
   ]
  },
  {
   "cell_type": "markdown",
   "id": "08b3e6dd",
   "metadata": {},
   "source": [
    "# Replace the word \"pi\" in given string with 3.14"
   ]
  },
  {
   "cell_type": "markdown",
   "id": "f70c0017",
   "metadata": {},
   "source": [
    "#### way-1 : Induction hypothesis before Induction step"
   ]
  },
  {
   "cell_type": "code",
   "execution_count": 46,
   "id": "16f1388e",
   "metadata": {},
   "outputs": [],
   "source": [
    "def replace_pi(s):\n",
    "    \n",
    "    # since we need a minimum of 2 characters for checking for \"pi\" word we have 2 base cases\n",
    "    if len(s) == 0 or len(s) == 1:\n",
    "        return s\n",
    "    \n",
    "    smallOutput = replace_pi(s[1:])\n",
    "    \n",
    "    if s[0] == 'p' and smallOutput[0] == 'i':\n",
    "        ans = '3.14' + smallOutput[1:]\n",
    "    else:\n",
    "        ans = s[0] + smallOutput\n",
    "    return ans"
   ]
  },
  {
   "cell_type": "code",
   "execution_count": 45,
   "id": "77e4f0e7",
   "metadata": {},
   "outputs": [
    {
     "name": "stdout",
     "output_type": "stream",
     "text": [
      "p3.143.14p3.143.14p\n"
     ]
    }
   ],
   "source": [
    "print(replace_pi(\"ppipippipip\"))"
   ]
  },
  {
   "cell_type": "markdown",
   "id": "fff6463b",
   "metadata": {},
   "source": [
    "#### way-2 : Induction hypothesis after Induction step"
   ]
  },
  {
   "cell_type": "code",
   "execution_count": 49,
   "id": "88b3dc14",
   "metadata": {},
   "outputs": [],
   "source": [
    "def replace_pi(s):\n",
    "    \n",
    "    # since we need a minimum of 2 characters for checking for \"pi\" word we have 2 base cases\n",
    "    if len(s) == 0 or len(s) == 1:\n",
    "        return s\n",
    "    \n",
    "    if s[0] == 'p' and s[1] == 'i':\n",
    "        smallOutput = replace_pi(s[2:])\n",
    "        ans = '3.14' + smallOutput\n",
    "    else:\n",
    "        smallOutput = replace_pi(s[1:])\n",
    "        ans = s[0] + smallOutput\n",
    "    \n",
    "    return ans"
   ]
  },
  {
   "cell_type": "code",
   "execution_count": 50,
   "id": "c39f8efe",
   "metadata": {
    "scrolled": true
   },
   "outputs": [
    {
     "name": "stdout",
     "output_type": "stream",
     "text": [
      "p3.143.14p3.143.14p\n"
     ]
    }
   ],
   "source": [
    "print(replace_pi(\"ppipippipip\"))"
   ]
  },
  {
   "cell_type": "markdown",
   "id": "9ab719ca",
   "metadata": {},
   "source": [
    "# Tower of Hanoi \n",
    "\n",
    "See OneNote Notes"
   ]
  },
  {
   "cell_type": "code",
   "execution_count": 57,
   "id": "c6717eb4",
   "metadata": {
    "scrolled": true
   },
   "outputs": [
    {
     "name": "stdout",
     "output_type": "stream",
     "text": [
      "Number of disk = 2\n",
      "Move 1st disk from source to auxillary\n",
      "Move 2th disk from source to destination\n",
      "Move 1st disk from auxillary to destination\n"
     ]
    }
   ],
   "source": [
    "def towerofhanoi(n, source, aux, dest):\n",
    "    # Please add your code here\n",
    "    \n",
    "    # Base-Case\n",
    "    if n==0:\n",
    "        return\n",
    "    \n",
    "    if n==1:\n",
    "        print(\"Move 1st disk from {} to {}\".format(source, dest))\n",
    "        return\n",
    "    \n",
    "    # Induction Hypothesis\n",
    "    towerofhanoi(n-1, source, dest, aux)\n",
    "    \n",
    "    # Induction Step\n",
    "    print(\"Move {}th disk from {} to {}\".format(n, source, dest))\n",
    "    \n",
    "    # Induction Hypothesis\n",
    "    towerofhanoi(n-1, aux, source, dest)\n",
    "\n",
    "n=int(input(\"Number of disk = \"))\n",
    "towerofhanoi(n, 'source', 'auxillary', 'destination')"
   ]
  },
  {
   "cell_type": "code",
   "execution_count": 58,
   "id": "4b0a62f6",
   "metadata": {},
   "outputs": [
    {
     "name": "stdout",
     "output_type": "stream",
     "text": [
      "Number of disk = 3\n",
      "Move 1st disk from source to destination\n",
      "Move 2th disk from source to auxillary\n",
      "Move 1st disk from destination to auxillary\n",
      "Move 3th disk from source to destination\n",
      "Move 1st disk from auxillary to source\n",
      "Move 2th disk from auxillary to destination\n",
      "Move 1st disk from source to destination\n"
     ]
    }
   ],
   "source": [
    "n=int(input(\"Number of disk = \"))\n",
    "towerofhanoi(n, 'source', 'auxillary', 'destination')"
   ]
  },
  {
   "cell_type": "markdown",
   "id": "52a4bc47",
   "metadata": {},
   "source": [
    "# Topics from here on covered as separate entity\n",
    "\n",
    "Sorting Algorithms <br>\n",
    "Binary Search"
   ]
  },
  {
   "cell_type": "code",
   "execution_count": null,
   "id": "1623e7f0",
   "metadata": {},
   "outputs": [],
   "source": []
  }
 ],
 "metadata": {
  "kernelspec": {
   "display_name": "Python 3 (ipykernel)",
   "language": "python",
   "name": "python3"
  },
  "language_info": {
   "codemirror_mode": {
    "name": "ipython",
    "version": 3
   },
   "file_extension": ".py",
   "mimetype": "text/x-python",
   "name": "python",
   "nbconvert_exporter": "python",
   "pygments_lexer": "ipython3",
   "version": "3.8.11"
  }
 },
 "nbformat": 4,
 "nbformat_minor": 5
}
