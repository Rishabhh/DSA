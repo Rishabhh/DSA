{
 "cells": [
  {
   "cell_type": "markdown",
   "id": "5340e033",
   "metadata": {},
   "source": [
    " ### 4 Algorithms for array rotation\n",
    " \n",
    " One-by-one-rotation <br>\n",
    " Juggling Algorithm = One-by-one rotation IN SETS <br>\n",
    " Reversal Algorithm <br>\n",
    " Block-Swap Algorithm <br>"
   ]
  },
  {
   "cell_type": "markdown",
   "id": "c0fdb99e",
   "metadata": {},
   "source": [
    "### Array rotate to RIGHT\n",
    "https://leetcode.com/problems/rotate-array/\n",
    "\n",
    "Algorithm: O(N) time and O(1) space\n",
    "\n",
    "Step 1 - Reverse complete array <br>\n",
    "Step 2 - Reverse first K elements i.e. from 0 to k-1 <br>\n",
    "Step 3 - Reverse last N-K elements i.e. from k to N <br>\n"
   ]
  },
  {
   "cell_type": "code",
   "execution_count": 1,
   "id": "a38bd59e",
   "metadata": {},
   "outputs": [],
   "source": [
    "class Solution(object):\n",
    "    \n",
    "    def reverse_array(self, nums, start, end):\n",
    "        \n",
    "        while start < end:\n",
    "            nums[start], nums[end] = nums[end], nums[start]\n",
    "            start +=1\n",
    "            end -=1\n",
    "            \n",
    "    def rotate(self, nums, k):\n",
    "        \"\"\"\n",
    "        :type nums: List[int]\n",
    "        :type k: int\n",
    "        :rtype: None Do not return anything, modify nums in-place instead.\n",
    "        \"\"\"\n",
    "        k = k % len(nums)  # if rotation_number > length_of_Array , then remove complete length rotations\n",
    "        self.reverse_array(nums, 0, len(nums)-1)\n",
    "        self.reverse_array(nums, 0, k-1)\n",
    "        self.reverse_array(nums, k, len(nums)-1)"
   ]
  },
  {
   "cell_type": "markdown",
   "id": "79c6ccb7",
   "metadata": {},
   "source": [
    "### Array rotate to left\n",
    "https://www.hackerrank.com/challenges/array-left-rotation/problem\n",
    "\n",
    "Algorithm :\n",
    "\n",
    "Right Rotation = Length_of_array - Left Rotation\n",
    "\n",
    "RR = L - LR\n",
    "\n",
    "Now we can apply same logic as we applied for RIGHT ROTATION\n",
    "\n"
   ]
  },
  {
   "cell_type": "code",
   "execution_count": 2,
   "id": "3c47bcff",
   "metadata": {},
   "outputs": [],
   "source": [
    "def reverse_array(nums, start, end):\n",
    "        \n",
    "        while start < end:\n",
    "            nums[start], nums[end] = nums[end], nums[start]\n",
    "            start +=1\n",
    "            end -=1\n",
    "\n",
    "def rotateLeft(d, arr):\n",
    "    # Write your code here\n",
    "    \n",
    "    d = d % len(arr)\n",
    "    d = len(arr) - d\n",
    "    reverse_array(arr, 0, len(arr)-1)\n",
    "    reverse_array(arr, 0, d-1)\n",
    "    reverse_array(arr, d, len(arr)-1)\n",
    "    return arr"
   ]
  },
  {
   "cell_type": "code",
   "execution_count": null,
   "id": "541b57c6",
   "metadata": {},
   "outputs": [],
   "source": []
  }
 ],
 "metadata": {
  "kernelspec": {
   "display_name": "Python 3 (ipykernel)",
   "language": "python",
   "name": "python3"
  },
  "language_info": {
   "codemirror_mode": {
    "name": "ipython",
    "version": 3
   },
   "file_extension": ".py",
   "mimetype": "text/x-python",
   "name": "python",
   "nbconvert_exporter": "python",
   "pygments_lexer": "ipython3",
   "version": "3.8.11"
  }
 },
 "nbformat": 4,
 "nbformat_minor": 5
}
