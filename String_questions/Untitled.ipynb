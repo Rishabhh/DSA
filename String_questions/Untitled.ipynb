{
 "cells": [
  {
   "cell_type": "markdown",
   "id": "3e489c71-87ad-4539-aec3-c7cfa4f5412d",
   "metadata": {},
   "source": [
    "## Print all substring of a string\n",
    "\n",
    "https://www.codingninjas.com/codestudio/problems/all-substrings_1262347?leftPanelTab=0"
   ]
  },
  {
   "cell_type": "markdown",
   "id": "ff67ee31-cfde-451f-b28c-f183ad9b5745",
   "metadata": {},
   "source": [
    "### count of number of substring\n",
    "\n",
    "Count of non-empty substrings is n*(n+1)/2\n",
    "If we include empty string also as substring, the count becomes n*(n+1)/2 + 1\n",
    "\n",
    "How does above formula work?  \n",
    "\n",
    "Number of substrings of length one is n (We can choose any of the n characters)  \n",
    "Number of substrings of length two is n-1 (We can choose any of the n-1 pairs formed by adjacent)  \n",
    "Number of substrings of length three is n-2  \n",
    "(We can choose any of the n-2 triplets formed by adjacent)  \n",
    "\n",
    "In general, number of substrings of length k is =  **n-k+1**  (where 1 <= k <= n )\n",
    "\n",
    "Total number of substrings of all lengths from 1 to n = n + (n-1) + (n-2) + (n-3) + … 2 + 1  \n",
    "= n * (n + 1)/2\n",
    "\n"
   ]
  },
  {
   "cell_type": "code",
   "execution_count": 6,
   "id": "3c4090aa-6cbb-4b45-8b78-1e6c8c262a85",
   "metadata": {},
   "outputs": [],
   "source": [
    "def printSubstrings(string) :\n",
    "\n",
    "    for i in range(len(string)):\n",
    "        \n",
    "        current_substring = \"\"\n",
    "        \n",
    "        for j in range(i,len(string)):\n",
    "            current_substring += string[j]\n",
    "            \n",
    "            print(current_substring)"
   ]
  },
  {
   "cell_type": "code",
   "execution_count": 7,
   "id": "cae7324c-85ef-4649-96ea-ad4b56822b01",
   "metadata": {},
   "outputs": [
    {
     "name": "stdout",
     "output_type": "stream",
     "text": [
      "a\n",
      "ab\n",
      "abc\n",
      "abcd\n",
      "b\n",
      "bc\n",
      "bcd\n",
      "c\n",
      "cd\n",
      "d\n"
     ]
    }
   ],
   "source": [
    "printSubstrings(\"abcd\")"
   ]
  },
  {
   "cell_type": "code",
   "execution_count": 8,
   "id": "0e8b6ef8-d4fd-4e7f-a3fa-b7191171350b",
   "metadata": {},
   "outputs": [],
   "source": [
    "s = set(\"abcd\")"
   ]
  },
  {
   "cell_type": "code",
   "execution_count": 9,
   "id": "5bf217ef-6cbb-4e04-8d7b-bb37a2f5f63a",
   "metadata": {},
   "outputs": [
    {
     "data": {
      "text/plain": [
       "{'a', 'b', 'c', 'd'}"
      ]
     },
     "execution_count": 9,
     "metadata": {},
     "output_type": "execute_result"
    }
   ],
   "source": [
    "s"
   ]
  },
  {
   "cell_type": "code",
   "execution_count": null,
   "id": "20e9dc7c-54ba-46e6-a9fb-07cb97d05a1f",
   "metadata": {},
   "outputs": [],
   "source": []
  }
 ],
 "metadata": {
  "kernelspec": {
   "display_name": "Python 3 (ipykernel)",
   "language": "python",
   "name": "python3"
  },
  "language_info": {
   "codemirror_mode": {
    "name": "ipython",
    "version": 3
   },
   "file_extension": ".py",
   "mimetype": "text/x-python",
   "name": "python",
   "nbconvert_exporter": "python",
   "pygments_lexer": "ipython3",
   "version": "3.9.13"
  }
 },
 "nbformat": 4,
 "nbformat_minor": 5
}
