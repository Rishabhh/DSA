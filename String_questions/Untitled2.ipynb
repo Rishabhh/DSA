{
 "cells": [
  {
   "cell_type": "code",
   "execution_count": null,
   "id": "97ac5436-2b0e-4829-91f8-34dbcfc86429",
   "metadata": {},
   "outputs": [],
   "source": [
    "x [ 2,3,2,3,1,3]\n",
    "\n",
    "d = [ x : "
   ]
  }
 ],
 "metadata": {
  "kernelspec": {
   "display_name": "Python 3 (ipykernel)",
   "language": "python",
   "name": "python3"
  },
  "language_info": {
   "codemirror_mode": {
    "name": "ipython",
    "version": 3
   },
   "file_extension": ".py",
   "mimetype": "text/x-python",
   "name": "python",
   "nbconvert_exporter": "python",
   "pygments_lexer": "ipython3",
   "version": "3.9.13"
  }
 },
 "nbformat": 4,
 "nbformat_minor": 5
}
