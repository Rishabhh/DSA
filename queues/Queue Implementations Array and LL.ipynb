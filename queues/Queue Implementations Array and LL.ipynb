{
 "cells": [
  {
   "cell_type": "markdown",
   "id": "cf7d5c7d",
   "metadata": {},
   "source": [
    "### API\n",
    "\n",
    "Enqueue <br>\n",
    "Dequque -> oldest element inserted goes out first <br>\n",
    "Size <br>\n",
    "isEmpty <br>\n",
    "Front -> element infront of a queue -> oldest element <br>\n",
    "\n",
    "### We want all the operations to be O(1)\n",
    "\n",
    "\n",
    "**Implementation Method for Array** <br><br>\n",
    "\n",
    "**Enqueue** <br><br>\n",
    "Insert in array using append only <br>\n",
    "\n",
    "**Dequeue** <br><br>\n",
    "During dequeue -> we want it to be an O(1) operation and hence we cannot remove the element from array <br>\n",
    "Therefore for Dequeue we will maintain an INDEX called FRONT. <br>\n",
    "Whenever an element is dequequed we will NOT REMOVE the element from array BUT MOVE THE INDEX \"FRONT\" to point to next element <br><br>\n",
    "\n",
    "**Size** <br><br>\n",
    "\n",
    "2 WAYS -\n",
    "\n",
    "i) Maintain a \"count\" variable <br><br>\n",
    "ii) size = len(queue_array) - (front+1)\n",
    "\n",
    "<br><br>\n",
    "\n"
   ]
  },
  {
   "cell_type": "code",
   "execution_count": 1,
   "id": "da23fd3f",
   "metadata": {},
   "outputs": [],
   "source": [
    "class QueueUsingArray:\n",
    "    \n",
    "    def __init__(self):\n",
    "        \n",
    "        self.__arr = []\n",
    "        self.__count = 0\n",
    "        self.__front = 0\n",
    "        \n",
    "    def enqueue(self, data):\n",
    "        self.__arr.append(data)\n",
    "        self.__count +=1\n",
    "    \n",
    "    def dequeue(self):\n",
    "        \n",
    "        if self.__count == 0:\n",
    "            print(\"queue is empty\")\n",
    "            return -1\n",
    "        element = self.__arr[self.__front]\n",
    "        self.__front +=1\n",
    "        self.__count -=1\n",
    "        return element\n",
    "    \n",
    "    def size(self):\n",
    "        return self.__count\n",
    "    \n",
    "    def isEmpty(self):\n",
    "        return self.size() == 0\n",
    "    \n",
    "    def front(self):\n",
    "        if self.__count ==0:\n",
    "            return -1\n",
    "        \n",
    "        return self.__arr[self.__front]"
   ]
  },
  {
   "cell_type": "code",
   "execution_count": 2,
   "id": "c7509fba",
   "metadata": {},
   "outputs": [
    {
     "name": "stdout",
     "output_type": "stream",
     "text": [
      "1\n",
      "2\n",
      "3\n",
      "4\n",
      "queue is empty\n",
      "-1\n"
     ]
    }
   ],
   "source": [
    "q = QueueUsingArray()\n",
    "q.enqueue(1)\n",
    "q.enqueue(2)\n",
    "q.enqueue(3)\n",
    "q.enqueue(4)\n",
    "\n",
    "while q.isEmpty() is False:\n",
    "    print(q.front())\n",
    "    q.dequeue()\n",
    "    \n",
    "print(q.dequeue())"
   ]
  },
  {
   "cell_type": "markdown",
   "id": "7650cfe5",
   "metadata": {},
   "source": [
    "### Queue using Linked List\n",
    "\n",
    "Instead of Front we will be using \"head\" here"
   ]
  },
  {
   "cell_type": "code",
   "execution_count": 4,
   "id": "52bd8e4c",
   "metadata": {},
   "outputs": [],
   "source": [
    "class Node:\n",
    "    \n",
    "    def __init__(self, data):\n",
    "        self.data = data\n",
    "        self.next = None\n",
    "    \n",
    "class QueueUsingLL:\n",
    "    \n",
    "    def __init__(self):\n",
    "        \n",
    "        self.__head = None\n",
    "        self.__tail = None\n",
    "        self.__count = 0\n",
    "        \n",
    "    def enqueue(self, data):\n",
    "        \n",
    "        newNode = Node(data)\n",
    "        if self.__head is None:\n",
    "            self.__head = newNode\n",
    "            self.__tail = newNode\n",
    "        else:\n",
    "            self.__tail.next = newNode\n",
    "            self.__tail = self.__tail.next\n",
    "            \n",
    "        self.__count +=1\n",
    "        \n",
    "    def dequeue(self):\n",
    "        \n",
    "        if self.__head is None:\n",
    "            print(\"Queue is empty !\")\n",
    "            return -1\n",
    "        \n",
    "        element = self.__head.data\n",
    "        self.__head = self.__head.next\n",
    "        self.__count -=1\n",
    "        \n",
    "        return element\n",
    "    \n",
    "    def size(self):\n",
    "        \n",
    "        return self.__count\n",
    "    \n",
    "    def isEmpty(self):\n",
    "        \n",
    "        return self.__count == 0\n",
    "    \n",
    "    def front(self):\n",
    "        \n",
    "        if self.__head is not None:\n",
    "            return self.__head.data\n",
    "        else:\n",
    "            print(\"queue is empty\")\n",
    "            return -1\n",
    "            "
   ]
  },
  {
   "cell_type": "code",
   "execution_count": 5,
   "id": "9051e4f8",
   "metadata": {},
   "outputs": [
    {
     "name": "stdout",
     "output_type": "stream",
     "text": [
      "1\n",
      "2\n",
      "3\n",
      "4\n",
      "queue is empty\n",
      "-1\n"
     ]
    }
   ],
   "source": [
    "q = QueueUsingArray()\n",
    "q.enqueue(1)\n",
    "q.enqueue(2)\n",
    "q.enqueue(3)\n",
    "q.enqueue(4)\n",
    "\n",
    "while q.isEmpty() is False:\n",
    "    print(q.front())\n",
    "    q.dequeue()\n",
    "    \n",
    "print(q.dequeue())"
   ]
  },
  {
   "cell_type": "code",
   "execution_count": null,
   "id": "ca819a72",
   "metadata": {},
   "outputs": [],
   "source": []
  }
 ],
 "metadata": {
  "kernelspec": {
   "display_name": "Python 3 (ipykernel)",
   "language": "python",
   "name": "python3"
  },
  "language_info": {
   "codemirror_mode": {
    "name": "ipython",
    "version": 3
   },
   "file_extension": ".py",
   "mimetype": "text/x-python",
   "name": "python",
   "nbconvert_exporter": "python",
   "pygments_lexer": "ipython3",
   "version": "3.8.11"
  }
 },
 "nbformat": 4,
 "nbformat_minor": 5
}
