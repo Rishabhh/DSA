{
 "cells": [
  {
   "cell_type": "code",
   "execution_count": 19,
   "id": "4b0b12bd-606a-42c7-b865-60063a8762f0",
   "metadata": {},
   "outputs": [],
   "source": [
    "board = [[\"5\",\"3\",\".\",\".\",\"7\",\".\",\".\",\".\",\".\"],[\"6\",\".\",\".\",\"1\",\"9\",\"5\",\".\",\".\",\".\"],[\".\",\"9\",\"8\",\".\",\".\",\".\",\".\",\"6\",\".\"],[\"8\",\".\",\".\",\".\",\"6\",\".\",\".\",\".\",\"3\"],[\"4\",\".\",\".\",\"8\",\".\",\"3\",\".\",\".\",\"1\"],[\"7\",\".\",\".\",\".\",\"2\",\".\",\".\",\".\",\"6\"],[\".\",\"6\",\".\",\".\",\".\",\".\",\"2\",\"8\",\".\"],[\".\",\".\",\".\",\"4\",\"1\",\"9\",\".\",\".\",\"5\"],[\".\",\".\",\".\",\".\",\"8\",\".\",\".\",\"7\",\"9\"]]"
   ]
  },
  {
   "cell_type": "code",
   "execution_count": 14,
   "id": "be3f11f7-fe84-4adf-8cde-6a7bb7d6efa4",
   "metadata": {},
   "outputs": [
    {
     "data": {
      "text/plain": [
       "[['5', '3', '.', '.', '7', '.', '.', '.', '.'],\n",
       " ['6', '.', '.', '1', '9', '5', '.', '.', '.'],\n",
       " ['.', '9', '8', '.', '.', '.', '.', '6', '.'],\n",
       " ['8', '.', '.', '.', '6', '.', '.', '.', '3'],\n",
       " ['4', '.', '.', '8', '.', '3', '.', '.', '1'],\n",
       " ['7', '.', '.', '.', '2', '.', '.', '.', '6'],\n",
       " ['.', '6', '.', '.', '.', '.', '2', '8', '.'],\n",
       " ['.', '.', '.', '4', '1', '9', '.', '.', '5'],\n",
       " ['.', '.', '.', '.', '8', '.', '.', '7', '9']]"
      ]
     },
     "execution_count": 14,
     "metadata": {},
     "output_type": "execute_result"
    }
   ],
   "source": [
    "board"
   ]
  },
  {
   "cell_type": "code",
   "execution_count": 43,
   "id": "5f8261b6-6c3a-47ec-87b6-92c1c13d759f",
   "metadata": {},
   "outputs": [],
   "source": [
    "def check_valid_position(board, row, col, current_option):\n",
    "        \n",
    "        # check vertical line\n",
    "        i = 0\n",
    "        while i < 9:\n",
    "            \n",
    "            if board[i][col] == current_option:\n",
    "                return False\n",
    "            \n",
    "            i +=1\n",
    "            \n",
    "        # check horizontal line\n",
    "        \n",
    "        j = 0\n",
    "        \n",
    "        while j < 9:\n",
    "            \n",
    "            if board[row][j] == current_option:\n",
    "                return False\n",
    "            j +=1\n",
    "            \n",
    "        # check 3x3 Box\n",
    "        box_row = row//3\n",
    "        box_col = col//3\n",
    "        \n",
    "        box_row_start = box_row*3\n",
    "        box_col_start = box_col*3\n",
    "        \n",
    "        box_row_end = box_row_start + 3\n",
    "        box_col_end = box_col_start + 3\n",
    "        \n",
    "        print(\"box\", box_row_start, box_row_end, box_col_start, box_col_end, current_option)\n",
    "        while box_row_start<box_row_end:\n",
    "            while box_col_start < box_col_end:\n",
    "                print(board[box_row_start][box_col_start])\n",
    "                if board[box_row_start][box_col_start] == current_option:\n",
    "                    print(\"co\", current_option)\n",
    "                    return False\n",
    "                \n",
    "                box_col_start +=1\n",
    "            \n",
    "            box_row_start += 1\n",
    "            box_col_start = box_col*3\n",
    "            \n",
    "            \n",
    "        return True"
   ]
  },
  {
   "cell_type": "code",
   "execution_count": 44,
   "id": "e5935149-b7f7-4070-adcb-07c52986d1e5",
   "metadata": {},
   "outputs": [],
   "source": [
    "board = [[\"5\",\"3\",\".\",\".\",\"7\",\".\",\".\",\".\",\".\"],[\"6\",\".\",\".\",\"1\",\"9\",\"5\",\".\",\".\",\".\"],[\".\",\"9\",\"8\",\".\",\".\",\".\",\".\",\"6\",\".\"],[\"8\",\".\",\".\",\".\",\"6\",\".\",\".\",\".\",\"3\"],[\"4\",\".\",\".\",\"8\",\".\",\"3\",\".\",\".\",\"1\"],[\"7\",\".\",\".\",\".\",\"2\",\".\",\".\",\".\",\"6\"],[\".\",\"6\",\".\",\".\",\".\",\".\",\"2\",\"8\",\".\"],[\".\",\".\",\".\",\"4\",\"1\",\"9\",\".\",\".\",\"5\"],[\".\",\".\",\".\",\".\",\"8\",\".\",\".\",\"7\",\"9\"]]"
   ]
  },
  {
   "cell_type": "code",
   "execution_count": 45,
   "id": "598011cb-61cd-418b-bc6c-84073845132f",
   "metadata": {},
   "outputs": [
    {
     "data": {
      "text/plain": [
       "[['5', '3', '.', '.', '7', '.', '.', '.', '.'],\n",
       " ['6', '.', '.', '1', '9', '5', '.', '.', '.'],\n",
       " ['.', '9', '8', '.', '.', '.', '.', '6', '.'],\n",
       " ['8', '.', '.', '.', '6', '.', '.', '.', '3'],\n",
       " ['4', '.', '.', '8', '.', '3', '.', '.', '1'],\n",
       " ['7', '.', '.', '.', '2', '.', '.', '.', '6'],\n",
       " ['.', '6', '.', '.', '.', '.', '2', '8', '.'],\n",
       " ['.', '.', '.', '4', '1', '9', '.', '.', '5'],\n",
       " ['.', '.', '.', '.', '8', '.', '.', '7', '9']]"
      ]
     },
     "execution_count": 45,
     "metadata": {},
     "output_type": "execute_result"
    }
   ],
   "source": [
    "board"
   ]
  },
  {
   "cell_type": "code",
   "execution_count": 46,
   "id": "96cb7df2-312b-41d1-bd5e-826db09b260b",
   "metadata": {},
   "outputs": [
    {
     "name": "stdout",
     "output_type": "stream",
     "text": [
      "box 0 3 0 3 0\n",
      "5\n",
      "3\n",
      ".\n",
      "6\n",
      ".\n",
      ".\n",
      ".\n",
      "9\n",
      "8\n",
      "final 0\n",
      "box 0 3 0 3 2\n",
      "5\n",
      "3\n",
      ".\n",
      "6\n",
      ".\n",
      ".\n",
      ".\n",
      "9\n",
      "8\n",
      "final 2\n",
      "box 0 3 0 3 4\n",
      "5\n",
      "3\n",
      ".\n",
      "6\n",
      ".\n",
      ".\n",
      ".\n",
      "9\n",
      "8\n",
      "final 4\n",
      "box 0 3 0 3 7\n",
      "5\n",
      "3\n",
      ".\n",
      "6\n",
      ".\n",
      ".\n",
      ".\n",
      "9\n",
      "8\n",
      "final 7\n",
      "box 0 3 0 3 8\n",
      "5\n",
      "3\n",
      ".\n",
      "6\n",
      ".\n",
      ".\n",
      ".\n",
      "9\n",
      "8\n",
      "co 8\n"
     ]
    }
   ],
   "source": [
    "for current_option in range(9):\n",
    "    \n",
    "    row = 1\n",
    "    col = 1\n",
    "    if check_valid_position(board, row, col, str(current_option)):\n",
    "        print(\"final\", current_option)"
   ]
  },
  {
   "cell_type": "code",
   "execution_count": null,
   "id": "1e1870b4-6b5d-45ed-b60d-3ef6e2045dda",
   "metadata": {},
   "outputs": [],
   "source": []
  }
 ],
 "metadata": {
  "kernelspec": {
   "display_name": "Python 3 (ipykernel)",
   "language": "python",
   "name": "python3"
  },
  "language_info": {
   "codemirror_mode": {
    "name": "ipython",
    "version": 3
   },
   "file_extension": ".py",
   "mimetype": "text/x-python",
   "name": "python",
   "nbconvert_exporter": "python",
   "pygments_lexer": "ipython3",
   "version": "3.9.13"
  }
 },
 "nbformat": 4,
 "nbformat_minor": 5
}
