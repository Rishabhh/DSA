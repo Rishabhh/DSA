{
 "cells": [
  {
   "cell_type": "code",
   "execution_count": 2,
   "id": "d53a66aa-cb7c-4971-83aa-842afee614d5",
   "metadata": {},
   "outputs": [],
   "source": [
    "class Solution:\n",
    "    \n",
    "    def smallest_distance_to_0(self, mat, i, j, row, col):\n",
    "        \n",
    "        \n",
    "        if i<0 or i>=row or j<0 or j>= col or mat[i][j] == -1:\n",
    "            return float(\"inf\")\n",
    "        \n",
    "        if mat[i][j] == 0:\n",
    "            return 0\n",
    "        \n",
    "        temp = mat[i][j]\n",
    "        mat[i][j] = -1\n",
    "        \n",
    "        top = self.smallest_distance_to_0(mat, i-1, j, row, col)\n",
    "        down = self.smallest_distance_to_0(mat, i+1, j, row, col)\n",
    "        left = self.smallest_distance_to_0(mat, i, j-1, row, col)\n",
    "        right = self.smallest_distance_to_0(mat, i, j+1, row, col)\n",
    "        \n",
    "        mat[i][j] = temp\n",
    "        \n",
    "        return 1+min(top, down, left, right)\n",
    "        \n",
    "        \n",
    "    def updateMatrix(self, mat):\n",
    "        \n",
    "        row = len(mat)\n",
    "        col = len(mat[0])\n",
    "        \n",
    "        for i in range(row):\n",
    "            for j in range(col):\n",
    "                \n",
    "                if mat[i][j] !=0:\n",
    "                    mat[i][j] = self.smallest_distance_to_0(mat, i, j, row, col)\n",
    "                    \n",
    "                    \n",
    "        return mat"
   ]
  },
  {
   "cell_type": "code",
   "execution_count": 4,
   "id": "6f6e8a93-d1d2-4ee8-9195-94a273148a5a",
   "metadata": {},
   "outputs": [],
   "source": [
    "mat = [[0,0,1,0,1,1,1,0,1,1],[1,1,1,1,0,1,1,1,1,1],[1,1,1,1,1,0,0,0,1,1],[1,0,1,0,1,1,1,0,1,1],[0,0,1,1,1,0,1,1,1,1],[1,0,1,1,1,1,1,1,1,1],[1,1,1,1,0,1,0,1,0,1],[0,1,0,0,0,1,0,0,1,1],[1,1,1,0,1,1,0,1,0,1],[1,0,1,1,1,0,1,1,1,0]]\n",
    "s = Solution()\n",
    "x = s.updateMatrix(mat)\n"
   ]
  },
  {
   "cell_type": "code",
   "execution_count": 5,
   "id": "24946186-eb74-43e4-ab08-1546365b0688",
   "metadata": {},
   "outputs": [],
   "source": [
    "y = [[0,0,1,0,1,2,1,0,1,2],[1,1,2,1,0,1,1,1,2,3],[2,1,2,1,1,0,0,0,1,2],[1,0,1,0,1,1,1,0,1,2],[0,0,1,1,1,0,1,1,2,3],[1,0,1,2,1,1,1,2,1,2],[1,1,1,1,0,1,0,1,0,1],[0,1,0,0,0,1,0,0,1,2],[1,1,1,0,1,1,0,1,0,1],[1,0,1,1,1,0,1,2,1,0]]"
   ]
  },
  {
   "cell_type": "code",
   "execution_count": 7,
   "id": "b801ebf6-a4b1-4eb2-8f1f-22f88cfdc6e5",
   "metadata": {},
   "outputs": [
    {
     "data": {
      "text/plain": [
       "[[0, 0, 1, 0, 1, 2, 1, 0, 1, 2],\n",
       " [1, 1, 2, 1, 0, 1, 1, 1, 2, 3],\n",
       " [2, 1, 2, 1, 1, 0, 0, 0, 1, 2],\n",
       " [1, 0, 1, 0, 1, 1, 1, 0, 1, 2],\n",
       " [0, 0, 1, 1, 1, 0, 1, 1, 2, 3],\n",
       " [1, 0, 1, 2, 1, 1, 1, 2, 1, 2],\n",
       " [1, 1, 1, 1, 0, 1, 0, 1, 0, 1],\n",
       " [0, 1, 0, 0, 0, 1, 0, 0, 1, 2],\n",
       " [1, 1, 1, 0, 1, 1, 0, 1, 0, 1],\n",
       " [1, 0, 1, 1, 1, 0, 1, 2, 1, 0]]"
      ]
     },
     "execution_count": 7,
     "metadata": {},
     "output_type": "execute_result"
    }
   ],
   "source": [
    "x"
   ]
  },
  {
   "cell_type": "code",
   "execution_count": 8,
   "id": "57aab338-183f-442b-b0d9-11d54e06259a",
   "metadata": {},
   "outputs": [
    {
     "data": {
      "text/plain": [
       "[[0, 0, 1, 0, 1, 2, 1, 0, 1, 2],\n",
       " [1, 1, 2, 1, 0, 1, 1, 1, 2, 3],\n",
       " [2, 1, 2, 1, 1, 0, 0, 0, 1, 2],\n",
       " [1, 0, 1, 0, 1, 1, 1, 0, 1, 2],\n",
       " [0, 0, 1, 1, 1, 0, 1, 1, 2, 3],\n",
       " [1, 0, 1, 2, 1, 1, 1, 2, 1, 2],\n",
       " [1, 1, 1, 1, 0, 1, 0, 1, 0, 1],\n",
       " [0, 1, 0, 0, 0, 1, 0, 0, 1, 2],\n",
       " [1, 1, 1, 0, 1, 1, 0, 1, 0, 1],\n",
       " [1, 0, 1, 1, 1, 0, 1, 2, 1, 0]]"
      ]
     },
     "execution_count": 8,
     "metadata": {},
     "output_type": "execute_result"
    }
   ],
   "source": [
    "y"
   ]
  },
  {
   "cell_type": "code",
   "execution_count": 6,
   "id": "3fc3a559-a894-49e6-a3ed-0f917c313292",
   "metadata": {},
   "outputs": [
    {
     "data": {
      "text/plain": [
       "True"
      ]
     },
     "execution_count": 6,
     "metadata": {},
     "output_type": "execute_result"
    }
   ],
   "source": [
    "x == y"
   ]
  },
  {
   "cell_type": "code",
   "execution_count": 9,
   "id": "8cf3c405-11cb-4a3d-8e05-e6ffa53398c8",
   "metadata": {},
   "outputs": [],
   "source": [
    "z = [[0,0,1,0,1,1,1,0,1,1],[1,1,1,1,0,1,1,1,1,1],[1,1,1,1,1,0,0,0,1,1],[1,0,1,0,1,1,1,0,1,1],[0,0,1,1,1,0,1,1,1,1],[1,0,1,1,1,1,1,1,1,1],[1,1,1,1,0,1,0,1,0,1],[0,1,0,0,0,1,0,0,1,1],[1,1,1,0,1,1,0,1,0,1],[1,0,1,1,1,0,1,1,1,0]]"
   ]
  },
  {
   "cell_type": "code",
   "execution_count": 10,
   "id": "f4923981-10a8-4719-bea0-265bff93afda",
   "metadata": {},
   "outputs": [
    {
     "data": {
      "text/plain": [
       "[[0, 0, 1, 0, 1, 1, 1, 0, 1, 1],\n",
       " [1, 1, 1, 1, 0, 1, 1, 1, 1, 1],\n",
       " [1, 1, 1, 1, 1, 0, 0, 0, 1, 1],\n",
       " [1, 0, 1, 0, 1, 1, 1, 0, 1, 1],\n",
       " [0, 0, 1, 1, 1, 0, 1, 1, 1, 1],\n",
       " [1, 0, 1, 1, 1, 1, 1, 1, 1, 1],\n",
       " [1, 1, 1, 1, 0, 1, 0, 1, 0, 1],\n",
       " [0, 1, 0, 0, 0, 1, 0, 0, 1, 1],\n",
       " [1, 1, 1, 0, 1, 1, 0, 1, 0, 1],\n",
       " [1, 0, 1, 1, 1, 0, 1, 1, 1, 0]]"
      ]
     },
     "execution_count": 10,
     "metadata": {},
     "output_type": "execute_result"
    }
   ],
   "source": [
    "z"
   ]
  },
  {
   "cell_type": "code",
   "execution_count": null,
   "id": "517b235f-596f-4621-a9a4-307d298d65ae",
   "metadata": {},
   "outputs": [],
   "source": []
  }
 ],
 "metadata": {
  "kernelspec": {
   "display_name": "Python 3 (ipykernel)",
   "language": "python",
   "name": "python3"
  },
  "language_info": {
   "codemirror_mode": {
    "name": "ipython",
    "version": 3
   },
   "file_extension": ".py",
   "mimetype": "text/x-python",
   "name": "python",
   "nbconvert_exporter": "python",
   "pygments_lexer": "ipython3",
   "version": "3.9.13"
  }
 },
 "nbformat": 4,
 "nbformat_minor": 5
}
