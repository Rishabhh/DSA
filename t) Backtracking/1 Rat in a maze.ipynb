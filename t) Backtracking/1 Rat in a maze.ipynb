{
 "cells": [
  {
   "cell_type": "markdown",
   "id": "c6d2c64b-6742-4062-972c-57d285ae3668",
   "metadata": {},
   "source": [
    "## Backtracking\n",
    "\n",
    "1. Backtracking is basically exploring all the paths\n",
    "2. Backtracking requires recursion. It is a technique to solve problems"
   ]
  },
  {
   "cell_type": "markdown",
   "id": "7080c48c-ff2f-48fb-ac58-b845f2c8f0c6",
   "metadata": {},
   "source": [
    "# Rat in a Maze\n",
    "\n",
    "https://www.codingninjas.com/codestudio/problems/rat-in-a-maze_1215030?leftPanelTab=0"
   ]
  },
  {
   "cell_type": "code",
   "execution_count": 16,
   "id": "f10d3ca2-b51d-481b-b640-c0a76488a448",
   "metadata": {},
   "outputs": [],
   "source": [
    "def searchMazeHelper(arr, i, j, row, col, paths, current_path):\n",
    "    \n",
    "    # identify the stopping points and return from them\n",
    "    if i>=row or i<0 or j>=col or j<0 or arr[i][j]==0 or arr[i][j] == -1:\n",
    "        return\n",
    "    \n",
    "    # Once reached the destination, print the current path we have\n",
    "    if i == (row-1) and j == (col-1):\n",
    "        paths.append(current_path)\n",
    "        return\n",
    "    \n",
    "    temp = arr[i][j]\n",
    "    arr[i][j] = -1 # mark the node as visited for now\n",
    "    \n",
    "    # move in all directions allowed in search of the path\n",
    "    top = searchMazeHelper(arr, i-1, j, row, col, paths, current_path+\"U\")\n",
    "    down = searchMazeHelper(arr, i+1, j, row, col, paths, current_path+\"D\")\n",
    "    left = searchMazeHelper(arr, i, j-1, row, col, paths, current_path+\"L\")\n",
    "    right = searchMazeHelper(arr, i, j+1, row, col, paths, current_path+\"R\")\n",
    "    \n",
    "    # Backtracking now from this node therefore reset the value\n",
    "    # reset the node value as not-visited so that it can be used for other possible paths\n",
    "    arr[i][j] = temp\n",
    "    \n",
    "    return\n",
    "        \n",
    "    \n",
    "def searchMaze(arr, n):\n",
    "    # Write your code here.\n",
    "    row = len(arr)\n",
    "    col = len(arr[0])\n",
    "    paths = list()\n",
    "    current_path = \"\"\n",
    "    \n",
    "    searchMazeHelper(arr, 0, 0, row, col, paths, current_path)\n",
    "    \n",
    "    paths = sorted(paths)\n",
    "    \n",
    "    return paths\n",
    "\n",
    "def maze_input():\n",
    "    n = int(input(\"size of maze \"))\n",
    "    maze = list()\n",
    "\n",
    "    for i in range(n):\n",
    "        row = [int(c) for c in input().strip().split()]\n",
    "        maze.append(row)\n",
    "\n",
    "    paths = searchMaze(maze, n)\n",
    "\n",
    "    for path in paths:\n",
    "        print(*path)"
   ]
  },
  {
   "cell_type": "code",
   "execution_count": 5,
   "id": "8dfadca7-8959-4b65-a671-9ca45309842a",
   "metadata": {},
   "outputs": [
    {
     "name": "stdin",
     "output_type": "stream",
     "text": [
      "size of maze  4\n",
      " 1 1 1 1\n",
      " 1 0 1 1\n",
      " 1 1 0 1\n",
      " 1 1 1 1\n"
     ]
    },
    {
     "name": "stdout",
     "output_type": "stream",
     "text": [
      "D D D R R R\n",
      "D D R D R R\n",
      "R R D R D D\n",
      "R R R D D D\n"
     ]
    }
   ],
   "source": [
    "maze_input()"
   ]
  },
  {
   "cell_type": "markdown",
   "id": "f0bd9c27-f95d-4de5-9900-b1def7e126fa",
   "metadata": {},
   "source": [
    "## Rat in a Maze CN Implementation"
   ]
  },
  {
   "cell_type": "code",
   "execution_count": 15,
   "id": "278a4651-c810-4b41-8fc4-b22bacccaada",
   "metadata": {},
   "outputs": [],
   "source": [
    "def printPathHelper(x,y,maze,n,solution):\n",
    "    \n",
    "    if x<0 or y<0 or x>=n or y>=n or maze[x][y]==0 or solution[x][y]==1:\n",
    "        return\n",
    "    \n",
    "    if x==n-1 and y==n-1:\n",
    "        \n",
    "        solution[x][y]=1\n",
    "        print(solution)\n",
    "        solution[x][y]=0\n",
    "        return\n",
    "    \n",
    "    # mark node as visited\n",
    "    solution[x][y]=1\n",
    "    \n",
    "    printPathHelper(x+1,y,maze,n,solution)\n",
    "    printPathHelper(x,y+1,maze,n,solution)\n",
    "    printPathHelper(x-1,y,maze,n,solution)\n",
    "    printPathHelper(x,y-1,maze,n,solution)\n",
    "    \n",
    "    # backtracking so set the node value to 0 as it was 0 previously\n",
    "    solution[x][y]=0\n",
    "    return\n",
    "\n",
    "# here we use an extra 2-D array called solutions which is initialized to all 0\n",
    "# the node that we keep visiting we mark it as 1 as a sign that this node is visited\n",
    "# once we reach the final output we print the solution\n",
    "# then we proceed to backtrack\n",
    "# while backtracking we set all the path values to 0 so that they can be considered as not visited for other possible solution paths\n",
    "def printPath(maze):\n",
    "    n=len(maze)\n",
    "    solution=[[0 for j in range(n)] for i in range(n)]\n",
    "    printPathHelper(0,0,maze,n,solution)\n",
    "\n",
    "def input_rat_in_a_maze():\n",
    "    n=int(input())\n",
    "    maze=[]\n",
    "    for i in range(n):\n",
    "        row=[int(ele) for ele in input().split()]\n",
    "        maze.append(row)\n",
    "\n",
    "    printPath(maze)"
   ]
  },
  {
   "cell_type": "code",
   "execution_count": 14,
   "id": "37ac9908-3113-418b-91ae-25be5dca142a",
   "metadata": {},
   "outputs": [
    {
     "name": "stdin",
     "output_type": "stream",
     "text": [
      " 4\n",
      " 1 1 1 1\n",
      " 1 0 1 1\n",
      " 1 1 0 1\n",
      " 1 1 1 1\n"
     ]
    },
    {
     "name": "stdout",
     "output_type": "stream",
     "text": [
      "[[1, 0, 0, 0], [1, 0, 0, 0], [1, 0, 0, 0], [1, 1, 1, 1]]\n",
      "[[1, 0, 0, 0], [1, 0, 0, 0], [1, 1, 0, 0], [0, 1, 1, 1]]\n",
      "[[1, 1, 1, 0], [0, 0, 1, 1], [0, 0, 0, 1], [0, 0, 0, 1]]\n",
      "[[1, 1, 1, 1], [0, 0, 0, 1], [0, 0, 0, 1], [0, 0, 0, 1]]\n"
     ]
    }
   ],
   "source": [
    "input_rat_in_a_maze()"
   ]
  },
  {
   "cell_type": "code",
   "execution_count": null,
   "id": "db2e5248-f3f4-4f87-8b7b-dc8372177f49",
   "metadata": {},
   "outputs": [],
   "source": []
  }
 ],
 "metadata": {
  "kernelspec": {
   "display_name": "Python 3 (ipykernel)",
   "language": "python",
   "name": "python3"
  },
  "language_info": {
   "codemirror_mode": {
    "name": "ipython",
    "version": 3
   },
   "file_extension": ".py",
   "mimetype": "text/x-python",
   "name": "python",
   "nbconvert_exporter": "python",
   "pygments_lexer": "ipython3",
   "version": "3.9.13"
  }
 },
 "nbformat": 4,
 "nbformat_minor": 5
}
