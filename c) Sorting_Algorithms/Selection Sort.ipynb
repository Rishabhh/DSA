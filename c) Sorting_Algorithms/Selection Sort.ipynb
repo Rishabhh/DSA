{
 "cells": [
  {
   "cell_type": "markdown",
   "id": "4df7af8a",
   "metadata": {},
   "source": [
    "# Selection Sort"
   ]
  },
  {
   "cell_type": "markdown",
   "id": "830767d3",
   "metadata": {},
   "source": [
    "### Go through array and find the INDEX OF MINIMUM ELEMENT and place that minimum element at the starting of the array and move to the next position."
   ]
  },
  {
   "cell_type": "code",
   "execution_count": 15,
   "id": "2575bfb9",
   "metadata": {},
   "outputs": [],
   "source": [
    "def selection_sort(arr):\n",
    "    \n",
    "    # put the correct element at the ith position\n",
    "    # Note : we go till LENGTH-1 because if (n-1) elements are at correct position\n",
    "    # then nth element will be at correct position too\n",
    "    for i in range(len(arr)-1):\n",
    "        \n",
    "        min_index = i\n",
    "        # calculating the index of the minimum element for this iteration\n",
    "        for j in range(i+1, len(arr)):\n",
    "            \n",
    "            if arr[j] < arr[min_index] :\n",
    "                min_index = j\n",
    "        \n",
    "        # swap the current element with minimum element found\n",
    "        arr[i], arr[min_index] = arr[min_index], arr[i]"
   ]
  },
  {
   "cell_type": "code",
   "execution_count": 14,
   "id": "4de64913",
   "metadata": {},
   "outputs": [
    {
     "name": "stdout",
     "output_type": "stream",
     "text": [
      "[-1, 0, 1, 2, 3, 3, 4, 5, 6]\n"
     ]
    }
   ],
   "source": [
    "arr = [3,4,5,6,1,2,3,0, -1]\n",
    "selection_sort(arr)\n",
    "print(arr)"
   ]
  },
  {
   "cell_type": "code",
   "execution_count": 20,
   "id": "9225bf33",
   "metadata": {},
   "outputs": [],
   "source": [
    "a = [7,5,3,1,2,6]\n",
    "d = {a[i]:i for i in range(len(a))}"
   ]
  },
  {
   "cell_type": "code",
   "execution_count": 21,
   "id": "874adc54",
   "metadata": {},
   "outputs": [
    {
     "data": {
      "text/plain": [
       "{7: 0, 5: 1, 3: 2, 1: 3, 2: 4, 6: 5}"
      ]
     },
     "execution_count": 21,
     "metadata": {},
     "output_type": "execute_result"
    }
   ],
   "source": [
    "d"
   ]
  },
  {
   "cell_type": "code",
   "execution_count": null,
   "id": "5ea17595",
   "metadata": {},
   "outputs": [],
   "source": []
  }
 ],
 "metadata": {
  "kernelspec": {
   "display_name": "Python 3 (ipykernel)",
   "language": "python",
   "name": "python3"
  },
  "language_info": {
   "codemirror_mode": {
    "name": "ipython",
    "version": 3
   },
   "file_extension": ".py",
   "mimetype": "text/x-python",
   "name": "python",
   "nbconvert_exporter": "python",
   "pygments_lexer": "ipython3",
   "version": "3.9.13"
  }
 },
 "nbformat": 4,
 "nbformat_minor": 5
}
