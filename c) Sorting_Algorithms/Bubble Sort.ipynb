{
 "cells": [
  {
   "cell_type": "markdown",
   "id": "973b7c9a",
   "metadata": {},
   "source": [
    "# Bubble Sort"
   ]
  },
  {
   "cell_type": "markdown",
   "id": "7831eed3",
   "metadata": {},
   "source": [
    "#### We will go through (n-1) rounds of iteration of the array ( as nth element will already be in sorted position if n-1 are sorted. \n",
    "#### At each round our aim is to place the MAXIMUM ELEMENT AT THE END of the array.\n",
    "#### To make sure maximum element reaches the end we compare adjacent elements and swap if left_element > right_element\n",
    "#### Also note we just go till (length-1-i) while swapping as at each iteration we have already placed correct element there."
   ]
  },
  {
   "cell_type": "code",
   "execution_count": 4,
   "id": "a7f240ae",
   "metadata": {},
   "outputs": [],
   "source": [
    "def bubble_sort(arr):\n",
    "    \n",
    "    # running loop for (n-1) elements only \n",
    "    # i for (n-1) rounds\n",
    "    # j is for in each iteration you need to go till (length-1-i) th position and finally get maximum there\n",
    "    for i in range(len(arr)-1):\n",
    "        \n",
    "        # note we\n",
    "        for j in range(len(arr)-1-i):\n",
    "            \n",
    "            if arr[j] > arr[j+1]:\n",
    "                \n",
    "                # swap elements\n",
    "                arr[j], arr[j+1] = arr[j+1], arr[j]\n",
    "                "
   ]
  },
  {
   "cell_type": "code",
   "execution_count": 5,
   "id": "9b2e60c1",
   "metadata": {},
   "outputs": [
    {
     "name": "stdout",
     "output_type": "stream",
     "text": [
      "[-1, 0, 1, 2, 3, 3, 4, 5, 6]\n"
     ]
    }
   ],
   "source": [
    "arr = [3,4,5,6,1,2,3,0, -1]\n",
    "bubble_sort(arr)\n",
    "print(arr)"
   ]
  },
  {
   "cell_type": "code",
   "execution_count": null,
   "id": "a4cba791",
   "metadata": {},
   "outputs": [],
   "source": []
  }
 ],
 "metadata": {
  "kernelspec": {
   "display_name": "Python 3 (ipykernel)",
   "language": "python",
   "name": "python3"
  },
  "language_info": {
   "codemirror_mode": {
    "name": "ipython",
    "version": 3
   },
   "file_extension": ".py",
   "mimetype": "text/x-python",
   "name": "python",
   "nbconvert_exporter": "python",
   "pygments_lexer": "ipython3",
   "version": "3.9.13"
  }
 },
 "nbformat": 4,
 "nbformat_minor": 5
}
