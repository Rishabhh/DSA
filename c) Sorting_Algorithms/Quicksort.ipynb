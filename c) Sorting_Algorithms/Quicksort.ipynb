{
 "cells": [
  {
   "cell_type": "markdown",
   "id": "fc165f54",
   "metadata": {},
   "source": [
    "# Quicksort\n",
    "\n",
    "Better than Mergesort as it does not create new arrays for merging activity. Though because of recursion the space complexity is still not O(1). <br><br>\n",
    "Since quicksort calls itself on the order of log(n) times (in the average case, worst case number of calls is O(n)), at each recursive call a new stack frame of constant size must be allocated. Hence the O(log(n)) space complexity.<br>"
   ]
  },
  {
   "cell_type": "code",
   "execution_count": 4,
   "id": "2aad1e2e",
   "metadata": {},
   "outputs": [],
   "source": [
    "\n",
    "def partition(arr, start, end):\n",
    "    \n",
    "    # we take the pivot element as the starting element\n",
    "    pivot_element = arr[start]\n",
    "    \n",
    "    # Now we are finding number of elements greater than the pivot element\n",
    "    # using this count we can figure out the correct position of the pivot element from start_index\n",
    "    elements_greater_than_pivot_element = 0\n",
    "    for i in range(start, end+1):\n",
    "        \n",
    "        if arr[i] < pivot_element:\n",
    "            elements_greater_than_pivot_element += 1\n",
    "    \n",
    "    # the correct index of the pivot element\n",
    "    pivot_element_correct_index = start + elements_greater_than_pivot_element\n",
    "    # swap the pivot element with element at the correct position of pivot element so that we do not lose that element\n",
    "    arr[start], arr[pivot_element_correct_index] = arr[pivot_element_correct_index], arr[start]\n",
    "    \n",
    "    # From here on we do element swapping\n",
    "    # elements on the left of pivot elements that are greater than the pivot element should be swapped with\n",
    "    # elements on the right of pivot elements that are smaller than the pivot elements\n",
    "    \n",
    "    # Elements on the right side of pivot element which are greater or EQUAL to pivot element are at correct position\n",
    "    # Elements on the left side of pivot element which are smaller than pivot element are at correct position\n",
    "    i = start\n",
    "    j = end\n",
    "    \n",
    "    while i < j :\n",
    "        \n",
    "        # first we are finding an element to swap on the left ; keep increasing \"i\" till you find it\n",
    "        if arr[i] < pivot_element:\n",
    "            i = i+1\n",
    "        elif arr[j] >= pivot_element: # then finding element to swap on right ; keep increasing \"j\" till you find it\n",
    "            j = j-1\n",
    "        else:\n",
    "            arr[i], arr[j] = arr[j], arr[i] # once found element to swap on both side of pivot -> swap them\n",
    "            i = i+1\n",
    "            j = j-1\n",
    "    \n",
    "    #print(\"partition_index\",pivot_element_correct_index, \"value\", arr[pivot_element_correct_index])\n",
    "    #print(\"arr after partitioning\", *arr)\n",
    "    return pivot_element_correct_index\n",
    "\n",
    "def quickSort(arr, start, end):\n",
    "    \n",
    "    # This condition means there is at max 1 element or null array both of which are sorted so return\n",
    "    if start >= end:\n",
    "        return\n",
    "    \n",
    "    partition_index = partition(arr, start, end)\n",
    "    \n",
    "    # element at partition index i.e. pivot element is already at its correct position as done in partition method\n",
    "    # therefore we call quicksort for elements before and after that pivot element's index\n",
    "    quickSort(arr, start, partition_index-1)\n",
    "    quickSort(arr, partition_index+1, end)\n"
   ]
  },
  {
   "cell_type": "code",
   "execution_count": 5,
   "id": "ae599038",
   "metadata": {},
   "outputs": [
    {
     "name": "stdout",
     "output_type": "stream",
     "text": [
      "6\n",
      "6 5 4 3 2 1\n",
      "1 2 3 4 5 6\n"
     ]
    }
   ],
   "source": [
    "n=int(input())\n",
    "arr=list(int(i) for i in input().strip().split(' '))\n",
    "quickSort(arr, 0, n-1)\n",
    "print(*arr)"
   ]
  },
  {
   "cell_type": "code",
   "execution_count": 9,
   "id": "98b6d244",
   "metadata": {},
   "outputs": [
    {
     "data": {
      "text/plain": [
       "'23923432.280'"
      ]
     },
     "execution_count": 9,
     "metadata": {},
     "output_type": "execute_result"
    }
   ],
   "source": [
    "x = 23923432.28\n",
    "ans = \"%.3f\"%x\n",
    "ans"
   ]
  },
  {
   "cell_type": "code",
   "execution_count": 19,
   "id": "5fe22128",
   "metadata": {},
   "outputs": [
    {
     "ename": "AttributeError",
     "evalue": "'Student' object has no attribute '__name'",
     "output_type": "error",
     "traceback": [
      "\u001b[0;31m---------------------------------------------------------------------------\u001b[0m",
      "\u001b[0;31mAttributeError\u001b[0m                            Traceback (most recent call last)",
      "Input \u001b[0;32mIn [19]\u001b[0m, in \u001b[0;36m<cell line: 10>\u001b[0;34m()\u001b[0m\n\u001b[1;32m      7\u001b[0m         \u001b[38;5;28mprint\u001b[39m(\u001b[38;5;28mself\u001b[39m\u001b[38;5;241m.\u001b[39mage)\n\u001b[1;32m      9\u001b[0m s \u001b[38;5;241m=\u001b[39m Student(\u001b[38;5;124m\"\u001b[39m\u001b[38;5;124mRohan\u001b[39m\u001b[38;5;124m\"\u001b[39m,\u001b[38;5;241m20\u001b[39m)\n\u001b[0;32m---> 10\u001b[0m \u001b[38;5;28mprint\u001b[39m(\u001b[43ms\u001b[49m\u001b[38;5;241;43m.\u001b[39;49m\u001b[43m__name\u001b[49m)\n",
      "\u001b[0;31mAttributeError\u001b[0m: 'Student' object has no attribute '__name'"
     ]
    }
   ],
   "source": [
    "class Student:\n",
    "    def __init__(self,name,age):\n",
    "        self.__name = name\n",
    "        self.age = age\n",
    "    def print_student_details():\n",
    "        print(self.__name, end= \" \")\n",
    "        print(self.age)\n",
    "\n",
    "s = Student(\"Rohan\",20)\n",
    "print(s.__name)"
   ]
  },
  {
   "cell_type": "code",
   "execution_count": null,
   "id": "cead5257",
   "metadata": {},
   "outputs": [],
   "source": []
  }
 ],
 "metadata": {
  "kernelspec": {
   "display_name": "Python 3 (ipykernel)",
   "language": "python",
   "name": "python3"
  },
  "language_info": {
   "codemirror_mode": {
    "name": "ipython",
    "version": 3
   },
   "file_extension": ".py",
   "mimetype": "text/x-python",
   "name": "python",
   "nbconvert_exporter": "python",
   "pygments_lexer": "ipython3",
   "version": "3.8.11"
  }
 },
 "nbformat": 4,
 "nbformat_minor": 5
}
