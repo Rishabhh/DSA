{
 "cells": [
  {
   "cell_type": "code",
   "execution_count": 9,
   "id": "f0a64dad",
   "metadata": {},
   "outputs": [],
   "source": [
    "# Print all subsets of a stirng\n",
    "\n",
    "\n",
    "def printSubsequence(input_str, output):\n",
    "    \n",
    "    if input_str == \"\":\n",
    "        print(output)\n",
    "        return\n",
    "        \n",
    "    first_char = input_str[0]\n",
    "    \n",
    "    printSubsequence(input_str[1:], output)\n",
    "    \n",
    "    output = output + first_char\n",
    "    \n",
    "    printSubsequence(input_str[1:], output)"
   ]
  },
  {
   "cell_type": "code",
   "execution_count": 11,
   "id": "b2bb7ba9",
   "metadata": {
    "scrolled": true
   },
   "outputs": [
    {
     "name": "stdout",
     "output_type": "stream",
     "text": [
      "\n",
      "d\n",
      "c\n",
      "cd\n",
      "b\n",
      "bd\n",
      "bc\n",
      "bcd\n",
      "a\n",
      "ad\n",
      "ac\n",
      "acd\n",
      "ab\n",
      "abd\n",
      "abc\n",
      "abcd\n"
     ]
    }
   ],
   "source": [
    "printSubsequence(\"abcd\", \"\")"
   ]
  },
  {
   "cell_type": "markdown",
   "id": "09f197f0",
   "metadata": {},
   "source": [
    "# SORT ARRAY USING RECURSION"
   ]
  },
  {
   "cell_type": "code",
   "execution_count": 45,
   "id": "93dc19c6",
   "metadata": {},
   "outputs": [],
   "source": [
    "# sort an array using recursion\n",
    "\n",
    "arr = [5,4,3,2,1,7,8,9]"
   ]
  },
  {
   "cell_type": "code",
   "execution_count": 46,
   "id": "1c693f91",
   "metadata": {},
   "outputs": [],
   "source": [
    "def sort_array(arr):\n",
    "    \n",
    "    if len(arr) == 1:\n",
    "        return arr\n",
    "    \n",
    "    val = arr.pop()\n",
    "    \n",
    "    arr = sort_array(arr)\n",
    "    \n",
    "    return place_at_correct_position(arr, val)"
   ]
  },
  {
   "cell_type": "code",
   "execution_count": 47,
   "id": "aa2cedd3",
   "metadata": {},
   "outputs": [],
   "source": [
    "def place_at_correct_position(arr, val):\n",
    "    \n",
    "    if len(arr) == 0:\n",
    "        arr.append(val)\n",
    "        return arr\n",
    "    \n",
    "    if arr[-1] < val:\n",
    "        arr.append(val)\n",
    "    else:\n",
    "        left_val = arr.pop()\n",
    "        place_at_correct_position(arr, val)\n",
    "        arr.append(left_val)\n",
    "        \n",
    "    \n",
    "    return arr\n",
    "    "
   ]
  },
  {
   "cell_type": "code",
   "execution_count": 49,
   "id": "2ccd3c8f",
   "metadata": {},
   "outputs": [
    {
     "name": "stdout",
     "output_type": "stream",
     "text": [
      "[1, 2, 3, 4, 5, 7, 8, 9]\n"
     ]
    }
   ],
   "source": [
    "print(sort_array(arr))"
   ]
  }
 ],
 "metadata": {
  "kernelspec": {
   "display_name": "Python 3 (ipykernel)",
   "language": "python",
   "name": "python3"
  },
  "language_info": {
   "codemirror_mode": {
    "name": "ipython",
    "version": 3
   },
   "file_extension": ".py",
   "mimetype": "text/x-python",
   "name": "python",
   "nbconvert_exporter": "python",
   "pygments_lexer": "ipython3",
   "version": "3.8.11"
  }
 },
 "nbformat": 4,
 "nbformat_minor": 5
}
