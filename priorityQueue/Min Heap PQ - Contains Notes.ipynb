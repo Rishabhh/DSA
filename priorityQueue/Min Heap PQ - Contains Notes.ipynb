{
 "cells": [
  {
   "cell_type": "markdown",
   "id": "fc867d2b",
   "metadata": {},
   "source": [
    "## Minimum Heap based Priority Queue\n",
    "\n",
    "The minimum heap will be built based on the priority values and not the node values.  \n",
    "\n",
    "Each node in the priority queue 'pq' list will have 2 attributed i) Priority Value ii) Node value.  \n",
    "\n"
   ]
  },
  {
   "cell_type": "code",
   "execution_count": 2,
   "id": "3cc70e28",
   "metadata": {},
   "outputs": [],
   "source": [
    "class PriorityQueueNode:\n",
    "    \n",
    "    def __init__(self, value, priority):\n",
    "        \n",
    "        self.value = value\n",
    "        self.priority = priority\n",
    "        \n",
    "class PriorityQueue:\n",
    "    \n",
    "    def __init__(self):\n",
    "        \n",
    "        self.pq = list()\n",
    "        \n",
    "        \n",
    "    def getSize(self):\n",
    "        \n",
    "        return len(self.pq)\n",
    "    \n",
    "    def isEmpty(self):\n",
    "        \n",
    "        return self.getSize() == 0\n",
    "    \n",
    "    # In getMin , we have our minimum priority element as 1st element of list pq. \n",
    "    # the priority in list is maintained using priority value but we will return node value from getMin\n",
    "    \n",
    "    def getMin(self):\n",
    "        \n",
    "        if self.isEmpty():\n",
    "            \n",
    "            print(\"The queue is empty !\")\n",
    "            return None\n",
    "        \n",
    "        return self.pq[0].value\n",
    "    \n",
    "    def __percolateUp(self):\n",
    "        childIndex = self.getSize()-1    # it is the last element of the index\n",
    "        \n",
    "        while childIndex > 0:\n",
    "            parentIndex = (childIndex-1)//2\n",
    "            \n",
    "            if self.pq[childIndex].priority < self.pq[parentIndex].priority:\n",
    "                self.pq[childIndex], self.pq[parentIndex] = self.pq[parentIndex], self.pq[childIndex]\n",
    "                childIndex = parentIndex\n",
    "            else:\n",
    "                break\n",
    "                \n",
    "    def insert(self, value, priority):\n",
    "        \n",
    "        # create a priority Queue node\n",
    "        pqNode = PriorityQueueNode(value, priority)\n",
    "        \n",
    "        # add node to the PQ\n",
    "        self.pq.append(pqNode)\n",
    "        \n",
    "        # percolate / heapify up\n",
    "        self.__percolateUp()\n",
    "            \n",
    "            \n",
    "    def __percolateDown(self):\n",
    "        \n",
    "        parentIndex = 0\n",
    "        leftChildIndex = 2*parentIndex + 1\n",
    "        rightChildIndex = 2*parentIndex + 2\n",
    "        \n",
    "        # if the leftChildIndex itself crosses the length of PQ, then there cannot be a smaller node\n",
    "        while leftChildIndex < self.getSize():\n",
    "            \n",
    "            minIndex = parentIndex #for maintaining the index of minimum value among parent, left and right child\n",
    "            \n",
    "            if self.pq[minIndex].priority > self.pq[leftChildIndex].priority:\n",
    "                minIndex = leftChildIndex\n",
    "            \n",
    "            # the first condition check for a edge case where leftChildIndex exist but rightChildIndex is out of index\n",
    "            # \n",
    "            if (rightChildIndex < self.getSize()) and (self.pq[minIndex].priority > self.pq[rightChildIndex].priority):\n",
    "                minIndex = rightChildIndex\n",
    "                \n",
    "            # if parent has found the right position then it won't move to leftChild or rightChild position\n",
    "            # and hence minIndex will remain the same as parentIndex : at such case you can come out of loop\n",
    "            if minIndex == parentIndex:\n",
    "                break\n",
    "            \n",
    "            #\n",
    "            self.pq[parentIndex], self.pq[minIndex] = self.pq[minIndex], self.pq[parentIndex]\n",
    "            \n",
    "            parentIndex = minIndex\n",
    "            leftChildIndex = 2*parentIndex + 1\n",
    "            rightChildIndex = 2*parentIndex + 2\n",
    "            \n",
    "    \n",
    "    def removeMin(self):\n",
    "        \n",
    "        if self.isEmpty():\n",
    "            print(\"Queue is Empty\")\n",
    "            return None\n",
    "        \n",
    "        ele = self.pq[0].value\n",
    "        self.pq[0] = self.pq[-1]\n",
    "        self.pq.pop()\n",
    "        self.__percolateDown()\n",
    "        return ele"
   ]
  },
  {
   "cell_type": "code",
   "execution_count": 5,
   "id": "1c5c71bc",
   "metadata": {
    "scrolled": true
   },
   "outputs": [
    {
     "name": "stdout",
     "output_type": "stream",
     "text": [
      "D\n",
      "C\n",
      "A\n",
      "B\n"
     ]
    }
   ],
   "source": [
    "pq = PriorityQueue()\n",
    "pq.insert('A', 10)\n",
    "pq.insert('C', 5)\n",
    "pq.insert('B', 19)\n",
    "pq.insert('D', 4)\n",
    "\n",
    "for _ in range(4):\n",
    "    print(pq.removeMin())"
   ]
  },
  {
   "cell_type": "code",
   "execution_count": 6,
   "id": "ddc8d773",
   "metadata": {},
   "outputs": [],
   "source": [
    "# in above print we can see as D has minimum priority so it is printed first."
   ]
  },
  {
   "cell_type": "markdown",
   "id": "ea3537f1",
   "metadata": {},
   "source": [
    "## Testing Min Heap PQ code"
   ]
  },
  {
   "cell_type": "code",
   "execution_count": 4,
   "id": "95e94ab8",
   "metadata": {},
   "outputs": [
    {
     "name": "stdout",
     "output_type": "stream",
     "text": [
      "3\n",
      "3\n",
      "4\n",
      "4\n",
      "4\n",
      "4\n",
      "7\n",
      "9\n"
     ]
    }
   ],
   "source": [
    "myPq = PriorityQueue()\n",
    "input_str = \"1 3 1 4 1 63 1 21 1 9 2 3 1 7 2 2 2 3 3 3 -1\" # 1 is insertion of element in heap\n",
    "curr_input = [int(ele) for ele in input_str.split()]\n",
    "choice = curr_input[0]\n",
    "i=1\n",
    "while choice != -1:\n",
    "    if choice == 1:\n",
    "        element = curr_input[i]\n",
    "        i+=1\n",
    "        myPq.insert(element,element)\n",
    "    elif choice == 2:\n",
    "        print(myPq.getMin())\n",
    "    elif choice == 3:\n",
    "        print(myPq.removeMin())\n",
    "    elif choice == 4:\n",
    "        print(myPq.getSize())\n",
    "    elif choice == 5:\n",
    "        if myPq.isEmpty():\n",
    "            print('true')\n",
    "        else:\n",
    "            print('false')\n",
    "        break\n",
    "    else:\n",
    "        pass\n",
    "    choice = curr_input[i]\n",
    "    i+=1"
   ]
  },
  {
   "cell_type": "code",
   "execution_count": null,
   "id": "d343e0e8",
   "metadata": {},
   "outputs": [],
   "source": []
  }
 ],
 "metadata": {
  "kernelspec": {
   "display_name": "Python 3 (ipykernel)",
   "language": "python",
   "name": "python3"
  },
  "language_info": {
   "codemirror_mode": {
    "name": "ipython",
    "version": 3
   },
   "file_extension": ".py",
   "mimetype": "text/x-python",
   "name": "python",
   "nbconvert_exporter": "python",
   "pygments_lexer": "ipython3",
   "version": "3.8.11"
  }
 },
 "nbformat": 4,
 "nbformat_minor": 5
}
