{
 "cells": [
  {
   "cell_type": "markdown",
   "id": "b98a6688",
   "metadata": {},
   "source": [
    "## k-smallest elements in an array\n",
    "\n",
    "You are given with an integer k and an array of integers that contain numbers in random order. Write a program to find k smallest numbers from given array. You need to save them in an array and return it.\n",
    "Time complexity should be O(n * logk) and space complexity should not be more than O(k).\n",
    "Note: Order of elements in the output is not important."
   ]
  },
  {
   "cell_type": "markdown",
   "id": "86116036",
   "metadata": {},
   "source": [
    "Soln-1 : Sort the array and give first 4 elements -> O(nlong) solution. We can do better"
   ]
  },
  {
   "cell_type": "markdown",
   "id": "71d3ad8a",
   "metadata": {},
   "source": [
    "Soln-2 : Use Max-Heap"
   ]
  },
  {
   "cell_type": "markdown",
   "id": "2548c5b7",
   "metadata": {},
   "source": [
    "**Max-Heap approach**  \n",
    "\n",
    "**Step-1** -> Maintain a Max-Heap of \"k\" elements (start with first \"k\" elements of the array). <br>\n",
    "\n",
    "**Step-2** -> Now iterate over the rest of the array and check if the current element is SMALLER THAN Maximum element of the heap ( which is heap[0] i.e. the first element of the heap array).<br>\n",
    "\n",
    "**Step-3** -> If the element is smaller than the current max of the heap, then REPLACE that element with the Max of the heap.<br>\n",
    "\n",
    "\n",
    "### Complexity of the above algorithm : O(n\\*logk)\n",
    "\n",
    "**Step-1** -> **O(k\\*logk) time** to create the Max-Heap of size \"k\" elements . Also **O(k) space** used. <br>\n",
    "**Step-2** -> O(n-k) iteration done <br>\n",
    "**Step-3** -> REPLACE = INSERTION + DELETION : We may need to replace each (n-k) following element of the array in the heap for a worst case where the array is reverse-sorted and hence need to do worst case **O((n-k)\\*logk)** work. <br>\n",
    "\n",
    "Time complexity  = O(k*\\logk) + O((n-k)\\*logk) = **O(nlogk)**\n",
    "\n",
    "\n",
    "<span style=\"color:red\"><b>NOTE -></b></span> **This algorithm is very efficient for a case where k<<\\<n**"
   ]
  },
  {
   "cell_type": "code",
   "execution_count": 3,
   "id": "e33f4217",
   "metadata": {},
   "outputs": [],
   "source": [
    "import heapq\n",
    "def kSmallest(lst, k):\n",
    "    \n",
    "    heap = lst[0:k]\n",
    "    \n",
    "    # Max-heap\n",
    "    heapq._heapify_max(heap)\n",
    "    \n",
    "    for i in range(k, len(lst)):\n",
    "        \n",
    "        if heap[0] > lst[i]:\n",
    "            heapq._heapreplace_max(heap, lst[i])\n",
    "            \n",
    "            \n",
    "    return heap"
   ]
  },
  {
   "cell_type": "markdown",
   "id": "8427defd",
   "metadata": {},
   "source": [
    "## k-largest elements : \n",
    "\n",
    "**Similar to above case -> just maintain a MIN-HEAP here instead of max-heap**"
   ]
  },
  {
   "cell_type": "code",
   "execution_count": 5,
   "id": "9b12b3e6",
   "metadata": {},
   "outputs": [],
   "source": [
    "def kLargest(lst, k):\n",
    "    \n",
    "    heap = lst[0:k]\n",
    "    \n",
    "    # Min-heap\n",
    "    heapq.heapify(heap)\n",
    "    \n",
    "    for i in range(k, len(lst)):\n",
    "        \n",
    "        if heap[0] < lst[i]:\n",
    "            heapq.heapreplace(heap, lst[i])\n",
    "            \n",
    "            \n",
    "    return heap"
   ]
  },
  {
   "cell_type": "code",
   "execution_count": 6,
   "id": "1e7e69a5",
   "metadata": {},
   "outputs": [
    {
     "data": {
      "text/plain": [
       "True"
      ]
     },
     "execution_count": 6,
     "metadata": {},
     "output_type": "execute_result"
    }
   ],
   "source": [
    "d = {'a':1, 'b':2}\n",
    "\n",
    "'a' in d"
   ]
  },
  {
   "cell_type": "code",
   "execution_count": null,
   "id": "ff3d2e1d",
   "metadata": {},
   "outputs": [],
   "source": []
  }
 ],
 "metadata": {
  "kernelspec": {
   "display_name": "Python 3 (ipykernel)",
   "language": "python",
   "name": "python3"
  },
  "language_info": {
   "codemirror_mode": {
    "name": "ipython",
    "version": 3
   },
   "file_extension": ".py",
   "mimetype": "text/x-python",
   "name": "python",
   "nbconvert_exporter": "python",
   "pygments_lexer": "ipython3",
   "version": "3.8.11"
  }
 },
 "nbformat": 4,
 "nbformat_minor": 5
}
