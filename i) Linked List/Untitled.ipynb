{
 "cells": [
  {
   "cell_type": "markdown",
   "id": "7678d04c-e41e-4876-ab3b-96400e36d74c",
   "metadata": {},
   "source": [
    "## Flatten a multilevel linkedlist\n",
    "\n",
    "https://leetcode.com/problems/flatten-a-multilevel-doubly-linked-list/"
   ]
  },
  {
   "cell_type": "code",
   "execution_count": 2,
   "id": "d2a448c8-f5f3-40e8-933a-9c48979fdce6",
   "metadata": {},
   "outputs": [],
   "source": [
    "class Solution2:\n",
    "    \n",
    "    def flatten(self, head: 'Optional[Node]') -> 'Optional[Node]':\n",
    "        \n",
    "        if head is None:\n",
    "            return None\n",
    "        \n",
    "        if head.child is not None:\n",
    "            \n",
    "            # save the reference of the next node before going to child node\n",
    "            temp = head.next\n",
    "            \n",
    "            # get the flattened list connected from child to its end\n",
    "            flatten_list_head = self.flatten(head.child)\n",
    "            \n",
    "            # connect the head with the flattened child list \n",
    "            head.next = flatten_list_head\n",
    "            flatten_list_head.prev = head\n",
    "            \n",
    "            # now remove child reference so that doubly ll is valid\n",
    "            head.child = None\n",
    "            \n",
    "            # now we need to traverse to the end of the child ll\n",
    "            # so that we can connect end of child ll with the node\n",
    "            # that is next to head node\n",
    "            flatten_temp = flatten_list_head\n",
    "            while flatten_temp.next is not None:\n",
    "                flatten_temp = flatten_temp.next\n",
    "            \n",
    "            # connecting end of child ll with node next to head\n",
    "            flatten_temp.next = temp\n",
    "            if temp is not None:\n",
    "                temp.prev = flatten_temp\n",
    "                \n",
    "            # once done we can continue this process from node next to head\n",
    "            self.flatten(temp)\n",
    "        else:\n",
    "            # if there is no child just keep nodes connected linearly\n",
    "            self.flatten(head.next)\n",
    "            \n",
    "        return head"
   ]
  },
  {
   "cell_type": "markdown",
   "id": "5416aa00-8c5e-445e-8931-aaf6ed0c3362",
   "metadata": {},
   "source": [
    "### Creating test case : create a multilevel linkedlist"
   ]
  },
  {
   "cell_type": "code",
   "execution_count": 1,
   "id": "3822ca90-bcc1-4908-bd95-8e9dc65c731c",
   "metadata": {},
   "outputs": [],
   "source": [
    "class Node:\n",
    "    \n",
    "    def __init__(self, data):\n",
    "        self.val = data\n",
    "        self.next = None\n",
    "        self.prev = None\n",
    "        self.child = None"
   ]
  },
  {
   "cell_type": "code",
   "execution_count": 39,
   "id": "b6678a33-e098-471b-ba57-4c3d95e59bb5",
   "metadata": {},
   "outputs": [],
   "source": [
    "# multi-level-ll-with-multi-child\n",
    "\n",
    "node1 = Node(1)\n",
    "node2 = Node(2)\n",
    "node3 = Node(3)\n",
    "node4 = Node(4)\n",
    "node5 = Node(5)\n",
    "node6 = Node(6)\n",
    "node7 = Node(7)\n",
    "node8 = Node(8)\n",
    "\n",
    "head = node1\n",
    "node1.next = node2\n",
    "node2.prev = node1\n",
    "node2.child = node3\n",
    "node3.next = node4\n",
    "node4.prev = node3\n",
    "node2.next = node5\n",
    "node5.prev = node2\n",
    "node5.child = node6\n",
    "node6.next = node7\n",
    "node7.prev = node6\n",
    "node5.next = node8"
   ]
  },
  {
   "cell_type": "code",
   "execution_count": 32,
   "id": "37c901b0-e53d-4cd7-b34f-d950e13c7fdc",
   "metadata": {},
   "outputs": [
    {
     "name": "stdout",
     "output_type": "stream",
     "text": [
      "1 2 5 8 "
     ]
    }
   ],
   "source": [
    "temp = head2\n",
    "while temp is not None:\n",
    "    print(temp.val, end=\" \")\n",
    "    temp = temp.next"
   ]
  },
  {
   "cell_type": "code",
   "execution_count": 45,
   "id": "eeb66689-bc9b-40f9-9912-a94724f6fae1",
   "metadata": {},
   "outputs": [],
   "source": [
    "new2 = Solution2().flatten(head2)"
   ]
  },
  {
   "cell_type": "code",
   "execution_count": 46,
   "id": "30269dbe-1b48-4713-b0e1-439c30ae569b",
   "metadata": {},
   "outputs": [
    {
     "name": "stdout",
     "output_type": "stream",
     "text": [
      "1 2 3 4 5 6 7 8 "
     ]
    }
   ],
   "source": [
    "temp = head2\n",
    "while temp is not None:\n",
    "    print(temp.val, end=\" \")\n",
    "    temp = temp.next"
   ]
  }
 ],
 "metadata": {
  "kernelspec": {
   "display_name": "Python 3 (ipykernel)",
   "language": "python",
   "name": "python3"
  },
  "language_info": {
   "codemirror_mode": {
    "name": "ipython",
    "version": 3
   },
   "file_extension": ".py",
   "mimetype": "text/x-python",
   "name": "python",
   "nbconvert_exporter": "python",
   "pygments_lexer": "ipython3",
   "version": "3.9.13"
  }
 },
 "nbformat": 4,
 "nbformat_minor": 5
}
