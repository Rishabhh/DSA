{
 "cells": [
  {
   "cell_type": "code",
   "execution_count": 14,
   "id": "b4d7bb5d",
   "metadata": {},
   "outputs": [],
   "source": [
    "class Node:\n",
    "    \n",
    "    def __init__(self, data):\n",
    "        \n",
    "        self.data = data\n",
    "        self.next = None"
   ]
  },
  {
   "cell_type": "code",
   "execution_count": 15,
   "id": "312afadc",
   "metadata": {},
   "outputs": [],
   "source": [
    "# this method should return HEAD of linked list and return it so that LL can be traversed\n",
    "\n",
    "# input will be given as string with spaces separating each node data and -1 indicating last node -> Dynamic LL create\n",
    "\n",
    "def take_input():\n",
    "    \n",
    "    inputList = [int(element) for element in input().split()]  # split() will give elements as string\n",
    "    \n",
    "    # head required to return reference to the head\n",
    "    # tail is required for adding nodes to the list \n",
    "    \n",
    "    head = None\n",
    "    tail = None\n",
    "    \n",
    "    for current_data in inputList:\n",
    "        \n",
    "        if current_data == -1:\n",
    "            break\n",
    "            \n",
    "        newNode = Node(current_data)\n",
    "        \n",
    "        if head is None:\n",
    "            head = newNode\n",
    "            tail = newNode\n",
    "        else:\n",
    "            tail.next = newNode\n",
    "            tail = newNode\n",
    "    \n",
    "    return head\n",
    "\n",
    "\n"
   ]
  },
  {
   "cell_type": "code",
   "execution_count": 16,
   "id": "16b4e3ef",
   "metadata": {},
   "outputs": [],
   "source": [
    "def printLL(head):\n",
    "    \n",
    "    current_node = head\n",
    "    \n",
    "    while current_node is not None:\n",
    "        print(str(current_node.data) +\"->\", end = \"\")\n",
    "        current_node = current_node.next\n",
    "        \n",
    "    print(\"None\")\n",
    "    return"
   ]
  },
  {
   "cell_type": "code",
   "execution_count": 17,
   "id": "eea1ca02",
   "metadata": {},
   "outputs": [],
   "source": [
    "def lengthLL(head):\n",
    "    \n",
    "    count = 0\n",
    "    \n",
    "    while head is not None:\n",
    "        \n",
    "        count = count + 1\n",
    "        head = head.next\n",
    "        \n",
    "    return count"
   ]
  },
  {
   "cell_type": "code",
   "execution_count": 18,
   "id": "107777f1",
   "metadata": {},
   "outputs": [],
   "source": [
    "def insertAtI_in_LL(head, i, data):\n",
    "    \n",
    "    # cannot insert for -ve index or at positions > length of linked list :  Remember 0 indexing is given to us here\n",
    "    \n",
    "    if i<0 or i> lengthLL(head):\n",
    "        \n",
    "        return head\n",
    "    \n",
    "    count = 0\n",
    "    prev = None\n",
    "    current = head\n",
    "    \n",
    "    # now we will move 2 pointers such that current pointer points at the position of insertion \n",
    "    # and prev pointer points to position just before inserting position\n",
    "    \n",
    "    while count < i:\n",
    "        \n",
    "        count = count + 1\n",
    "        \n",
    "        # order of statement is very important : first prev = current and then current = current.next\n",
    "        prev = current\n",
    "        current = current.next\n",
    "        \n",
    "    \n",
    "    # now create the node to be inserted\n",
    "    newNode = Node(data)\n",
    "    \n",
    "    # if insertion is at 0 position then prev will be None and hence we can't use prev.next \n",
    "    # therefore handle that case separately\n",
    "    \n",
    "    if prev is not None:\n",
    "        prev.next = newNode  # if prev is not None then we need to insert normally and can access prev.next\n",
    "    else:\n",
    "        head = newNode  # if insertion is at 0 then prev is None and hence we need to change the head pointer\n",
    "        \n",
    "    newNode.next = current  # \"next\" of newNode should point to current as current points to node of insertion position\n",
    "    \n",
    "    \n",
    "    return head"
   ]
  },
  {
   "cell_type": "code",
   "execution_count": 36,
   "id": "02ce8a60",
   "metadata": {},
   "outputs": [],
   "source": [
    "# insert at ith position in linked list recursively\n",
    "\n",
    "def insertAtI_in_LL_recursively(head, i, data):\n",
    "    \n",
    "    if i==0:\n",
    "        newNode = Node(data)\n",
    "        newNode.next = head\n",
    "        return newNode\n",
    "    \n",
    "    head.next = insertAtI_in_LL(head.next, i-1, data)\n",
    "    return head"
   ]
  },
  {
   "cell_type": "markdown",
   "id": "11fad190",
   "metadata": {},
   "source": [
    "## Delete a Node in Linked List"
   ]
  },
  {
   "cell_type": "code",
   "execution_count": 19,
   "id": "5a586e37",
   "metadata": {},
   "outputs": [],
   "source": [
    "def deleteNode(head, pos) :\n",
    "    # Write your code here.\n",
    "    \n",
    "    length_of_ll = lengthLL(head)\n",
    "    \n",
    "    if pos < 0 or pos >= length_of_ll:\n",
    "        return head\n",
    "    \n",
    "    # below condition will be true if it is the first node to be removed\n",
    "    temp = head\n",
    "    if pos == 0 :\n",
    "        head = head.next\n",
    "        temp.next = None\n",
    "        return head\n",
    "    \n",
    "    count = 0\n",
    "    prev = None\n",
    "    current = head\n",
    "    \n",
    "    while count < pos:\n",
    "        \n",
    "        prev = current\n",
    "        current = current.next\n",
    "        count = count + 1\n",
    "    \n",
    "    prev.next = current.next\n",
    "    current.next = None\n",
    "        \n",
    "    \n",
    "    return head\n",
    "\n",
    "# delete a node recursively\n",
    "def deleteNodeRec(head, pos) :\n",
    "    \n",
    "    if head is None:\n",
    "        return head\n",
    "    \n",
    "    \n",
    "    ahead = head.next\n",
    "    \n",
    "    if pos == 0:\n",
    "        head.next = None\n",
    "        return ahead\n",
    "    else:\n",
    "        \n",
    "        head.next = deleteNodeRec(ahead, pos-1)\n",
    "        return head"
   ]
  },
  {
   "cell_type": "markdown",
   "id": "d85607dc",
   "metadata": {},
   "source": [
    "### MERGE 2 Sorted Linked List - RECURSIVELY"
   ]
  },
  {
   "cell_type": "code",
   "execution_count": 16,
   "id": "3ed69e4f",
   "metadata": {},
   "outputs": [],
   "source": [
    "def mergeLinkedLists(headOne, headTwo):\n",
    "    # Write your code here.\n",
    "    \n",
    "    if headOne is None:\n",
    "        return headTwo\n",
    "    \n",
    "    if headTwo is None:\n",
    "        return headOne\n",
    "    \n",
    "    head = None\n",
    "    \n",
    "    if headOne.value < headTwo.value:\n",
    "        head = headOne\n",
    "        head.next = mergeLinkedLists(headOne.next, headTwo)\n",
    "    else:\n",
    "        head = headTwo\n",
    "        head.next = mergeLinkedLists(headOne, headTwo.next)\n",
    "        \n",
    "    return head"
   ]
  },
  {
   "cell_type": "markdown",
   "id": "6f14f28a",
   "metadata": {},
   "source": [
    "## MergeSort in Linked List"
   ]
  },
  {
   "cell_type": "code",
   "execution_count": 20,
   "id": "d1773fb7",
   "metadata": {},
   "outputs": [],
   "source": [
    "# middle of the linked_list :  returns 1st middle element in case of even number of terms\n",
    "\n",
    "def midPoint(head) :    \n",
    "    if head is None or head.next is None :        \n",
    "        return head    \n",
    "    slow = head    \n",
    "    fast = head.next \n",
    "    \n",
    "    while fast is not None and fast.next is not None :        \n",
    "        slow = slow.next        \n",
    "        fast = fast.next.next    \n",
    "        \n",
    "    return slow\n",
    "\n",
    "# merging 2 sorted linkedlist\n",
    "\n",
    "def mergeTwoSortedLinkedLists(head1, head2):\n",
    "\n",
    "    if(head1 is None):\n",
    "        return head2\n",
    "    \n",
    "    if(head2 is None):\n",
    "        return head1\n",
    "    \n",
    "    newHead, newTail = None, None\n",
    "\n",
    "    if head1.data < head2.data :\n",
    "        newHead = head1\n",
    "        newTail = head1\n",
    "        head1 = head1.next\n",
    "    else :\n",
    "        newHead = head2\n",
    "        newTail = head2\n",
    "        head2 = head2.next\n",
    "\n",
    "    while head1 is not None and head2 is not None :\n",
    "        if head1.data < head2.data :\n",
    "            newTail.next = head1\n",
    "            newTail = newTail.next\n",
    "            head1 = head1.next\n",
    "        else :\n",
    "            newTail.next = head2\n",
    "            newTail = newTail.next\n",
    "            head2 = head2.next\n",
    "\n",
    "\n",
    "    if head1 is not None :\n",
    "        newTail.next = head1\n",
    "\n",
    "    if head2 is not None :\n",
    "        newTail.next = head2\n",
    "\n",
    "\n",
    "    return newHead\n",
    "\n",
    "\n",
    "def mergeSort(head) :\n",
    "    if head is None or head.next is None :\n",
    "        return head\n",
    "\n",
    "    mid = midPoint(head)\n",
    "    half1 = head\n",
    "    half2 = mid.next\n",
    "    mid.next = None\n",
    "\n",
    "    half1 = mergeSort(half1)\n",
    "    half2 = mergeSort(half2)\n",
    "\n",
    "    finalHead = mergeTwoSortedLinkedLists(half1, half2)\n",
    "\n",
    "    return finalHead\n"
   ]
  },
  {
   "cell_type": "markdown",
   "id": "cbd319d5",
   "metadata": {},
   "source": [
    "## Check if Linked List is a Palindrome"
   ]
  },
  {
   "cell_type": "code",
   "execution_count": 17,
   "id": "edd7ac35",
   "metadata": {},
   "outputs": [],
   "source": [
    "# Method-1: create a new linked list that is reversed and then compares the 2 LL element by element : O(n) extra space\n",
    "# Method-2: break linked list in between and then reverse that half LL and compare\n",
    "\n",
    "def reverse_ll(head):\n",
    "    \n",
    "    if head is None or head.next is None:\n",
    "        \n",
    "        return head\n",
    "    \n",
    "    future = head.next\n",
    "    reverse_head = reverse_ll(future)\n",
    "    \n",
    "    future.next = head\n",
    "    head.next = None\n",
    "    \n",
    "    head.next = None\n",
    "    \n",
    "    return reverse_head\n",
    "        \n",
    "def get_middle_node(head):\n",
    "    \n",
    "    #first check should always be \"if head is None\" as if head itself is None then head.next will give error\n",
    "    #always the first check when using OR or AND should be the limiting condition. Here the limiting condition is what if head is None\n",
    "    if head is None or head.next is None:\n",
    "        return head\n",
    "    \n",
    "    slow = head\n",
    "    fast = head.next\n",
    "    \n",
    "    # here the limiting condition is what if fast is already None because it takes 2 jumps at a time.\n",
    "    # Therefore always check if fast is already None or not and then only try to access fast.next\n",
    "    while fast is not None and fast.next is not None:\n",
    "        \n",
    "        slow = slow.next\n",
    "        fast = fast.next.next\n",
    "        \n",
    "    return slow\n",
    "    \n",
    "def check_palindrome(head) :\n",
    "    #############################\n",
    "    # PLEASE ADD YOUR CODE HERE #\n",
    "    #############################\n",
    "    \n",
    "    if head is None or head.next is None:\n",
    "        return True\n",
    "    \n",
    "    middle_node = get_middle_node(head)\n",
    "    \n",
    "    half_ll_head = middle_node.next\n",
    "    middle_node.next = None\n",
    "    \n",
    "    reverse_half_ll_head = reverse_ll(half_ll_head)\n",
    "    \n",
    "    palindrome_flag = True\n",
    "    \n",
    "    while reverse_half_ll_head is not None and head is not None:\n",
    "        \n",
    "        if reverse_half_ll_head.data != head.data:\n",
    "            palindrome_flag = False\n",
    "            break\n",
    "            \n",
    "        reverse_half_ll_head = reverse_hald_ll_head.next\n",
    "        head = head.next\n",
    "        \n",
    "        \n",
    "    return palindrome_flag\n",
    "    "
   ]
  },
  {
   "cell_type": "code",
   "execution_count": 43,
   "id": "60046535",
   "metadata": {},
   "outputs": [],
   "source": [
    "# append last N elements to the first and return the head of new LL : Ex- 1 2 3 4 5  -> n=3. -> 3 4 5 1 2\n",
    "# using fast and slow pointer is important to understand -> we use this concept to find middle node and cycle in LL\n",
    "\n",
    "# Algorithm:\n",
    "\n",
    "# If we want to append last k nodes to first/starting , then we basically need to keep first N-K as same.\n",
    "# To keep them same we need to cover a pointer till N-K+1 \n",
    "# So we can basically use a fast pointer to cover K first. Now nodes left is N-K\n",
    "# Now, if our fast pointer moves till the end , it will cover N-K distance\n",
    "# If a slow pointer would move together with fast pointer from starting, it will reach N-K ahead from starting\n",
    "# this way we can get a pointer to N-K+1\n",
    "# From here we can start the process of attaching them ahead\n",
    "\n",
    "def appendLastKToFirst(head, n) :\n",
    "    if n == 0 or head is None :\n",
    "        return head\n",
    "\n",
    "    fast = head\n",
    "    slow = head\n",
    "    initialHead = head\n",
    "\n",
    "    for i in range(n) :\n",
    "        fast = fast.next\n",
    "\n",
    "    while fast.next is not None :\n",
    "        slow = slow.next\n",
    "        fast = fast.next\n",
    "\n",
    "    temp = slow.next\n",
    "    slow.next = None\n",
    "    fast.next = initialHead\n",
    "    head = temp\n",
    "\n",
    "    return head"
   ]
  },
  {
   "cell_type": "code",
   "execution_count": 39,
   "id": "56173408",
   "metadata": {},
   "outputs": [
    {
     "name": "stdout",
     "output_type": "stream",
     "text": [
      "1 2 3 4 5\n",
      "1->2->3->4->5->None\n"
     ]
    }
   ],
   "source": [
    "head = take_input()\n",
    "\n",
    "# print the linked list created\n",
    "\n",
    "printLL(head)"
   ]
  },
  {
   "cell_type": "code",
   "execution_count": 15,
   "id": "e7ddebd0",
   "metadata": {},
   "outputs": [
    {
     "name": "stdout",
     "output_type": "stream",
     "text": [
      "1->2->3->4->5->6->None\n",
      "0->1->2->3->4->5->6->None\n",
      "0->1->2->3->4->5->6->None\n",
      "0->1->2->3->4->5->6->7->None\n"
     ]
    }
   ],
   "source": [
    "head = insertAtI_in_LL(head, 2, 3)\n",
    "printLL(head)\n",
    "head = insertAtI_in_LL(head, 0, 0)\n",
    "printLL(head)\n",
    "head = insertAtI_in_LL(head, 15, 50)\n",
    "printLL(head)\n",
    "head = insertAtI_in_LL(head, 7, 7)\n",
    "printLL(head)"
   ]
  },
  {
   "cell_type": "code",
   "execution_count": 58,
   "id": "e750c8a9",
   "metadata": {},
   "outputs": [
    {
     "name": "stdout",
     "output_type": "stream",
     "text": [
      "3\n"
     ]
    }
   ],
   "source": [
    "print(midPoint(head).data)"
   ]
  },
  {
   "cell_type": "code",
   "execution_count": 60,
   "id": "6bd19912",
   "metadata": {},
   "outputs": [
    {
     "name": "stdout",
     "output_type": "stream",
     "text": [
      "5 4 3 2 1 6 7 9 0\n",
      "5->4->3->2->1->6->7->9->0->None\n",
      "0->1->2->3->4->5->6->7->9->None\n"
     ]
    }
   ],
   "source": [
    "# testing linked list merge sort\n",
    "\n",
    "head_unsorted = take_input()\n",
    "printLL(head_unsorted)\n",
    "\n",
    "head_sorted = mergeSort(head_unsorted)\n",
    "printLL(head_sorted)"
   ]
  },
  {
   "cell_type": "code",
   "execution_count": 34,
   "id": "0103c06a",
   "metadata": {},
   "outputs": [
    {
     "name": "stdout",
     "output_type": "stream",
     "text": [
      "True\n"
     ]
    }
   ],
   "source": [
    "print(check_palindrome(head))"
   ]
  },
  {
   "cell_type": "code",
   "execution_count": 40,
   "id": "6c7c7832",
   "metadata": {},
   "outputs": [
    {
     "name": "stdout",
     "output_type": "stream",
     "text": [
      "1->2->3->4->5->None\n"
     ]
    }
   ],
   "source": [
    "printLL(head)"
   ]
  },
  {
   "cell_type": "code",
   "execution_count": 41,
   "id": "60286f8f",
   "metadata": {},
   "outputs": [
    {
     "name": "stdout",
     "output_type": "stream",
     "text": [
      "1->2->55->3->4->5->None\n"
     ]
    }
   ],
   "source": [
    "printLL(insertAtI_in_LL_recursively(head, 2, 55))"
   ]
  },
  {
   "cell_type": "code",
   "execution_count": 5,
   "id": "281d6821",
   "metadata": {},
   "outputs": [
    {
     "data": {
      "text/plain": [
       "'vut '"
      ]
     },
     "execution_count": 5,
     "metadata": {},
     "output_type": "execute_result"
    }
   ],
   "source": [
    "a = \"pqrs tuv\"\n",
    "p = 6\n",
    "q = 2\n",
    "b = a[p+1:q+1:-1]\n",
    "b"
   ]
  },
  {
   "cell_type": "code",
   "execution_count": null,
   "id": "76cb4c5b",
   "metadata": {},
   "outputs": [],
   "source": []
  }
 ],
 "metadata": {
  "kernelspec": {
   "display_name": "Python 3 (ipykernel)",
   "language": "python",
   "name": "python3"
  },
  "language_info": {
   "codemirror_mode": {
    "name": "ipython",
    "version": 3
   },
   "file_extension": ".py",
   "mimetype": "text/x-python",
   "name": "python",
   "nbconvert_exporter": "python",
   "pygments_lexer": "ipython3",
   "version": "3.9.13"
  }
 },
 "nbformat": 4,
 "nbformat_minor": 5
}
