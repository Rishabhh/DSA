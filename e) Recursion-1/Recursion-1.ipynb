{
 "cells": [
  {
   "cell_type": "markdown",
   "id": "2db98c5c",
   "metadata": {},
   "source": [
    "# Recursion is based on PMI - Principle of Mathematical Induction\n",
    "\n",
    "See onenote notes for proof. <br>\n",
    "\n",
    "**Recursion is basically a function calling itself with smaller size input.** <br>\n",
    "\n",
    "**Why recursion does this ?** <br>\n",
    "Recursion does this with the intent that the smaller problem will be easier to solve and using the result of the smaller problem we will be able to solve a bigger problem. <br>\n",
    "\n",
    "**Therefore in recursion we keep calling a smaller problem till we reach a very small sized problem whose answer we already know and hence can answer it directly (return it to a +1 larger sized function caller -  This is basically BASE-CASE of a recursion**\n",
    "\n",
    "**3 Main Steps of Recursion**\n",
    "\n",
    "    1. Base-Case\n",
    "    2. Induction Hypothesis\n",
    "    3. Induction Step\n",
    "    \n",
    "    \n",
    "    Base-Case : \n",
    "    - A small sized problem whose answer you know already and hence can return it directly when called for.\n",
    "    - Example : In finding Factorial(n) problem, we necessarily know what is Factorial(10) but we certainly \n",
    "    know Factorial(0) is 1.\n",
    "    - This information can be used to return answer to a problem of size n=0 (answer = 1).\n",
    "    \n",
    "**<span style=\"color:red\">Note</span> -> If you're not able to find the base-case then do the following :<br>\n",
    "1)Develop the logic based on INDUCTION HYPOTHESIS and INDUCTION STEP and try to run code/create Recursion Tree for a \n",
    "small sized input and check what all values we will need.<br>\n",
    "<span style=\"color:red\">Remember :-:</span> Based on the INDUCTION HYPOTHESIS and INDUCTION STEP if we have to make DIFFERENT SIZED MULTIPLE RECURSIVE CALLS ; example : (n-1),(n-2),(n-3) in staircase problem , then we will need multiple base cases (usually number of base case = number of different sized recursive calls ).<br><br>\n",
    "2)Think about the SMALLEST LOGICAL INPUT POSSIBLE like n=1 or n=0 or len(s)==1 or len(s)==0 etc and think what should\n",
    "be the answer for those inputs and use them as base cases**\n",
    "    \n",
    "    Induction Hypothesis : \n",
    "    - This is a step in recursion process where we ASSUME that we will get the correct answer for a smaller sized\n",
    "    problem. The smaller sized problem can be of size (n-1), (n-2), (n-3) ...\n",
    "    \n",
    "    - Example : In finding Factorial(n) problem we call for Factorial(n-1) small size problem.\n",
    "    - Example : In fibonacci(n) we call for smaller sized problem fibonacci(n-1) or fibonacci(n-2)\n",
    "    - Example : In step climbing problem we call for (n-1) , (n-2) and (n-3) problem.\n",
    "    \n",
    "    *Note : Never question induction hypothesis, it is basically an assumption we have made.\n",
    "    *Note : Never try to enter into recursive calls of Induction Hypothesis. Induction Hypothesi's result will not \n",
    "    be visible till you not write the next step i.e. Induction Step. Therefore assume induction hypothesis is\n",
    "    working and then write next step i.e. induction step.\n",
    "    \n",
    "    Induction Step :\n",
    "    - After Induction Hypothesis we know(assume) that we have got the answer to the smaller sized problem. Now we \n",
    "    need to do something with this information to produce result for the current size problem. For this we will\n",
    "    need to make some manipulations with the result of the smaller sized problem. This part is induction step.\n",
    "    \n",
    "    - Example : In finding Factorial(n) problem we ASSUME we got the answer of the smaller sized problem like for\n",
    "    Factorial(n-1). With this result/info in our hand we need to do something to produce result for Factorial(n).\n",
    "    We figure out by logic that doing \" n*Factorial(n-1) \" should produce result for current problem that is \n",
    "    Factorial(n). This multiplying of Factorial(n-1) by \"n\" becomes our induction step.\n",
    "    \n",
    "    - Example : In fibonacci(n), we call for fibonacci(n-1) and fibonacci(n-2) as part of induction hypothesis and\n",
    "    get their result. To produce result for fibonacci(n) we realise we need to ADD the result of fibonacci(n-1) and\n",
    "    fibonacci(n-2) and hence we do that and it becomes our induction step\n",
    "    "
   ]
  },
  {
   "cell_type": "markdown",
   "id": "2adb9ea7",
   "metadata": {},
   "source": [
    "# Factorial of a number\n",
    "\n",
    "**Factorial(n) = n\\*Factorial(n-1)** later we will learn it is basically Recurrence Relation for this problem"
   ]
  },
  {
   "cell_type": "code",
   "execution_count": 6,
   "id": "00cab283",
   "metadata": {},
   "outputs": [],
   "source": [
    "def factorial(n):\n",
    "    \n",
    "    # Base-Case : \n",
    "    # It is a code that works definitely for a smaller input ( like PMI's Sum(1) = 1 in Sum(N) = N*(N+1)/2 pmi proof\n",
    "    if n==0:\n",
    "        return 1\n",
    "    \n",
    "    # Induction Hypothesis :  \n",
    "    # Induction Hypothesis is basically assuming code works for smaller sized input i.e. (n-1)\n",
    "    # finding output of the smaller problem ( smaller size (n-1))\n",
    "    smallOutput = factorial(n-1)\n",
    "    \n",
    "    # Induction Step \n",
    "    # Induction Step : using Assumed Step i.e. Induction Hypothesis we should be able to produce result for \n",
    "    # current (n) sized problem. For this we may need to do some manipulations\n",
    "    ans = n*smallOutput\n",
    "    \n",
    "    return ans"
   ]
  },
  {
   "cell_type": "markdown",
   "id": "9355d493",
   "metadata": {},
   "source": [
    "factorial(5)"
   ]
  },
  {
   "cell_type": "markdown",
   "id": "04149817",
   "metadata": {},
   "source": [
    "# Fibonacci Series\n",
    "\n",
    "0,1,1,2,3,5,8,13,21,34.... <br>\n",
    "\n",
    "**Fibonacci(n) = Fibonacci(n-1) + Fibonacci(n-2)**"
   ]
  },
  {
   "cell_type": "markdown",
   "id": "968bfed9",
   "metadata": {},
   "source": [
    "In fibonacci, we apply Extended PMI, which basically states that if we can assume algorithm work for n=1,2,3,....k then we can prove that it works for n=k+1 as well."
   ]
  },
  {
   "cell_type": "code",
   "execution_count": 10,
   "id": "51be39dd",
   "metadata": {},
   "outputs": [],
   "source": [
    "def fibonacci(n):\n",
    "    \n",
    "    # BASE-CASES\n",
    "    if n==0:\n",
    "        return 0\n",
    "    \n",
    "    if n==1:\n",
    "        return 1\n",
    "    \n",
    "    # Induction Hypothesis\n",
    "    smallOutput1 = fibonacci(n-1)\n",
    "    smallOutput2 = fibonacci(n-2)\n",
    "    \n",
    "    # Induction Step\n",
    "    ans = smallOutput1 + smallOutput2\n",
    "    \n",
    "    return ans"
   ]
  },
  {
   "cell_type": "code",
   "execution_count": 11,
   "id": "23c4212b",
   "metadata": {},
   "outputs": [
    {
     "data": {
      "text/plain": [
       "55"
      ]
     },
     "execution_count": 11,
     "metadata": {},
     "output_type": "execute_result"
    }
   ],
   "source": [
    "fibonacci(10)"
   ]
  },
  {
   "cell_type": "markdown",
   "id": "eed607c7",
   "metadata": {},
   "source": [
    "## Always think of recursion in these 3 steps only :\n",
    "#### Base-Case\n",
    "#### Induction Hypothesis\n",
    "#### Induction Step"
   ]
  },
  {
   "cell_type": "code",
   "execution_count": null,
   "id": "eaedcc55",
   "metadata": {},
   "outputs": [],
   "source": []
  },
  {
   "cell_type": "markdown",
   "id": "127835b0",
   "metadata": {},
   "source": [
    "# Sum of first N natural numbers\n",
    "\n",
    "**Summation(N) = N + Summation(N-1)**  -> later we will learn it is basically Recurrence Relation for this problem"
   ]
  },
  {
   "cell_type": "code",
   "execution_count": 16,
   "id": "7721ff5b",
   "metadata": {},
   "outputs": [],
   "source": [
    "def sumN(n):\n",
    "    \n",
    "    # Base-Case\n",
    "    if n==0:\n",
    "        return 0\n",
    "    \n",
    "    # Induction Hypothesis\n",
    "    smallOutput = sumN(n-1)\n",
    "    \n",
    "    # Induction Step\n",
    "    ans = n + smallOutput\n",
    "    \n",
    "    return ans"
   ]
  },
  {
   "cell_type": "code",
   "execution_count": 17,
   "id": "fe5576f7",
   "metadata": {},
   "outputs": [
    {
     "data": {
      "text/plain": [
       "15"
      ]
     },
     "execution_count": 17,
     "metadata": {},
     "output_type": "execute_result"
    }
   ],
   "source": [
    "sumN(5)"
   ]
  },
  {
   "cell_type": "markdown",
   "id": "9025923e",
   "metadata": {},
   "source": [
    "# Power of a number\n",
    "\n",
    "**Power(x, n) = x\\*Power(x, n-1)**"
   ]
  },
  {
   "cell_type": "code",
   "execution_count": 18,
   "id": "f1bf2352",
   "metadata": {},
   "outputs": [],
   "source": [
    "def power(x, n):\n",
    "    \n",
    "    # Base-Case\n",
    "    if n==0:\n",
    "        return 1\n",
    "    \n",
    "    # Induction Hypothesis\n",
    "    smallOutput = power(x, n-1)\n",
    "    \n",
    "    # Induction Step\n",
    "    ans = x*smallOutput\n",
    "    \n",
    "    return ans"
   ]
  },
  {
   "cell_type": "code",
   "execution_count": 19,
   "id": "76b0e398",
   "metadata": {
    "scrolled": false
   },
   "outputs": [
    {
     "data": {
      "text/plain": [
       "25"
      ]
     },
     "execution_count": 19,
     "metadata": {},
     "output_type": "execute_result"
    }
   ],
   "source": [
    "power(5,2)"
   ]
  },
  {
   "cell_type": "markdown",
   "id": "883c7598",
   "metadata": {},
   "source": [
    "<h1><span style=\"color:blue\">Induction Step before Induction Hypothesis</span></h1>"
   ]
  },
  {
   "cell_type": "markdown",
   "id": "dbae0f9a",
   "metadata": {},
   "source": [
    "# Print numbers from 1 to n ( and n to 1 as well below )"
   ]
  },
  {
   "cell_type": "code",
   "execution_count": 25,
   "id": "32932b72",
   "metadata": {},
   "outputs": [],
   "source": [
    "def print_1_to_n(n):\n",
    "    \n",
    "    if n == 0:\n",
    "        return\n",
    "    \n",
    "    # Induction Hypothesis \n",
    "    # - Here basically we are assuming that IH must have printed numbers from 1 to (n-1)\n",
    "    # therefore in the Induction Step we just need to print the number \"n\" as 1 to n-1 is already printed\n",
    "    print_1_to_n(n-1)\n",
    "    \n",
    "    # Induction Step\n",
    "    print(n)\n",
    "    \n",
    "    return"
   ]
  },
  {
   "cell_type": "code",
   "execution_count": 24,
   "id": "58fdd6d6",
   "metadata": {},
   "outputs": [
    {
     "name": "stdout",
     "output_type": "stream",
     "text": [
      "1\n",
      "2\n",
      "3\n",
      "4\n",
      "5\n"
     ]
    }
   ],
   "source": [
    "print_1_to_n(5)"
   ]
  },
  {
   "cell_type": "markdown",
   "id": "3f869888",
   "metadata": {},
   "source": [
    "# Print numbers from n to 1:\n",
    "\n",
    "<b>Learning - </b><span style=\"color : red\"> <b>Induction Step (our work other than recursive call) can come before Induction Hypothesis as well </b> </span>\n",
    "\n",
    "If our Induction Step here came after Induction Hypothesis the result would be like <br>\n",
    "\n",
    "Elements would already have been printed in the following order according to induction hypothesis fron(n-1) to 1 :<br>\n",
    "(n-1), (n-2), (n-3) ............. 3 2 1 ------<br>\n",
    "\n",
    "If now comes our Induction Step then result would become : <br>\n",
    "(n-1), (n-2), (n-3) ............. 3 2 1 <span style=\"color : red\">n</span> -------> this result is wrong as \"n\" printed in end. <br>\n",
    "\n",
    "**You'll have to see result like this when using Induction Hypothesis's result to see if your Induction Step will lead to correct output assuming Induction Hypothesis worked correctly**"
   ]
  },
  {
   "cell_type": "code",
   "execution_count": 26,
   "id": "cf8ad9ed",
   "metadata": {},
   "outputs": [],
   "source": [
    "def print_n_to_1(n):\n",
    "    \n",
    "    # base case\n",
    "    if n==0:\n",
    "        return \n",
    "    \n",
    "    # Induction Step : \n",
    "    # most important learning -> Induction Step (our work) can come before Recursive call i.e Induction Hypothesis\n",
    "    print(n)\n",
    "    \n",
    "    # induction hypothesis\n",
    "    print_n_to_1(n-1)"
   ]
  },
  {
   "cell_type": "code",
   "execution_count": 27,
   "id": "4b80d89f",
   "metadata": {},
   "outputs": [
    {
     "name": "stdout",
     "output_type": "stream",
     "text": [
      "5\n",
      "4\n",
      "3\n",
      "2\n",
      "1\n"
     ]
    }
   ],
   "source": [
    "print_n_to_1(5)"
   ]
  },
  {
   "cell_type": "markdown",
   "id": "68219f27",
   "metadata": {},
   "source": [
    "# Check if list is sorted or not using recursion"
   ]
  },
  {
   "cell_type": "markdown",
   "id": "f2b3f2b8",
   "metadata": {},
   "source": [
    "### Method-1 :  Induction Hypothesis first then doing Induction Step"
   ]
  },
  {
   "cell_type": "code",
   "execution_count": 14,
   "id": "b3fc6b44",
   "metadata": {},
   "outputs": [],
   "source": [
    "def check_if_sorted(arr):\n",
    "    \n",
    "    # Base Case\n",
    "    if len(arr) == 1 or len(arr) == 0:\n",
    "        return True\n",
    "    \n",
    "    # Induction Hypothesis : Assuming my function works for (n-1)\n",
    "    smallOutput = check_if_sorted(arr[1:])\n",
    "    \n",
    "    # Induction Step\n",
    "    if smallOutput is True:\n",
    "        if arr[0] <= arr[1]:\n",
    "            return True\n",
    "        \n",
    "    return False"
   ]
  },
  {
   "cell_type": "code",
   "execution_count": 18,
   "id": "3e7870a3",
   "metadata": {
    "scrolled": true
   },
   "outputs": [
    {
     "name": "stdout",
     "output_type": "stream",
     "text": [
      "[2, 4, 5, 7, 8, 9] is sorted ? True\n",
      "[7, 6, 4, 3, 2] is sorted ? False\n",
      "[1, 2, 3, 4, 3, 9] is sorted ? False\n"
     ]
    }
   ],
   "source": [
    "arr = [2,4,5,7,8,9]\n",
    "print(arr, \"is sorted ?\", check_if_sorted(arr))\n",
    "arr = [7,6,4,3,2]\n",
    "print(arr, \"is sorted ?\", check_if_sorted(arr))\n",
    "arr = [1,2,3,4,3,9]\n",
    "print(arr, \"is sorted ?\", check_if_sorted(arr))"
   ]
  },
  {
   "cell_type": "markdown",
   "id": "7c88aa26",
   "metadata": {},
   "source": [
    "### Method-2 : Induction Step before Induction Hypothesis"
   ]
  },
  {
   "cell_type": "code",
   "execution_count": 21,
   "id": "2327d9a2",
   "metadata": {},
   "outputs": [],
   "source": [
    "def check_if_sorted_2(arr):\n",
    "    \n",
    "    # Base Case\n",
    "    if len(arr) == 1 or len(arr) == 0:\n",
    "        return True\n",
    "    \n",
    "    if arr[0] > arr[1]:\n",
    "        return False\n",
    "    \n",
    "    smallerList = arr[1:] # problem : here we are making a copy of array of elements -> too much space used\n",
    "    isSmallerListSorted = check_if_sorted_2(smallerList)\n",
    "    \n",
    "    return isSmallerListSorted"
   ]
  },
  {
   "cell_type": "code",
   "execution_count": 22,
   "id": "a5ef2a63",
   "metadata": {},
   "outputs": [
    {
     "name": "stdout",
     "output_type": "stream",
     "text": [
      "[2, 4, 5, 7, 8, 9] is sorted ? True\n",
      "[7, 6, 4, 3, 2] is sorted ? False\n",
      "[1, 2, 3, 4, 3, 9] is sorted ? False\n"
     ]
    }
   ],
   "source": [
    "arr = [2,4,5,7,8,9]\n",
    "print(arr, \"is sorted ?\", check_if_sorted_2(arr))\n",
    "arr = [7,6,4,3,2]\n",
    "print(arr, \"is sorted ?\", check_if_sorted_2(arr))\n",
    "arr = [1,2,3,4,3,9]\n",
    "print(arr, \"is sorted ?\", check_if_sorted_2(arr))"
   ]
  },
  {
   "cell_type": "markdown",
   "id": "0d020ba5",
   "metadata": {},
   "source": [
    "### Resolving problem of creating new copies of the array using INDEXES\n",
    "\n",
    "Here instead of creating a new array we basically send the index from which our program needs to check for list being sorted or not."
   ]
  },
  {
   "cell_type": "code",
   "execution_count": 39,
   "id": "163672da",
   "metadata": {},
   "outputs": [],
   "source": [
    "def check_if_sorted_by_index(arr, start=0):\n",
    "    \n",
    "    # Base Case : (start == len(arr)) case only for EMPTY LIST case\n",
    "    if (start == (len(arr) - 1)) or (start == len(arr)):\n",
    "        return True\n",
    "    \n",
    "    if arr[start] > arr[start+1]:\n",
    "        return False\n",
    "    \n",
    "    isSmallerListSorted = check_if_sorted_by_index(arr, start+1)\n",
    "    \n",
    "    return isSmallerListSorted"
   ]
  },
  {
   "cell_type": "code",
   "execution_count": 40,
   "id": "db6d31e0",
   "metadata": {},
   "outputs": [
    {
     "name": "stdout",
     "output_type": "stream",
     "text": [
      "[2, 4, 5, 7, 8, 9] is sorted ? True\n",
      "[7, 6, 4, 3, 2] is sorted ? False\n",
      "[1, 2, 3, 4, 3, 9] is sorted ? False\n"
     ]
    }
   ],
   "source": [
    "arr = [2,4,5,7,8,9]\n",
    "print(arr, \"is sorted ?\", check_if_sorted_by_index(arr))\n",
    "arr = [7,6,4,3,2]\n",
    "print(arr, \"is sorted ?\", check_if_sorted_by_index(arr))\n",
    "arr = [1,2,3,4,3,9]\n",
    "print(arr, \"is sorted ?\", check_if_sorted_by_index(arr))"
   ]
  },
  {
   "cell_type": "markdown",
   "id": "26274c73",
   "metadata": {},
   "source": [
    "# First Index of the element in the array\n",
    "Given an array of length N and an integer x, you need to find and return the first index of integer x present in the array. Return -1 if it is not present in the array.\n",
    "First index means, the index of first occurrence of x in the input array."
   ]
  },
  {
   "cell_type": "code",
   "execution_count": 51,
   "id": "ea8fb226",
   "metadata": {},
   "outputs": [],
   "source": [
    "def firstIndex_using_startIndex(arr, x, start=0):\n",
    "    # using start index makes the code faster and requires less memory as we do not need to create a \n",
    "    # new array as is done in slicing of array\n",
    "    \n",
    "    # Base-Case\n",
    "    if start == len(arr):\n",
    "        return -1\n",
    "    \n",
    "    if arr[start] == x:\n",
    "        return start\n",
    "    \n",
    "    # Induction Hypothesis\n",
    "    smallOutputIndex = firstIndex_using_startIndex(arr, x, start+1)\n",
    "    \n",
    "    # Induction Step\n",
    "    return smallOutputIndex"
   ]
  },
  {
   "cell_type": "code",
   "execution_count": 58,
   "id": "e5f26944",
   "metadata": {},
   "outputs": [],
   "source": [
    "def firstIndex_using_slicing(arr, x):\n",
    "    # Please add your code here\n",
    "    \n",
    "    # Base-Case\n",
    "    if len(arr) == 0:\n",
    "        return -1\n",
    "    \n",
    "    if arr[0] == x:\n",
    "        return 0\n",
    "    \n",
    "    # Induction Hypothesis\n",
    "    smallOutputIndex = firstIndex_using_slicing(arr[1:], x)\n",
    "    \n",
    "    # Induction Step\n",
    "    # the reason we do ( 1 + smallOutputIndex ) is because the index \"k\" we will get from (n-1) sized array \n",
    "    # will be \"k+1\" for n sized array\n",
    "    if smallOutputIndex == -1:\n",
    "        ans = smallOutputIndex\n",
    "    else:\n",
    "        ans = 1 + smallOutputIndex\n",
    "        \n",
    "    return ans"
   ]
  },
  {
   "cell_type": "code",
   "execution_count": 57,
   "id": "a1622444",
   "metadata": {},
   "outputs": [
    {
     "name": "stdout",
     "output_type": "stream",
     "text": [
      "3\n",
      "3\n"
     ]
    }
   ],
   "source": [
    "arr = [2,3,4,5,11,4,5,9]\n",
    "x = 5\n",
    "print(firstIndex_using_startIndex(arr, x))\n",
    "print(firstIndex_using_slicing(arr, x))"
   ]
  },
  {
   "cell_type": "markdown",
   "id": "2619701a",
   "metadata": {},
   "source": [
    "# Last Index of the element in the array"
   ]
  },
  {
   "cell_type": "code",
   "execution_count": 63,
   "id": "3ba95705",
   "metadata": {},
   "outputs": [],
   "source": [
    "def last_index_using_slicing(arr, x):\n",
    "    \n",
    "    # Base-Case\n",
    "    if len(arr) == 0:\n",
    "        return -1\n",
    "    \n",
    "    \n",
    "    # Induction Hypothesis : \n",
    "    # In IH we are assuming the smaller sized array will return \n",
    "    smallOutputIndex = last_index_using_slicing(arr[1:], x)\n",
    "    \n",
    "    # Induction Step\n",
    "    # Induction hypothesis will tell us whether the element exist in array uptil now or not\n",
    "    # If the element exist in smaller sized array then we do not need to check if it exist in \n",
    "    # current sized array i.e. at arr[0]\n",
    "    # ----------\n",
    "    # Other-wise\n",
    "    # If the element does not exist then we need to check if it exist in current sized array i.e. at arr[0]\n",
    "    if smallOutputIndex == -1:\n",
    "        if arr[0] == x:\n",
    "            ans = 0\n",
    "        else:\n",
    "            ans = smallOutputIndex\n",
    "    else:\n",
    "            \n",
    "        ans = 1 + smallOutputIndex\n",
    "        \n",
    "    return ans\n",
    "\n"
   ]
  },
  {
   "cell_type": "code",
   "execution_count": 64,
   "id": "f65799a7",
   "metadata": {},
   "outputs": [],
   "source": [
    "def last_index_using_start_index(arr, x, start=0):\n",
    "    \n",
    "    # Base-Case\n",
    "    if start == len(arr):\n",
    "        return -1\n",
    "    \n",
    "    \n",
    "    # Induction Hypothesis\n",
    "    smallOutputIndex = last_index_using_start_index(arr, x, start+1)\n",
    "    \n",
    "    # Induction Step\n",
    "    # Induction hypothesis will tell us whether the element exist in array uptil now or not\n",
    "    # If the element exist then do something in induction step\n",
    "    # If the element does not exist then do something else in inductions step\n",
    "    if smallOutputIndex == -1:\n",
    "        if arr[start] == x:\n",
    "            ans = start\n",
    "        else:\n",
    "            ans = smallOutputIndex\n",
    "    else:\n",
    "        ans = smallOutputIndex\n",
    "        \n",
    "    return ans"
   ]
  },
  {
   "cell_type": "code",
   "execution_count": 65,
   "id": "ee89838a",
   "metadata": {},
   "outputs": [
    {
     "name": "stdout",
     "output_type": "stream",
     "text": [
      "6\n",
      "6\n"
     ]
    }
   ],
   "source": [
    "arr = [2,3,4,5,11,4,5,9]\n",
    "x = 5\n",
    "print(last_index_using_slicing(arr, x))\n",
    "print(last_index_using_start_index(arr, x))"
   ]
  },
  {
   "cell_type": "code",
   "execution_count": null,
   "id": "0359d746",
   "metadata": {},
   "outputs": [],
   "source": []
  },
  {
   "cell_type": "code",
   "execution_count": 67,
   "id": "6f553ef2",
   "metadata": {},
   "outputs": [],
   "source": [
    "def mirror_of_tree(root):\n",
    "    \n",
    "    if root is None:\n",
    "        return None\n",
    "    \n",
    "    left_subtree = mirror_of_tree(root.left)\n",
    "    right_subtree = mirror_of_tree(root.right)\n",
    "    \n",
    "    root.left = right_subtree\n",
    "    root.right = left_subtree\n",
    "    \n",
    "    return root\n",
    "\n",
    "    \n",
    "def print_mirror_of_tree(root):\n",
    "    \n",
    "    root = mirror_of_tree(root)"
   ]
  },
  {
   "cell_type": "code",
   "execution_count": 68,
   "id": "e34545d1",
   "metadata": {},
   "outputs": [],
   "source": [
    "def height(root):\n",
    "    \n",
    "    if root is None:\n",
    "        return 0\n",
    "    \n",
    "    \n",
    "    left_subtree_height = height(root.left)\n",
    "    right_subtree_height = height(root.right)\n",
    "    \n",
    "    current_height = max(left_subtree_height, right_subtree_height)\n",
    "    \n",
    "    return 1+current_height"
   ]
  },
  {
   "cell_type": "code",
   "execution_count": 69,
   "id": "a6800933",
   "metadata": {},
   "outputs": [],
   "source": [
    "def print_mirror_of_tree(root):\n",
    "    \n",
    "    if root is None:\n",
    "        return\n",
    "    \n",
    "    \n",
    "    stack = []\n",
    "    stack.append(root)\n",
    "    \n",
    "    while len(stack) != 0:\n",
    "        \n",
    "        current_size = len(stack)\n",
    "        \n",
    "        while current_size >0:\n",
    "            \n",
    "            current_node = stack.pop()\n",
    "            print(current_node.data)\n",
    "            \n",
    "            if current_node.left is not None:\n",
    "                stack.append(root.left)\n",
    "            \n",
    "            if current_node.right is not None:\n",
    "                stack.append(root.right)\n",
    "            \n",
    "            current_size -=1\n",
    "            \n",
    "        print()"
   ]
  },
  {
   "cell_type": "code",
   "execution_count": 83,
   "id": "5f7a001e",
   "metadata": {},
   "outputs": [
    {
     "name": "stdout",
     "output_type": "stream",
     "text": [
      "1 \n",
      "2 3 \n",
      "4 5 6 7 \n",
      "8 \n"
     ]
    }
   ],
   "source": [
    "class Node:\n",
    "    def __init__(self, key):\n",
    "        self.data = key\n",
    "        self.left = None\n",
    "        self.right = None\n",
    "\n",
    "def LevelOrder(root):\n",
    "    h = height(root)\n",
    "    for i in range(1, h+1):\n",
    "        CurrentLevel(root, i)\n",
    "        print()\n",
    "def CurrentLevel(root , level):\n",
    "    if root is None:\n",
    "        return\n",
    "    if level == 1:\n",
    "        print(root.data,end=\" \")\n",
    "    elif level > 1 :\n",
    "        CurrentLevel(root.left , level-1)\n",
    "        CurrentLevel(root.right , level-1)\n",
    "def height(node):\n",
    "    if node is None:\n",
    "        return 0\n",
    "    else :\n",
    "        lheight = height(node.left)\n",
    "        rheight = height(node.right)\n",
    "        \n",
    "        return 1 + max(lheight, rheight)\n",
    "\n",
    "\n",
    "root = Node(1)\n",
    "root.left = Node(2)\n",
    "root.right = Node(3)\n",
    "root.left.left = Node(4)\n",
    "root.left.right = Node(5)\n",
    "root.right.left = Node(6)\n",
    "root.right.right = Node(7)\n",
    "root.right.right.right = Node(8)\n",
    "LevelOrder(root)"
   ]
  },
  {
   "cell_type": "code",
   "execution_count": null,
   "id": "3e4dd1fd",
   "metadata": {},
   "outputs": [],
   "source": []
  }
 ],
 "metadata": {
  "kernelspec": {
   "display_name": "Python 3 (ipykernel)",
   "language": "python",
   "name": "python3"
  },
  "language_info": {
   "codemirror_mode": {
    "name": "ipython",
    "version": 3
   },
   "file_extension": ".py",
   "mimetype": "text/x-python",
   "name": "python",
   "nbconvert_exporter": "python",
   "pygments_lexer": "ipython3",
   "version": "3.8.11"
  }
 },
 "nbformat": 4,
 "nbformat_minor": 5
}
