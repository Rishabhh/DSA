{
 "cells": [
  {
   "cell_type": "markdown",
   "id": "5ad8a274",
   "metadata": {},
   "source": [
    "# Introduction"
   ]
  },
  {
   "cell_type": "markdown",
   "id": "a410aa97",
   "metadata": {},
   "source": [
    "## What are design patterns\n",
    "\n",
    "A design pattern is a model solution to a common design problem. It describes the problem and the general approach to solving it.<br><br>"
   ]
  },
  {
   "cell_type": "markdown",
   "id": "5144278b",
   "metadata": {},
   "source": [
    "# Classification of Design Patterns\n",
    "\n",
    "    1) Creational Design Patterns : concerned with creating objects :  \n",
    "                Examples : Factory, Builder, Singleton design pattern\n",
    "                \n",
    "    2) Structural Design Patterns : Concerned with designing relationships between the objects we created.\n",
    "                Examples : Adapter, Facade, Composite\n",
    "                \n",
    "    3) Behavioral Design Patterns : Helps with INTER-OBJECT communication and interation.\n",
    "                Examples : Command, Observer, Strategy\n",
    "     \n",
    "    4) Concurrency Patterns :  Concerned with multi-threaded systems"
   ]
  },
  {
   "cell_type": "markdown",
   "id": "e982cedd",
   "metadata": {},
   "source": [
    "# 5 principles of Object-Oriented Design : SOLID (acronym)\n",
    "\n",
    "    1) Single Responsibility : A class should have a single responsibility\n",
    "    \n",
    "    2) Open-Closed : A class should be OPEN FOR EXTENSION usually via inheritance but CLOSED FOR MODIFICATION.       (Imagine someone designed a class and you decided to use it but then that person changed the class)\n",
    "    \n",
    "    3) Liskov Substitution : The subclasses should be able to stand-in(substitute) for their parent without        breaking anything.\n",
    "    \n",
    "    4) Interface Segregation : Many specific interfaces is better  than one do-it-all interfaces.\n",
    "    \n",
    "    5) Dependency Inversion : We should program towards abstraction and not implementations. Implementations can   vary but abstractions should not."
   ]
  },
  {
   "cell_type": "code",
   "execution_count": 1,
   "id": "a24300b7",
   "metadata": {},
   "outputs": [
    {
     "data": {
      "text/plain": [
       "{'a': 1, 'b': 1, 'c': 1}"
      ]
     },
     "execution_count": 1,
     "metadata": {},
     "output_type": "execute_result"
    }
   ],
   "source": [
    "dict.fromkeys(\"abc\",1)"
   ]
  },
  {
   "cell_type": "code",
   "execution_count": null,
   "id": "ef17080f",
   "metadata": {},
   "outputs": [],
   "source": []
  }
 ],
 "metadata": {
  "kernelspec": {
   "display_name": "Python 3 (ipykernel)",
   "language": "python",
   "name": "python3"
  },
  "language_info": {
   "codemirror_mode": {
    "name": "ipython",
    "version": 3
   },
   "file_extension": ".py",
   "mimetype": "text/x-python",
   "name": "python",
   "nbconvert_exporter": "python",
   "pygments_lexer": "ipython3",
   "version": "3.8.11"
  }
 },
 "nbformat": 4,
 "nbformat_minor": 5
}
