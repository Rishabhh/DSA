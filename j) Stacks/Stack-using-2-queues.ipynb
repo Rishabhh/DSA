{
 "cells": [
  {
   "cell_type": "markdown",
   "id": "d94c6f31",
   "metadata": {},
   "source": [
    "### Stack using 2 queues"
   ]
  },
  {
   "cell_type": "code",
   "execution_count": 1,
   "id": "62c30da2",
   "metadata": {},
   "outputs": [],
   "source": [
    "from queue import Queue\n",
    "\n",
    "class Stack :\n",
    "\n",
    "\t#Define data members and __init__()\n",
    "    \n",
    "    def __init__(self):\n",
    "        self.__q1 = Queue()\n",
    "        self.__q2 = Queue()\n",
    "        \n",
    "    def getSize(self):\n",
    "\t\t#Implement the getSize() function\n",
    "        return self.__q1.qsize()\n",
    "    \n",
    "    def isEmpty(self):\n",
    "\t\t#Implement the isEmpty() function\n",
    "        return self.getSize() == 0\n",
    "    \n",
    "    def push(self, data):\n",
    "\t\t#Implement the push(element) function\n",
    "        self.__q1.put(data)\n",
    "        \n",
    "    def pop(self) :\n",
    "\t\t#Implement the pop() function\n",
    "        if self.isEmpty() :\n",
    "            return -1\n",
    "        \n",
    "        while True:\n",
    "            \n",
    "            element = self.__q1.get()\n",
    "            if self.__q1.qsize() !=0:\n",
    "                self.__q2.put(element)\n",
    "            else:\n",
    "                popped_value = element\n",
    "                break\n",
    "        \n",
    "        # JUST CHANGE REFERENCES OF S1 AND S2 instead of copying the elements back to S1\n",
    "        temp = self.__q1\n",
    "        self.__q1 = self.__q2\n",
    "        self.__q2 = temp\n",
    "            \n",
    "        return popped_value\n",
    "    \n",
    "    def top(self) :\n",
    "\t\t#Implement the top() function\n",
    "\t\t\n",
    "        if self.isEmpty() :\n",
    "            return -1\n",
    "        \n",
    "        while self.__q1.qsize() !=0:\n",
    "            \n",
    "            element = self.__q1.get()\n",
    "            self.__q2.put(element)\n",
    "        \n",
    "        top_value = element\n",
    "        \n",
    "        # JUST CHANGE REFERENCES OF S1 AND S2 instead of copying the elements back to S1\n",
    "        temp = self.__q1\n",
    "        self.__q1 = self.__q2\n",
    "        self.__q2 = temp\n",
    "            \n",
    "        return top_value"
   ]
  },
  {
   "cell_type": "code",
   "execution_count": null,
   "id": "eb48f3c8",
   "metadata": {},
   "outputs": [],
   "source": []
  }
 ],
 "metadata": {
  "kernelspec": {
   "display_name": "Python 3 (ipykernel)",
   "language": "python",
   "name": "python3"
  },
  "language_info": {
   "codemirror_mode": {
    "name": "ipython",
    "version": 3
   },
   "file_extension": ".py",
   "mimetype": "text/x-python",
   "name": "python",
   "nbconvert_exporter": "python",
   "pygments_lexer": "ipython3",
   "version": "3.8.11"
  }
 },
 "nbformat": 4,
 "nbformat_minor": 5
}
