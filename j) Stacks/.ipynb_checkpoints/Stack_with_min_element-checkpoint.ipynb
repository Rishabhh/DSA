{
 "cells": [
  {
   "cell_type": "code",
   "execution_count": 38,
   "id": "949cbb8d",
   "metadata": {},
   "outputs": [],
   "source": [
    "class Stack:\n",
    "    \n",
    "    def __init__(self):\n",
    "        \n",
    "        self.__stack_data = []\n",
    "        self.__min_element_stack = []\n",
    "        \n",
    "    def getMin(self):\n",
    "        \n",
    "        if len(self.__min_element_stack) == 0:\n",
    "            print(\"Hey! Stack is Empty\")\n",
    "            return -1\n",
    "        \n",
    "        return self.__min_element_stack[-1]\n",
    "    \n",
    "    def push(self, item):\n",
    "        \n",
    "        if self.isEmpty():\n",
    "            self.__stack_data.append(item)\n",
    "            self.__min_element_stack.append(item)\n",
    "            return\n",
    "            \n",
    "        # if item == min_element at top then also we need to insert in min_element_stack \n",
    "        if len(self.__min_element_stack) != 0 and item <= self.__min_element_stack[-1] :\n",
    "            self.__min_element_stack.append(item)\n",
    "        \n",
    "        self.__stack_data.append(item)\n",
    "        \n",
    "    def pop(self):\n",
    "        \n",
    "        if self.isEmpty():\n",
    "            print(\"Hey! Stack is Empty\")\n",
    "            return -1\n",
    "        \n",
    "        # if the element popped is equal to minimum element then we need to remove from both the stacks\n",
    "        if self.top() == self.__min_element_stack[-1]:\n",
    "            self.__min_element_stack.pop()\n",
    "            \n",
    "        return self.__stack_data.pop()\n",
    "    \n",
    "    def top(self):\n",
    "        \n",
    "        if self.isEmpty():\n",
    "            print(\"Hey! Stack is Empty\")\n",
    "            return -1\n",
    "        \n",
    "        return self.__stack_data[-1]\n",
    "    \n",
    "    def size(self):\n",
    "        \n",
    "        return len(self.__stack_data)\n",
    "    \n",
    "    def isEmpty(self):\n",
    "        \n",
    "        return len(self.__stack_data) == 0"
   ]
  },
  {
   "cell_type": "code",
   "execution_count": 25,
   "id": "88a681e3",
   "metadata": {},
   "outputs": [],
   "source": [
    "s = Stack()"
   ]
  },
  {
   "cell_type": "code",
   "execution_count": 26,
   "id": "b90978e0",
   "metadata": {},
   "outputs": [],
   "source": [
    "s.push(18)\n",
    "s.push(19)\n",
    "s.push(25)\n",
    "s.push(15)\n",
    "s.push(16)"
   ]
  },
  {
   "cell_type": "code",
   "execution_count": 27,
   "id": "74ba7d3d",
   "metadata": {},
   "outputs": [
    {
     "data": {
      "text/plain": [
       "15"
      ]
     },
     "execution_count": 27,
     "metadata": {},
     "output_type": "execute_result"
    }
   ],
   "source": [
    "s.getMin()"
   ]
  },
  {
   "cell_type": "code",
   "execution_count": 28,
   "id": "c0733cfd",
   "metadata": {},
   "outputs": [
    {
     "data": {
      "text/plain": [
       "16"
      ]
     },
     "execution_count": 28,
     "metadata": {},
     "output_type": "execute_result"
    }
   ],
   "source": [
    "s.pop()"
   ]
  },
  {
   "cell_type": "code",
   "execution_count": 29,
   "id": "7b266409",
   "metadata": {},
   "outputs": [
    {
     "data": {
      "text/plain": [
       "15"
      ]
     },
     "execution_count": 29,
     "metadata": {},
     "output_type": "execute_result"
    }
   ],
   "source": [
    "s.getMin()"
   ]
  },
  {
   "cell_type": "code",
   "execution_count": 30,
   "id": "954b53cb",
   "metadata": {},
   "outputs": [
    {
     "data": {
      "text/plain": [
       "15"
      ]
     },
     "execution_count": 30,
     "metadata": {},
     "output_type": "execute_result"
    }
   ],
   "source": [
    "s.pop()"
   ]
  },
  {
   "cell_type": "code",
   "execution_count": 31,
   "id": "d6bde732",
   "metadata": {},
   "outputs": [
    {
     "data": {
      "text/plain": [
       "18"
      ]
     },
     "execution_count": 31,
     "metadata": {},
     "output_type": "execute_result"
    }
   ],
   "source": [
    "s.getMin()"
   ]
  },
  {
   "cell_type": "code",
   "execution_count": 32,
   "id": "d7d24e19",
   "metadata": {},
   "outputs": [
    {
     "data": {
      "text/plain": [
       "25"
      ]
     },
     "execution_count": 32,
     "metadata": {},
     "output_type": "execute_result"
    }
   ],
   "source": [
    "s.pop()"
   ]
  },
  {
   "cell_type": "code",
   "execution_count": 33,
   "id": "a0cc5bb8",
   "metadata": {},
   "outputs": [
    {
     "data": {
      "text/plain": [
       "19"
      ]
     },
     "execution_count": 33,
     "metadata": {},
     "output_type": "execute_result"
    }
   ],
   "source": [
    "s.pop()"
   ]
  },
  {
   "cell_type": "code",
   "execution_count": 34,
   "id": "9e1219bb",
   "metadata": {},
   "outputs": [
    {
     "data": {
      "text/plain": [
       "18"
      ]
     },
     "execution_count": 34,
     "metadata": {},
     "output_type": "execute_result"
    }
   ],
   "source": [
    "s.getMin()"
   ]
  },
  {
   "cell_type": "code",
   "execution_count": 35,
   "id": "c8ae4aa4",
   "metadata": {},
   "outputs": [
    {
     "data": {
      "text/plain": [
       "18"
      ]
     },
     "execution_count": 35,
     "metadata": {},
     "output_type": "execute_result"
    }
   ],
   "source": [
    "s.pop()"
   ]
  },
  {
   "cell_type": "code",
   "execution_count": 36,
   "id": "d58eab1a",
   "metadata": {},
   "outputs": [
    {
     "name": "stdout",
     "output_type": "stream",
     "text": [
      "Hey! Stack is Empty\n"
     ]
    },
    {
     "data": {
      "text/plain": [
       "-1"
      ]
     },
     "execution_count": 36,
     "metadata": {},
     "output_type": "execute_result"
    }
   ],
   "source": [
    "s.getMin()"
   ]
  },
  {
   "cell_type": "code",
   "execution_count": null,
   "id": "5ce81d25",
   "metadata": {},
   "outputs": [],
   "source": []
  }
 ],
 "metadata": {
  "kernelspec": {
   "display_name": "Python 3 (ipykernel)",
   "language": "python",
   "name": "python3"
  },
  "language_info": {
   "codemirror_mode": {
    "name": "ipython",
    "version": 3
   },
   "file_extension": ".py",
   "mimetype": "text/x-python",
   "name": "python",
   "nbconvert_exporter": "python",
   "pygments_lexer": "ipython3",
   "version": "3.8.11"
  }
 },
 "nbformat": 4,
 "nbformat_minor": 5
}
