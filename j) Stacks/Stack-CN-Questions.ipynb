{
 "cells": [
  {
   "cell_type": "markdown",
   "id": "48937005",
   "metadata": {},
   "source": [
    "### Reverse a stack using an extra-stack space given\n",
    "\n",
    "Here we use another stack - the recursion stack."
   ]
  },
  {
   "cell_type": "markdown",
   "id": "4aded017",
   "metadata": {},
   "source": [
    "### Method-1\n",
    "\n",
    "##### Algorithm :- <br>\n",
    "\n",
    "**We will need to extract each element from input stack.** <br><br>\n",
    "To do this -> we will transfer all the elements from inputstack to extrastack and then take pop the top element of extrastack as this will be the top element of the reversed stack <br><br>\n",
    "Then we will call recursion for step-2 <br><br>\n",
    "Once inputstack is empty we can stop recursion - base case <br><br>\n",
    "We can then finally start inserting each element back to inputstack at each recurive call end"
   ]
  },
  {
   "cell_type": "code",
   "execution_count": 1,
   "id": "2b89f2e4",
   "metadata": {},
   "outputs": [],
   "source": [
    "\n",
    "def reverseStack(inputStack, extraStack) :\n",
    "\t#Your code goes here\n",
    "    \n",
    "    if isEmpty(inputStack):\n",
    "        return\n",
    "    \n",
    "    while not isEmpty(inputStack):\n",
    "        \n",
    "        extraStack.append(inputStack.pop())\n",
    "        \n",
    "    top_element = extraStack.pop()\n",
    "    \n",
    "    while not isEmpty(extraStack):\n",
    "        \n",
    "        inputStack.append(extraStack.pop())\n",
    "        \n",
    "    reverseStack(inputStack, extraStack)\n",
    "    \n",
    "    inputStack.append(top_element)\n",
    "    \n",
    "    return"
   ]
  },
  {
   "cell_type": "markdown",
   "id": "42924dcc",
   "metadata": {},
   "source": [
    "### Method-1\n",
    "\n",
    "##### Algorithm :- <br>\n",
    "\n",
    "**here we want to transfer all the elements in inputstack to the extrastack in exactly SAME ORDER** <br><br>\n",
    "For this we can use recursive stack -> reverseStackHelper logic <br><br>\n",
    "Then we can transfer all the elements from extrastack to inputstack as now this will give reversed input stack\n"
   ]
  },
  {
   "cell_type": "code",
   "execution_count": null,
   "id": "46c855f2",
   "metadata": {},
   "outputs": [],
   "source": [
    "def reverseStackHelper(inputStack, extraStack):\n",
    "    \n",
    "    if isEmpty(inputStack):\n",
    "        return \n",
    "    \n",
    "    \n",
    "    element = inputStack.pop()\n",
    "    \n",
    "    reverseStackHelper(inputStack, extraStack)\n",
    "    \n",
    "    extraStack.append(element)\n",
    "    return \n",
    "\n",
    "def reverseStack(inputStack, extraStack) :\n",
    "\t#Your code goes here\n",
    "    \n",
    "    reverseStackHelper(inputStack, extraStack)\n",
    "    while not isEmpty(extraStack):\n",
    "        \n",
    "        inputStack.append(extraStack.pop())"
   ]
  }
 ],
 "metadata": {
  "kernelspec": {
   "display_name": "Python 3 (ipykernel)",
   "language": "python",
   "name": "python3"
  },
  "language_info": {
   "codemirror_mode": {
    "name": "ipython",
    "version": 3
   },
   "file_extension": ".py",
   "mimetype": "text/x-python",
   "name": "python",
   "nbconvert_exporter": "python",
   "pygments_lexer": "ipython3",
   "version": "3.8.11"
  }
 },
 "nbformat": 4,
 "nbformat_minor": 5
}
