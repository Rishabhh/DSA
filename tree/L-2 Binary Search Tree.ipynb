{
 "cells": [
  {
   "cell_type": "code",
   "execution_count": 6,
   "id": "b697f8b5",
   "metadata": {},
   "outputs": [],
   "source": [
    "from ipynb.fs.full.treeInput import *"
   ]
  },
  {
   "cell_type": "markdown",
   "id": "de61e2c3",
   "metadata": {},
   "source": [
    "### Binary Search Tree\n",
    "\n",
    "**Everything left < root <= Everything Right**\n",
    "\n",
    "BST derives name from binary search in array .\n",
    "\n",
    "Search in Binary Tree = O(n) <br>\n",
    "\n",
    "~~Search in Binary Search Tree = O(logn)~~<br>\n",
    "\n",
    "***Search in Binary Tree = O(height) <br>***\n",
    "\n",
    "If it is a COMPLETE BALANCED BINARY TREE , the height of the tree is O(logn) and hence BST Search complexity in such a a tree = O(logn) <br>\n",
    "\n",
    "BUT<BR>\n",
    "    \n",
    "If the tree is Skewed , either left side or right side , then BST Search in such tree = O(N) as height = N"
   ]
  },
  {
   "cell_type": "markdown",
   "id": "21f4cf2c",
   "metadata": {},
   "source": [
    "## Check if the tree is BST"
   ]
  },
  {
   "cell_type": "markdown",
   "id": "a894f7cc",
   "metadata": {},
   "source": [
    "Understand the common issue faced in this problem.<br>\n",
    "\n",
    "Just checking if the left subtree and right subtree is a BST is NOT SUFFICIENT. <br>\n",
    "\n",
    "Most important check you need to make is <br>\n",
    "\n",
    "**Max(left_subtree) < root.data <= Min(right_subtree)**<br>\n",
    "\n",
    "When the above condition is satisfied RECURSIVELY only then you can say if it is BST."
   ]
  },
  {
   "cell_type": "markdown",
   "id": "a4f9ff76",
   "metadata": {},
   "source": [
    "### Algorithm\n",
    "\n",
    "Find minimum of left subtree <br>\n",
    "Find maximum of right subtree <br>\n",
    "Check condition **Max(left_subtree) < root.data <= Min(right_subtree)**"
   ]
  },
  {
   "cell_type": "code",
   "execution_count": 10,
   "id": "8e62e2af",
   "metadata": {},
   "outputs": [],
   "source": [
    "def max_value(root):\n",
    "    \n",
    "    if root is None:\n",
    "        return float(\"-inf\")\n",
    "    \n",
    "    left_max = max_value(root.left)\n",
    "    right_max = max_value(root.right)\n",
    "    \n",
    "    return max(root.data, left_max, right_max)\n",
    "    \n",
    "def min_value(root):\n",
    "    \n",
    "    if root is None:\n",
    "        return float(\"inf\")\n",
    "    \n",
    "    left_min = min_value(root.left)\n",
    "    right_min = min_value(root.right)\n",
    "    \n",
    "    return min(root.data, left_min, right_min)\n",
    "\n",
    "def isBST(root):\n",
    "    \n",
    "    if root is None:\n",
    "        return True\n",
    "    \n",
    "    left_max = max_value(root.left)\n",
    "    right_min = min_value(root.right)\n",
    "    \n",
    "    if root.data <= left_max or root.data > right_min:\n",
    "        return False\n",
    "    \n",
    "    \n",
    "    isLeftBST = isBST(root.left)\n",
    "    isRightBST =isBST(root.right)\n",
    "    \n",
    "    return isLeftBST and isRightBST"
   ]
  },
  {
   "cell_type": "code",
   "execution_count": 8,
   "id": "e21f3450",
   "metadata": {},
   "outputs": [
    {
     "name": "stdout",
     "output_type": "stream",
     "text": [
      "Enter the root of the tree\n",
      "4\n",
      "Enter the left child of 4 \n",
      "2\n",
      "Enter the right child of 4 \n",
      "6\n",
      "Enter the left child of 2 \n",
      "1\n",
      "Enter the right child of 2 \n",
      "3\n",
      "Enter the left child of 6 \n",
      "5\n",
      "Enter the right child of 6 \n",
      "7\n",
      "Enter the left child of 1 \n",
      "-1\n",
      "Enter the right child of 1 \n",
      "-1\n",
      "Enter the left child of 3 \n",
      "-1\n",
      "Enter the right child of 3 \n",
      "-1\n",
      "Enter the left child of 5 \n",
      "-1\n",
      "Enter the right child of 5 \n",
      "-1\n",
      "Enter the left child of 7 \n",
      "-1\n",
      "Enter the right child of 7 \n",
      "-1\n",
      "\n",
      "Printing Tree\n",
      "4 : L 2, R 6\n",
      "2 : L 1, R 3\n",
      "1 : \n",
      "3 : \n",
      "6 : L 5, R 7\n",
      "5 : \n",
      "7 : \n",
      "\n",
      "True\n"
     ]
    }
   ],
   "source": [
    "root = takeInputLevelWise()\n",
    "print(\"\\nPrinting Tree\")\n",
    "printBinaryTreeDetailed(root)\n",
    "print()\n",
    "print(isBST(root))"
   ]
  },
  {
   "cell_type": "code",
   "execution_count": 9,
   "id": "3ad4ee98",
   "metadata": {},
   "outputs": [
    {
     "name": "stdout",
     "output_type": "stream",
     "text": [
      "Enter the root of the tree\n",
      "4\n",
      "Enter the left child of 4 \n",
      "2\n",
      "Enter the right child of 4 \n",
      "6\n",
      "Enter the left child of 2 \n",
      "1\n",
      "Enter the right child of 2 \n",
      "10\n",
      "Enter the left child of 6 \n",
      "5\n",
      "Enter the right child of 6 \n",
      "7\n",
      "Enter the left child of 1 \n",
      "-1\n",
      "Enter the right child of 1 \n",
      "-1\n",
      "Enter the left child of 10 \n",
      "-1\n",
      "Enter the right child of 10 \n",
      "-1\n",
      "Enter the left child of 5 \n",
      "-1\n",
      "Enter the right child of 5 \n",
      "-1\n",
      "Enter the left child of 7 \n",
      "-1\n",
      "Enter the right child of 7 \n",
      "-1\n",
      "\n",
      "Printing Tree\n",
      "4 : L 2, R 6\n",
      "2 : L 1, R 10\n",
      "1 : \n",
      "10 : \n",
      "6 : L 5, R 7\n",
      "5 : \n",
      "7 : \n",
      "\n",
      "False\n"
     ]
    }
   ],
   "source": [
    "root = takeInputLevelWise()\n",
    "print(\"\\nPrinting Tree\")\n",
    "printBinaryTreeDetailed(root)\n",
    "print()\n",
    "print(isBST(root))"
   ]
  },
  {
   "cell_type": "markdown",
   "id": "e5e26057",
   "metadata": {},
   "source": [
    "### Time Complexity problem with solution\n",
    "\n",
    "The time complexity of this solution is either O(nlong) for a Balanced Tree and O(n^2) for Skewed tree <br>\n",
    "\n",
    "***For Balanced Tree***\n",
    "T(n) = 2\\*T(n/2) + O(n) -> Solution of this recurrence relation is O(nlogn) <br>\n",
    "\n",
    "2 problems of Half Size to be solved (recursive call to left subtree and right subtree) therefore 2\\*T(n/2) <br>\n",
    "And O(n) for finding maximum and minimum in left and right respectively.<br>\n",
    "\n",
    "<br>\n",
    "\n",
    "***For Skewed Tree***\n",
    "\n",
    "T(n) = T(n-1) + O(n) -> Solution of this recurrence relation is O(n^2) \n"
   ]
  },
  {
   "cell_type": "markdown",
   "id": "2ff927dc",
   "metadata": {},
   "source": [
    "## Check isBST with BETTER EFFICIENCY -> Solution similar to Diameter of a Tree"
   ]
  },
  {
   "cell_type": "code",
   "execution_count": 1,
   "id": "13958ab0",
   "metadata": {},
   "outputs": [],
   "source": [
    "def isBST2(root):\n",
    "    \n",
    "    if root is None:\n",
    "        \n",
    "        return float(\"inf\"), float(\"-inf\"), True\n",
    "    \n",
    "    left_min, left_max, isLeftBST = isBST2(root.left)\n",
    "    right_min, right_max, isRightBST = isBST2(root.right)\n",
    "    \n",
    "    minimum = min(root.data, left_min, right_min)\n",
    "    maximum = max(root.data, left_max, right_max)\n",
    "    \n",
    "    isTreeBST = True\n",
    "    \n",
    "    if root.data <= left_max or root.data > right_min:\n",
    "        isTreeBST = False\n",
    "    \n",
    "    if not(isLeftBST) or not(isRightBST):\n",
    "        isTreeBST = False\n",
    "    \n",
    "    return minimum, maximum, isTreeBST"
   ]
  },
  {
   "cell_type": "code",
   "execution_count": 2,
   "id": "1105dda0",
   "metadata": {},
   "outputs": [],
   "source": [
    "def validateBstHelper(tree):\n",
    "    # Write your code here.\n",
    "    \n",
    "\tif tree is None:\n",
    "\t\treturn float(\"inf\"), float(\"-inf\"), True\n",
    "\t\n",
    "\t\n",
    "\tleft_min, left_max, is_left_bst = validateBstHelper(tree.left)\n",
    "\tright_min, right_max, is_right_bst = validateBstHelper(tree.right)\n",
    "\t\n",
    "\tminimum = min(left_min, right_min, tree.value)\n",
    "\tmaximum = max(left_max, right_max, tree.value)\n",
    "\t\n",
    "\tif is_left_bst and is_right_bst:\n",
    "\t\t\n",
    "\t\tif tree.value > left_max and tree.value <= right_min:\n",
    "\t\t\t\n",
    "\t\t\treturn minimum, maximum, True\n",
    "\t\t\n",
    "\treturn minimum, maximum, False\n",
    "\t\t\t\n",
    "\t\n",
    "def validateBst(tree):\t\n",
    "\t\n",
    "\tleft_max, right_min, isBST = validateBstHelper(tree)\n",
    "\t\n",
    "\treturn isBST"
   ]
  },
  {
   "cell_type": "code",
   "execution_count": 24,
   "id": "4865f5fd",
   "metadata": {},
   "outputs": [
    {
     "name": "stdout",
     "output_type": "stream",
     "text": [
      "Enter the root of the tree\n",
      "4\n",
      "Enter the left child of 4 \n",
      "2\n",
      "Enter the right child of 4 \n",
      "6\n",
      "Enter the left child of 2 \n",
      "1\n",
      "Enter the right child of 2 \n",
      "10\n",
      "Enter the left child of 6 \n",
      "5\n",
      "Enter the right child of 6 \n",
      "7\n",
      "Enter the left child of 1 \n",
      "-1\n",
      "Enter the right child of 1 \n",
      "-1\n",
      "Enter the left child of 10 \n",
      "-1\n",
      "Enter the right child of 10 \n",
      "-1\n",
      "Enter the left child of 5 \n",
      "-1\n",
      "Enter the right child of 5 \n",
      "-1\n",
      "Enter the left child of 7 \n",
      "-1\n",
      "Enter the right child of 7 \n",
      "-1\n",
      "\n",
      "Printing Tree\n",
      "4 : L 2, R 6\n",
      "2 : L 1, R 10\n",
      "1 : \n",
      "10 : \n",
      "6 : L 5, R 7\n",
      "5 : \n",
      "7 : \n",
      "\n",
      "(1, 10, False)\n"
     ]
    }
   ],
   "source": [
    "root = takeInputLevelWise()\n",
    "print(\"\\nPrinting Tree\")\n",
    "printBinaryTreeDetailed(root)\n",
    "print()\n",
    "print(isBST2(root))"
   ]
  },
  {
   "cell_type": "markdown",
   "id": "6ae9f2be",
   "metadata": {},
   "source": [
    "### Time Complexity problem with solution\n",
    "\n",
    "The time complexity of this solution is either **O(n) for a Balanced Tree and Skewed tree both <br>\n",
    "\n",
    "***For Balanced Tree***\n",
    "T(n) = 2\\*T(n/2) + C -> Solution of this recurrence relation is O(n)  <br>\n",
    "\n",
    "2 problems of Half Size to be solved (recursive call to left subtree and right subtree) therefore 2\\*T(n/2) <br>\n",
    "And C for constant work via if conditions.<br>\n",
    "\n",
    "<br>\n",
    "\n",
    "***For Skewed Tree***\n",
    "\n",
    "T(n) = T(n-1) + C -> Solution of this recurrence relation is O(n) "
   ]
  },
  {
   "cell_type": "markdown",
   "id": "59d3c422",
   "metadata": {},
   "source": [
    "### Alternative method for CHECKING IF BST\n",
    "\n",
    "The root does not have any constraint wrt its value, it can be anything from float(\"-inf\") to float(\"inf\").<br>\n",
    "**BUT**<br>\n",
    "The left child of the root can have value from float(\"-inf\") to (root.data-1)<br>\n",
    "**AND**<br>\n",
    "The right child of the root can have value from (root.data+1) to float(\"-inf\")<br>\n",
    "**AND**<br>\n",
    "The ranges then can be propagated and then value of each node can be checked if they lie in the given range."
   ]
  },
  {
   "cell_type": "code",
   "execution_count": 25,
   "id": "4a5459d5",
   "metadata": {},
   "outputs": [],
   "source": [
    "def isBST3(root, min_range, max_range):\n",
    "    \n",
    "    if root is None:\n",
    "        return True\n",
    "    \n",
    "    if root.data <= min_range or root.data > max_range:\n",
    "        return False\n",
    "    \n",
    "    \n",
    "    isLeftBST = isBST3(root.data, min_range, root.data-1)\n",
    "    isRightBST = isBST3(root.data, root.data, max_range)\n",
    "    \n",
    "    return isLeftBST and isRightBST"
   ]
  },
  {
   "cell_type": "markdown",
   "id": "8449d8c8",
   "metadata": {},
   "source": [
    "## Leaf to Root path in binary tree ( NOT BST for now)\n",
    "\n",
    "Return a list containing path from node to root and if given node does not exist then return empty list"
   ]
  },
  {
   "cell_type": "code",
   "execution_count": 4,
   "id": "ff0920ae",
   "metadata": {},
   "outputs": [],
   "source": [
    "def findPathBT(root,data):\n",
    "    \n",
    "    # empty list in python acts as False ( None=False=[])\n",
    "    if root is None:\n",
    "        return []\n",
    "    \n",
    "    if root.data == data:\n",
    "        return [root.data]\n",
    "    \n",
    "    left_path = findPathBT(root.left, data)\n",
    "    right_path = findPathBT(root.right, data)\n",
    "    \n",
    "    if left_path:\n",
    "        left_path.append(root.data)\n",
    "        return left_path\n",
    "    \n",
    "    if right_path:\n",
    "        right_path.append(root.data)\n",
    "        return right_path"
   ]
  },
  {
   "cell_type": "markdown",
   "id": "22e2c377",
   "metadata": {},
   "source": [
    "## Leaf to Root in BST"
   ]
  },
  {
   "cell_type": "markdown",
   "id": "9511ecf7",
   "metadata": {},
   "source": [
    "#### In BST , we can apply the OPTIMIZATION based on the values we can go left or right of the root based on the value to be found"
   ]
  },
  {
   "cell_type": "code",
   "execution_count": 5,
   "id": "4ac1ad95",
   "metadata": {},
   "outputs": [],
   "source": [
    "def findPathBST(root,data):\n",
    "    \n",
    "    if root is None:\n",
    "        return []\n",
    "    \n",
    "    if root.data == data:\n",
    "        return [root.data]\n",
    "    \n",
    "    if root.data < data:\n",
    "        left_output = findPathBST(root.right, data)\n",
    "        if left_output:\n",
    "            left_output.append(root.data)\n",
    "            return left_output\n",
    "        \n",
    "    if root.data > data:\n",
    "        right_output = findPathBST(root.left, data)\n",
    "        if right_output:\n",
    "            right_output.append(root.data)\n",
    "            return right_output\n",
    "        \n",
    "    return []"
   ]
  },
  {
   "cell_type": "code",
   "execution_count": null,
   "id": "8718c56f",
   "metadata": {},
   "outputs": [],
   "source": []
  }
 ],
 "metadata": {
  "kernelspec": {
   "display_name": "Python 3 (ipykernel)",
   "language": "python",
   "name": "python3"
  },
  "language_info": {
   "codemirror_mode": {
    "name": "ipython",
    "version": 3
   },
   "file_extension": ".py",
   "mimetype": "text/x-python",
   "name": "python",
   "nbconvert_exporter": "python",
   "pygments_lexer": "ipython3",
   "version": "3.8.11"
  }
 },
 "nbformat": 4,
 "nbformat_minor": 5
}
