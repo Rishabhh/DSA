{
 "cells": [
  {
   "cell_type": "markdown",
   "id": "1f0c96c9",
   "metadata": {},
   "source": [
    "# 2 Sum\n",
    "\n",
    "https://leetcode.com/problems/two-sum/solution/"
   ]
  },
  {
   "cell_type": "markdown",
   "id": "0ecab3e7",
   "metadata": {},
   "source": [
    "**Approach 1: Brute Force**\n",
    "\n",
    "**Algorithm** \n",
    "\n",
    "    The brute force approach is simple. Loop through each element xx and find if there is another value that equals to target - xtarget−x.\n",
    "\n",
    "Complexity :  \n",
    "\n",
    "Time Complexity = $$\\mathcal{O}(n^{2})$$ \n",
    "\n",
    "Space Complexity = $$\\mathcal{O}(1)$$ "
   ]
  },
  {
   "cell_type": "code",
   "execution_count": 8,
   "id": "c1949af7",
   "metadata": {},
   "outputs": [],
   "source": [
    "class Solution:\n",
    "    def twoSum(self, nums: list[int], target: int) -> list[int]:\n",
    "        for i in range(len(nums)):\n",
    "            for j in range(i + 1, len(nums)):\n",
    "                if nums[j] == target - nums[i]:\n",
    "                    return [i, j]"
   ]
  },
  {
   "cell_type": "markdown",
   "id": "e8867aa1",
   "metadata": {},
   "source": [
    "**Approach 2: Two-pass Hash Table**  \n",
    "\n",
    "**Intuition**\n",
    "\n",
    "To improve our runtime complexity, we need a more efficient way to check if the complement exists in the array. If the complement exists, we need to get its index. What is the best way to maintain a mapping of each element in the array to its index? A hash table.  \n",
    "\n",
    "We can reduce the lookup time from O(n)to O(1) by trading space for speed. A hash table is well suited for this purpose because it supports fast lookup in near constant time. I say \"near\" because if a collision occurred, a lookup could degenerate to O(n) time. However, lookup in a hash table should be amortized O(1) time as long as the hash function was chosen carefully.  \n",
    "\n",
    "**Algorithm**\n",
    "\n",
    "A simple implementation uses two iterations. In the first iteration, we add each element's value as a key and its index as a value to the hash table. Then, in the second iteration, we check if each element's complement (target - nums[i]target−nums[i]) exists in the hash table. If it does exist, we return current element's index and its complement's index. Beware that the complement must not be nums[i]nums[i] itself!\n",
    "\n",
    "**Complexity Analysis**\n",
    "\n",
    "Time complexity: O(n). We traverse the list containing nn elements exactly twice. Since the hash table reduces the lookup time to O(1), the overall time complexity is O(n).\n",
    "\n",
    "Space complexity: O(n). The extra space required depends on the number of items stored in the hash table, which stores exactly nn elements."
   ]
  },
  {
   "cell_type": "code",
   "execution_count": 10,
   "id": "cf8599b3",
   "metadata": {},
   "outputs": [],
   "source": [
    "class Solution:\n",
    "    def twoSum(self, nums: list[int], target: int) -> list[int]:\n",
    "        hashmap = {}\n",
    "        for i in range(len(nums)):\n",
    "            hashmap[nums[i]] = i\n",
    "        for i in range(len(nums)):\n",
    "            complement = target - nums[i]\n",
    "            if complement in hashmap and hashmap[complement] != i:\n",
    "                return [i, hashmap[complement]] "
   ]
  },
  {
   "cell_type": "markdown",
   "id": "a6cf06e9",
   "metadata": {},
   "source": [
    "**Approach 3: One-pass Hash Table**\n",
    "\n",
    "**Algorithm**\n",
    "\n",
    "It turns out we can do it in one-pass. While we are iterating and inserting elements into the hash table, we also look back to check if current element's complement already exists in the hash table. If it exists, we have found a solution and return the indices immediately.\n",
    "\n",
    "**Complexity Analysis**\n",
    "\n",
    "Time complexity: O(n). We traverse the list containing nn elements only once. Each lookup in the table costs only O(1) time.\n",
    "\n",
    "Space complexity: O(n). The extra space required depends on the number of items stored in the hash table, which stores at most nn elements."
   ]
  },
  {
   "cell_type": "code",
   "execution_count": 12,
   "id": "0c930bc1",
   "metadata": {},
   "outputs": [],
   "source": [
    "class Solution:\n",
    "    def twoSum(self, nums: list[int], target: int) -> list[int]:\n",
    "        hashmap = {}\n",
    "        for i in range(len(nums)):\n",
    "            complement = target - nums[i]\n",
    "            if complement in hashmap:\n",
    "                return [i, hashmap[complement]]\n",
    "            hashmap[nums[i]] = i"
   ]
  },
  {
   "cell_type": "markdown",
   "id": "d5820725",
   "metadata": {},
   "source": [
    "# 3 sum\n",
    "https://leetcode.com/problems/3sum/solution/\n"
   ]
  },
  {
   "cell_type": "markdown",
   "id": "435d71db",
   "metadata": {},
   "source": [
    "### Solution - 1\n",
    "\n",
    "**Algorithm**\n",
    "\n",
    "The implementation is straightforward - we just need to modify twoSumII to produce triplets and skip repeating values.\n",
    "\n",
    "For the main function:\n",
    "\n",
    "    Sort the input array nums. Sorting helps in eliminating Duplicates and you can directly jump to next unique    value.\n",
    "    Had they been scattered in unsorted array you would need a new data structure to keep track that you have seen \n",
    "    this particular number.\n",
    "    \n",
    "    Iterate through the array:\n",
    "        If the current value is greater than zero, break from the loop. Remaining values cannot sum to zero.\n",
    "        If the current value is the same as the one before, skip it.\n",
    "        Otherwise, call twoSumII for the current position i.\n",
    "\n",
    "\n",
    "For twoSumII function:\n",
    "\n",
    "    Set the low pointer lo to i + 1, and high pointer hi to the last index.\n",
    "    While low pointer is smaller than high:\n",
    "        If sum of nums[i] + nums[lo] + nums[hi] is less than zero, increment lo.\n",
    "        If sum is greater than zero, decrement hi.\n",
    "        Otherwise, we found a triplet:\n",
    "            Add it to the result res.\n",
    "            Decrement hi and increment lo.\n",
    "            Increment lo while the next value is the same as before to avoid duplicates in the result.\n",
    "            Return the result res."
   ]
  },
  {
   "cell_type": "code",
   "execution_count": 6,
   "id": "d0ef5f3b",
   "metadata": {},
   "outputs": [],
   "source": [
    "class Solution:\n",
    "    def threeSum(self, nums: list[int]) -> list[list[int]]:\n",
    "        \n",
    "        if len(nums) < 3:\n",
    "            return []\n",
    "        \n",
    "        # sort so that we can skip duplicates \n",
    "        nums.sort()\n",
    "        result = []\n",
    "        for i in range(len(nums)):\n",
    "            \n",
    "            # since array is sorted therefore any numbers after ith indexed can never sum to 0\n",
    "            if nums[i] > 0:\n",
    "                break\n",
    "            \n",
    "            if i > 0 and nums[i] == nums[i-1]:\n",
    "                continue\n",
    "                \n",
    "            start = i+1\n",
    "            end = len(nums) - 1\n",
    "            \n",
    "            while start < end:\n",
    "                \n",
    "                current_sum = nums[i] + nums[start] + nums[end]\n",
    "                \n",
    "                if current_sum > 0:\n",
    "                    end -= 1\n",
    "                elif current_sum < 0:\n",
    "                    start += 1\n",
    "                else:\n",
    "                    triplet = [nums[i], nums[start], nums[end]]\n",
    "                    result.append(triplet)\n",
    "                    start = start + 1\n",
    "                    while start < end and nums[start] == nums[start-1]:\n",
    "                        start = start + 1\n",
    "        \n",
    "        return result"
   ]
  },
  {
   "cell_type": "markdown",
   "id": "4ea2dd56",
   "metadata": {},
   "source": [
    "### Solution - 2 : No sorting done\n",
    "\n",
    "Approach 2: \"No-Sort\"  \n",
    "What if you cannot modify the input array, and you want to avoid copying it due to memory constraints?  \n",
    "\n",
    "We can adapt the hashset approach above to work for an unsorted array. We can put a combination of three values into a hashset to avoid duplicates. Values in a combination should be ordered (e.g. ascending). Otherwise, we can have results with the same values in the different positions.  \n",
    "\n",
    "**Algorithm**  \n",
    "\n",
    "The algorithm is similar to the hashset approach above. We just need to add few optimizations so that it works efficiently for repeated values:  \n",
    "\n",
    "    1) Use another hashset dups to skip duplicates in the outer loop.  \n",
    "\n",
    "        -- Without this optimization, the submission will time out for the test case with 3,000 zeroes. This case is handled naturally when the array is sorted.  \n",
    "\n",
    "    2) Instead of re-populating a hashset every time in the inner loop, we can use a hashmap and populate it once. Values in the hashmap will indicate whether we have encountered that element in the current iteration. When we process nums[j] in the inner loop, we set its hashmap value to i. This indicates that we can now use nums[j] as a complement for nums[i].  \n",
    "\n",
    "        -- This is more like a trick to compensate for container overheads. The effect varies by language, e.g. for   C++ it cuts the runtime in half. Without this trick the submission may time out.  "
   ]
  },
  {
   "cell_type": "code",
   "execution_count": 2,
   "id": "08c032f9",
   "metadata": {},
   "outputs": [],
   "source": [
    "class Solution:\n",
    "    \n",
    "    # wrt a particular number we will find all possible triplets in 1 go\n",
    "    # therefore we use SET dups so that we do not repeat the process for a duplicate\n",
    "    def threeSum(self, nums: list[int]) -> list[list[int]]:\n",
    "        res, dups = set(), set()\n",
    "        seen = {}\n",
    "        for i, val1 in enumerate(nums):\n",
    "            \n",
    "            # we will generate all possible triplets using val1 in 1 go\n",
    "            if val1 not in dups:\n",
    "                dups.add(val1)\n",
    "                for j, val2 in enumerate(nums[i+1:]):\n",
    "                    complement = -val1 - val2\n",
    "                    if complement in seen and seen[complement] == i:\n",
    "                        res.add(tuple(sorted((val1, val2, complement))))\n",
    "                    seen[val2] = i\n",
    "        return res"
   ]
  },
  {
   "cell_type": "markdown",
   "id": "7ddcbca9",
   "metadata": {},
   "source": [
    "Complexity Analysis\n",
    "\n",
    "**Time Complexity:** $$\\mathcal{O}(n^2)$$\n",
    "We have outer and inner loops, each going through n elements.\n",
    "\n",
    "While the asymptotic complexity is the same, this algorithm is noticeably slower than the previous approach. Lookups in a hashset, though requiring a constant time, are expensive compared to the direct memory access.  \n",
    "\n",
    "**Space Complexity: for the hashset/hashmap** $$\\mathcal{O}(n)$$ \n",
    "\n",
    "For the purpose of complexity analysis, we ignore the memory required for the output. However, in this approach we also store output in the hashset for deduplication. In the worst case, there could be $$\\mathcal{O}(n^2) $$ triplets in the output, like for this example: [-k, -k + 1, ..., -1, 0, 1, ... k - 1, k]. Adding a new number to this sequence will produce n / 3 new triplets."
   ]
  },
  {
   "cell_type": "markdown",
   "id": "aa0ee8d6",
   "metadata": {},
   "source": [
    "# 4 Sum"
   ]
  },
  {
   "cell_type": "markdown",
   "id": "f8e6578f",
   "metadata": {},
   "source": [
    "#### This solution below works like generic k-SUM . The time complexity will be\n",
    "$$\\mathcal{O}(n^{k-1})$$ \n",
    "\n",
    "\n",
    "Solution video : https://www.youtube.com/watch?v=EYeR-_1NRlQ"
   ]
  },
  {
   "cell_type": "code",
   "execution_count": null,
   "id": "73378af3",
   "metadata": {},
   "outputs": [],
   "source": [
    "class Solution:\n",
    "    \n",
    "    def fourSum(self, nums: List[int], target: int) -> List[List[int]]:\n",
    "        \n",
    "        nums.sort()\n",
    "        res, quad = [], []\n",
    "        \n",
    "        def kSum(k, start, target):\n",
    "            \n",
    "            if k!= 2:\n",
    "                for i in range(start, len(nums) - k + 1): # len(nums) -k + 1 so that there are k elements left for k-size set like quadralet for k=4\n",
    "                    \n",
    "                    # i>start condition so that iteration does work for 1st case\n",
    "                    # 2nd condition stops iteration for duplicates\n",
    "                    if i>start and nums[i-1] == nums[i]:\n",
    "                        continue\n",
    "                    \n",
    "                    quad.append(nums[i])\n",
    "                    kSum(k-1, i+1, target - nums[i])\n",
    "                    quad.pop()\n",
    "                return\n",
    "            \n",
    "            # base-case : apply TwoSum II here which basically has sorted array\n",
    "            start_index = start\n",
    "            end_index = len(nums) - 1\n",
    "\n",
    "            while start_index < end_index:\n",
    "\n",
    "                current_sum = nums[start_index] + nums[end_index]\n",
    "\n",
    "                if current_sum > target:\n",
    "                    end_index -= 1\n",
    "                elif current_sum < target:\n",
    "                    start_index += 1\n",
    "                else:\n",
    "                    res.append(quad + [nums[start_index], nums[end_index]])\n",
    "                    start_index += 1\n",
    "                    #end_index -= 1\n",
    "\n",
    "                    while start_index < end_index and nums[start_index] == nums[start_index - 1]:\n",
    "                        start_index += 1\n",
    "                            \n",
    "        kSum(4, 0, target)\n",
    "        return res"
   ]
  }
 ],
 "metadata": {
  "kernelspec": {
   "display_name": "Python 3 (ipykernel)",
   "language": "python",
   "name": "python3"
  },
  "language_info": {
   "codemirror_mode": {
    "name": "ipython",
    "version": 3
   },
   "file_extension": ".py",
   "mimetype": "text/x-python",
   "name": "python",
   "nbconvert_exporter": "python",
   "pygments_lexer": "ipython3",
   "version": "3.9.13"
  }
 },
 "nbformat": 4,
 "nbformat_minor": 5
}
