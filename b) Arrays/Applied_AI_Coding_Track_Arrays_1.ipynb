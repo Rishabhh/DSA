{
 "cells": [
  {
   "cell_type": "markdown",
   "id": "90ab6ce0",
   "metadata": {},
   "source": [
    "### Find the missing number : \n",
    "https://leetcode.com/problems/missing-number/submissions/"
   ]
  },
  {
   "cell_type": "markdown",
   "id": "42fb054f",
   "metadata": {},
   "source": [
    "#### Solution-1 :  Addition-based solution\n",
    "\n",
    "    Missing_number = sum_of_numbers - sum_of_array\n",
    "    Sum of numbers = n*(n+1)//2 \n",
    "    Sum of array = sum(arr)\n",
    "\n",
    "**Problem ?** <br>\n",
    "\n",
    "If n is huge we can get Integer Overflow Error (in Python integer has no limit only float has https://stackoverflow.com/questions/52151647/integer-overflow-in-python3 , though working with large numbers may give MemoryError)."
   ]
  },
  {
   "cell_type": "code",
   "execution_count": 3,
   "id": "c61b3854",
   "metadata": {},
   "outputs": [],
   "source": [
    "class Solution:\n",
    "    def missingNumber(self, nums: list[int]) -> int:\n",
    "        \n",
    "        n = len(nums)\n",
    "        expected_sum = n*(n+1)//2\n",
    "        \n",
    "        current_sum = sum(nums)\n",
    "        \n",
    "        return expected_sum - current_sum"
   ]
  },
  {
   "cell_type": "markdown",
   "id": "f1f2b2ce",
   "metadata": {},
   "source": [
    "#### Solution-2 : XOR based solution"
   ]
  },
  {
   "cell_type": "markdown",
   "id": "4cdeb01b",
   "metadata": {},
   "source": [
    "If we do XOR of two same numbers then the value will be zero.  \n",
    "Example:  \n",
    "(1^1)^(2^2)^(3^3)=0  \n",
    "If you XOR the index and the respective value in the array and if there is no missing number then the whole XOR value will be zero.  \n",
    "\n",
    "Array : 1 2 3 5  \n",
    "Index:  1 2 3 4  \n",
    "\n",
    "Initialise the final variable with N.  \n",
    "Apply XOR on final value and each element index with its respective number in the array  \n",
    "From the above example, we get  \n",
    "5^(1^1)^(2^2)^(3^3)^(5^4)  \n",
    "If you rearrange the terms  \n",
    "(1^1)^(2^2)^(3^3)^4^(5^5) then you will be left behind the value 4  "
   ]
  },
  {
   "cell_type": "code",
   "execution_count": 6,
   "id": "079d045f",
   "metadata": {},
   "outputs": [],
   "source": [
    "class Solution:\n",
    "    def missingNumber(self, nums: list[int]) -> int:\n",
    "        \n",
    "        xor_of_arr = 0\n",
    "        for i in range(len(nums)):\n",
    "            xor_of_arr = xor_of_arr^nums[i]\n",
    "        \n",
    "        xor_of_index = 0\n",
    "        for i in range(len(nums)+1):\n",
    "            xor_of_index = xor_of_index^i\n",
    "        \n",
    "        result = xor_of_arr^xor_of_index\n",
    "        return result"
   ]
  },
  {
   "cell_type": "code",
   "execution_count": 11,
   "id": "55f7e536",
   "metadata": {},
   "outputs": [
    {
     "data": {
      "text/plain": [
       "{1, 2, 3}"
      ]
     },
     "execution_count": 11,
     "metadata": {},
     "output_type": "execute_result"
    }
   ],
   "source": [
    "l = [1,2,3]\n",
    "s = set(l)\n",
    "s"
   ]
  },
  {
   "cell_type": "code",
   "execution_count": 13,
   "id": "f6de933d",
   "metadata": {},
   "outputs": [
    {
     "data": {
      "text/plain": [
       "True"
      ]
     },
     "execution_count": 13,
     "metadata": {},
     "output_type": "execute_result"
    }
   ],
   "source": [
    "1 in s"
   ]
  },
  {
   "cell_type": "code",
   "execution_count": null,
   "id": "4fae84a1",
   "metadata": {},
   "outputs": [],
   "source": []
  }
 ],
 "metadata": {
  "kernelspec": {
   "display_name": "Python 3 (ipykernel)",
   "language": "python",
   "name": "python3"
  },
  "language_info": {
   "codemirror_mode": {
    "name": "ipython",
    "version": 3
   },
   "file_extension": ".py",
   "mimetype": "text/x-python",
   "name": "python",
   "nbconvert_exporter": "python",
   "pygments_lexer": "ipython3",
   "version": "3.9.13"
  }
 },
 "nbformat": 4,
 "nbformat_minor": 5
}
