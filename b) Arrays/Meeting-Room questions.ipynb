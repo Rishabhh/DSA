{
 "cells": [
  {
   "cell_type": "markdown",
   "id": "5821512a",
   "metadata": {},
   "source": [
    "### Meeting Room - 1"
   ]
  },
  {
   "cell_type": "markdown",
   "id": "24bccdd2",
   "metadata": {},
   "source": [
    "https://leetcode.com/problems/meeting-rooms/"
   ]
  },
  {
   "cell_type": "markdown",
   "id": "29ac5629",
   "metadata": {},
   "source": [
    "### Solution :\n",
    "The idea here is to sort the meetings by starting time. Then, go through the meetings one by one and make sure that each meeting ends before the next one starts.\n",
    "\n",
    "**Complexity Analysis**\n",
    "\n",
    "Time complexity : **O(nlogn)**. The time complexity is dominated by sorting. Once the array has been sorted, only O(n) time is taken to go through the array and determine if there is any overlap.\n",
    "\n",
    "Space complexity : O(1). Since no additional space is allocated."
   ]
  },
  {
   "cell_type": "code",
   "execution_count": 4,
   "id": "7e1af0f8",
   "metadata": {},
   "outputs": [],
   "source": [
    "class Solution:\n",
    "    def canAttendMeetings(self, intervals: list[list[int]]) -> bool:\n",
    "        intervals.sort()\n",
    "        for i in range(len(intervals) - 1):\n",
    "            if intervals[i][1] > intervals[i + 1][0]:\n",
    "                return False\n",
    "        return True"
   ]
  },
  {
   "cell_type": "markdown",
   "id": "67dba836",
   "metadata": {},
   "source": [
    "#### Solution where sorting is done by writing comparator function"
   ]
  },
  {
   "cell_type": "code",
   "execution_count": null,
   "id": "7fd0ee20",
   "metadata": {},
   "outputs": [],
   "source": [
    "from functools import cmp_to_key\n",
    "class Solution:\n",
    "    def canAttendMeetings(self, intervals: list[list[int]]) -> bool:\n",
    "        \n",
    "        if len(intervals) < 1:\n",
    "            return True\n",
    "        \n",
    "        # sort within the array by using comparator function\n",
    "        def my_comparator(a, b):\n",
    "            # in comparator for ascending sort return -1 if a<b, 0 if a=b and 1 if a > b\n",
    "            # when this function will be called for 1st time, a = [5,10] and b = [0,30]\n",
    "            if a[0] < b[0]:\n",
    "                return -1\n",
    "            elif a[0] > b[0]:\n",
    "                return 1\n",
    "            else:\n",
    "                return 0\n",
    "        \n",
    "        # writing comparator for practice\n",
    "        # for sorting based on first number of each interval you could just use intervals.sort()\n",
    "        intervals = sorted(intervals, key=cmp_to_key(my_comparator))\n",
    "        \n",
    "        for i in range(len(intervals)-1):\n",
    "            if intervals[i][1] > intervals[i+1][0]:\n",
    "                return  False\n",
    "            \n",
    "        return True"
   ]
  },
  {
   "cell_type": "markdown",
   "id": "e046a736",
   "metadata": {},
   "source": [
    "## Meeting Room - 2\n",
    "\n",
    "https://leetcode.com/problems/meeting-rooms-ii/solution/"
   ]
  },
  {
   "cell_type": "markdown",
   "id": "3619e0c3",
   "metadata": {},
   "source": [
    "Algorithm\n",
    "\n",
    "Separate out the start times and the end times in their separate arrays.  \n",
    "Sort the start times and the end times separately. Note that this will mess up the original correspondence of start times and end times. They will be treated individually now.  \n",
    "We consider two pointers: s_ptr and e_ptr which refer to start pointer and end pointer. The start pointer simply iterates over all the meetings and the end pointer helps us track if a meeting has ended and if we can reuse a room.  \n",
    "When considering a specific meeting pointed to by s_ptr, we check if this start timing is greater than the meeting pointed to by e_ptr. If this is the case then that would mean some meeting has ended by the time the meeting at s_ptr had to start. So we can reuse one of the rooms. Otherwise, we have to allocate a new room.  \n",
    "If a meeting has indeed ended i.e. if start[s_ptr] >= end[e_ptr], then we increment e_ptr.  \n",
    "Repeat this process until s_ptr processes all of the meetings.  \n",
    "Let us not look at the implementation for this algorithm.  "
   ]
  },
  {
   "cell_type": "code",
   "execution_count": 5,
   "id": "863d2808",
   "metadata": {},
   "outputs": [],
   "source": [
    "class Solution:\n",
    "    def minMeetingRooms(self, intervals: list[list[int]]) -> int:\n",
    "        \n",
    "        # If there are no meetings, we don't need any rooms.\n",
    "        if not intervals:\n",
    "            return 0\n",
    "\n",
    "        used_rooms = 0\n",
    "\n",
    "        # Separate out the start and the end timings and sort them individually.\n",
    "        start_timings = sorted([i[0] for i in intervals])\n",
    "        end_timings = sorted(i[1] for i in intervals)\n",
    "        L = len(intervals)\n",
    "\n",
    "        # The two pointers in the algorithm: e_ptr and s_ptr.\n",
    "        end_pointer = 0\n",
    "        start_pointer = 0\n",
    "\n",
    "        # Until all the meetings have been processed\n",
    "        while start_pointer < L:\n",
    "            # If there is a meeting that has ended by the time the meeting at `start_pointer` starts\n",
    "            if start_timings[start_pointer] >= end_timings[end_pointer]:\n",
    "                # Free up a room and increment the end_pointer.\n",
    "                used_rooms -= 1\n",
    "                end_pointer += 1\n",
    "\n",
    "            # We do this irrespective of whether a room frees up or not.\n",
    "            # If a room got free, then this used_rooms += 1 wouldn't have any effect. used_rooms would\n",
    "            # remain the same in that case. If no room was free, then this would increase used_rooms\n",
    "            used_rooms += 1    \n",
    "            start_pointer += 1   \n",
    "\n",
    "        return used_rooms"
   ]
  },
  {
   "cell_type": "code",
   "execution_count": null,
   "id": "217d3633",
   "metadata": {},
   "outputs": [],
   "source": []
  }
 ],
 "metadata": {
  "kernelspec": {
   "display_name": "Python 3 (ipykernel)",
   "language": "python",
   "name": "python3"
  },
  "language_info": {
   "codemirror_mode": {
    "name": "ipython",
    "version": 3
   },
   "file_extension": ".py",
   "mimetype": "text/x-python",
   "name": "python",
   "nbconvert_exporter": "python",
   "pygments_lexer": "ipython3",
   "version": "3.9.13"
  }
 },
 "nbformat": 4,
 "nbformat_minor": 5
}
