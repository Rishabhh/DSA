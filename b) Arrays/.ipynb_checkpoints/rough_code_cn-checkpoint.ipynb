{
 "cells": [
  {
   "cell_type": "code",
   "execution_count": 3,
   "id": "e1b4e8cf",
   "metadata": {},
   "outputs": [],
   "source": [
    "def pairSum(arr, n, num) :\n",
    "    arr.sort()\n",
    "    startIndex = 0\n",
    "    endIndex = (n - 1)\n",
    "    numPair = 0\n",
    "    while startIndex < endIndex :\n",
    "        if arr[startIndex] + arr[endIndex] < num :\n",
    "            startIndex += 1\n",
    "        elif arr[startIndex] + arr[endIndex] > num :\n",
    "            endIndex -= 1\n",
    "        else :\n",
    "            elementAtStart = arr[startIndex]\n",
    "            elementAtEnd = arr[endIndex]\n",
    "            if elementAtStart == elementAtEnd :\n",
    "                totalElementsFromStartToEnd = (endIndex - startIndex) + 1\n",
    "                numPair += (totalElementsFromStartToEnd * (totalElementsFromStartToEnd -1) // 2)\n",
    "\n",
    "                return numPair\n",
    "\n",
    "            tempStartIndex = startIndex + 1\n",
    "            tempEndIndex = endIndex - 1\n",
    "\n",
    "            while (tempStartIndex <= tempEndIndex) and (arr[tempStartIndex] ==elementAtStart) :\n",
    "                tempStartIndex += 1\n",
    "            while (tempEndIndex >= tempStartIndex) and (arr[tempEndIndex] ==elementAtEnd) :\n",
    "                tempEndIndex -= 1\n",
    "\n",
    "            totalElementsFromStart = (tempStartIndex - startIndex)\n",
    "            totalElementsFromEnd = (endIndex - tempEndIndex)\n",
    "\n",
    "            numPair += (totalElementsFromStart * totalElementsFromEnd)\n",
    "\n",
    "            startIndex = tempStartIndex\n",
    "            endIndex = tempEndIndex\n",
    "        \n",
    "    return numPair"
   ]
  },
  {
   "cell_type": "code",
   "execution_count": 4,
   "id": "2d56d366",
   "metadata": {},
   "outputs": [
    {
     "name": "stdout",
     "output_type": "stream",
     "text": [
      "7\n"
     ]
    }
   ],
   "source": [
    "s = \"1 3 6 2 5 4 3 2 4\"\n",
    "arr = [int(x) for x in s.split()]\n",
    "print(pairSum(arr, len(arr), 7))"
   ]
  },
  {
   "cell_type": "code",
   "execution_count": 5,
   "id": "7940053e",
   "metadata": {},
   "outputs": [],
   "source": [
    "def tripletSum(arr, n, num): \n",
    "    arr.sort() \n",
    "    numTriplets = 0\n",
    "    for i in range(n) : \n",
    "        pairSumFor = num - arr[i] \n",
    "        numPairs = pairSum(arr, (i + 1), (n - 1), pairSumFor)\n",
    "        \n",
    "        numTriplets += numPairs\n",
    "        \n",
    "    return numTriplets\n",
    "                                                                                                                           \n",
    "                                                                                                                           \n",
    "                                                                                                                           \n",
    "                                                                                                                           \n",
    "                                                                                                                           \n",
    "                                                                                                                           \n",
    "                                                                                                                           "
   ]
  },
  {
   "cell_type": "code",
   "execution_count": 6,
   "id": "4904c680",
   "metadata": {},
   "outputs": [],
   "source": [
    "def tripletSum(arr, n, num) :\n",
    "    arr.sort()\n",
    "\n",
    "    numTriplets = 0;\n",
    "\n",
    "    for i in range(n) :\n",
    "        pairSumFor = num - arr[i]\n",
    "        numPairs = pairSum(arr, (i + 1), (n - 1), pairSumFor)\n",
    "\n",
    "        numTriplets += numPairs\n",
    "\n",
    "    return numTriplets\n",
    "\n",
    "\n",
    "def pairSum(arr, startIndex, endIndex, num) :\n",
    "\n",
    "    numPair = 0\n",
    "\n",
    "    while startIndex < endIndex :\n",
    "\n",
    "        if arr[startIndex] + arr[endIndex] < num :\n",
    "            startIndex += 1\n",
    "\n",
    "        elif arr[startIndex] + arr[endIndex] > num :\n",
    "            endIndex -= 1\n",
    "\n",
    "        else :\n",
    "\n",
    "            elementAtStart = arr[startIndex]\n",
    "            elementAtEnd = arr[endIndex]\n",
    "\n",
    "            if elementAtStart == elementAtEnd :\n",
    "                totalElementsFromStartToEnd = (endIndex - startIndex) + 1\n",
    "                numPair += (totalElementsFromStartToEnd * (totalElementsFromStartToEnd - 1) // 2)\n",
    "\n",
    "                return numPair\n",
    "\n",
    "            tempStartIndex = startIndex + 1\n",
    "            tempEndIndex = endIndex - 1\n",
    "\n",
    "            while (tempStartIndex <= tempEndIndex) and (arr[tempStartIndex] == elementAtStart) :\n",
    "                tempStartIndex += 1\n",
    "\n",
    "            while (tempEndIndex >= tempStartIndex) and (arr[tempEndIndex] == elementAtEnd) :\n",
    "                tempEndIndex -= 1\n",
    "\n",
    "            totalElementsFromStart = (tempStartIndex - startIndex)\n",
    "            totalElementsFromEnd = (endIndex - tempEndIndex)\n",
    "\n",
    "            numPair += (totalElementsFromStart * totalElementsFromEnd)\n",
    "\n",
    "            startIndex = tempStartIndex\n",
    "            endIndex = tempEndIndex\n",
    "\n",
    "\n",
    "    return numPair"
   ]
  },
  {
   "cell_type": "code",
   "execution_count": 7,
   "id": "907c3091",
   "metadata": {},
   "outputs": [],
   "source": [
    "def max_profit(arr, n):\n",
    "    \n",
    "    arr.sort()\n",
    "    \n",
    "    maximum = 0\n",
    "    \n",
    "    for i in range(len(arr)):\n",
    "        \n",
    "        maximum = max(maximum, arr[i]*(n-i))\n",
    "        \n",
    "        \n",
    "    return maximum"
   ]
  },
  {
   "cell_type": "code",
   "execution_count": 9,
   "id": "2e46383e",
   "metadata": {},
   "outputs": [
    {
     "name": "stdout",
     "output_type": "stream",
     "text": [
      "60\n"
     ]
    }
   ],
   "source": [
    "n = 4\n",
    "s = \"30 20 53 14\"\n",
    "arr = [int(x) for x in s.split()]\n",
    "print(max_profit(arr, n))"
   ]
  },
  {
   "cell_type": "code",
   "execution_count": 10,
   "id": "fa37c870",
   "metadata": {},
   "outputs": [],
   "source": [
    "def s_in_t(s, t):\n",
    "    \n",
    "    if len(t) == 0:\n",
    "        return True\n",
    "    elif len(s) == 0 and len(t) != 0:\n",
    "        return False\n",
    "    \n",
    "    else:\n",
    "        \n",
    "        if s[0] == t[0]:\n",
    "            return s_in_t(s[1:], t[1:])\n",
    "        else:\n",
    "            return s_in_t(s[1:], t)"
   ]
  },
  {
   "cell_type": "code",
   "execution_count": 12,
   "id": "24dcb587",
   "metadata": {},
   "outputs": [
    {
     "data": {
      "text/plain": [
       "False"
      ]
     },
     "execution_count": 12,
     "metadata": {},
     "output_type": "execute_result"
    }
   ],
   "source": [
    "s = \"abchjsgsuohhdhyrikkknddg\"\n",
    "t = \"codinfg\"\n",
    "s_in_t(s, t)"
   ]
  },
  {
   "cell_type": "code",
   "execution_count": 15,
   "id": "3161fd33",
   "metadata": {},
   "outputs": [],
   "source": [
    "def split_array(arr, n, div_by_3_sum= 0, div_by_5_sum = 0):\n",
    "    \n",
    "    if len(arr) == 0:\n",
    "        if div_by_3_sum == div_by_5_sum:\n",
    "            return True\n",
    "        else:\n",
    "            return False\n",
    "        \n",
    "        \n",
    "    if arr[0]%5 == 0:\n",
    "        div_by_5_sum += arr[0]\n",
    "        \n",
    "    elif arr[0]%3 == 0:\n",
    "        div_by_3_sum += arr[0]\n",
    "    else:\n",
    "        include_in_5_sum = split_array(arr[1:], n, div_by_3_sum, div_by_5_sum + arr[0])\n",
    "        inclide_in_3_sum = split_array(arr[1:], n, div_by_3_sum + arr[0], div_by_5_sum)\n",
    "        \n",
    "        return inclide_in_3_sum or include_in_5_sum\n",
    "    \n",
    "    return split_array(arr[1:], n, div_by_3_sum, div_by_5_sum)\n",
    "        "
   ]
  },
  {
   "cell_type": "code",
   "execution_count": 18,
   "id": "0d948c5f",
   "metadata": {},
   "outputs": [
    {
     "data": {
      "text/plain": [
       "False"
      ]
     },
     "execution_count": 18,
     "metadata": {},
     "output_type": "execute_result"
    }
   ],
   "source": [
    "arr = [ 1, 2 ]\n",
    "n = len(arr)\n",
    "split_array(arr, n)"
   ]
  },
  {
   "cell_type": "code",
   "execution_count": 9,
   "id": "6587b32b",
   "metadata": {},
   "outputs": [],
   "source": [
    "from functools import cmp_to_key\n",
    "arr = [[0,30],[15,20], [5,10]]\n",
    "\n",
    "def comparator(a, b):\n",
    "    if a[0] < b[0]:\n",
    "        return -1\n",
    "    elif a[0] > b[0]:\n",
    "        return 1\n",
    "    else:\n",
    "        return 0\n",
    "\n",
    "arr = sorted(arr, key=cmp_to_key(comparator))"
   ]
  },
  {
   "cell_type": "code",
   "execution_count": 17,
   "id": "7cf0dc60",
   "metadata": {},
   "outputs": [
    {
     "data": {
      "text/plain": [
       "[['Cathy', 22], ['Amy', 25], ['Daisy', 25], ['Bella', 29]]"
      ]
     },
     "execution_count": 17,
     "metadata": {},
     "output_type": "execute_result"
    }
   ],
   "source": [
    "from functools import cmp_to_key\n",
    "arr = [['Bella',29], ['Cathy',22], ['Daisy', 25], ['Amy',25]]\n",
    "\n",
    "def my_comparator(a, b):\n",
    "    # \"b\" points to first element of the list and \"a\" points to second element of the list\n",
    "    # a = ['Cathy',22] and b = ['Bharti',29]\n",
    "    # when this function will be called for 1st time, a = ['Cathy',22] and b = ['Bharti',29]\n",
    "    # in comparator for ascending sort return -1 if a<b, 0 if a=b and 1 if a > b\n",
    "    \n",
    "    # sort based on age first\n",
    "    if a[1] < b[1]:\n",
    "        return -1\n",
    "    elif a[1] > b[1]:\n",
    "        return 1\n",
    "    # sort based on name then\n",
    "    elif a[0] < b[0]:\n",
    "        return -1\n",
    "    elif a[0] > b[0]:\n",
    "        return 1\n",
    "    else:\n",
    "        return 0\n",
    "\n",
    "arr = sorted(arr, key=cmp_to_key(my_comparator))\n",
    "arr"
   ]
  },
  {
   "cell_type": "code",
   "execution_count": 20,
   "id": "99048261",
   "metadata": {},
   "outputs": [
    {
     "data": {
      "text/plain": [
       "2"
      ]
     },
     "execution_count": 20,
     "metadata": {},
     "output_type": "execute_result"
    }
   ],
   "source": [
    "import queue\n",
    "q = queue.Queue()\n",
    "q.put(2)\n",
    "q.queue[0]"
   ]
  },
  {
   "cell_type": "code",
   "execution_count": null,
   "id": "d7c997c2",
   "metadata": {},
   "outputs": [],
   "source": []
  }
 ],
 "metadata": {
  "kernelspec": {
   "display_name": "Python 3 (ipykernel)",
   "language": "python",
   "name": "python3"
  },
  "language_info": {
   "codemirror_mode": {
    "name": "ipython",
    "version": 3
   },
   "file_extension": ".py",
   "mimetype": "text/x-python",
   "name": "python",
   "nbconvert_exporter": "python",
   "pygments_lexer": "ipython3",
   "version": "3.9.13"
  }
 },
 "nbformat": 4,
 "nbformat_minor": 5
}
