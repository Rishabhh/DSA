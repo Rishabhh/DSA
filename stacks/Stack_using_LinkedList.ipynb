{
 "cells": [
  {
   "cell_type": "code",
   "execution_count": 2,
   "id": "46571e7b",
   "metadata": {},
   "outputs": [],
   "source": [
    "class Node :\n",
    "\n",
    "    def __init__(self, data) :\n",
    "        self.data = data\n",
    "        self.next = None"
   ]
  },
  {
   "cell_type": "markdown",
   "id": "0b96e2d6",
   "metadata": {},
   "source": [
    "During implementation : we keep add element to stack by element to the head so that POP operation is O(1).\n",
    "if we used adding to the end of linked list case, even if we keep tail pointer of LL : Pop still would be O(1)\n",
    "Push in both case would be O(1)"
   ]
  },
  {
   "cell_type": "code",
   "execution_count": 6,
   "id": "e73ca110",
   "metadata": {},
   "outputs": [],
   "source": [
    "class Stack :\n",
    "\n",
    "    #Define data members and __init__()\n",
    "    \n",
    "    def __init__(self):\n",
    "        self.__head = None\n",
    "        self.__count = 0\n",
    "\n",
    "\n",
    "\n",
    "    '''----------------- Public Functions of Stack -----------------'''\n",
    "\n",
    "\n",
    "    def getSize(self) :\n",
    "        #Implement the getSize() function\n",
    "        \n",
    "        return self.__count\n",
    "\n",
    "\n",
    "    def isEmpty(self) :\n",
    "        #Implement the isEmpty() function\n",
    "        \n",
    "        return self.size() == 0\n",
    "\n",
    "\n",
    "    def push(self, data) :\n",
    "        #Implement the push(element) function\n",
    "        \n",
    "        newNode = Node(data)\n",
    "        newNode.next = self.__head\n",
    "        self.__head = newNode\n",
    "        self.__count = self.__count + 1\n",
    "\n",
    "\n",
    "    def pop(self) :\n",
    "        #Implement the pop() function\n",
    "        if self.isEmpty():\n",
    "            return -1\n",
    "        element = self.__head.data\n",
    "        self.__head = self.__head.next\n",
    "        self.__count = self.__count - 1\n",
    "        return element\n",
    "\n",
    "\n",
    "    def top(self) :\n",
    "        #Implement the top() function\n",
    "        if self.isEmpty():\n",
    "            return -1\n",
    "        \n",
    "        return self.__head.data"
   ]
  },
  {
   "cell_type": "code",
   "execution_count": null,
   "id": "aa56d58d",
   "metadata": {},
   "outputs": [],
   "source": []
  }
 ],
 "metadata": {
  "kernelspec": {
   "display_name": "Python 3 (ipykernel)",
   "language": "python",
   "name": "python3"
  },
  "language_info": {
   "codemirror_mode": {
    "name": "ipython",
    "version": 3
   },
   "file_extension": ".py",
   "mimetype": "text/x-python",
   "name": "python",
   "nbconvert_exporter": "python",
   "pygments_lexer": "ipython3",
   "version": "3.8.11"
  }
 },
 "nbformat": 4,
 "nbformat_minor": 5
}
