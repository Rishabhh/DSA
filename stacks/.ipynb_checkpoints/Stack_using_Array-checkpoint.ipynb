{
 "cells": [
  {
   "cell_type": "code",
   "execution_count": 1,
   "id": "c4709263",
   "metadata": {},
   "outputs": [],
   "source": [
    "class Stack:\n",
    "    \n",
    "    def __init__(self):\n",
    "        \n",
    "        self.__data = []\n",
    "    \n",
    "    def push(self, item):\n",
    "        \n",
    "        self.__data.append(item)\n",
    "        \n",
    "    def pop(self):\n",
    "        \n",
    "        if self.isEmpty():\n",
    "            print(\"Hey! Stack is Empty\")\n",
    "            return\n",
    "        return self.__data.pop()\n",
    "    \n",
    "    def top(self):\n",
    "        \n",
    "        if self.isEmpty():\n",
    "            print(\"Hey! Stack is Empty\")\n",
    "            return\n",
    "        return self.__data[-1]\n",
    "    \n",
    "    def size(self):\n",
    "        \n",
    "        return len(self.__data)\n",
    "    \n",
    "    def isEmpty(self):\n",
    "        \n",
    "        return self.size() == 0\n",
    "        "
   ]
  },
  {
   "cell_type": "code",
   "execution_count": 2,
   "id": "39b25372",
   "metadata": {},
   "outputs": [],
   "source": [
    "s = Stack()"
   ]
  },
  {
   "cell_type": "code",
   "execution_count": 3,
   "id": "e94a8fbc",
   "metadata": {},
   "outputs": [
    {
     "name": "stdout",
     "output_type": "stream",
     "text": [
      "3\n",
      "a string\n",
      "2\n",
      "1\n"
     ]
    }
   ],
   "source": [
    "s.push(1)\n",
    "s.push(2)\n",
    "s.push(\"a string\")\n",
    "print(s.size())\n",
    "\n",
    "while not s.isEmpty():\n",
    "    \n",
    "    print(s.pop())"
   ]
  },
  {
   "cell_type": "code",
   "execution_count": null,
   "id": "770881bf",
   "metadata": {},
   "outputs": [],
   "source": []
  }
 ],
 "metadata": {
  "kernelspec": {
   "display_name": "Python 3 (ipykernel)",
   "language": "python",
   "name": "python3"
  },
  "language_info": {
   "codemirror_mode": {
    "name": "ipython",
    "version": 3
   },
   "file_extension": ".py",
   "mimetype": "text/x-python",
   "name": "python",
   "nbconvert_exporter": "python",
   "pygments_lexer": "ipython3",
   "version": "3.8.11"
  }
 },
 "nbformat": 4,
 "nbformat_minor": 5
}
